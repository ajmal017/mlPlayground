{
 "cells": [
  {
   "cell_type": "code",
   "execution_count": 1,
   "metadata": {
    "collapsed": true
   },
   "outputs": [],
   "source": [
    "import pandas as pd\n",
    "import numpy as np\n",
    "import seaborn as sb\n",
    "import matplotlib.pyplot as plt\n",
    "\n",
    "from sklearn import preprocessing\n",
    "\n",
    "%matplotlib inline"
   ]
  },
  {
   "cell_type": "markdown",
   "metadata": {},
   "source": [
    "### Loading and Pre-Processing Data"
   ]
  },
  {
   "cell_type": "code",
   "execution_count": 2,
   "metadata": {
    "collapsed": true
   },
   "outputs": [],
   "source": [
    "train_df = pd.read_csv(\"Data/mnist-train.csv\")\n",
    "valid_df = pd.read_csv(\"Data/mnist-test.csv\")\n",
    "\n",
    "X_train = train_df.drop(['label'], axis=1).values.astype('float32')\n",
    "y_train = train_df['label'].values\n",
    "X_valid = valid_df.values.astype('float32')\n",
    "\n",
    "del train_df\n",
    "del valid_df\n",
    "\n",
    "scaler = preprocessing.StandardScaler()\n",
    "X_train = scaler.fit_transform(X_train)\n",
    "X_valid = scaler.transform(X_valid)\n",
    "\n",
    "img_rows = 28\n",
    "img_cols = 28\n",
    "n_targets = 10\n",
    "\n",
    "input_shape = (img_rows, img_cols, 1)"
   ]
  },
  {
   "cell_type": "code",
   "execution_count": 3,
   "metadata": {
    "scrolled": false
   },
   "outputs": [
    {
     "data": {
      "image/png": "[encoded data removed]",
      "text/plain": [
       "<matplotlib.figure.Figure at 0x1baa61ee320>"
      ]
     },
     "metadata": {},
     "output_type": "display_data"
    }
   ],
   "source": [
    "# The data that we are interested in is made of 28x28 images of digits, let's\n",
    "# have a look at the first images, stored in X_train. For these\n",
    "# images, we know which digit they represent: it is given by the correspondent y_train.\n",
    "images_and_labels = list(zip(X_train, y_train))\n",
    "for index, (image, label) in enumerate(images_and_labels[:10]):\n",
    "    plt.subplot(2, 10, index + 1)\n",
    "    plt.axis('off')\n",
    "    plt.imshow(image.reshape(img_rows, img_cols), cmap='gray', interpolation='nearest')"
   ]
  },
  {
   "cell_type": "markdown",
   "metadata": {},
   "source": [
    "### Visualization"
   ]
  },
  {
   "cell_type": "code",
   "execution_count": 4,
   "metadata": {
    "collapsed": true
   },
   "outputs": [],
   "source": [
    "def plot_history(history):\n",
    "    # list all data in history\n",
    "    print(history.history.keys())\n",
    "    # summarize history for accuracy\n",
    "    plt.plot(history.history['acc'])\n",
    "    plt.plot(history.history['val_acc'])\n",
    "    plt.title('model accuracy')\n",
    "    plt.ylabel('accuracy')\n",
    "    plt.xlabel('epoch')\n",
    "    plt.legend(['train', 'test'], loc='best')\n",
    "    plt.show()\n",
    "    # summarize history for loss\n",
    "    plt.plot(history.history['loss'])\n",
    "    plt.plot(history.history['val_loss'])\n",
    "    plt.title('model loss')\n",
    "    plt.ylabel('loss')\n",
    "    plt.xlabel('epoch')\n",
    "    plt.legend(['train', 'test'], loc='best')"
   ]
  },
  {
   "cell_type": "markdown",
   "metadata": {},
   "source": [
    "### Convolutional Neural Networks"
   ]
  },
  {
   "cell_type": "code",
   "execution_count": 5,
   "metadata": {},
   "outputs": [
    {
     "name": "stderr",
     "output_type": "stream",
     "text": [
      "Using TensorFlow backend.\n"
     ]
    }
   ],
   "source": [
    "import os\n",
    "\n",
    "from keras.models import Sequential\n",
    "from keras.layers import Dense, Dropout, Flatten\n",
    "from keras.layers import Conv2D, MaxPooling2D\n",
    "from keras.utils.np_utils import to_categorical\n",
    "from keras.layers.normalization import BatchNormalization\n",
    "from keras import optimizers"
   ]
  },
  {
   "cell_type": "code",
   "execution_count": 6,
   "metadata": {
    "collapsed": true
   },
   "outputs": [],
   "source": [
    "X_train = X_train.reshape(X_train.shape[0], img_rows, img_cols, 1)\n",
    "X_valid = X_valid.reshape(X_valid.shape[0], img_rows, img_cols, 1)"
   ]
  },
  {
   "cell_type": "code",
   "execution_count": 7,
   "metadata": {
    "collapsed": true
   },
   "outputs": [],
   "source": [
    "# The y_train is not split into 10 distinct class labels, but rather \n",
    "# are represented as a single array with the class values\n",
    "y_train = to_categorical(y_train)"
   ]
  },
  {
   "cell_type": "markdown",
   "metadata": {},
   "source": [
    "#### Model Architecture\n",
    "\n",
    "---\n",
    "\n",
    "1. Basic Concepts:   \n",
    "    * [2D Convolution](https://keras.io/layers/convolutional/#convolution2d)\n",
    "    \n",
    "    The main concept to implement a CNN. This layer creates a convolution kernel that is convolved with the layer input to produce a tensor of outputs.\n",
    "    \n",
    "    * [Max Pooling](https://keras.io/layers/pooling/#maxpooling2d)\n",
    "    \n",
    "    Reduces the size of the filter maps, by applying a max filter to non-overlapping subregions. A max pooling layer with pooling_size=2 will reduce the number total number of parameters in the filter map by a factor of 4.\n",
    "    \n",
    "    * [Dropout](https://keras.io/layers/core/#dropout)\n",
    "    \n",
    "   Consists in randomly setting a fraction rate of input units to 0 at each update during training time, which helps prevent overfitting.\n",
    "   \n",
    "   * [Flatten](https://keras.io/layers/core/#flatten)\n",
    "   \n",
    "   Flattens the input. Does not affect the batch size.\n",
    "   \n",
    "   * [Dense](https://keras.io/layers/core/#dense)\n",
    "   \n",
    "   Just a regular densely-connected NN layer.\n",
    "   \n",
    "   * [Activation](https://keras.io/layers/core/#activation)\n",
    "   \n",
    "   Applies an activation function to an output.\n",
    "\n",
    "2. Architecture:\n",
    "\n",
    "    * Sequential Model\n",
    "    * Convolutional Layer \n",
    "    * MaxPooling\n",
    "    * Convolutional Layer \n",
    "    * MaxPooling\n",
    "    * Dropout\n",
    "    * Dense Layer\n",
    "\n",
    "3. Obs:\n",
    "\n",
    "     * [Epoch vs Batch Size vs Iterations](https://stackoverflow.com/questions/4752626/epoch-vs-iteration-when-training-neural-networks)\n",
    "     * [Optimizers](https://keras.io/optimizers/)\n",
    "     * [Loss Functions](https://keras.io/losses/)"
   ]
  },
  {
   "cell_type": "code",
   "execution_count": 8,
   "metadata": {
    "collapsed": true
   },
   "outputs": [],
   "source": [
    "model = Sequential()\n",
    "model.add(Conv2D(32, kernel_size=(6, 6), activation='relu', input_shape=input_shape, padding='valid'))\n",
    "model.add(Conv2D(64, kernel_size=(6, 6), activation='relu', padding='valid'))\n",
    "model.add(MaxPooling2D(pool_size=(2, 2)))\n",
    "model.add(Dropout(0.25))\n",
    "model.add(Flatten())\n",
    "model.add(Dense(128, activation='relu'))\n",
    "model.add(Dropout(0.5))\n",
    "model.add(BatchNormalization())\n",
    "model.add(Dense(n_targets, activation='softmax'))"
   ]
  },
  {
   "cell_type": "code",
   "execution_count": 9,
   "metadata": {},
   "outputs": [
    {
     "name": "stdout",
     "output_type": "stream",
     "text": [
      "Train on 28139 samples, validate on 13861 samples\n",
      "Epoch 1/10\n",
      "101s - loss: 0.3208 - acc: 0.9062 - val_loss: 0.1159 - val_acc: 0.9639\n",
      "Epoch 2/10\n",
      "100s - loss: 0.1350 - acc: 0.9623 - val_loss: 0.0560 - val_acc: 0.9818\n",
      "Epoch 3/10\n",
      "100s - loss: 0.1015 - acc: 0.9694 - val_loss: 0.0428 - val_acc: 0.9870\n",
      "Epoch 4/10\n",
      "99s - loss: 0.0875 - acc: 0.9749 - val_loss: 0.0497 - val_acc: 0.9851\n",
      "Epoch 5/10\n",
      "98s - loss: 0.0766 - acc: 0.9775 - val_loss: 0.0420 - val_acc: 0.9862\n",
      "Epoch 6/10\n",
      "96s - loss: 0.0655 - acc: 0.9799 - val_loss: 0.0361 - val_acc: 0.9890\n",
      "Epoch 7/10\n",
      "98s - loss: 0.0558 - acc: 0.9833 - val_loss: 0.0364 - val_acc: 0.9885\n",
      "Epoch 8/10\n",
      "97s - loss: 0.0659 - acc: 0.9803 - val_loss: 0.0488 - val_acc: 0.9854\n",
      "Epoch 9/10\n",
      "100s - loss: 0.0572 - acc: 0.9829 - val_loss: 0.0317 - val_acc: 0.9910\n",
      "Epoch 10/10\n",
      "97s - loss: 0.0484 - acc: 0.9860 - val_loss: 0.0327 - val_acc: 0.9899\n"
     ]
    }
   ],
   "source": [
    "sgd = optimizers.SGD(lr=0.01, decay=1e-6, momentum=0.9, nesterov=True)\n",
    "model.compile(optimizer=sgd, loss='categorical_crossentropy',  metrics=['accuracy'])\n",
    "hist = model.fit(X_train, y_train, batch_size=32, epochs=10, verbose=2, validation_split=0.33)"
   ]
  },
  {
   "cell_type": "code",
   "execution_count": 10,
   "metadata": {},
   "outputs": [
    {
     "name": "stdout",
     "output_type": "stream",
     "text": [
      "dict_keys(['val_loss', 'val_acc', 'loss', 'acc'])\n"
     ]
    },
    {
     "data": {
      "image/png": "[encoded data removed]",
      "text/plain": [
       "<matplotlib.figure.Figure at 0x1babb7282e8>"
      ]
     },
     "metadata": {},
     "output_type": "display_data"
    },
    {
     "data": {
      "image/png": "[encoded data removed]",
      "text/plain": [
       "<matplotlib.figure.Figure at 0x1babba436a0>"
      ]
     },
     "metadata": {},
     "output_type": "display_data"
    }
   ],
   "source": [
    "plot_history(hist)"
   ]
  },
  {
   "cell_type": "code",
   "execution_count": 12,
   "metadata": {},
   "outputs": [
    {
     "name": "stdout",
     "output_type": "stream",
     "text": [
      "28000/28000 [==============================] - 30s    \n"
     ]
    }
   ],
   "source": [
    "pred = model.predict_classes(X_valid)\n",
    "\n",
    "np.savetxt('mnist-output.csv', np.c_[range(1,len(pred)+1),pred], delimiter=',', header = 'ImageId,Label', comments = '', fmt='%d')"
   ]
  },
  {
   "cell_type": "code",
   "execution_count": null,
   "metadata": {
    "collapsed": true
   },
   "outputs": [],
   "source": []
  }
 ],
 "metadata": {
  "kernelspec": {
   "display_name": "Python 3",
   "language": "python",
   "name": "python3"
  },
  "language_info": {
   "codemirror_mode": {
    "name": "ipython",
    "version": 3
   },
   "file_extension": ".py",
   "mimetype": "text/x-python",
   "name": "python",
   "nbconvert_exporter": "python",
   "pygments_lexer": "ipython3",
   "version": "3.6.1"
  }
 },
 "nbformat": 4,
 "nbformat_minor": 2
}
