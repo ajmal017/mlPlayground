{
 "cells": [
  {
   "cell_type": "code",
   "execution_count": 1,
   "metadata": {},
   "outputs": [],
   "source": [
    "import numpy as np\n",
    "import pandas as pd \n",
    "import matplotlib.pyplot as plt\n",
    "import seaborn as sns\n",
    "import missingno as msno\n",
    "import time\n",
    "import gc\n",
    "\n",
    "from datetime import datetime\n",
    "\n",
    "sns.set(style='whitegrid')\n",
    "\n",
    "pd.set_option('display.max_columns', None)  \n",
    "\n",
    "%matplotlib inline"
   ]
  },
  {
   "cell_type": "markdown",
   "metadata": {},
   "source": [
    "### Feature Engineering"
   ]
  },
  {
   "cell_type": "markdown",
   "metadata": {},
   "source": [
    "Usually I start a project doing data consolidation, exploratory analysis and feature engineering. However, given the data size and my computer capabillities, I'll start doing some feature engineering in specific files to generate possible significant features before merging all files together. This will reduce the consumed memory."
   ]
  },
  {
   "cell_type": "code",
   "execution_count": 2,
   "metadata": {},
   "outputs": [],
   "source": [
    "projects = pd.read_csv('../Data/Kaggle/KDDCup14/projects.csv')"
   ]
  },
  {
   "cell_type": "code",
   "execution_count": 3,
   "metadata": {},
   "outputs": [],
   "source": [
    "projects = projects[['projectid', 'teacher_acctid', 'date_posted']]"
   ]
  },
  {
   "cell_type": "code",
   "execution_count": 4,
   "metadata": {},
   "outputs": [],
   "source": [
    "d = {'t': 1, 'f': 0}"
   ]
  },
  {
   "cell_type": "code",
   "execution_count": 5,
   "metadata": {},
   "outputs": [],
   "source": [
    "def history_features(id_key, feature_key, time_key, out_key, aggregation, df):\n",
    "    \"\"\"\n",
    "    Create history features aggregating values by specific id and feature keys.\n",
    "    id_key : the identifier key\n",
    "    feature_key : the main key to be consider for aggregation\n",
    "    time_key : the datetime key\n",
    "    out_key : output name for the generated feature\n",
    "    aggregation : aggregation to be realized (sum, count...)\n",
    "    df : input dataframe\n",
    "    \"\"\"\n",
    "    k = df[[id_key, feature_key, time_key]].drop_duplicates().copy()\n",
    "    k = k.merge(k, on=[id_key], how='left')\n",
    "    k = k.drop_duplicates()\n",
    "    k = k[k[time_key+'_x'] > k[time_key+'_y']]\n",
    "    \n",
    "    d = k.groupby(by=[id_key, time_key+'_x'])[feature_key+'_y'].agg([aggregation])\n",
    "    del k\n",
    "\n",
    "    d = d.rename(columns={aggregation: out_key}).reset_index()\n",
    "    y = df.merge(d, left_on=[id_key, time_key], right_on=[id_key, time_key+'_x'], how='left')\n",
    "    del d\n",
    "    \n",
    "    y[out_key].fillna(0, inplace=True)\n",
    "    y = y[[out_key, id_key, time_key]].drop_duplicates()\n",
    "\n",
    "    return y"
   ]
  },
  {
   "cell_type": "markdown",
   "metadata": {},
   "source": [
    "#### Outcomes"
   ]
  },
  {
   "cell_type": "code",
   "execution_count": 6,
   "metadata": {
    "deletable": false,
    "editable": false,
    "run_control": {
     "frozen": true
    }
   },
   "outputs": [],
   "source": [
    "outcomes = pd.read_csv('../Data/Kaggle/KDDCup14/outcomes.csv')"
   ]
  },
  {
   "cell_type": "code",
   "execution_count": 7,
   "metadata": {
    "deletable": false,
    "editable": false,
    "run_control": {
     "frozen": true
    }
   },
   "outputs": [],
   "source": [
    "outcomes = outcomes.merge(projects, how='right')"
   ]
  },
  {
   "cell_type": "code",
   "execution_count": 8,
   "metadata": {
    "deletable": false,
    "editable": false,
    "run_control": {
     "frozen": true
    }
   },
   "outputs": [],
   "source": [
    "outcomes = outcomes.replace(d)"
   ]
  },
  {
   "cell_type": "code",
   "execution_count": 9,
   "metadata": {
    "deletable": false,
    "editable": false,
    "run_control": {
     "frozen": true
    }
   },
   "outputs": [
    {
     "data": {
      "text/plain": [
       "664098"
      ]
     },
     "execution_count": 9,
     "metadata": {},
     "output_type": "execute_result"
    }
   ],
   "source": [
    "len(outcomes)"
   ]
  },
  {
   "cell_type": "code",
   "execution_count": 10,
   "metadata": {
    "deletable": false,
    "editable": false,
    "run_control": {
     "frozen": true
    }
   },
   "outputs": [
    {
     "data": {
      "text/html": [
       "<div>\n",
       "<style scoped>\n",
       "    .dataframe tbody tr th:only-of-type {\n",
       "        vertical-align: middle;\n",
       "    }\n",
       "\n",
       "    .dataframe tbody tr th {\n",
       "        vertical-align: top;\n",
       "    }\n",
       "\n",
       "    .dataframe thead th {\n",
       "        text-align: right;\n",
       "    }\n",
       "</style>\n",
       "<table border=\"1\" class=\"dataframe\">\n",
       "  <thead>\n",
       "    <tr style=\"text-align: right;\">\n",
       "      <th></th>\n",
       "      <th>projectid</th>\n",
       "      <th>is_exciting</th>\n",
       "      <th>at_least_1_teacher_referred_donor</th>\n",
       "      <th>fully_funded</th>\n",
       "      <th>at_least_1_green_donation</th>\n",
       "      <th>great_chat</th>\n",
       "      <th>three_or_more_non_teacher_referred_donors</th>\n",
       "      <th>one_non_teacher_referred_donor_giving_100_plus</th>\n",
       "      <th>donation_from_thoughtful_donor</th>\n",
       "      <th>great_messages_proportion</th>\n",
       "      <th>teacher_referred_count</th>\n",
       "      <th>non_teacher_referred_count</th>\n",
       "      <th>teacher_acctid</th>\n",
       "      <th>date_posted</th>\n",
       "    </tr>\n",
       "  </thead>\n",
       "  <tbody>\n",
       "    <tr>\n",
       "      <th>0</th>\n",
       "      <td>ffffc4f85b60efc5b52347df489d0238</td>\n",
       "      <td>0.0</td>\n",
       "      <td>NaN</td>\n",
       "      <td>0.0</td>\n",
       "      <td>NaN</td>\n",
       "      <td>0.0</td>\n",
       "      <td>NaN</td>\n",
       "      <td>NaN</td>\n",
       "      <td>NaN</td>\n",
       "      <td>NaN</td>\n",
       "      <td>NaN</td>\n",
       "      <td>NaN</td>\n",
       "      <td>c24011b20fc161ed02248e85beb59a90</td>\n",
       "      <td>2009-10-11</td>\n",
       "    </tr>\n",
       "    <tr>\n",
       "      <th>1</th>\n",
       "      <td>ffffac55ee02a49d1abc87ba6fc61135</td>\n",
       "      <td>0.0</td>\n",
       "      <td>0.0</td>\n",
       "      <td>1.0</td>\n",
       "      <td>1.0</td>\n",
       "      <td>0.0</td>\n",
       "      <td>1.0</td>\n",
       "      <td>0.0</td>\n",
       "      <td>0.0</td>\n",
       "      <td>57.0</td>\n",
       "      <td>0.0</td>\n",
       "      <td>7.0</td>\n",
       "      <td>947066d0af47e0566f334566553dd6a6</td>\n",
       "      <td>2011-06-11</td>\n",
       "    </tr>\n",
       "    <tr>\n",
       "      <th>2</th>\n",
       "      <td>ffff97ed93720407d70a2787475932b0</td>\n",
       "      <td>0.0</td>\n",
       "      <td>0.0</td>\n",
       "      <td>1.0</td>\n",
       "      <td>1.0</td>\n",
       "      <td>1.0</td>\n",
       "      <td>1.0</td>\n",
       "      <td>1.0</td>\n",
       "      <td>0.0</td>\n",
       "      <td>100.0</td>\n",
       "      <td>0.0</td>\n",
       "      <td>3.0</td>\n",
       "      <td>462270f5d5c212162fcab11afa2623cb</td>\n",
       "      <td>2010-09-11</td>\n",
       "    </tr>\n",
       "    <tr>\n",
       "      <th>3</th>\n",
       "      <td>ffff418bb42fad24347527ad96100f81</td>\n",
       "      <td>0.0</td>\n",
       "      <td>0.0</td>\n",
       "      <td>0.0</td>\n",
       "      <td>1.0</td>\n",
       "      <td>1.0</td>\n",
       "      <td>0.0</td>\n",
       "      <td>0.0</td>\n",
       "      <td>0.0</td>\n",
       "      <td>100.0</td>\n",
       "      <td>0.0</td>\n",
       "      <td>1.0</td>\n",
       "      <td>e885fb002a1d0d39aaed9d21a7683549</td>\n",
       "      <td>2009-04-03</td>\n",
       "    </tr>\n",
       "    <tr>\n",
       "      <th>4</th>\n",
       "      <td>ffff2d9c769c8fb5335e949c615425eb</td>\n",
       "      <td>1.0</td>\n",
       "      <td>1.0</td>\n",
       "      <td>1.0</td>\n",
       "      <td>1.0</td>\n",
       "      <td>1.0</td>\n",
       "      <td>0.0</td>\n",
       "      <td>1.0</td>\n",
       "      <td>0.0</td>\n",
       "      <td>63.0</td>\n",
       "      <td>6.0</td>\n",
       "      <td>2.0</td>\n",
       "      <td>485784e52a4c85ea6783285d09d8aea4</td>\n",
       "      <td>2013-03-03</td>\n",
       "    </tr>\n",
       "  </tbody>\n",
       "</table>\n",
       "</div>"
      ],
      "text/plain": [
       "                          projectid  is_exciting  \\\n",
       "0  ffffc4f85b60efc5b52347df489d0238          0.0   \n",
       "1  ffffac55ee02a49d1abc87ba6fc61135          0.0   \n",
       "2  ffff97ed93720407d70a2787475932b0          0.0   \n",
       "3  ffff418bb42fad24347527ad96100f81          0.0   \n",
       "4  ffff2d9c769c8fb5335e949c615425eb          1.0   \n",
       "\n",
       "   at_least_1_teacher_referred_donor  fully_funded  at_least_1_green_donation  \\\n",
       "0                                NaN           0.0                        NaN   \n",
       "1                                0.0           1.0                        1.0   \n",
       "2                                0.0           1.0                        1.0   \n",
       "3                                0.0           0.0                        1.0   \n",
       "4                                1.0           1.0                        1.0   \n",
       "\n",
       "   great_chat  three_or_more_non_teacher_referred_donors  \\\n",
       "0         0.0                                        NaN   \n",
       "1         0.0                                        1.0   \n",
       "2         1.0                                        1.0   \n",
       "3         1.0                                        0.0   \n",
       "4         1.0                                        0.0   \n",
       "\n",
       "   one_non_teacher_referred_donor_giving_100_plus  \\\n",
       "0                                             NaN   \n",
       "1                                             0.0   \n",
       "2                                             1.0   \n",
       "3                                             0.0   \n",
       "4                                             1.0   \n",
       "\n",
       "   donation_from_thoughtful_donor  great_messages_proportion  \\\n",
       "0                             NaN                        NaN   \n",
       "1                             0.0                       57.0   \n",
       "2                             0.0                      100.0   \n",
       "3                             0.0                      100.0   \n",
       "4                             0.0                       63.0   \n",
       "\n",
       "   teacher_referred_count  non_teacher_referred_count  \\\n",
       "0                     NaN                         NaN   \n",
       "1                     0.0                         7.0   \n",
       "2                     0.0                         3.0   \n",
       "3                     0.0                         1.0   \n",
       "4                     6.0                         2.0   \n",
       "\n",
       "                     teacher_acctid date_posted  \n",
       "0  c24011b20fc161ed02248e85beb59a90  2009-10-11  \n",
       "1  947066d0af47e0566f334566553dd6a6  2011-06-11  \n",
       "2  462270f5d5c212162fcab11afa2623cb  2010-09-11  \n",
       "3  e885fb002a1d0d39aaed9d21a7683549  2009-04-03  \n",
       "4  485784e52a4c85ea6783285d09d8aea4  2013-03-03  "
      ]
     },
     "execution_count": 10,
     "metadata": {},
     "output_type": "execute_result"
    }
   ],
   "source": [
    "outcomes.head()"
   ]
  },
  {
   "cell_type": "code",
   "execution_count": 11,
   "metadata": {
    "deletable": false,
    "editable": false,
    "run_control": {
     "frozen": true
    }
   },
   "outputs": [],
   "source": [
    "outcomes = outcomes.merge(history_features('teacher_acctid', 'is_exciting', 'date_posted', 'mean_is_exciting', 'mean', outcomes), how='left')"
   ]
  },
  {
   "cell_type": "code",
   "execution_count": 12,
   "metadata": {
    "deletable": false,
    "editable": false,
    "run_control": {
     "frozen": true
    }
   },
   "outputs": [],
   "source": [
    "outcomes = outcomes.merge(history_features('teacher_acctid', 'at_least_1_teacher_referred_donor', 'date_posted', 'mean_at_least_1_teacher_referred_donor', 'mean', outcomes), how='left')"
   ]
  },
  {
   "cell_type": "code",
   "execution_count": 13,
   "metadata": {
    "deletable": false,
    "editable": false,
    "run_control": {
     "frozen": true
    }
   },
   "outputs": [],
   "source": [
    "outcomes = outcomes.merge(history_features('teacher_acctid', 'fully_funded', 'date_posted', 'mean_fully_funded', 'mean', outcomes), how='left')"
   ]
  },
  {
   "cell_type": "code",
   "execution_count": 14,
   "metadata": {
    "deletable": false,
    "editable": false,
    "run_control": {
     "frozen": true
    }
   },
   "outputs": [],
   "source": [
    "outcomes = outcomes.merge(history_features('teacher_acctid', 'at_least_1_green_donation', 'date_posted', 'mean_at_least_1_green_donation', 'mean', outcomes), how='left')"
   ]
  },
  {
   "cell_type": "code",
   "execution_count": 15,
   "metadata": {
    "deletable": false,
    "editable": false,
    "run_control": {
     "frozen": true
    }
   },
   "outputs": [],
   "source": [
    "outcomes = outcomes.merge(history_features('teacher_acctid', 'great_chat', 'date_posted', 'mean_great_chat', 'mean', outcomes), how='left')"
   ]
  },
  {
   "cell_type": "code",
   "execution_count": 16,
   "metadata": {
    "deletable": false,
    "editable": false,
    "run_control": {
     "frozen": true
    }
   },
   "outputs": [],
   "source": [
    "outcomes = outcomes.merge(history_features('teacher_acctid', 'one_non_teacher_referred_donor_giving_100_plus', 'date_posted', 'mean_one_non_teacher_referred_donor_giving_100_plus', 'mean', outcomes), how='left')"
   ]
  },
  {
   "cell_type": "code",
   "execution_count": 17,
   "metadata": {
    "deletable": false,
    "editable": false,
    "run_control": {
     "frozen": true
    }
   },
   "outputs": [],
   "source": [
    "outcomes = outcomes.merge(history_features('teacher_acctid', 'donation_from_thoughtful_donor', 'date_posted', 'mean_donation_from_thoughtful_donor', 'mean', outcomes), how='left')"
   ]
  },
  {
   "cell_type": "code",
   "execution_count": 18,
   "metadata": {
    "deletable": false,
    "editable": false,
    "run_control": {
     "frozen": true
    }
   },
   "outputs": [],
   "source": [
    "outcomes = outcomes.merge(history_features('teacher_acctid', 'three_or_more_non_teacher_referred_donors', 'date_posted', 'mean_three_or_more_non_teacher_referred_donors', 'mean', outcomes), how='left')"
   ]
  },
  {
   "cell_type": "code",
   "execution_count": 19,
   "metadata": {
    "deletable": false,
    "editable": false,
    "run_control": {
     "frozen": true
    }
   },
   "outputs": [
    {
     "data": {
      "text/plain": [
       "664098"
      ]
     },
     "execution_count": 19,
     "metadata": {},
     "output_type": "execute_result"
    }
   ],
   "source": [
    "len(outcomes)"
   ]
  },
  {
   "cell_type": "code",
   "execution_count": 20,
   "metadata": {
    "deletable": false,
    "editable": false,
    "run_control": {
     "frozen": true
    }
   },
   "outputs": [
    {
     "data": {
      "text/plain": [
       "Index(['projectid', 'is_exciting', 'at_least_1_teacher_referred_donor',\n",
       "       'fully_funded', 'at_least_1_green_donation', 'great_chat',\n",
       "       'three_or_more_non_teacher_referred_donors',\n",
       "       'one_non_teacher_referred_donor_giving_100_plus',\n",
       "       'donation_from_thoughtful_donor', 'great_messages_proportion',\n",
       "       'teacher_referred_count', 'non_teacher_referred_count',\n",
       "       'teacher_acctid', 'date_posted', 'mean_is_exciting',\n",
       "       'mean_at_least_1_teacher_referred_donor', 'mean_fully_funded',\n",
       "       'mean_at_least_1_green_donation', 'mean_great_chat',\n",
       "       'mean_one_non_teacher_referred_donor_giving_100_plus',\n",
       "       'mean_donation_from_thoughtful_donor',\n",
       "       'mean_three_or_more_non_teacher_referred_donors'],\n",
       "      dtype='object')"
      ]
     },
     "execution_count": 20,
     "metadata": {},
     "output_type": "execute_result"
    }
   ],
   "source": [
    "outcomes.columns"
   ]
  },
  {
   "cell_type": "code",
   "execution_count": 21,
   "metadata": {
    "deletable": false,
    "editable": false,
    "run_control": {
     "frozen": true
    }
   },
   "outputs": [],
   "source": [
    "outcomes = outcomes[['projectid', 'is_exciting', 'teacher_acctid', 'date_posted', \n",
    "                     'mean_is_exciting', 'mean_at_least_1_teacher_referred_donor', \n",
    "                     'mean_fully_funded', 'mean_at_least_1_green_donation', 'mean_great_chat',\n",
    "                     'mean_one_non_teacher_referred_donor_giving_100_plus',\n",
    "                     'mean_donation_from_thoughtful_donor',\n",
    "                     'mean_three_or_more_non_teacher_referred_donors']]"
   ]
  },
  {
   "cell_type": "code",
   "execution_count": 22,
   "metadata": {
    "deletable": false,
    "editable": false,
    "run_control": {
     "frozen": true
    }
   },
   "outputs": [
    {
     "data": {
      "text/html": [
       "<div>\n",
       "<style scoped>\n",
       "    .dataframe tbody tr th:only-of-type {\n",
       "        vertical-align: middle;\n",
       "    }\n",
       "\n",
       "    .dataframe tbody tr th {\n",
       "        vertical-align: top;\n",
       "    }\n",
       "\n",
       "    .dataframe thead th {\n",
       "        text-align: right;\n",
       "    }\n",
       "</style>\n",
       "<table border=\"1\" class=\"dataframe\">\n",
       "  <thead>\n",
       "    <tr style=\"text-align: right;\">\n",
       "      <th></th>\n",
       "      <th>projectid</th>\n",
       "      <th>is_exciting</th>\n",
       "      <th>teacher_acctid</th>\n",
       "      <th>date_posted</th>\n",
       "      <th>mean_is_exciting</th>\n",
       "      <th>mean_at_least_1_teacher_referred_donor</th>\n",
       "      <th>mean_fully_funded</th>\n",
       "      <th>mean_at_least_1_green_donation</th>\n",
       "      <th>mean_great_chat</th>\n",
       "      <th>mean_one_non_teacher_referred_donor_giving_100_plus</th>\n",
       "      <th>mean_donation_from_thoughtful_donor</th>\n",
       "      <th>mean_three_or_more_non_teacher_referred_donors</th>\n",
       "    </tr>\n",
       "  </thead>\n",
       "  <tbody>\n",
       "    <tr>\n",
       "      <th>0</th>\n",
       "      <td>ffffc4f85b60efc5b52347df489d0238</td>\n",
       "      <td>0.0</td>\n",
       "      <td>c24011b20fc161ed02248e85beb59a90</td>\n",
       "      <td>2009-10-11</td>\n",
       "      <td>0.0</td>\n",
       "      <td>0.000000</td>\n",
       "      <td>0.0</td>\n",
       "      <td>0.000000</td>\n",
       "      <td>0.000000</td>\n",
       "      <td>0.000000</td>\n",
       "      <td>0.0</td>\n",
       "      <td>0.000000</td>\n",
       "    </tr>\n",
       "    <tr>\n",
       "      <th>1</th>\n",
       "      <td>ffffac55ee02a49d1abc87ba6fc61135</td>\n",
       "      <td>0.0</td>\n",
       "      <td>947066d0af47e0566f334566553dd6a6</td>\n",
       "      <td>2011-06-11</td>\n",
       "      <td>0.0</td>\n",
       "      <td>0.000000</td>\n",
       "      <td>0.0</td>\n",
       "      <td>0.000000</td>\n",
       "      <td>0.000000</td>\n",
       "      <td>0.000000</td>\n",
       "      <td>0.0</td>\n",
       "      <td>0.000000</td>\n",
       "    </tr>\n",
       "    <tr>\n",
       "      <th>2</th>\n",
       "      <td>ffff97ed93720407d70a2787475932b0</td>\n",
       "      <td>0.0</td>\n",
       "      <td>462270f5d5c212162fcab11afa2623cb</td>\n",
       "      <td>2010-09-11</td>\n",
       "      <td>0.0</td>\n",
       "      <td>0.045455</td>\n",
       "      <td>0.6</td>\n",
       "      <td>0.772727</td>\n",
       "      <td>0.366667</td>\n",
       "      <td>0.695652</td>\n",
       "      <td>0.0</td>\n",
       "      <td>0.454545</td>\n",
       "    </tr>\n",
       "    <tr>\n",
       "      <th>3</th>\n",
       "      <td>ffff418bb42fad24347527ad96100f81</td>\n",
       "      <td>0.0</td>\n",
       "      <td>e885fb002a1d0d39aaed9d21a7683549</td>\n",
       "      <td>2009-04-03</td>\n",
       "      <td>0.0</td>\n",
       "      <td>0.000000</td>\n",
       "      <td>0.0</td>\n",
       "      <td>0.000000</td>\n",
       "      <td>0.000000</td>\n",
       "      <td>0.000000</td>\n",
       "      <td>0.0</td>\n",
       "      <td>0.000000</td>\n",
       "    </tr>\n",
       "    <tr>\n",
       "      <th>4</th>\n",
       "      <td>ffff2d9c769c8fb5335e949c615425eb</td>\n",
       "      <td>1.0</td>\n",
       "      <td>485784e52a4c85ea6783285d09d8aea4</td>\n",
       "      <td>2013-03-03</td>\n",
       "      <td>0.0</td>\n",
       "      <td>0.000000</td>\n",
       "      <td>0.0</td>\n",
       "      <td>0.000000</td>\n",
       "      <td>0.000000</td>\n",
       "      <td>0.000000</td>\n",
       "      <td>0.0</td>\n",
       "      <td>0.000000</td>\n",
       "    </tr>\n",
       "  </tbody>\n",
       "</table>\n",
       "</div>"
      ],
      "text/plain": [
       "                          projectid  is_exciting  \\\n",
       "0  ffffc4f85b60efc5b52347df489d0238          0.0   \n",
       "1  ffffac55ee02a49d1abc87ba6fc61135          0.0   \n",
       "2  ffff97ed93720407d70a2787475932b0          0.0   \n",
       "3  ffff418bb42fad24347527ad96100f81          0.0   \n",
       "4  ffff2d9c769c8fb5335e949c615425eb          1.0   \n",
       "\n",
       "                     teacher_acctid date_posted  mean_is_exciting  \\\n",
       "0  c24011b20fc161ed02248e85beb59a90  2009-10-11               0.0   \n",
       "1  947066d0af47e0566f334566553dd6a6  2011-06-11               0.0   \n",
       "2  462270f5d5c212162fcab11afa2623cb  2010-09-11               0.0   \n",
       "3  e885fb002a1d0d39aaed9d21a7683549  2009-04-03               0.0   \n",
       "4  485784e52a4c85ea6783285d09d8aea4  2013-03-03               0.0   \n",
       "\n",
       "   mean_at_least_1_teacher_referred_donor  mean_fully_funded  \\\n",
       "0                                0.000000                0.0   \n",
       "1                                0.000000                0.0   \n",
       "2                                0.045455                0.6   \n",
       "3                                0.000000                0.0   \n",
       "4                                0.000000                0.0   \n",
       "\n",
       "   mean_at_least_1_green_donation  mean_great_chat  \\\n",
       "0                        0.000000         0.000000   \n",
       "1                        0.000000         0.000000   \n",
       "2                        0.772727         0.366667   \n",
       "3                        0.000000         0.000000   \n",
       "4                        0.000000         0.000000   \n",
       "\n",
       "   mean_one_non_teacher_referred_donor_giving_100_plus  \\\n",
       "0                                           0.000000     \n",
       "1                                           0.000000     \n",
       "2                                           0.695652     \n",
       "3                                           0.000000     \n",
       "4                                           0.000000     \n",
       "\n",
       "   mean_donation_from_thoughtful_donor  \\\n",
       "0                                  0.0   \n",
       "1                                  0.0   \n",
       "2                                  0.0   \n",
       "3                                  0.0   \n",
       "4                                  0.0   \n",
       "\n",
       "   mean_three_or_more_non_teacher_referred_donors  \n",
       "0                                        0.000000  \n",
       "1                                        0.000000  \n",
       "2                                        0.454545  \n",
       "3                                        0.000000  \n",
       "4                                        0.000000  "
      ]
     },
     "execution_count": 22,
     "metadata": {},
     "output_type": "execute_result"
    }
   ],
   "source": [
    "outcomes.head()"
   ]
  },
  {
   "cell_type": "code",
   "execution_count": 23,
   "metadata": {
    "deletable": false,
    "editable": false,
    "run_control": {
     "frozen": true
    }
   },
   "outputs": [
    {
     "data": {
      "text/plain": [
       "268"
      ]
     },
     "execution_count": 23,
     "metadata": {},
     "output_type": "execute_result"
    }
   ],
   "source": [
    "gc.collect()"
   ]
  },
  {
   "cell_type": "code",
   "execution_count": 24,
   "metadata": {
    "deletable": false,
    "editable": false,
    "run_control": {
     "frozen": true
    }
   },
   "outputs": [],
   "source": [
    "outcomes.to_csv('../Data/Kaggle/KDDCup14/outcomes_feat.csv', index=False)"
   ]
  },
  {
   "cell_type": "code",
   "execution_count": 25,
   "metadata": {
    "deletable": false,
    "editable": false,
    "run_control": {
     "frozen": true
    }
   },
   "outputs": [],
   "source": [
    "del outcomes"
   ]
  },
  {
   "cell_type": "markdown",
   "metadata": {},
   "source": [
    "#### Donations"
   ]
  },
  {
   "cell_type": "code",
   "execution_count": 6,
   "metadata": {
    "deletable": false,
    "editable": false,
    "run_control": {
     "frozen": true
    }
   },
   "outputs": [],
   "source": [
    "donations = pd.read_csv('../Data/Kaggle/KDDCup14/donations.csv')"
   ]
  },
  {
   "cell_type": "code",
   "execution_count": 7,
   "metadata": {
    "deletable": false,
    "editable": false,
    "run_control": {
     "frozen": true
    }
   },
   "outputs": [],
   "source": [
    "donations = donations.merge(projects, how='right')"
   ]
  },
  {
   "cell_type": "code",
   "execution_count": 8,
   "metadata": {
    "deletable": false,
    "editable": false,
    "run_control": {
     "frozen": true
    }
   },
   "outputs": [],
   "source": [
    "donations.drop(['donationid', 'donor_city', 'donor_state', 'donor_zip', \n",
    "                'donation_optional_support', 'donation_total', 'donation_message'], axis=1, inplace=True)"
   ]
  },
  {
   "cell_type": "code",
   "execution_count": 9,
   "metadata": {
    "deletable": false,
    "editable": false,
    "run_control": {
     "frozen": true
    }
   },
   "outputs": [
    {
     "data": {
      "text/plain": [
       "46"
      ]
     },
     "execution_count": 9,
     "metadata": {},
     "output_type": "execute_result"
    }
   ],
   "source": [
    "gc.collect()"
   ]
  },
  {
   "cell_type": "code",
   "execution_count": 10,
   "metadata": {
    "deletable": false,
    "editable": false,
    "run_control": {
     "frozen": true
    }
   },
   "outputs": [
    {
     "data": {
      "text/plain": [
       "3237045"
      ]
     },
     "execution_count": 10,
     "metadata": {},
     "output_type": "execute_result"
    }
   ],
   "source": [
    "len(donations)"
   ]
  },
  {
   "cell_type": "code",
   "execution_count": 11,
   "metadata": {
    "deletable": false,
    "editable": false,
    "run_control": {
     "frozen": true
    }
   },
   "outputs": [
    {
     "data": {
      "text/html": [
       "<div>\n",
       "<style scoped>\n",
       "    .dataframe tbody tr th:only-of-type {\n",
       "        vertical-align: middle;\n",
       "    }\n",
       "\n",
       "    .dataframe tbody tr th {\n",
       "        vertical-align: top;\n",
       "    }\n",
       "\n",
       "    .dataframe thead th {\n",
       "        text-align: right;\n",
       "    }\n",
       "</style>\n",
       "<table border=\"1\" class=\"dataframe\">\n",
       "  <thead>\n",
       "    <tr style=\"text-align: right;\">\n",
       "      <th></th>\n",
       "      <th>projectid</th>\n",
       "      <th>donor_acctid</th>\n",
       "      <th>is_teacher_acct</th>\n",
       "      <th>donation_timestamp</th>\n",
       "      <th>donation_to_project</th>\n",
       "      <th>dollar_amount</th>\n",
       "      <th>donation_included_optional_support</th>\n",
       "      <th>payment_method</th>\n",
       "      <th>payment_included_acct_credit</th>\n",
       "      <th>payment_included_campaign_gift_card</th>\n",
       "      <th>payment_included_web_purchased_gift_card</th>\n",
       "      <th>payment_was_promo_matched</th>\n",
       "      <th>via_giving_page</th>\n",
       "      <th>for_honoree</th>\n",
       "      <th>teacher_acctid</th>\n",
       "      <th>date_posted</th>\n",
       "    </tr>\n",
       "  </thead>\n",
       "  <tbody>\n",
       "    <tr>\n",
       "      <th>0</th>\n",
       "      <td>ffffac55ee02a49d1abc87ba6fc61135</td>\n",
       "      <td>22cbc920c9b5fa08dfb331422f5926b5</td>\n",
       "      <td>f</td>\n",
       "      <td>2011-08-25 14:27:34.807</td>\n",
       "      <td>42.50</td>\n",
       "      <td>10_to_100</td>\n",
       "      <td>t</td>\n",
       "      <td>no_cash_received</td>\n",
       "      <td>f</td>\n",
       "      <td>t</td>\n",
       "      <td>f</td>\n",
       "      <td>f</td>\n",
       "      <td>f</td>\n",
       "      <td>f</td>\n",
       "      <td>947066d0af47e0566f334566553dd6a6</td>\n",
       "      <td>2011-06-11</td>\n",
       "    </tr>\n",
       "    <tr>\n",
       "      <th>1</th>\n",
       "      <td>ffffac55ee02a49d1abc87ba6fc61135</td>\n",
       "      <td>521f1830a77c9dbbf8119d99c6206a16</td>\n",
       "      <td>f</td>\n",
       "      <td>2011-11-04 07:54:21.552</td>\n",
       "      <td>26.83</td>\n",
       "      <td>10_to_100</td>\n",
       "      <td>t</td>\n",
       "      <td>creditcard</td>\n",
       "      <td>f</td>\n",
       "      <td>t</td>\n",
       "      <td>f</td>\n",
       "      <td>f</td>\n",
       "      <td>f</td>\n",
       "      <td>f</td>\n",
       "      <td>947066d0af47e0566f334566553dd6a6</td>\n",
       "      <td>2011-06-11</td>\n",
       "    </tr>\n",
       "    <tr>\n",
       "      <th>2</th>\n",
       "      <td>ffffac55ee02a49d1abc87ba6fc61135</td>\n",
       "      <td>1e0a63fc8141c7ba26b8b44ca0871b90</td>\n",
       "      <td>f</td>\n",
       "      <td>2011-11-02 22:53:53.019</td>\n",
       "      <td>55.35</td>\n",
       "      <td>10_to_100</td>\n",
       "      <td>f</td>\n",
       "      <td>no_cash_received</td>\n",
       "      <td>t</td>\n",
       "      <td>f</td>\n",
       "      <td>f</td>\n",
       "      <td>f</td>\n",
       "      <td>t</td>\n",
       "      <td>f</td>\n",
       "      <td>947066d0af47e0566f334566553dd6a6</td>\n",
       "      <td>2011-06-11</td>\n",
       "    </tr>\n",
       "    <tr>\n",
       "      <th>3</th>\n",
       "      <td>ffffac55ee02a49d1abc87ba6fc61135</td>\n",
       "      <td>1d4acb508df29d5f1cc6d382969576cb</td>\n",
       "      <td>f</td>\n",
       "      <td>2011-11-03 23:54:01.109</td>\n",
       "      <td>8.50</td>\n",
       "      <td>10_to_100</td>\n",
       "      <td>t</td>\n",
       "      <td>paypal</td>\n",
       "      <td>f</td>\n",
       "      <td>f</td>\n",
       "      <td>f</td>\n",
       "      <td>f</td>\n",
       "      <td>f</td>\n",
       "      <td>f</td>\n",
       "      <td>947066d0af47e0566f334566553dd6a6</td>\n",
       "      <td>2011-06-11</td>\n",
       "    </tr>\n",
       "    <tr>\n",
       "      <th>4</th>\n",
       "      <td>ffffac55ee02a49d1abc87ba6fc61135</td>\n",
       "      <td>59c3c3cfcccc53ae855f7eee911c478b</td>\n",
       "      <td>f</td>\n",
       "      <td>2011-11-02 23:21:00.043</td>\n",
       "      <td>20.00</td>\n",
       "      <td>10_to_100</td>\n",
       "      <td>f</td>\n",
       "      <td>no_cash_received</td>\n",
       "      <td>f</td>\n",
       "      <td>f</td>\n",
       "      <td>t</td>\n",
       "      <td>f</td>\n",
       "      <td>t</td>\n",
       "      <td>f</td>\n",
       "      <td>947066d0af47e0566f334566553dd6a6</td>\n",
       "      <td>2011-06-11</td>\n",
       "    </tr>\n",
       "  </tbody>\n",
       "</table>\n",
       "</div>"
      ],
      "text/plain": [
       "                          projectid                      donor_acctid  \\\n",
       "0  ffffac55ee02a49d1abc87ba6fc61135  22cbc920c9b5fa08dfb331422f5926b5   \n",
       "1  ffffac55ee02a49d1abc87ba6fc61135  521f1830a77c9dbbf8119d99c6206a16   \n",
       "2  ffffac55ee02a49d1abc87ba6fc61135  1e0a63fc8141c7ba26b8b44ca0871b90   \n",
       "3  ffffac55ee02a49d1abc87ba6fc61135  1d4acb508df29d5f1cc6d382969576cb   \n",
       "4  ffffac55ee02a49d1abc87ba6fc61135  59c3c3cfcccc53ae855f7eee911c478b   \n",
       "\n",
       "  is_teacher_acct       donation_timestamp  donation_to_project dollar_amount  \\\n",
       "0               f  2011-08-25 14:27:34.807                42.50     10_to_100   \n",
       "1               f  2011-11-04 07:54:21.552                26.83     10_to_100   \n",
       "2               f  2011-11-02 22:53:53.019                55.35     10_to_100   \n",
       "3               f  2011-11-03 23:54:01.109                 8.50     10_to_100   \n",
       "4               f  2011-11-02 23:21:00.043                20.00     10_to_100   \n",
       "\n",
       "  donation_included_optional_support    payment_method  \\\n",
       "0                                  t  no_cash_received   \n",
       "1                                  t        creditcard   \n",
       "2                                  f  no_cash_received   \n",
       "3                                  t            paypal   \n",
       "4                                  f  no_cash_received   \n",
       "\n",
       "  payment_included_acct_credit payment_included_campaign_gift_card  \\\n",
       "0                            f                                   t   \n",
       "1                            f                                   t   \n",
       "2                            t                                   f   \n",
       "3                            f                                   f   \n",
       "4                            f                                   f   \n",
       "\n",
       "  payment_included_web_purchased_gift_card payment_was_promo_matched  \\\n",
       "0                                        f                         f   \n",
       "1                                        f                         f   \n",
       "2                                        f                         f   \n",
       "3                                        f                         f   \n",
       "4                                        t                         f   \n",
       "\n",
       "  via_giving_page for_honoree                    teacher_acctid date_posted  \n",
       "0               f           f  947066d0af47e0566f334566553dd6a6  2011-06-11  \n",
       "1               f           f  947066d0af47e0566f334566553dd6a6  2011-06-11  \n",
       "2               t           f  947066d0af47e0566f334566553dd6a6  2011-06-11  \n",
       "3               f           f  947066d0af47e0566f334566553dd6a6  2011-06-11  \n",
       "4               t           f  947066d0af47e0566f334566553dd6a6  2011-06-11  "
      ]
     },
     "execution_count": 11,
     "metadata": {},
     "output_type": "execute_result"
    }
   ],
   "source": [
    "donations.head()"
   ]
  },
  {
   "cell_type": "code",
   "execution_count": 12,
   "metadata": {
    "deletable": false,
    "editable": false,
    "run_control": {
     "frozen": true
    }
   },
   "outputs": [],
   "source": [
    "donations = donations.merge(history_features('teacher_acctid', 'donation_to_project', 'date_posted', 'mean_donation_to_projects', 'mean', donations), how='left')"
   ]
  },
  {
   "cell_type": "code",
   "execution_count": 13,
   "metadata": {
    "deletable": false,
    "editable": false,
    "run_control": {
     "frozen": true
    }
   },
   "outputs": [],
   "source": [
    "donations['mean_donation_to_project'] = donations.groupby('projectid')['donation_to_project'].transform('mean')"
   ]
  },
  {
   "cell_type": "markdown",
   "metadata": {
    "deletable": false,
    "editable": false,
    "run_control": {
     "frozen": true
    }
   },
   "source": [
    "I'll create dummies for some categorical values and aggregate them. Another option would have been to take the mode. However, I'll stick with the first case."
   ]
  },
  {
   "cell_type": "code",
   "execution_count": 14,
   "metadata": {
    "deletable": false,
    "editable": false,
    "run_control": {
     "frozen": true
    }
   },
   "outputs": [],
   "source": [
    "donations = pd.get_dummies(donations, columns=['dollar_amount', 'payment_method', 'donation_included_optional_support', 'payment_included_acct_credit',\n",
    "                                               'payment_included_campaign_gift_card', 'payment_included_web_purchased_gift_card', \n",
    "                                               'payment_was_promo_matched', 'via_giving_page', 'for_honoree', 'is_teacher_acct'])"
   ]
  },
  {
   "cell_type": "code",
   "execution_count": 15,
   "metadata": {
    "deletable": false,
    "editable": false,
    "run_control": {
     "frozen": true
    }
   },
   "outputs": [
    {
     "data": {
      "text/html": [
       "<div>\n",
       "<style scoped>\n",
       "    .dataframe tbody tr th:only-of-type {\n",
       "        vertical-align: middle;\n",
       "    }\n",
       "\n",
       "    .dataframe tbody tr th {\n",
       "        vertical-align: top;\n",
       "    }\n",
       "\n",
       "    .dataframe thead th {\n",
       "        text-align: right;\n",
       "    }\n",
       "</style>\n",
       "<table border=\"1\" class=\"dataframe\">\n",
       "  <thead>\n",
       "    <tr style=\"text-align: right;\">\n",
       "      <th></th>\n",
       "      <th>projectid</th>\n",
       "      <th>donor_acctid</th>\n",
       "      <th>donation_timestamp</th>\n",
       "      <th>donation_to_project</th>\n",
       "      <th>teacher_acctid</th>\n",
       "      <th>date_posted</th>\n",
       "      <th>mean_donation_to_projects</th>\n",
       "      <th>mean_donation_to_project</th>\n",
       "      <th>dollar_amount_100_and_up</th>\n",
       "      <th>dollar_amount_10_to_100</th>\n",
       "      <th>dollar_amount_under_10</th>\n",
       "      <th>payment_method_almost_home_match</th>\n",
       "      <th>payment_method_amazon</th>\n",
       "      <th>payment_method_check</th>\n",
       "      <th>payment_method_creditcard</th>\n",
       "      <th>payment_method_double_your_impact_match</th>\n",
       "      <th>payment_method_no_cash_received</th>\n",
       "      <th>payment_method_paypal</th>\n",
       "      <th>payment_method_promo_code_match</th>\n",
       "      <th>donation_included_optional_support_f</th>\n",
       "      <th>donation_included_optional_support_t</th>\n",
       "      <th>payment_included_acct_credit_f</th>\n",
       "      <th>payment_included_acct_credit_t</th>\n",
       "      <th>payment_included_campaign_gift_card_f</th>\n",
       "      <th>payment_included_campaign_gift_card_t</th>\n",
       "      <th>payment_included_web_purchased_gift_card_f</th>\n",
       "      <th>payment_included_web_purchased_gift_card_t</th>\n",
       "      <th>payment_was_promo_matched_f</th>\n",
       "      <th>payment_was_promo_matched_t</th>\n",
       "      <th>via_giving_page_f</th>\n",
       "      <th>via_giving_page_t</th>\n",
       "      <th>for_honoree_f</th>\n",
       "      <th>for_honoree_t</th>\n",
       "      <th>is_teacher_acct_f</th>\n",
       "      <th>is_teacher_acct_t</th>\n",
       "    </tr>\n",
       "  </thead>\n",
       "  <tbody>\n",
       "    <tr>\n",
       "      <th>0</th>\n",
       "      <td>ffffac55ee02a49d1abc87ba6fc61135</td>\n",
       "      <td>22cbc920c9b5fa08dfb331422f5926b5</td>\n",
       "      <td>2011-08-25 14:27:34.807</td>\n",
       "      <td>42.50</td>\n",
       "      <td>947066d0af47e0566f334566553dd6a6</td>\n",
       "      <td>2011-06-11</td>\n",
       "      <td>0.0</td>\n",
       "      <td>29.632857</td>\n",
       "      <td>0</td>\n",
       "      <td>1</td>\n",
       "      <td>0</td>\n",
       "      <td>0</td>\n",
       "      <td>0</td>\n",
       "      <td>0</td>\n",
       "      <td>0</td>\n",
       "      <td>0</td>\n",
       "      <td>1</td>\n",
       "      <td>0</td>\n",
       "      <td>0</td>\n",
       "      <td>0</td>\n",
       "      <td>1</td>\n",
       "      <td>1</td>\n",
       "      <td>0</td>\n",
       "      <td>0</td>\n",
       "      <td>1</td>\n",
       "      <td>1</td>\n",
       "      <td>0</td>\n",
       "      <td>1</td>\n",
       "      <td>0</td>\n",
       "      <td>1</td>\n",
       "      <td>0</td>\n",
       "      <td>1</td>\n",
       "      <td>0</td>\n",
       "      <td>1</td>\n",
       "      <td>0</td>\n",
       "    </tr>\n",
       "    <tr>\n",
       "      <th>1</th>\n",
       "      <td>ffffac55ee02a49d1abc87ba6fc61135</td>\n",
       "      <td>521f1830a77c9dbbf8119d99c6206a16</td>\n",
       "      <td>2011-11-04 07:54:21.552</td>\n",
       "      <td>26.83</td>\n",
       "      <td>947066d0af47e0566f334566553dd6a6</td>\n",
       "      <td>2011-06-11</td>\n",
       "      <td>0.0</td>\n",
       "      <td>29.632857</td>\n",
       "      <td>0</td>\n",
       "      <td>1</td>\n",
       "      <td>0</td>\n",
       "      <td>0</td>\n",
       "      <td>0</td>\n",
       "      <td>0</td>\n",
       "      <td>1</td>\n",
       "      <td>0</td>\n",
       "      <td>0</td>\n",
       "      <td>0</td>\n",
       "      <td>0</td>\n",
       "      <td>0</td>\n",
       "      <td>1</td>\n",
       "      <td>1</td>\n",
       "      <td>0</td>\n",
       "      <td>0</td>\n",
       "      <td>1</td>\n",
       "      <td>1</td>\n",
       "      <td>0</td>\n",
       "      <td>1</td>\n",
       "      <td>0</td>\n",
       "      <td>1</td>\n",
       "      <td>0</td>\n",
       "      <td>1</td>\n",
       "      <td>0</td>\n",
       "      <td>1</td>\n",
       "      <td>0</td>\n",
       "    </tr>\n",
       "    <tr>\n",
       "      <th>2</th>\n",
       "      <td>ffffac55ee02a49d1abc87ba6fc61135</td>\n",
       "      <td>1e0a63fc8141c7ba26b8b44ca0871b90</td>\n",
       "      <td>2011-11-02 22:53:53.019</td>\n",
       "      <td>55.35</td>\n",
       "      <td>947066d0af47e0566f334566553dd6a6</td>\n",
       "      <td>2011-06-11</td>\n",
       "      <td>0.0</td>\n",
       "      <td>29.632857</td>\n",
       "      <td>0</td>\n",
       "      <td>1</td>\n",
       "      <td>0</td>\n",
       "      <td>0</td>\n",
       "      <td>0</td>\n",
       "      <td>0</td>\n",
       "      <td>0</td>\n",
       "      <td>0</td>\n",
       "      <td>1</td>\n",
       "      <td>0</td>\n",
       "      <td>0</td>\n",
       "      <td>1</td>\n",
       "      <td>0</td>\n",
       "      <td>0</td>\n",
       "      <td>1</td>\n",
       "      <td>1</td>\n",
       "      <td>0</td>\n",
       "      <td>1</td>\n",
       "      <td>0</td>\n",
       "      <td>1</td>\n",
       "      <td>0</td>\n",
       "      <td>0</td>\n",
       "      <td>1</td>\n",
       "      <td>1</td>\n",
       "      <td>0</td>\n",
       "      <td>1</td>\n",
       "      <td>0</td>\n",
       "    </tr>\n",
       "    <tr>\n",
       "      <th>3</th>\n",
       "      <td>ffffac55ee02a49d1abc87ba6fc61135</td>\n",
       "      <td>1d4acb508df29d5f1cc6d382969576cb</td>\n",
       "      <td>2011-11-03 23:54:01.109</td>\n",
       "      <td>8.50</td>\n",
       "      <td>947066d0af47e0566f334566553dd6a6</td>\n",
       "      <td>2011-06-11</td>\n",
       "      <td>0.0</td>\n",
       "      <td>29.632857</td>\n",
       "      <td>0</td>\n",
       "      <td>1</td>\n",
       "      <td>0</td>\n",
       "      <td>0</td>\n",
       "      <td>0</td>\n",
       "      <td>0</td>\n",
       "      <td>0</td>\n",
       "      <td>0</td>\n",
       "      <td>0</td>\n",
       "      <td>1</td>\n",
       "      <td>0</td>\n",
       "      <td>0</td>\n",
       "      <td>1</td>\n",
       "      <td>1</td>\n",
       "      <td>0</td>\n",
       "      <td>1</td>\n",
       "      <td>0</td>\n",
       "      <td>1</td>\n",
       "      <td>0</td>\n",
       "      <td>1</td>\n",
       "      <td>0</td>\n",
       "      <td>1</td>\n",
       "      <td>0</td>\n",
       "      <td>1</td>\n",
       "      <td>0</td>\n",
       "      <td>1</td>\n",
       "      <td>0</td>\n",
       "    </tr>\n",
       "    <tr>\n",
       "      <th>4</th>\n",
       "      <td>ffffac55ee02a49d1abc87ba6fc61135</td>\n",
       "      <td>59c3c3cfcccc53ae855f7eee911c478b</td>\n",
       "      <td>2011-11-02 23:21:00.043</td>\n",
       "      <td>20.00</td>\n",
       "      <td>947066d0af47e0566f334566553dd6a6</td>\n",
       "      <td>2011-06-11</td>\n",
       "      <td>0.0</td>\n",
       "      <td>29.632857</td>\n",
       "      <td>0</td>\n",
       "      <td>1</td>\n",
       "      <td>0</td>\n",
       "      <td>0</td>\n",
       "      <td>0</td>\n",
       "      <td>0</td>\n",
       "      <td>0</td>\n",
       "      <td>0</td>\n",
       "      <td>1</td>\n",
       "      <td>0</td>\n",
       "      <td>0</td>\n",
       "      <td>1</td>\n",
       "      <td>0</td>\n",
       "      <td>1</td>\n",
       "      <td>0</td>\n",
       "      <td>1</td>\n",
       "      <td>0</td>\n",
       "      <td>0</td>\n",
       "      <td>1</td>\n",
       "      <td>1</td>\n",
       "      <td>0</td>\n",
       "      <td>0</td>\n",
       "      <td>1</td>\n",
       "      <td>1</td>\n",
       "      <td>0</td>\n",
       "      <td>1</td>\n",
       "      <td>0</td>\n",
       "    </tr>\n",
       "  </tbody>\n",
       "</table>\n",
       "</div>"
      ],
      "text/plain": [
       "                          projectid                      donor_acctid  \\\n",
       "0  ffffac55ee02a49d1abc87ba6fc61135  22cbc920c9b5fa08dfb331422f5926b5   \n",
       "1  ffffac55ee02a49d1abc87ba6fc61135  521f1830a77c9dbbf8119d99c6206a16   \n",
       "2  ffffac55ee02a49d1abc87ba6fc61135  1e0a63fc8141c7ba26b8b44ca0871b90   \n",
       "3  ffffac55ee02a49d1abc87ba6fc61135  1d4acb508df29d5f1cc6d382969576cb   \n",
       "4  ffffac55ee02a49d1abc87ba6fc61135  59c3c3cfcccc53ae855f7eee911c478b   \n",
       "\n",
       "        donation_timestamp  donation_to_project  \\\n",
       "0  2011-08-25 14:27:34.807                42.50   \n",
       "1  2011-11-04 07:54:21.552                26.83   \n",
       "2  2011-11-02 22:53:53.019                55.35   \n",
       "3  2011-11-03 23:54:01.109                 8.50   \n",
       "4  2011-11-02 23:21:00.043                20.00   \n",
       "\n",
       "                     teacher_acctid date_posted  mean_donation_to_projects  \\\n",
       "0  947066d0af47e0566f334566553dd6a6  2011-06-11                        0.0   \n",
       "1  947066d0af47e0566f334566553dd6a6  2011-06-11                        0.0   \n",
       "2  947066d0af47e0566f334566553dd6a6  2011-06-11                        0.0   \n",
       "3  947066d0af47e0566f334566553dd6a6  2011-06-11                        0.0   \n",
       "4  947066d0af47e0566f334566553dd6a6  2011-06-11                        0.0   \n",
       "\n",
       "   mean_donation_to_project  dollar_amount_100_and_up  \\\n",
       "0                 29.632857                         0   \n",
       "1                 29.632857                         0   \n",
       "2                 29.632857                         0   \n",
       "3                 29.632857                         0   \n",
       "4                 29.632857                         0   \n",
       "\n",
       "   dollar_amount_10_to_100  dollar_amount_under_10  \\\n",
       "0                        1                       0   \n",
       "1                        1                       0   \n",
       "2                        1                       0   \n",
       "3                        1                       0   \n",
       "4                        1                       0   \n",
       "\n",
       "   payment_method_almost_home_match  payment_method_amazon  \\\n",
       "0                                 0                      0   \n",
       "1                                 0                      0   \n",
       "2                                 0                      0   \n",
       "3                                 0                      0   \n",
       "4                                 0                      0   \n",
       "\n",
       "   payment_method_check  payment_method_creditcard  \\\n",
       "0                     0                          0   \n",
       "1                     0                          1   \n",
       "2                     0                          0   \n",
       "3                     0                          0   \n",
       "4                     0                          0   \n",
       "\n",
       "   payment_method_double_your_impact_match  payment_method_no_cash_received  \\\n",
       "0                                        0                                1   \n",
       "1                                        0                                0   \n",
       "2                                        0                                1   \n",
       "3                                        0                                0   \n",
       "4                                        0                                1   \n",
       "\n",
       "   payment_method_paypal  payment_method_promo_code_match  \\\n",
       "0                      0                                0   \n",
       "1                      0                                0   \n",
       "2                      0                                0   \n",
       "3                      1                                0   \n",
       "4                      0                                0   \n",
       "\n",
       "   donation_included_optional_support_f  donation_included_optional_support_t  \\\n",
       "0                                     0                                     1   \n",
       "1                                     0                                     1   \n",
       "2                                     1                                     0   \n",
       "3                                     0                                     1   \n",
       "4                                     1                                     0   \n",
       "\n",
       "   payment_included_acct_credit_f  payment_included_acct_credit_t  \\\n",
       "0                               1                               0   \n",
       "1                               1                               0   \n",
       "2                               0                               1   \n",
       "3                               1                               0   \n",
       "4                               1                               0   \n",
       "\n",
       "   payment_included_campaign_gift_card_f  \\\n",
       "0                                      0   \n",
       "1                                      0   \n",
       "2                                      1   \n",
       "3                                      1   \n",
       "4                                      1   \n",
       "\n",
       "   payment_included_campaign_gift_card_t  \\\n",
       "0                                      1   \n",
       "1                                      1   \n",
       "2                                      0   \n",
       "3                                      0   \n",
       "4                                      0   \n",
       "\n",
       "   payment_included_web_purchased_gift_card_f  \\\n",
       "0                                           1   \n",
       "1                                           1   \n",
       "2                                           1   \n",
       "3                                           1   \n",
       "4                                           0   \n",
       "\n",
       "   payment_included_web_purchased_gift_card_t  payment_was_promo_matched_f  \\\n",
       "0                                           0                            1   \n",
       "1                                           0                            1   \n",
       "2                                           0                            1   \n",
       "3                                           0                            1   \n",
       "4                                           1                            1   \n",
       "\n",
       "   payment_was_promo_matched_t  via_giving_page_f  via_giving_page_t  \\\n",
       "0                            0                  1                  0   \n",
       "1                            0                  1                  0   \n",
       "2                            0                  0                  1   \n",
       "3                            0                  1                  0   \n",
       "4                            0                  0                  1   \n",
       "\n",
       "   for_honoree_f  for_honoree_t  is_teacher_acct_f  is_teacher_acct_t  \n",
       "0              1              0                  1                  0  \n",
       "1              1              0                  1                  0  \n",
       "2              1              0                  1                  0  \n",
       "3              1              0                  1                  0  \n",
       "4              1              0                  1                  0  "
      ]
     },
     "execution_count": 15,
     "metadata": {},
     "output_type": "execute_result"
    }
   ],
   "source": [
    "donations.head()"
   ]
  },
  {
   "cell_type": "code",
   "execution_count": 16,
   "metadata": {
    "deletable": false,
    "editable": false,
    "run_control": {
     "frozen": true
    }
   },
   "outputs": [],
   "source": [
    "dummies = ['dollar_amount_100_and_up', 'dollar_amount_10_to_100', 'dollar_amount_under_10', \n",
    "           'payment_method_almost_home_match', 'payment_method_amazon', 'payment_method_check', 'payment_method_creditcard', \n",
    "           'payment_method_double_your_impact_match', 'payment_method_no_cash_received', 'payment_method_paypal',\n",
    "           'payment_method_promo_code_match', 'donation_included_optional_support_f', 'donation_included_optional_support_t',\n",
    "           'payment_included_acct_credit_f', 'payment_included_acct_credit_t',\n",
    "           'payment_included_campaign_gift_card_f', 'payment_included_campaign_gift_card_t',\n",
    "           'payment_included_web_purchased_gift_card_f', 'payment_included_web_purchased_gift_card_t',\n",
    "           'payment_was_promo_matched_f', 'payment_was_promo_matched_t',\n",
    "           'via_giving_page_f', 'via_giving_page_t', 'for_honoree_f', 'for_honoree_t',\n",
    "           'is_teacher_acct_f', 'is_teacher_acct_t']\n",
    "\n",
    "for d in dummies:\n",
    "    donations[d] = donations.groupby('projectid')[d].transform('sum')"
   ]
  },
  {
   "cell_type": "code",
   "execution_count": 17,
   "metadata": {
    "deletable": false,
    "editable": false,
    "run_control": {
     "frozen": true
    }
   },
   "outputs": [
    {
     "data": {
      "text/html": [
       "<div>\n",
       "<style scoped>\n",
       "    .dataframe tbody tr th:only-of-type {\n",
       "        vertical-align: middle;\n",
       "    }\n",
       "\n",
       "    .dataframe tbody tr th {\n",
       "        vertical-align: top;\n",
       "    }\n",
       "\n",
       "    .dataframe thead th {\n",
       "        text-align: right;\n",
       "    }\n",
       "</style>\n",
       "<table border=\"1\" class=\"dataframe\">\n",
       "  <thead>\n",
       "    <tr style=\"text-align: right;\">\n",
       "      <th></th>\n",
       "      <th>projectid</th>\n",
       "      <th>donor_acctid</th>\n",
       "      <th>donation_timestamp</th>\n",
       "      <th>donation_to_project</th>\n",
       "      <th>teacher_acctid</th>\n",
       "      <th>date_posted</th>\n",
       "      <th>mean_donation_to_projects</th>\n",
       "      <th>mean_donation_to_project</th>\n",
       "      <th>dollar_amount_100_and_up</th>\n",
       "      <th>dollar_amount_10_to_100</th>\n",
       "      <th>dollar_amount_under_10</th>\n",
       "      <th>payment_method_almost_home_match</th>\n",
       "      <th>payment_method_amazon</th>\n",
       "      <th>payment_method_check</th>\n",
       "      <th>payment_method_creditcard</th>\n",
       "      <th>payment_method_double_your_impact_match</th>\n",
       "      <th>payment_method_no_cash_received</th>\n",
       "      <th>payment_method_paypal</th>\n",
       "      <th>payment_method_promo_code_match</th>\n",
       "      <th>donation_included_optional_support_f</th>\n",
       "      <th>donation_included_optional_support_t</th>\n",
       "      <th>payment_included_acct_credit_f</th>\n",
       "      <th>payment_included_acct_credit_t</th>\n",
       "      <th>payment_included_campaign_gift_card_f</th>\n",
       "      <th>payment_included_campaign_gift_card_t</th>\n",
       "      <th>payment_included_web_purchased_gift_card_f</th>\n",
       "      <th>payment_included_web_purchased_gift_card_t</th>\n",
       "      <th>payment_was_promo_matched_f</th>\n",
       "      <th>payment_was_promo_matched_t</th>\n",
       "      <th>via_giving_page_f</th>\n",
       "      <th>via_giving_page_t</th>\n",
       "      <th>for_honoree_f</th>\n",
       "      <th>for_honoree_t</th>\n",
       "      <th>is_teacher_acct_f</th>\n",
       "      <th>is_teacher_acct_t</th>\n",
       "    </tr>\n",
       "  </thead>\n",
       "  <tbody>\n",
       "    <tr>\n",
       "      <th>0</th>\n",
       "      <td>ffffac55ee02a49d1abc87ba6fc61135</td>\n",
       "      <td>22cbc920c9b5fa08dfb331422f5926b5</td>\n",
       "      <td>2011-08-25 14:27:34.807</td>\n",
       "      <td>42.50</td>\n",
       "      <td>947066d0af47e0566f334566553dd6a6</td>\n",
       "      <td>2011-06-11</td>\n",
       "      <td>0.0</td>\n",
       "      <td>29.632857</td>\n",
       "      <td>0</td>\n",
       "      <td>6.0</td>\n",
       "      <td>1.0</td>\n",
       "      <td>0</td>\n",
       "      <td>0</td>\n",
       "      <td>0</td>\n",
       "      <td>2.0</td>\n",
       "      <td>0</td>\n",
       "      <td>4.0</td>\n",
       "      <td>1</td>\n",
       "      <td>0</td>\n",
       "      <td>3.0</td>\n",
       "      <td>4.0</td>\n",
       "      <td>6.0</td>\n",
       "      <td>1</td>\n",
       "      <td>4.0</td>\n",
       "      <td>3.0</td>\n",
       "      <td>6.0</td>\n",
       "      <td>1</td>\n",
       "      <td>7.0</td>\n",
       "      <td>0</td>\n",
       "      <td>5.0</td>\n",
       "      <td>2.0</td>\n",
       "      <td>6.0</td>\n",
       "      <td>1</td>\n",
       "      <td>7.0</td>\n",
       "      <td>0.0</td>\n",
       "    </tr>\n",
       "    <tr>\n",
       "      <th>1</th>\n",
       "      <td>ffffac55ee02a49d1abc87ba6fc61135</td>\n",
       "      <td>521f1830a77c9dbbf8119d99c6206a16</td>\n",
       "      <td>2011-11-04 07:54:21.552</td>\n",
       "      <td>26.83</td>\n",
       "      <td>947066d0af47e0566f334566553dd6a6</td>\n",
       "      <td>2011-06-11</td>\n",
       "      <td>0.0</td>\n",
       "      <td>29.632857</td>\n",
       "      <td>0</td>\n",
       "      <td>6.0</td>\n",
       "      <td>1.0</td>\n",
       "      <td>0</td>\n",
       "      <td>0</td>\n",
       "      <td>0</td>\n",
       "      <td>2.0</td>\n",
       "      <td>0</td>\n",
       "      <td>4.0</td>\n",
       "      <td>1</td>\n",
       "      <td>0</td>\n",
       "      <td>3.0</td>\n",
       "      <td>4.0</td>\n",
       "      <td>6.0</td>\n",
       "      <td>1</td>\n",
       "      <td>4.0</td>\n",
       "      <td>3.0</td>\n",
       "      <td>6.0</td>\n",
       "      <td>1</td>\n",
       "      <td>7.0</td>\n",
       "      <td>0</td>\n",
       "      <td>5.0</td>\n",
       "      <td>2.0</td>\n",
       "      <td>6.0</td>\n",
       "      <td>1</td>\n",
       "      <td>7.0</td>\n",
       "      <td>0.0</td>\n",
       "    </tr>\n",
       "    <tr>\n",
       "      <th>2</th>\n",
       "      <td>ffffac55ee02a49d1abc87ba6fc61135</td>\n",
       "      <td>1e0a63fc8141c7ba26b8b44ca0871b90</td>\n",
       "      <td>2011-11-02 22:53:53.019</td>\n",
       "      <td>55.35</td>\n",
       "      <td>947066d0af47e0566f334566553dd6a6</td>\n",
       "      <td>2011-06-11</td>\n",
       "      <td>0.0</td>\n",
       "      <td>29.632857</td>\n",
       "      <td>0</td>\n",
       "      <td>6.0</td>\n",
       "      <td>1.0</td>\n",
       "      <td>0</td>\n",
       "      <td>0</td>\n",
       "      <td>0</td>\n",
       "      <td>2.0</td>\n",
       "      <td>0</td>\n",
       "      <td>4.0</td>\n",
       "      <td>1</td>\n",
       "      <td>0</td>\n",
       "      <td>3.0</td>\n",
       "      <td>4.0</td>\n",
       "      <td>6.0</td>\n",
       "      <td>1</td>\n",
       "      <td>4.0</td>\n",
       "      <td>3.0</td>\n",
       "      <td>6.0</td>\n",
       "      <td>1</td>\n",
       "      <td>7.0</td>\n",
       "      <td>0</td>\n",
       "      <td>5.0</td>\n",
       "      <td>2.0</td>\n",
       "      <td>6.0</td>\n",
       "      <td>1</td>\n",
       "      <td>7.0</td>\n",
       "      <td>0.0</td>\n",
       "    </tr>\n",
       "    <tr>\n",
       "      <th>3</th>\n",
       "      <td>ffffac55ee02a49d1abc87ba6fc61135</td>\n",
       "      <td>1d4acb508df29d5f1cc6d382969576cb</td>\n",
       "      <td>2011-11-03 23:54:01.109</td>\n",
       "      <td>8.50</td>\n",
       "      <td>947066d0af47e0566f334566553dd6a6</td>\n",
       "      <td>2011-06-11</td>\n",
       "      <td>0.0</td>\n",
       "      <td>29.632857</td>\n",
       "      <td>0</td>\n",
       "      <td>6.0</td>\n",
       "      <td>1.0</td>\n",
       "      <td>0</td>\n",
       "      <td>0</td>\n",
       "      <td>0</td>\n",
       "      <td>2.0</td>\n",
       "      <td>0</td>\n",
       "      <td>4.0</td>\n",
       "      <td>1</td>\n",
       "      <td>0</td>\n",
       "      <td>3.0</td>\n",
       "      <td>4.0</td>\n",
       "      <td>6.0</td>\n",
       "      <td>1</td>\n",
       "      <td>4.0</td>\n",
       "      <td>3.0</td>\n",
       "      <td>6.0</td>\n",
       "      <td>1</td>\n",
       "      <td>7.0</td>\n",
       "      <td>0</td>\n",
       "      <td>5.0</td>\n",
       "      <td>2.0</td>\n",
       "      <td>6.0</td>\n",
       "      <td>1</td>\n",
       "      <td>7.0</td>\n",
       "      <td>0.0</td>\n",
       "    </tr>\n",
       "    <tr>\n",
       "      <th>4</th>\n",
       "      <td>ffffac55ee02a49d1abc87ba6fc61135</td>\n",
       "      <td>59c3c3cfcccc53ae855f7eee911c478b</td>\n",
       "      <td>2011-11-02 23:21:00.043</td>\n",
       "      <td>20.00</td>\n",
       "      <td>947066d0af47e0566f334566553dd6a6</td>\n",
       "      <td>2011-06-11</td>\n",
       "      <td>0.0</td>\n",
       "      <td>29.632857</td>\n",
       "      <td>0</td>\n",
       "      <td>6.0</td>\n",
       "      <td>1.0</td>\n",
       "      <td>0</td>\n",
       "      <td>0</td>\n",
       "      <td>0</td>\n",
       "      <td>2.0</td>\n",
       "      <td>0</td>\n",
       "      <td>4.0</td>\n",
       "      <td>1</td>\n",
       "      <td>0</td>\n",
       "      <td>3.0</td>\n",
       "      <td>4.0</td>\n",
       "      <td>6.0</td>\n",
       "      <td>1</td>\n",
       "      <td>4.0</td>\n",
       "      <td>3.0</td>\n",
       "      <td>6.0</td>\n",
       "      <td>1</td>\n",
       "      <td>7.0</td>\n",
       "      <td>0</td>\n",
       "      <td>5.0</td>\n",
       "      <td>2.0</td>\n",
       "      <td>6.0</td>\n",
       "      <td>1</td>\n",
       "      <td>7.0</td>\n",
       "      <td>0.0</td>\n",
       "    </tr>\n",
       "  </tbody>\n",
       "</table>\n",
       "</div>"
      ],
      "text/plain": [
       "                          projectid                      donor_acctid  \\\n",
       "0  ffffac55ee02a49d1abc87ba6fc61135  22cbc920c9b5fa08dfb331422f5926b5   \n",
       "1  ffffac55ee02a49d1abc87ba6fc61135  521f1830a77c9dbbf8119d99c6206a16   \n",
       "2  ffffac55ee02a49d1abc87ba6fc61135  1e0a63fc8141c7ba26b8b44ca0871b90   \n",
       "3  ffffac55ee02a49d1abc87ba6fc61135  1d4acb508df29d5f1cc6d382969576cb   \n",
       "4  ffffac55ee02a49d1abc87ba6fc61135  59c3c3cfcccc53ae855f7eee911c478b   \n",
       "\n",
       "        donation_timestamp  donation_to_project  \\\n",
       "0  2011-08-25 14:27:34.807                42.50   \n",
       "1  2011-11-04 07:54:21.552                26.83   \n",
       "2  2011-11-02 22:53:53.019                55.35   \n",
       "3  2011-11-03 23:54:01.109                 8.50   \n",
       "4  2011-11-02 23:21:00.043                20.00   \n",
       "\n",
       "                     teacher_acctid date_posted  mean_donation_to_projects  \\\n",
       "0  947066d0af47e0566f334566553dd6a6  2011-06-11                        0.0   \n",
       "1  947066d0af47e0566f334566553dd6a6  2011-06-11                        0.0   \n",
       "2  947066d0af47e0566f334566553dd6a6  2011-06-11                        0.0   \n",
       "3  947066d0af47e0566f334566553dd6a6  2011-06-11                        0.0   \n",
       "4  947066d0af47e0566f334566553dd6a6  2011-06-11                        0.0   \n",
       "\n",
       "   mean_donation_to_project  dollar_amount_100_and_up  \\\n",
       "0                 29.632857                         0   \n",
       "1                 29.632857                         0   \n",
       "2                 29.632857                         0   \n",
       "3                 29.632857                         0   \n",
       "4                 29.632857                         0   \n",
       "\n",
       "   dollar_amount_10_to_100  dollar_amount_under_10  \\\n",
       "0                      6.0                     1.0   \n",
       "1                      6.0                     1.0   \n",
       "2                      6.0                     1.0   \n",
       "3                      6.0                     1.0   \n",
       "4                      6.0                     1.0   \n",
       "\n",
       "   payment_method_almost_home_match  payment_method_amazon  \\\n",
       "0                                 0                      0   \n",
       "1                                 0                      0   \n",
       "2                                 0                      0   \n",
       "3                                 0                      0   \n",
       "4                                 0                      0   \n",
       "\n",
       "   payment_method_check  payment_method_creditcard  \\\n",
       "0                     0                        2.0   \n",
       "1                     0                        2.0   \n",
       "2                     0                        2.0   \n",
       "3                     0                        2.0   \n",
       "4                     0                        2.0   \n",
       "\n",
       "   payment_method_double_your_impact_match  payment_method_no_cash_received  \\\n",
       "0                                        0                              4.0   \n",
       "1                                        0                              4.0   \n",
       "2                                        0                              4.0   \n",
       "3                                        0                              4.0   \n",
       "4                                        0                              4.0   \n",
       "\n",
       "   payment_method_paypal  payment_method_promo_code_match  \\\n",
       "0                      1                                0   \n",
       "1                      1                                0   \n",
       "2                      1                                0   \n",
       "3                      1                                0   \n",
       "4                      1                                0   \n",
       "\n",
       "   donation_included_optional_support_f  donation_included_optional_support_t  \\\n",
       "0                                   3.0                                   4.0   \n",
       "1                                   3.0                                   4.0   \n",
       "2                                   3.0                                   4.0   \n",
       "3                                   3.0                                   4.0   \n",
       "4                                   3.0                                   4.0   \n",
       "\n",
       "   payment_included_acct_credit_f  payment_included_acct_credit_t  \\\n",
       "0                             6.0                               1   \n",
       "1                             6.0                               1   \n",
       "2                             6.0                               1   \n",
       "3                             6.0                               1   \n",
       "4                             6.0                               1   \n",
       "\n",
       "   payment_included_campaign_gift_card_f  \\\n",
       "0                                    4.0   \n",
       "1                                    4.0   \n",
       "2                                    4.0   \n",
       "3                                    4.0   \n",
       "4                                    4.0   \n",
       "\n",
       "   payment_included_campaign_gift_card_t  \\\n",
       "0                                    3.0   \n",
       "1                                    3.0   \n",
       "2                                    3.0   \n",
       "3                                    3.0   \n",
       "4                                    3.0   \n",
       "\n",
       "   payment_included_web_purchased_gift_card_f  \\\n",
       "0                                         6.0   \n",
       "1                                         6.0   \n",
       "2                                         6.0   \n",
       "3                                         6.0   \n",
       "4                                         6.0   \n",
       "\n",
       "   payment_included_web_purchased_gift_card_t  payment_was_promo_matched_f  \\\n",
       "0                                           1                          7.0   \n",
       "1                                           1                          7.0   \n",
       "2                                           1                          7.0   \n",
       "3                                           1                          7.0   \n",
       "4                                           1                          7.0   \n",
       "\n",
       "   payment_was_promo_matched_t  via_giving_page_f  via_giving_page_t  \\\n",
       "0                            0                5.0                2.0   \n",
       "1                            0                5.0                2.0   \n",
       "2                            0                5.0                2.0   \n",
       "3                            0                5.0                2.0   \n",
       "4                            0                5.0                2.0   \n",
       "\n",
       "   for_honoree_f  for_honoree_t  is_teacher_acct_f  is_teacher_acct_t  \n",
       "0            6.0              1                7.0                0.0  \n",
       "1            6.0              1                7.0                0.0  \n",
       "2            6.0              1                7.0                0.0  \n",
       "3            6.0              1                7.0                0.0  \n",
       "4            6.0              1                7.0                0.0  "
      ]
     },
     "execution_count": 17,
     "metadata": {},
     "output_type": "execute_result"
    }
   ],
   "source": [
    "donations.head()"
   ]
  },
  {
   "cell_type": "code",
   "execution_count": 18,
   "metadata": {
    "deletable": false,
    "editable": false,
    "run_control": {
     "frozen": true
    }
   },
   "outputs": [],
   "source": [
    "donations.drop(['donor_acctid', 'donation_timestamp', 'donation_to_project'], axis=1, inplace=True)"
   ]
  },
  {
   "cell_type": "code",
   "execution_count": 19,
   "metadata": {
    "deletable": false,
    "editable": false,
    "run_control": {
     "frozen": true
    }
   },
   "outputs": [],
   "source": [
    "donations.drop_duplicates(inplace=True)"
   ]
  },
  {
   "cell_type": "code",
   "execution_count": 20,
   "metadata": {
    "deletable": false,
    "editable": false,
    "run_control": {
     "frozen": true
    }
   },
   "outputs": [
    {
     "data": {
      "text/plain": [
       "664098"
      ]
     },
     "execution_count": 20,
     "metadata": {},
     "output_type": "execute_result"
    }
   ],
   "source": [
    "len(donations)"
   ]
  },
  {
   "cell_type": "code",
   "execution_count": 26,
   "metadata": {
    "deletable": false,
    "editable": false,
    "run_control": {
     "frozen": true
    }
   },
   "outputs": [
    {
     "data": {
      "text/html": [
       "<div>\n",
       "<style scoped>\n",
       "    .dataframe tbody tr th:only-of-type {\n",
       "        vertical-align: middle;\n",
       "    }\n",
       "\n",
       "    .dataframe tbody tr th {\n",
       "        vertical-align: top;\n",
       "    }\n",
       "\n",
       "    .dataframe thead th {\n",
       "        text-align: right;\n",
       "    }\n",
       "</style>\n",
       "<table border=\"1\" class=\"dataframe\">\n",
       "  <thead>\n",
       "    <tr style=\"text-align: right;\">\n",
       "      <th></th>\n",
       "      <th>projectid</th>\n",
       "      <th>is_teacher_acct</th>\n",
       "      <th>teacher_acctid</th>\n",
       "      <th>date_posted</th>\n",
       "      <th>mean_donation_to_projects</th>\n",
       "      <th>mean_donation_to_project</th>\n",
       "      <th>dollar_amount_100_and_up</th>\n",
       "      <th>dollar_amount_10_to_100</th>\n",
       "      <th>dollar_amount_under_10</th>\n",
       "      <th>payment_method_almost_home_match</th>\n",
       "      <th>payment_method_amazon</th>\n",
       "      <th>payment_method_check</th>\n",
       "      <th>payment_method_creditcard</th>\n",
       "      <th>payment_method_double_your_impact_match</th>\n",
       "      <th>payment_method_no_cash_received</th>\n",
       "      <th>payment_method_paypal</th>\n",
       "      <th>payment_method_promo_code_match</th>\n",
       "      <th>donation_included_optional_support_f</th>\n",
       "      <th>donation_included_optional_support_t</th>\n",
       "      <th>payment_included_acct_credit_f</th>\n",
       "      <th>payment_included_acct_credit_t</th>\n",
       "      <th>payment_included_campaign_gift_card_f</th>\n",
       "      <th>payment_included_campaign_gift_card_t</th>\n",
       "      <th>payment_included_web_purchased_gift_card_f</th>\n",
       "      <th>payment_included_web_purchased_gift_card_t</th>\n",
       "      <th>payment_was_promo_matched_f</th>\n",
       "      <th>payment_was_promo_matched_t</th>\n",
       "      <th>via_giving_page_f</th>\n",
       "      <th>via_giving_page_t</th>\n",
       "      <th>for_honoree_f</th>\n",
       "      <th>for_honoree_t</th>\n",
       "    </tr>\n",
       "  </thead>\n",
       "  <tbody>\n",
       "    <tr>\n",
       "      <th>0</th>\n",
       "      <td>ffffac55ee02a49d1abc87ba6fc61135</td>\n",
       "      <td>f</td>\n",
       "      <td>947066d0af47e0566f334566553dd6a6</td>\n",
       "      <td>2011-06-11</td>\n",
       "      <td>0.000000</td>\n",
       "      <td>29.632857</td>\n",
       "      <td>0</td>\n",
       "      <td>6.0</td>\n",
       "      <td>1.0</td>\n",
       "      <td>0</td>\n",
       "      <td>0</td>\n",
       "      <td>0</td>\n",
       "      <td>2.0</td>\n",
       "      <td>0</td>\n",
       "      <td>4.0</td>\n",
       "      <td>1</td>\n",
       "      <td>0</td>\n",
       "      <td>3.0</td>\n",
       "      <td>4.0</td>\n",
       "      <td>6.0</td>\n",
       "      <td>1</td>\n",
       "      <td>4.0</td>\n",
       "      <td>3.0</td>\n",
       "      <td>6.0</td>\n",
       "      <td>1</td>\n",
       "      <td>7.0</td>\n",
       "      <td>0</td>\n",
       "      <td>5.0</td>\n",
       "      <td>2.0</td>\n",
       "      <td>6.0</td>\n",
       "      <td>1</td>\n",
       "    </tr>\n",
       "    <tr>\n",
       "      <th>7</th>\n",
       "      <td>ffff97ed93720407d70a2787475932b0</td>\n",
       "      <td>f</td>\n",
       "      <td>462270f5d5c212162fcab11afa2623cb</td>\n",
       "      <td>2010-09-11</td>\n",
       "      <td>94.969254</td>\n",
       "      <td>110.002500</td>\n",
       "      <td>2</td>\n",
       "      <td>2.0</td>\n",
       "      <td>0.0</td>\n",
       "      <td>0</td>\n",
       "      <td>0</td>\n",
       "      <td>0</td>\n",
       "      <td>4.0</td>\n",
       "      <td>0</td>\n",
       "      <td>0.0</td>\n",
       "      <td>0</td>\n",
       "      <td>0</td>\n",
       "      <td>0.0</td>\n",
       "      <td>4.0</td>\n",
       "      <td>4.0</td>\n",
       "      <td>0</td>\n",
       "      <td>4.0</td>\n",
       "      <td>0.0</td>\n",
       "      <td>4.0</td>\n",
       "      <td>0</td>\n",
       "      <td>4.0</td>\n",
       "      <td>0</td>\n",
       "      <td>0.0</td>\n",
       "      <td>4.0</td>\n",
       "      <td>4.0</td>\n",
       "      <td>0</td>\n",
       "    </tr>\n",
       "    <tr>\n",
       "      <th>11</th>\n",
       "      <td>ffff418bb42fad24347527ad96100f81</td>\n",
       "      <td>f</td>\n",
       "      <td>e885fb002a1d0d39aaed9d21a7683549</td>\n",
       "      <td>2009-04-03</td>\n",
       "      <td>0.000000</td>\n",
       "      <td>20.500000</td>\n",
       "      <td>0</td>\n",
       "      <td>1.0</td>\n",
       "      <td>0.0</td>\n",
       "      <td>0</td>\n",
       "      <td>1</td>\n",
       "      <td>0</td>\n",
       "      <td>0.0</td>\n",
       "      <td>0</td>\n",
       "      <td>0.0</td>\n",
       "      <td>0</td>\n",
       "      <td>0</td>\n",
       "      <td>0.0</td>\n",
       "      <td>1.0</td>\n",
       "      <td>1.0</td>\n",
       "      <td>0</td>\n",
       "      <td>1.0</td>\n",
       "      <td>0.0</td>\n",
       "      <td>1.0</td>\n",
       "      <td>0</td>\n",
       "      <td>1.0</td>\n",
       "      <td>0</td>\n",
       "      <td>0.0</td>\n",
       "      <td>1.0</td>\n",
       "      <td>1.0</td>\n",
       "      <td>0</td>\n",
       "    </tr>\n",
       "    <tr>\n",
       "      <th>12</th>\n",
       "      <td>ffff2d9c769c8fb5335e949c615425eb</td>\n",
       "      <td>f</td>\n",
       "      <td>485784e52a4c85ea6783285d09d8aea4</td>\n",
       "      <td>2013-03-03</td>\n",
       "      <td>0.000000</td>\n",
       "      <td>52.703636</td>\n",
       "      <td>3</td>\n",
       "      <td>8.0</td>\n",
       "      <td>0.0</td>\n",
       "      <td>0</td>\n",
       "      <td>0</td>\n",
       "      <td>0</td>\n",
       "      <td>6.0</td>\n",
       "      <td>0</td>\n",
       "      <td>1.0</td>\n",
       "      <td>0</td>\n",
       "      <td>4</td>\n",
       "      <td>0.0</td>\n",
       "      <td>11.0</td>\n",
       "      <td>11.0</td>\n",
       "      <td>0</td>\n",
       "      <td>9.0</td>\n",
       "      <td>2.0</td>\n",
       "      <td>11.0</td>\n",
       "      <td>0</td>\n",
       "      <td>7.0</td>\n",
       "      <td>4</td>\n",
       "      <td>3.0</td>\n",
       "      <td>8.0</td>\n",
       "      <td>11.0</td>\n",
       "      <td>0</td>\n",
       "    </tr>\n",
       "    <tr>\n",
       "      <th>23</th>\n",
       "      <td>fffeebf4827d745aa36b17c2d38d1966</td>\n",
       "      <td>f</td>\n",
       "      <td>96c1a33b4f2b832595c3c6a01bc24c05</td>\n",
       "      <td>2012-12-01</td>\n",
       "      <td>0.000000</td>\n",
       "      <td>797.300000</td>\n",
       "      <td>1</td>\n",
       "      <td>0.0</td>\n",
       "      <td>0.0</td>\n",
       "      <td>0</td>\n",
       "      <td>0</td>\n",
       "      <td>0</td>\n",
       "      <td>0.0</td>\n",
       "      <td>0</td>\n",
       "      <td>1.0</td>\n",
       "      <td>0</td>\n",
       "      <td>0</td>\n",
       "      <td>0.0</td>\n",
       "      <td>1.0</td>\n",
       "      <td>0.0</td>\n",
       "      <td>1</td>\n",
       "      <td>1.0</td>\n",
       "      <td>0.0</td>\n",
       "      <td>1.0</td>\n",
       "      <td>0</td>\n",
       "      <td>1.0</td>\n",
       "      <td>0</td>\n",
       "      <td>1.0</td>\n",
       "      <td>0.0</td>\n",
       "      <td>1.0</td>\n",
       "      <td>0</td>\n",
       "    </tr>\n",
       "  </tbody>\n",
       "</table>\n",
       "</div>"
      ],
      "text/plain": [
       "                           projectid is_teacher_acct  \\\n",
       "0   ffffac55ee02a49d1abc87ba6fc61135               f   \n",
       "7   ffff97ed93720407d70a2787475932b0               f   \n",
       "11  ffff418bb42fad24347527ad96100f81               f   \n",
       "12  ffff2d9c769c8fb5335e949c615425eb               f   \n",
       "23  fffeebf4827d745aa36b17c2d38d1966               f   \n",
       "\n",
       "                      teacher_acctid date_posted  mean_donation_to_projects  \\\n",
       "0   947066d0af47e0566f334566553dd6a6  2011-06-11                   0.000000   \n",
       "7   462270f5d5c212162fcab11afa2623cb  2010-09-11                  94.969254   \n",
       "11  e885fb002a1d0d39aaed9d21a7683549  2009-04-03                   0.000000   \n",
       "12  485784e52a4c85ea6783285d09d8aea4  2013-03-03                   0.000000   \n",
       "23  96c1a33b4f2b832595c3c6a01bc24c05  2012-12-01                   0.000000   \n",
       "\n",
       "    mean_donation_to_project  dollar_amount_100_and_up  \\\n",
       "0                  29.632857                         0   \n",
       "7                 110.002500                         2   \n",
       "11                 20.500000                         0   \n",
       "12                 52.703636                         3   \n",
       "23                797.300000                         1   \n",
       "\n",
       "    dollar_amount_10_to_100  dollar_amount_under_10  \\\n",
       "0                       6.0                     1.0   \n",
       "7                       2.0                     0.0   \n",
       "11                      1.0                     0.0   \n",
       "12                      8.0                     0.0   \n",
       "23                      0.0                     0.0   \n",
       "\n",
       "    payment_method_almost_home_match  payment_method_amazon  \\\n",
       "0                                  0                      0   \n",
       "7                                  0                      0   \n",
       "11                                 0                      1   \n",
       "12                                 0                      0   \n",
       "23                                 0                      0   \n",
       "\n",
       "    payment_method_check  payment_method_creditcard  \\\n",
       "0                      0                        2.0   \n",
       "7                      0                        4.0   \n",
       "11                     0                        0.0   \n",
       "12                     0                        6.0   \n",
       "23                     0                        0.0   \n",
       "\n",
       "    payment_method_double_your_impact_match  payment_method_no_cash_received  \\\n",
       "0                                         0                              4.0   \n",
       "7                                         0                              0.0   \n",
       "11                                        0                              0.0   \n",
       "12                                        0                              1.0   \n",
       "23                                        0                              1.0   \n",
       "\n",
       "    payment_method_paypal  payment_method_promo_code_match  \\\n",
       "0                       1                                0   \n",
       "7                       0                                0   \n",
       "11                      0                                0   \n",
       "12                      0                                4   \n",
       "23                      0                                0   \n",
       "\n",
       "    donation_included_optional_support_f  \\\n",
       "0                                    3.0   \n",
       "7                                    0.0   \n",
       "11                                   0.0   \n",
       "12                                   0.0   \n",
       "23                                   0.0   \n",
       "\n",
       "    donation_included_optional_support_t  payment_included_acct_credit_f  \\\n",
       "0                                    4.0                             6.0   \n",
       "7                                    4.0                             4.0   \n",
       "11                                   1.0                             1.0   \n",
       "12                                  11.0                            11.0   \n",
       "23                                   1.0                             0.0   \n",
       "\n",
       "    payment_included_acct_credit_t  payment_included_campaign_gift_card_f  \\\n",
       "0                                1                                    4.0   \n",
       "7                                0                                    4.0   \n",
       "11                               0                                    1.0   \n",
       "12                               0                                    9.0   \n",
       "23                               1                                    1.0   \n",
       "\n",
       "    payment_included_campaign_gift_card_t  \\\n",
       "0                                     3.0   \n",
       "7                                     0.0   \n",
       "11                                    0.0   \n",
       "12                                    2.0   \n",
       "23                                    0.0   \n",
       "\n",
       "    payment_included_web_purchased_gift_card_f  \\\n",
       "0                                          6.0   \n",
       "7                                          4.0   \n",
       "11                                         1.0   \n",
       "12                                        11.0   \n",
       "23                                         1.0   \n",
       "\n",
       "    payment_included_web_purchased_gift_card_t  payment_was_promo_matched_f  \\\n",
       "0                                            1                          7.0   \n",
       "7                                            0                          4.0   \n",
       "11                                           0                          1.0   \n",
       "12                                           0                          7.0   \n",
       "23                                           0                          1.0   \n",
       "\n",
       "    payment_was_promo_matched_t  via_giving_page_f  via_giving_page_t  \\\n",
       "0                             0                5.0                2.0   \n",
       "7                             0                0.0                4.0   \n",
       "11                            0                0.0                1.0   \n",
       "12                            4                3.0                8.0   \n",
       "23                            0                1.0                0.0   \n",
       "\n",
       "    for_honoree_f  for_honoree_t  \n",
       "0             6.0              1  \n",
       "7             4.0              0  \n",
       "11            1.0              0  \n",
       "12           11.0              0  \n",
       "23            1.0              0  "
      ]
     },
     "execution_count": 26,
     "metadata": {},
     "output_type": "execute_result"
    }
   ],
   "source": [
    "donations.head()"
   ]
  },
  {
   "cell_type": "code",
   "execution_count": 21,
   "metadata": {
    "deletable": false,
    "editable": false,
    "run_control": {
     "frozen": true
    }
   },
   "outputs": [
    {
     "data": {
      "text/plain": [
       "62"
      ]
     },
     "execution_count": 21,
     "metadata": {},
     "output_type": "execute_result"
    }
   ],
   "source": [
    "gc.collect()"
   ]
  },
  {
   "cell_type": "code",
   "execution_count": 22,
   "metadata": {
    "deletable": false,
    "editable": false,
    "run_control": {
     "frozen": true
    }
   },
   "outputs": [],
   "source": [
    "donations.to_csv('../Data/Kaggle/KDDCup14/donations_feat.csv', index=False)"
   ]
  },
  {
   "cell_type": "code",
   "execution_count": 23,
   "metadata": {
    "deletable": false,
    "editable": false,
    "run_control": {
     "frozen": true
    }
   },
   "outputs": [],
   "source": [
    "del donations"
   ]
  },
  {
   "cell_type": "markdown",
   "metadata": {},
   "source": [
    "#### Resources"
   ]
  },
  {
   "cell_type": "code",
   "execution_count": 6,
   "metadata": {
    "deletable": false,
    "editable": false,
    "run_control": {
     "frozen": true
    }
   },
   "outputs": [],
   "source": [
    "resources = pd.read_csv('../Data/Kaggle/KDDCup14/resources.csv')"
   ]
  },
  {
   "cell_type": "code",
   "execution_count": 7,
   "metadata": {
    "deletable": false,
    "editable": false,
    "run_control": {
     "frozen": true
    }
   },
   "outputs": [],
   "source": [
    "resources.drop(['resourceid', 'vendor_name'], axis=1, inplace=True)"
   ]
  },
  {
   "cell_type": "code",
   "execution_count": 8,
   "metadata": {
    "deletable": false,
    "editable": false,
    "run_control": {
     "frozen": true
    }
   },
   "outputs": [
    {
     "data": {
      "text/html": [
       "<div>\n",
       "<style scoped>\n",
       "    .dataframe tbody tr th:only-of-type {\n",
       "        vertical-align: middle;\n",
       "    }\n",
       "\n",
       "    .dataframe tbody tr th {\n",
       "        vertical-align: top;\n",
       "    }\n",
       "\n",
       "    .dataframe thead th {\n",
       "        text-align: right;\n",
       "    }\n",
       "</style>\n",
       "<table border=\"1\" class=\"dataframe\">\n",
       "  <thead>\n",
       "    <tr style=\"text-align: right;\">\n",
       "      <th></th>\n",
       "      <th>projectid</th>\n",
       "      <th>vendorid</th>\n",
       "      <th>project_resource_type</th>\n",
       "      <th>item_name</th>\n",
       "      <th>item_number</th>\n",
       "      <th>item_unit_price</th>\n",
       "      <th>item_quantity</th>\n",
       "    </tr>\n",
       "  </thead>\n",
       "  <tbody>\n",
       "    <tr>\n",
       "      <th>0</th>\n",
       "      <td>ffffc4f85b60efc5b52347df489d0238</td>\n",
       "      <td>430.0</td>\n",
       "      <td>Technology</td>\n",
       "      <td>iPod nano 4th Gen 8GB (Black)</td>\n",
       "      <td>249995.001</td>\n",
       "      <td>149.00</td>\n",
       "      <td>4.0</td>\n",
       "    </tr>\n",
       "    <tr>\n",
       "      <th>1</th>\n",
       "      <td>ffffac55ee02a49d1abc87ba6fc61135</td>\n",
       "      <td>82.0</td>\n",
       "      <td>Technology</td>\n",
       "      <td>Sony bloggie MHS-FS1 - camcorder - internal fl...</td>\n",
       "      <td>BB11216668</td>\n",
       "      <td>148.00</td>\n",
       "      <td>1.0</td>\n",
       "    </tr>\n",
       "    <tr>\n",
       "      <th>2</th>\n",
       "      <td>ffff97ed93720407d70a2787475932b0</td>\n",
       "      <td>767.0</td>\n",
       "      <td>Supplies</td>\n",
       "      <td>VX748 - Best-Buy Jumbo Crayons - 12-Color Box</td>\n",
       "      <td>VX748</td>\n",
       "      <td>69.95</td>\n",
       "      <td>1.0</td>\n",
       "    </tr>\n",
       "    <tr>\n",
       "      <th>3</th>\n",
       "      <td>ffff97ed93720407d70a2787475932b0</td>\n",
       "      <td>767.0</td>\n",
       "      <td>Supplies</td>\n",
       "      <td>LA138 - Best-Buy Write &amp; Wipe Broad-Tip Marker...</td>\n",
       "      <td>LA138</td>\n",
       "      <td>34.95</td>\n",
       "      <td>1.0</td>\n",
       "    </tr>\n",
       "    <tr>\n",
       "      <th>4</th>\n",
       "      <td>ffff97ed93720407d70a2787475932b0</td>\n",
       "      <td>767.0</td>\n",
       "      <td>Supplies</td>\n",
       "      <td>BJ7471 - 1 1/2&amp;#34; Ruled Chart Tablet</td>\n",
       "      <td>BJ7471</td>\n",
       "      <td>10.95</td>\n",
       "      <td>4.0</td>\n",
       "    </tr>\n",
       "  </tbody>\n",
       "</table>\n",
       "</div>"
      ],
      "text/plain": [
       "                          projectid  vendorid project_resource_type  \\\n",
       "0  ffffc4f85b60efc5b52347df489d0238     430.0            Technology   \n",
       "1  ffffac55ee02a49d1abc87ba6fc61135      82.0            Technology   \n",
       "2  ffff97ed93720407d70a2787475932b0     767.0              Supplies   \n",
       "3  ffff97ed93720407d70a2787475932b0     767.0              Supplies   \n",
       "4  ffff97ed93720407d70a2787475932b0     767.0              Supplies   \n",
       "\n",
       "                                           item_name item_number  \\\n",
       "0                      iPod nano 4th Gen 8GB (Black)  249995.001   \n",
       "1  Sony bloggie MHS-FS1 - camcorder - internal fl...  BB11216668   \n",
       "2      VX748 - Best-Buy Jumbo Crayons - 12-Color Box       VX748   \n",
       "3  LA138 - Best-Buy Write & Wipe Broad-Tip Marker...       LA138   \n",
       "4             BJ7471 - 1 1/2&#34; Ruled Chart Tablet      BJ7471   \n",
       "\n",
       "   item_unit_price  item_quantity  \n",
       "0           149.00            4.0  \n",
       "1           148.00            1.0  \n",
       "2            69.95            1.0  \n",
       "3            34.95            1.0  \n",
       "4            10.95            4.0  "
      ]
     },
     "execution_count": 8,
     "metadata": {},
     "output_type": "execute_result"
    }
   ],
   "source": [
    "resources.head()"
   ]
  },
  {
   "cell_type": "code",
   "execution_count": 9,
   "metadata": {
    "deletable": false,
    "editable": false,
    "run_control": {
     "frozen": true
    }
   },
   "outputs": [],
   "source": [
    "resources['item_total_price'] = resources['item_unit_price'] * resources['item_quantity']"
   ]
  },
  {
   "cell_type": "code",
   "execution_count": 10,
   "metadata": {
    "deletable": false,
    "editable": false,
    "run_control": {
     "frozen": true
    }
   },
   "outputs": [
    {
     "data": {
      "text/html": [
       "<div>\n",
       "<style scoped>\n",
       "    .dataframe tbody tr th:only-of-type {\n",
       "        vertical-align: middle;\n",
       "    }\n",
       "\n",
       "    .dataframe tbody tr th {\n",
       "        vertical-align: top;\n",
       "    }\n",
       "\n",
       "    .dataframe thead th {\n",
       "        text-align: right;\n",
       "    }\n",
       "</style>\n",
       "<table border=\"1\" class=\"dataframe\">\n",
       "  <thead>\n",
       "    <tr style=\"text-align: right;\">\n",
       "      <th></th>\n",
       "      <th>projectid</th>\n",
       "      <th>vendorid</th>\n",
       "      <th>project_resource_type</th>\n",
       "      <th>item_name</th>\n",
       "      <th>item_number</th>\n",
       "      <th>item_unit_price</th>\n",
       "      <th>item_quantity</th>\n",
       "      <th>item_total_price</th>\n",
       "    </tr>\n",
       "  </thead>\n",
       "  <tbody>\n",
       "    <tr>\n",
       "      <th>0</th>\n",
       "      <td>ffffc4f85b60efc5b52347df489d0238</td>\n",
       "      <td>430.0</td>\n",
       "      <td>Technology</td>\n",
       "      <td>iPod nano 4th Gen 8GB (Black)</td>\n",
       "      <td>249995.001</td>\n",
       "      <td>149.00</td>\n",
       "      <td>4.0</td>\n",
       "      <td>596.00</td>\n",
       "    </tr>\n",
       "    <tr>\n",
       "      <th>1</th>\n",
       "      <td>ffffac55ee02a49d1abc87ba6fc61135</td>\n",
       "      <td>82.0</td>\n",
       "      <td>Technology</td>\n",
       "      <td>Sony bloggie MHS-FS1 - camcorder - internal fl...</td>\n",
       "      <td>BB11216668</td>\n",
       "      <td>148.00</td>\n",
       "      <td>1.0</td>\n",
       "      <td>148.00</td>\n",
       "    </tr>\n",
       "    <tr>\n",
       "      <th>2</th>\n",
       "      <td>ffff97ed93720407d70a2787475932b0</td>\n",
       "      <td>767.0</td>\n",
       "      <td>Supplies</td>\n",
       "      <td>VX748 - Best-Buy Jumbo Crayons - 12-Color Box</td>\n",
       "      <td>VX748</td>\n",
       "      <td>69.95</td>\n",
       "      <td>1.0</td>\n",
       "      <td>69.95</td>\n",
       "    </tr>\n",
       "    <tr>\n",
       "      <th>3</th>\n",
       "      <td>ffff97ed93720407d70a2787475932b0</td>\n",
       "      <td>767.0</td>\n",
       "      <td>Supplies</td>\n",
       "      <td>LA138 - Best-Buy Write &amp; Wipe Broad-Tip Marker...</td>\n",
       "      <td>LA138</td>\n",
       "      <td>34.95</td>\n",
       "      <td>1.0</td>\n",
       "      <td>34.95</td>\n",
       "    </tr>\n",
       "    <tr>\n",
       "      <th>4</th>\n",
       "      <td>ffff97ed93720407d70a2787475932b0</td>\n",
       "      <td>767.0</td>\n",
       "      <td>Supplies</td>\n",
       "      <td>BJ7471 - 1 1/2&amp;#34; Ruled Chart Tablet</td>\n",
       "      <td>BJ7471</td>\n",
       "      <td>10.95</td>\n",
       "      <td>4.0</td>\n",
       "      <td>43.80</td>\n",
       "    </tr>\n",
       "  </tbody>\n",
       "</table>\n",
       "</div>"
      ],
      "text/plain": [
       "                          projectid  vendorid project_resource_type  \\\n",
       "0  ffffc4f85b60efc5b52347df489d0238     430.0            Technology   \n",
       "1  ffffac55ee02a49d1abc87ba6fc61135      82.0            Technology   \n",
       "2  ffff97ed93720407d70a2787475932b0     767.0              Supplies   \n",
       "3  ffff97ed93720407d70a2787475932b0     767.0              Supplies   \n",
       "4  ffff97ed93720407d70a2787475932b0     767.0              Supplies   \n",
       "\n",
       "                                           item_name item_number  \\\n",
       "0                      iPod nano 4th Gen 8GB (Black)  249995.001   \n",
       "1  Sony bloggie MHS-FS1 - camcorder - internal fl...  BB11216668   \n",
       "2      VX748 - Best-Buy Jumbo Crayons - 12-Color Box       VX748   \n",
       "3  LA138 - Best-Buy Write & Wipe Broad-Tip Marker...       LA138   \n",
       "4             BJ7471 - 1 1/2&#34; Ruled Chart Tablet      BJ7471   \n",
       "\n",
       "   item_unit_price  item_quantity  item_total_price  \n",
       "0           149.00            4.0            596.00  \n",
       "1           148.00            1.0            148.00  \n",
       "2            69.95            1.0             69.95  \n",
       "3            34.95            1.0             34.95  \n",
       "4            10.95            4.0             43.80  "
      ]
     },
     "execution_count": 10,
     "metadata": {},
     "output_type": "execute_result"
    }
   ],
   "source": [
    "resources.head()"
   ]
  },
  {
   "cell_type": "code",
   "execution_count": 11,
   "metadata": {
    "deletable": false,
    "editable": false,
    "run_control": {
     "frozen": true
    }
   },
   "outputs": [],
   "source": [
    "resources['unique_vendors'] = resources.groupby('projectid')['vendorid'].transform('nunique')"
   ]
  },
  {
   "cell_type": "code",
   "execution_count": 12,
   "metadata": {
    "deletable": false,
    "editable": false,
    "run_control": {
     "frozen": true
    }
   },
   "outputs": [],
   "source": [
    "resources['unique_items'] = resources.groupby('projectid')['item_number'].transform('nunique')"
   ]
  },
  {
   "cell_type": "code",
   "execution_count": 13,
   "metadata": {
    "deletable": false,
    "editable": false,
    "run_control": {
     "frozen": true
    }
   },
   "outputs": [],
   "source": [
    "resources['qtd_items'] = resources.groupby('projectid')['item_quantity'].transform('sum')"
   ]
  },
  {
   "cell_type": "code",
   "execution_count": 14,
   "metadata": {
    "deletable": false,
    "editable": false,
    "run_control": {
     "frozen": true
    }
   },
   "outputs": [],
   "source": [
    "resources['total_price'] = resources.groupby('projectid')['item_total_price'].transform('sum')"
   ]
  },
  {
   "cell_type": "code",
   "execution_count": 15,
   "metadata": {
    "deletable": false,
    "editable": false,
    "run_control": {
     "frozen": true
    }
   },
   "outputs": [],
   "source": [
    "resources['mean_price'] = resources.groupby('projectid')['item_total_price'].transform('mean')"
   ]
  },
  {
   "cell_type": "code",
   "execution_count": 16,
   "metadata": {
    "deletable": false,
    "editable": false,
    "run_control": {
     "frozen": true
    }
   },
   "outputs": [
    {
     "data": {
      "text/plain": [
       "6"
      ]
     },
     "execution_count": 16,
     "metadata": {},
     "output_type": "execute_result"
    }
   ],
   "source": [
    "resources['project_resource_type'].nunique()"
   ]
  },
  {
   "cell_type": "code",
   "execution_count": 17,
   "metadata": {
    "deletable": false,
    "editable": false,
    "run_control": {
     "frozen": true
    }
   },
   "outputs": [],
   "source": [
    "resources = pd.get_dummies(resources, columns=['project_resource_type'])"
   ]
  },
  {
   "cell_type": "code",
   "execution_count": 18,
   "metadata": {
    "deletable": false,
    "editable": false,
    "run_control": {
     "frozen": true
    }
   },
   "outputs": [
    {
     "data": {
      "text/html": [
       "<div>\n",
       "<style scoped>\n",
       "    .dataframe tbody tr th:only-of-type {\n",
       "        vertical-align: middle;\n",
       "    }\n",
       "\n",
       "    .dataframe tbody tr th {\n",
       "        vertical-align: top;\n",
       "    }\n",
       "\n",
       "    .dataframe thead th {\n",
       "        text-align: right;\n",
       "    }\n",
       "</style>\n",
       "<table border=\"1\" class=\"dataframe\">\n",
       "  <thead>\n",
       "    <tr style=\"text-align: right;\">\n",
       "      <th></th>\n",
       "      <th>projectid</th>\n",
       "      <th>vendorid</th>\n",
       "      <th>item_name</th>\n",
       "      <th>item_number</th>\n",
       "      <th>item_unit_price</th>\n",
       "      <th>item_quantity</th>\n",
       "      <th>item_total_price</th>\n",
       "      <th>unique_vendors</th>\n",
       "      <th>unique_items</th>\n",
       "      <th>qtd_items</th>\n",
       "      <th>total_price</th>\n",
       "      <th>mean_price</th>\n",
       "      <th>project_resource_type_Books</th>\n",
       "      <th>project_resource_type_Other</th>\n",
       "      <th>project_resource_type_Supplies</th>\n",
       "      <th>project_resource_type_Technology</th>\n",
       "      <th>project_resource_type_Trips</th>\n",
       "      <th>project_resource_type_Visitors</th>\n",
       "    </tr>\n",
       "  </thead>\n",
       "  <tbody>\n",
       "    <tr>\n",
       "      <th>0</th>\n",
       "      <td>ffffc4f85b60efc5b52347df489d0238</td>\n",
       "      <td>430.0</td>\n",
       "      <td>iPod nano 4th Gen 8GB (Black)</td>\n",
       "      <td>249995.001</td>\n",
       "      <td>149.00</td>\n",
       "      <td>4.0</td>\n",
       "      <td>596.00</td>\n",
       "      <td>1.0</td>\n",
       "      <td>1</td>\n",
       "      <td>4.0</td>\n",
       "      <td>596.00</td>\n",
       "      <td>596.000000</td>\n",
       "      <td>0</td>\n",
       "      <td>0</td>\n",
       "      <td>0</td>\n",
       "      <td>1</td>\n",
       "      <td>0</td>\n",
       "      <td>0</td>\n",
       "    </tr>\n",
       "    <tr>\n",
       "      <th>1</th>\n",
       "      <td>ffffac55ee02a49d1abc87ba6fc61135</td>\n",
       "      <td>82.0</td>\n",
       "      <td>Sony bloggie MHS-FS1 - camcorder - internal fl...</td>\n",
       "      <td>BB11216668</td>\n",
       "      <td>148.00</td>\n",
       "      <td>1.0</td>\n",
       "      <td>148.00</td>\n",
       "      <td>1.0</td>\n",
       "      <td>1</td>\n",
       "      <td>1.0</td>\n",
       "      <td>148.00</td>\n",
       "      <td>148.000000</td>\n",
       "      <td>0</td>\n",
       "      <td>0</td>\n",
       "      <td>0</td>\n",
       "      <td>1</td>\n",
       "      <td>0</td>\n",
       "      <td>0</td>\n",
       "    </tr>\n",
       "    <tr>\n",
       "      <th>2</th>\n",
       "      <td>ffff97ed93720407d70a2787475932b0</td>\n",
       "      <td>767.0</td>\n",
       "      <td>VX748 - Best-Buy Jumbo Crayons - 12-Color Box</td>\n",
       "      <td>VX748</td>\n",
       "      <td>69.95</td>\n",
       "      <td>1.0</td>\n",
       "      <td>69.95</td>\n",
       "      <td>1.0</td>\n",
       "      <td>17</td>\n",
       "      <td>30.0</td>\n",
       "      <td>399.02</td>\n",
       "      <td>23.471765</td>\n",
       "      <td>0</td>\n",
       "      <td>0</td>\n",
       "      <td>1</td>\n",
       "      <td>0</td>\n",
       "      <td>0</td>\n",
       "      <td>0</td>\n",
       "    </tr>\n",
       "    <tr>\n",
       "      <th>3</th>\n",
       "      <td>ffff97ed93720407d70a2787475932b0</td>\n",
       "      <td>767.0</td>\n",
       "      <td>LA138 - Best-Buy Write &amp; Wipe Broad-Tip Marker...</td>\n",
       "      <td>LA138</td>\n",
       "      <td>34.95</td>\n",
       "      <td>1.0</td>\n",
       "      <td>34.95</td>\n",
       "      <td>1.0</td>\n",
       "      <td>17</td>\n",
       "      <td>30.0</td>\n",
       "      <td>399.02</td>\n",
       "      <td>23.471765</td>\n",
       "      <td>0</td>\n",
       "      <td>0</td>\n",
       "      <td>1</td>\n",
       "      <td>0</td>\n",
       "      <td>0</td>\n",
       "      <td>0</td>\n",
       "    </tr>\n",
       "    <tr>\n",
       "      <th>4</th>\n",
       "      <td>ffff97ed93720407d70a2787475932b0</td>\n",
       "      <td>767.0</td>\n",
       "      <td>BJ7471 - 1 1/2&amp;#34; Ruled Chart Tablet</td>\n",
       "      <td>BJ7471</td>\n",
       "      <td>10.95</td>\n",
       "      <td>4.0</td>\n",
       "      <td>43.80</td>\n",
       "      <td>1.0</td>\n",
       "      <td>17</td>\n",
       "      <td>30.0</td>\n",
       "      <td>399.02</td>\n",
       "      <td>23.471765</td>\n",
       "      <td>0</td>\n",
       "      <td>0</td>\n",
       "      <td>1</td>\n",
       "      <td>0</td>\n",
       "      <td>0</td>\n",
       "      <td>0</td>\n",
       "    </tr>\n",
       "  </tbody>\n",
       "</table>\n",
       "</div>"
      ],
      "text/plain": [
       "                          projectid  vendorid  \\\n",
       "0  ffffc4f85b60efc5b52347df489d0238     430.0   \n",
       "1  ffffac55ee02a49d1abc87ba6fc61135      82.0   \n",
       "2  ffff97ed93720407d70a2787475932b0     767.0   \n",
       "3  ffff97ed93720407d70a2787475932b0     767.0   \n",
       "4  ffff97ed93720407d70a2787475932b0     767.0   \n",
       "\n",
       "                                           item_name item_number  \\\n",
       "0                      iPod nano 4th Gen 8GB (Black)  249995.001   \n",
       "1  Sony bloggie MHS-FS1 - camcorder - internal fl...  BB11216668   \n",
       "2      VX748 - Best-Buy Jumbo Crayons - 12-Color Box       VX748   \n",
       "3  LA138 - Best-Buy Write & Wipe Broad-Tip Marker...       LA138   \n",
       "4             BJ7471 - 1 1/2&#34; Ruled Chart Tablet      BJ7471   \n",
       "\n",
       "   item_unit_price  item_quantity  item_total_price  unique_vendors  \\\n",
       "0           149.00            4.0            596.00             1.0   \n",
       "1           148.00            1.0            148.00             1.0   \n",
       "2            69.95            1.0             69.95             1.0   \n",
       "3            34.95            1.0             34.95             1.0   \n",
       "4            10.95            4.0             43.80             1.0   \n",
       "\n",
       "   unique_items  qtd_items  total_price  mean_price  \\\n",
       "0             1        4.0       596.00  596.000000   \n",
       "1             1        1.0       148.00  148.000000   \n",
       "2            17       30.0       399.02   23.471765   \n",
       "3            17       30.0       399.02   23.471765   \n",
       "4            17       30.0       399.02   23.471765   \n",
       "\n",
       "   project_resource_type_Books  project_resource_type_Other  \\\n",
       "0                            0                            0   \n",
       "1                            0                            0   \n",
       "2                            0                            0   \n",
       "3                            0                            0   \n",
       "4                            0                            0   \n",
       "\n",
       "   project_resource_type_Supplies  project_resource_type_Technology  \\\n",
       "0                               0                                 1   \n",
       "1                               0                                 1   \n",
       "2                               1                                 0   \n",
       "3                               1                                 0   \n",
       "4                               1                                 0   \n",
       "\n",
       "   project_resource_type_Trips  project_resource_type_Visitors  \n",
       "0                            0                               0  \n",
       "1                            0                               0  \n",
       "2                            0                               0  \n",
       "3                            0                               0  \n",
       "4                            0                               0  "
      ]
     },
     "execution_count": 18,
     "metadata": {},
     "output_type": "execute_result"
    }
   ],
   "source": [
    "resources.head()"
   ]
  },
  {
   "cell_type": "code",
   "execution_count": 19,
   "metadata": {
    "deletable": false,
    "editable": false,
    "run_control": {
     "frozen": true
    }
   },
   "outputs": [],
   "source": [
    "dummies = ['project_resource_type_Books', 'project_resource_type_Other', 'project_resource_type_Supplies', \n",
    "           'project_resource_type_Technology', 'project_resource_type_Trips', 'project_resource_type_Visitors']\n",
    "\n",
    "for d in dummies:\n",
    "    resources[d] = resources.groupby('projectid')[d].transform('sum')"
   ]
  },
  {
   "cell_type": "code",
   "execution_count": 20,
   "metadata": {
    "deletable": false,
    "editable": false,
    "run_control": {
     "frozen": true
    }
   },
   "outputs": [],
   "source": [
    "resources.drop(['vendorid', 'item_name', 'item_number', 'item_unit_price', 'item_quantity', 'item_total_price'], axis=1, inplace=True)"
   ]
  },
  {
   "cell_type": "code",
   "execution_count": 21,
   "metadata": {
    "deletable": false,
    "editable": false,
    "run_control": {
     "frozen": true
    }
   },
   "outputs": [],
   "source": [
    "resources.drop_duplicates(inplace=True)"
   ]
  },
  {
   "cell_type": "code",
   "execution_count": 22,
   "metadata": {
    "deletable": false,
    "editable": false,
    "run_control": {
     "frozen": true
    }
   },
   "outputs": [
    {
     "data": {
      "text/html": [
       "<div>\n",
       "<style scoped>\n",
       "    .dataframe tbody tr th:only-of-type {\n",
       "        vertical-align: middle;\n",
       "    }\n",
       "\n",
       "    .dataframe tbody tr th {\n",
       "        vertical-align: top;\n",
       "    }\n",
       "\n",
       "    .dataframe thead th {\n",
       "        text-align: right;\n",
       "    }\n",
       "</style>\n",
       "<table border=\"1\" class=\"dataframe\">\n",
       "  <thead>\n",
       "    <tr style=\"text-align: right;\">\n",
       "      <th></th>\n",
       "      <th>projectid</th>\n",
       "      <th>unique_vendors</th>\n",
       "      <th>unique_items</th>\n",
       "      <th>qtd_items</th>\n",
       "      <th>total_price</th>\n",
       "      <th>mean_price</th>\n",
       "      <th>project_resource_type_Books</th>\n",
       "      <th>project_resource_type_Other</th>\n",
       "      <th>project_resource_type_Supplies</th>\n",
       "      <th>project_resource_type_Technology</th>\n",
       "      <th>project_resource_type_Trips</th>\n",
       "      <th>project_resource_type_Visitors</th>\n",
       "    </tr>\n",
       "  </thead>\n",
       "  <tbody>\n",
       "    <tr>\n",
       "      <th>0</th>\n",
       "      <td>ffffc4f85b60efc5b52347df489d0238</td>\n",
       "      <td>1.0</td>\n",
       "      <td>1</td>\n",
       "      <td>4.0</td>\n",
       "      <td>596.00</td>\n",
       "      <td>596.000000</td>\n",
       "      <td>0.0</td>\n",
       "      <td>0</td>\n",
       "      <td>0</td>\n",
       "      <td>1</td>\n",
       "      <td>0</td>\n",
       "      <td>0</td>\n",
       "    </tr>\n",
       "    <tr>\n",
       "      <th>1</th>\n",
       "      <td>ffffac55ee02a49d1abc87ba6fc61135</td>\n",
       "      <td>1.0</td>\n",
       "      <td>1</td>\n",
       "      <td>1.0</td>\n",
       "      <td>148.00</td>\n",
       "      <td>148.000000</td>\n",
       "      <td>0.0</td>\n",
       "      <td>0</td>\n",
       "      <td>0</td>\n",
       "      <td>1</td>\n",
       "      <td>0</td>\n",
       "      <td>0</td>\n",
       "    </tr>\n",
       "    <tr>\n",
       "      <th>2</th>\n",
       "      <td>ffff97ed93720407d70a2787475932b0</td>\n",
       "      <td>1.0</td>\n",
       "      <td>17</td>\n",
       "      <td>30.0</td>\n",
       "      <td>399.02</td>\n",
       "      <td>23.471765</td>\n",
       "      <td>0.0</td>\n",
       "      <td>0</td>\n",
       "      <td>17</td>\n",
       "      <td>0</td>\n",
       "      <td>0</td>\n",
       "      <td>0</td>\n",
       "    </tr>\n",
       "    <tr>\n",
       "      <th>19</th>\n",
       "      <td>ffff7266778f71242675416e600b94e1</td>\n",
       "      <td>1.0</td>\n",
       "      <td>1</td>\n",
       "      <td>25.0</td>\n",
       "      <td>131.25</td>\n",
       "      <td>131.250000</td>\n",
       "      <td>0.0</td>\n",
       "      <td>1</td>\n",
       "      <td>0</td>\n",
       "      <td>0</td>\n",
       "      <td>0</td>\n",
       "      <td>0</td>\n",
       "    </tr>\n",
       "    <tr>\n",
       "      <th>20</th>\n",
       "      <td>ffff418bb42fad24347527ad96100f81</td>\n",
       "      <td>1.0</td>\n",
       "      <td>1</td>\n",
       "      <td>1.0</td>\n",
       "      <td>694.98</td>\n",
       "      <td>694.980000</td>\n",
       "      <td>0.0</td>\n",
       "      <td>0</td>\n",
       "      <td>1</td>\n",
       "      <td>0</td>\n",
       "      <td>0</td>\n",
       "      <td>0</td>\n",
       "    </tr>\n",
       "  </tbody>\n",
       "</table>\n",
       "</div>"
      ],
      "text/plain": [
       "                           projectid  unique_vendors  unique_items  qtd_items  \\\n",
       "0   ffffc4f85b60efc5b52347df489d0238             1.0             1        4.0   \n",
       "1   ffffac55ee02a49d1abc87ba6fc61135             1.0             1        1.0   \n",
       "2   ffff97ed93720407d70a2787475932b0             1.0            17       30.0   \n",
       "19  ffff7266778f71242675416e600b94e1             1.0             1       25.0   \n",
       "20  ffff418bb42fad24347527ad96100f81             1.0             1        1.0   \n",
       "\n",
       "    total_price  mean_price  project_resource_type_Books  \\\n",
       "0        596.00  596.000000                          0.0   \n",
       "1        148.00  148.000000                          0.0   \n",
       "2        399.02   23.471765                          0.0   \n",
       "19       131.25  131.250000                          0.0   \n",
       "20       694.98  694.980000                          0.0   \n",
       "\n",
       "    project_resource_type_Other  project_resource_type_Supplies  \\\n",
       "0                             0                               0   \n",
       "1                             0                               0   \n",
       "2                             0                              17   \n",
       "19                            1                               0   \n",
       "20                            0                               1   \n",
       "\n",
       "    project_resource_type_Technology  project_resource_type_Trips  \\\n",
       "0                                  1                            0   \n",
       "1                                  1                            0   \n",
       "2                                  0                            0   \n",
       "19                                 0                            0   \n",
       "20                                 0                            0   \n",
       "\n",
       "    project_resource_type_Visitors  \n",
       "0                                0  \n",
       "1                                0  \n",
       "2                                0  \n",
       "19                               0  \n",
       "20                               0  "
      ]
     },
     "execution_count": 22,
     "metadata": {},
     "output_type": "execute_result"
    }
   ],
   "source": [
    "resources.head()"
   ]
  },
  {
   "cell_type": "code",
   "execution_count": 23,
   "metadata": {
    "deletable": false,
    "editable": false,
    "run_control": {
     "frozen": true
    }
   },
   "outputs": [
    {
     "data": {
      "text/plain": [
       "663773"
      ]
     },
     "execution_count": 23,
     "metadata": {},
     "output_type": "execute_result"
    }
   ],
   "source": [
    "len(resources)"
   ]
  },
  {
   "cell_type": "code",
   "execution_count": 25,
   "metadata": {
    "deletable": false,
    "editable": false,
    "run_control": {
     "frozen": true
    }
   },
   "outputs": [
    {
     "data": {
      "text/plain": [
       "2226"
      ]
     },
     "execution_count": 25,
     "metadata": {},
     "output_type": "execute_result"
    }
   ],
   "source": [
    "gc.collect()"
   ]
  },
  {
   "cell_type": "code",
   "execution_count": 26,
   "metadata": {
    "deletable": false,
    "editable": false,
    "run_control": {
     "frozen": true
    }
   },
   "outputs": [],
   "source": [
    "resources.to_csv('../Data/Kaggle/KDDCup14/resources_feat.csv', index=False)"
   ]
  },
  {
   "cell_type": "code",
   "execution_count": 27,
   "metadata": {
    "deletable": false,
    "editable": false,
    "run_control": {
     "frozen": true
    }
   },
   "outputs": [],
   "source": [
    "del resources"
   ]
  },
  {
   "cell_type": "markdown",
   "metadata": {},
   "source": [
    "#### Essays"
   ]
  },
  {
   "cell_type": "code",
   "execution_count": 29,
   "metadata": {
    "deletable": false,
    "editable": false,
    "run_control": {
     "frozen": true
    }
   },
   "outputs": [],
   "source": [
    "essays = pd.read_csv('../Data/Kaggle/KDDCup14/essays.csv')"
   ]
  },
  {
   "cell_type": "code",
   "execution_count": 31,
   "metadata": {
    "deletable": false,
    "editable": false,
    "run_control": {
     "frozen": true
    }
   },
   "outputs": [
    {
     "data": {
      "text/html": [
       "<div>\n",
       "<style scoped>\n",
       "    .dataframe tbody tr th:only-of-type {\n",
       "        vertical-align: middle;\n",
       "    }\n",
       "\n",
       "    .dataframe tbody tr th {\n",
       "        vertical-align: top;\n",
       "    }\n",
       "\n",
       "    .dataframe thead th {\n",
       "        text-align: right;\n",
       "    }\n",
       "</style>\n",
       "<table border=\"1\" class=\"dataframe\">\n",
       "  <thead>\n",
       "    <tr style=\"text-align: right;\">\n",
       "      <th></th>\n",
       "      <th>projectid</th>\n",
       "      <th>teacher_acctid</th>\n",
       "      <th>title</th>\n",
       "      <th>short_description</th>\n",
       "      <th>need_statement</th>\n",
       "      <th>essay</th>\n",
       "    </tr>\n",
       "  </thead>\n",
       "  <tbody>\n",
       "    <tr>\n",
       "      <th>0</th>\n",
       "      <td>ffffc4f85b60efc5b52347df489d0238</td>\n",
       "      <td>c24011b20fc161ed02248e85beb59a90</td>\n",
       "      <td>iMath</td>\n",
       "      <td>It is imperative that teachers bring technolog...</td>\n",
       "      <td>My students need four iPods.</td>\n",
       "      <td>I am a fourth year fifth grade math teacher. T...</td>\n",
       "    </tr>\n",
       "    <tr>\n",
       "      <th>1</th>\n",
       "      <td>ffffac55ee02a49d1abc87ba6fc61135</td>\n",
       "      <td>947066d0af47e0566f334566553dd6a6</td>\n",
       "      <td>Recording Rockin' Readers</td>\n",
       "      <td>Can you imagine having to translate everything...</td>\n",
       "      <td>My students need a camcorder.</td>\n",
       "      <td>Can you imagine having to translate everything...</td>\n",
       "    </tr>\n",
       "    <tr>\n",
       "      <th>2</th>\n",
       "      <td>ffff97ed93720407d70a2787475932b0</td>\n",
       "      <td>462270f5d5c212162fcab11afa2623cb</td>\n",
       "      <td>Kindergarten In Need of Important Materials!</td>\n",
       "      <td>It takes a special person to donate to a group...</td>\n",
       "      <td>My students need 17 assorted classroom materia...</td>\n",
       "      <td>Hi. I teach a wonderful group of 4-5 year old ...</td>\n",
       "    </tr>\n",
       "    <tr>\n",
       "      <th>3</th>\n",
       "      <td>ffff7266778f71242675416e600b94e1</td>\n",
       "      <td>b9a8f14199e0d8109200ece179281f4f</td>\n",
       "      <td>Let's Find Out!</td>\n",
       "      <td>My Kindergarten students come from a variety o...</td>\n",
       "      <td>My students need 25 copies of Scholastic's \"Le...</td>\n",
       "      <td>My Kindergarten students come from a variety o...</td>\n",
       "    </tr>\n",
       "    <tr>\n",
       "      <th>4</th>\n",
       "      <td>ffff418bb42fad24347527ad96100f81</td>\n",
       "      <td>e885fb002a1d0d39aaed9d21a7683549</td>\n",
       "      <td>Whistle While We Work!</td>\n",
       "      <td>By using the cross curricular games requested,...</td>\n",
       "      <td>My students need grade level appropriate games...</td>\n",
       "      <td>All work and no play makes school a dull place...</td>\n",
       "    </tr>\n",
       "  </tbody>\n",
       "</table>\n",
       "</div>"
      ],
      "text/plain": [
       "                          projectid                    teacher_acctid  \\\n",
       "0  ffffc4f85b60efc5b52347df489d0238  c24011b20fc161ed02248e85beb59a90   \n",
       "1  ffffac55ee02a49d1abc87ba6fc61135  947066d0af47e0566f334566553dd6a6   \n",
       "2  ffff97ed93720407d70a2787475932b0  462270f5d5c212162fcab11afa2623cb   \n",
       "3  ffff7266778f71242675416e600b94e1  b9a8f14199e0d8109200ece179281f4f   \n",
       "4  ffff418bb42fad24347527ad96100f81  e885fb002a1d0d39aaed9d21a7683549   \n",
       "\n",
       "                                          title  \\\n",
       "0                                         iMath   \n",
       "1                     Recording Rockin' Readers   \n",
       "2  Kindergarten In Need of Important Materials!   \n",
       "3                               Let's Find Out!   \n",
       "4                        Whistle While We Work!   \n",
       "\n",
       "                                   short_description  \\\n",
       "0  It is imperative that teachers bring technolog...   \n",
       "1  Can you imagine having to translate everything...   \n",
       "2  It takes a special person to donate to a group...   \n",
       "3  My Kindergarten students come from a variety o...   \n",
       "4  By using the cross curricular games requested,...   \n",
       "\n",
       "                                      need_statement  \\\n",
       "0                       My students need four iPods.   \n",
       "1                     My students need a camcorder.    \n",
       "2  My students need 17 assorted classroom materia...   \n",
       "3  My students need 25 copies of Scholastic's \"Le...   \n",
       "4  My students need grade level appropriate games...   \n",
       "\n",
       "                                               essay  \n",
       "0  I am a fourth year fifth grade math teacher. T...  \n",
       "1  Can you imagine having to translate everything...  \n",
       "2  Hi. I teach a wonderful group of 4-5 year old ...  \n",
       "3  My Kindergarten students come from a variety o...  \n",
       "4  All work and no play makes school a dull place...  "
      ]
     },
     "execution_count": 31,
     "metadata": {},
     "output_type": "execute_result"
    }
   ],
   "source": [
    "essays.head()"
   ]
  },
  {
   "cell_type": "code",
   "execution_count": 32,
   "metadata": {
    "deletable": false,
    "editable": false,
    "run_control": {
     "frozen": true
    }
   },
   "outputs": [],
   "source": [
    "essays['title_len'] = essays['title'].apply(lambda x: len(str(x)))\n",
    "essays['essay_len'] = essays['essay'].apply(lambda x: len(str(x)))"
   ]
  },
  {
   "cell_type": "code",
   "execution_count": 33,
   "metadata": {
    "deletable": false,
    "editable": false,
    "run_control": {
     "frozen": true
    }
   },
   "outputs": [],
   "source": [
    "essays.drop(['title', 'need_statement', 'essay'], axis=1, inplace=True)"
   ]
  },
  {
   "cell_type": "code",
   "execution_count": 34,
   "metadata": {
    "deletable": false,
    "editable": false,
    "run_control": {
     "frozen": true
    }
   },
   "outputs": [
    {
     "data": {
      "text/html": [
       "<div>\n",
       "<style scoped>\n",
       "    .dataframe tbody tr th:only-of-type {\n",
       "        vertical-align: middle;\n",
       "    }\n",
       "\n",
       "    .dataframe tbody tr th {\n",
       "        vertical-align: top;\n",
       "    }\n",
       "\n",
       "    .dataframe thead th {\n",
       "        text-align: right;\n",
       "    }\n",
       "</style>\n",
       "<table border=\"1\" class=\"dataframe\">\n",
       "  <thead>\n",
       "    <tr style=\"text-align: right;\">\n",
       "      <th></th>\n",
       "      <th>projectid</th>\n",
       "      <th>teacher_acctid</th>\n",
       "      <th>short_description</th>\n",
       "      <th>title_len</th>\n",
       "      <th>essay_len</th>\n",
       "    </tr>\n",
       "  </thead>\n",
       "  <tbody>\n",
       "    <tr>\n",
       "      <th>0</th>\n",
       "      <td>ffffc4f85b60efc5b52347df489d0238</td>\n",
       "      <td>c24011b20fc161ed02248e85beb59a90</td>\n",
       "      <td>It is imperative that teachers bring technolog...</td>\n",
       "      <td>5</td>\n",
       "      <td>2615</td>\n",
       "    </tr>\n",
       "    <tr>\n",
       "      <th>1</th>\n",
       "      <td>ffffac55ee02a49d1abc87ba6fc61135</td>\n",
       "      <td>947066d0af47e0566f334566553dd6a6</td>\n",
       "      <td>Can you imagine having to translate everything...</td>\n",
       "      <td>25</td>\n",
       "      <td>1155</td>\n",
       "    </tr>\n",
       "    <tr>\n",
       "      <th>2</th>\n",
       "      <td>ffff97ed93720407d70a2787475932b0</td>\n",
       "      <td>462270f5d5c212162fcab11afa2623cb</td>\n",
       "      <td>It takes a special person to donate to a group...</td>\n",
       "      <td>44</td>\n",
       "      <td>1327</td>\n",
       "    </tr>\n",
       "    <tr>\n",
       "      <th>3</th>\n",
       "      <td>ffff7266778f71242675416e600b94e1</td>\n",
       "      <td>b9a8f14199e0d8109200ece179281f4f</td>\n",
       "      <td>My Kindergarten students come from a variety o...</td>\n",
       "      <td>15</td>\n",
       "      <td>1074</td>\n",
       "    </tr>\n",
       "    <tr>\n",
       "      <th>4</th>\n",
       "      <td>ffff418bb42fad24347527ad96100f81</td>\n",
       "      <td>e885fb002a1d0d39aaed9d21a7683549</td>\n",
       "      <td>By using the cross curricular games requested,...</td>\n",
       "      <td>22</td>\n",
       "      <td>1081</td>\n",
       "    </tr>\n",
       "  </tbody>\n",
       "</table>\n",
       "</div>"
      ],
      "text/plain": [
       "                          projectid                    teacher_acctid  \\\n",
       "0  ffffc4f85b60efc5b52347df489d0238  c24011b20fc161ed02248e85beb59a90   \n",
       "1  ffffac55ee02a49d1abc87ba6fc61135  947066d0af47e0566f334566553dd6a6   \n",
       "2  ffff97ed93720407d70a2787475932b0  462270f5d5c212162fcab11afa2623cb   \n",
       "3  ffff7266778f71242675416e600b94e1  b9a8f14199e0d8109200ece179281f4f   \n",
       "4  ffff418bb42fad24347527ad96100f81  e885fb002a1d0d39aaed9d21a7683549   \n",
       "\n",
       "                                   short_description  title_len  essay_len  \n",
       "0  It is imperative that teachers bring technolog...          5       2615  \n",
       "1  Can you imagine having to translate everything...         25       1155  \n",
       "2  It takes a special person to donate to a group...         44       1327  \n",
       "3  My Kindergarten students come from a variety o...         15       1074  \n",
       "4  By using the cross curricular games requested,...         22       1081  "
      ]
     },
     "execution_count": 34,
     "metadata": {},
     "output_type": "execute_result"
    }
   ],
   "source": [
    "essays.head()"
   ]
  },
  {
   "cell_type": "code",
   "execution_count": 35,
   "metadata": {
    "deletable": false,
    "editable": false,
    "run_control": {
     "frozen": true
    }
   },
   "outputs": [
    {
     "data": {
      "text/plain": [
       "932"
      ]
     },
     "execution_count": 35,
     "metadata": {},
     "output_type": "execute_result"
    }
   ],
   "source": [
    "gc.collect()"
   ]
  },
  {
   "cell_type": "code",
   "execution_count": 36,
   "metadata": {
    "deletable": false,
    "editable": false,
    "run_control": {
     "frozen": true
    }
   },
   "outputs": [],
   "source": [
    "essays.to_csv('../Data/Kaggle/KDDCup14/essays_feat.csv', index=False)"
   ]
  },
  {
   "cell_type": "markdown",
   "metadata": {},
   "source": [
    "#### Projects"
   ]
  },
  {
   "cell_type": "code",
   "execution_count": 26,
   "metadata": {
    "deletable": false,
    "editable": false,
    "run_control": {
     "frozen": true
    }
   },
   "outputs": [],
   "source": [
    "projects = pd.read_csv('../Data/Kaggle/KDDCup14/projects.csv')"
   ]
  },
  {
   "cell_type": "code",
   "execution_count": 27,
   "metadata": {
    "deletable": false,
    "editable": false,
    "run_control": {
     "frozen": true
    }
   },
   "outputs": [
    {
     "data": {
      "text/html": [
       "<div>\n",
       "<style scoped>\n",
       "    .dataframe tbody tr th:only-of-type {\n",
       "        vertical-align: middle;\n",
       "    }\n",
       "\n",
       "    .dataframe tbody tr th {\n",
       "        vertical-align: top;\n",
       "    }\n",
       "\n",
       "    .dataframe thead th {\n",
       "        text-align: right;\n",
       "    }\n",
       "</style>\n",
       "<table border=\"1\" class=\"dataframe\">\n",
       "  <thead>\n",
       "    <tr style=\"text-align: right;\">\n",
       "      <th></th>\n",
       "      <th>projectid</th>\n",
       "      <th>teacher_acctid</th>\n",
       "      <th>schoolid</th>\n",
       "      <th>school_ncesid</th>\n",
       "      <th>school_latitude</th>\n",
       "      <th>school_longitude</th>\n",
       "      <th>school_city</th>\n",
       "      <th>school_state</th>\n",
       "      <th>school_zip</th>\n",
       "      <th>school_metro</th>\n",
       "      <th>school_district</th>\n",
       "      <th>school_county</th>\n",
       "      <th>school_charter</th>\n",
       "      <th>school_magnet</th>\n",
       "      <th>school_year_round</th>\n",
       "      <th>school_nlns</th>\n",
       "      <th>school_kipp</th>\n",
       "      <th>school_charter_ready_promise</th>\n",
       "      <th>teacher_prefix</th>\n",
       "      <th>teacher_teach_for_america</th>\n",
       "      <th>teacher_ny_teaching_fellow</th>\n",
       "      <th>primary_focus_subject</th>\n",
       "      <th>primary_focus_area</th>\n",
       "      <th>secondary_focus_subject</th>\n",
       "      <th>secondary_focus_area</th>\n",
       "      <th>resource_type</th>\n",
       "      <th>poverty_level</th>\n",
       "      <th>grade_level</th>\n",
       "      <th>fulfillment_labor_materials</th>\n",
       "      <th>total_price_excluding_optional_support</th>\n",
       "      <th>total_price_including_optional_support</th>\n",
       "      <th>students_reached</th>\n",
       "      <th>eligible_double_your_impact_match</th>\n",
       "      <th>eligible_almost_home_match</th>\n",
       "      <th>date_posted</th>\n",
       "    </tr>\n",
       "  </thead>\n",
       "  <tbody>\n",
       "    <tr>\n",
       "      <th>0</th>\n",
       "      <td>316ed8fb3b81402ff6ac8f721bb31192</td>\n",
       "      <td>42d43fa6f37314365d08692e08680973</td>\n",
       "      <td>c0e6ce89b244764085691a1b8e28cb81</td>\n",
       "      <td>6.362701e+10</td>\n",
       "      <td>36.576340</td>\n",
       "      <td>-119.608713</td>\n",
       "      <td>Selma</td>\n",
       "      <td>CA</td>\n",
       "      <td>93662.0</td>\n",
       "      <td>NaN</td>\n",
       "      <td>Selma Unified Sch District</td>\n",
       "      <td>Fresno</td>\n",
       "      <td>f</td>\n",
       "      <td>f</td>\n",
       "      <td>f</td>\n",
       "      <td>f</td>\n",
       "      <td>f</td>\n",
       "      <td>f</td>\n",
       "      <td>Mrs.</td>\n",
       "      <td>f</td>\n",
       "      <td>f</td>\n",
       "      <td>Literature &amp; Writing</td>\n",
       "      <td>Literacy &amp; Language</td>\n",
       "      <td>College &amp; Career Prep</td>\n",
       "      <td>Applied Learning</td>\n",
       "      <td>Books</td>\n",
       "      <td>highest poverty</td>\n",
       "      <td>Grades 6-8</td>\n",
       "      <td>30.0</td>\n",
       "      <td>555.81</td>\n",
       "      <td>653.89</td>\n",
       "      <td>32.0</td>\n",
       "      <td>f</td>\n",
       "      <td>f</td>\n",
       "      <td>2014-05-12</td>\n",
       "    </tr>\n",
       "    <tr>\n",
       "      <th>1</th>\n",
       "      <td>90de744e368a7e4883223ca49318ae30</td>\n",
       "      <td>864eb466462bf704bf7a16a585ef296a</td>\n",
       "      <td>d711e47810900c96f26a5d0be30c446d</td>\n",
       "      <td>4.837020e+11</td>\n",
       "      <td>32.911179</td>\n",
       "      <td>-96.723640</td>\n",
       "      <td>Dallas</td>\n",
       "      <td>TX</td>\n",
       "      <td>75243.0</td>\n",
       "      <td>urban</td>\n",
       "      <td>Richardson Ind School District</td>\n",
       "      <td>Dallas</td>\n",
       "      <td>f</td>\n",
       "      <td>f</td>\n",
       "      <td>f</td>\n",
       "      <td>f</td>\n",
       "      <td>f</td>\n",
       "      <td>f</td>\n",
       "      <td>Mrs.</td>\n",
       "      <td>f</td>\n",
       "      <td>f</td>\n",
       "      <td>Literacy</td>\n",
       "      <td>Literacy &amp; Language</td>\n",
       "      <td>ESL</td>\n",
       "      <td>Literacy &amp; Language</td>\n",
       "      <td>Books</td>\n",
       "      <td>highest poverty</td>\n",
       "      <td>Grades PreK-2</td>\n",
       "      <td>30.0</td>\n",
       "      <td>296.47</td>\n",
       "      <td>348.79</td>\n",
       "      <td>22.0</td>\n",
       "      <td>f</td>\n",
       "      <td>f</td>\n",
       "      <td>2014-05-12</td>\n",
       "    </tr>\n",
       "    <tr>\n",
       "      <th>2</th>\n",
       "      <td>32943bb1063267de6ed19fc0ceb4b9a7</td>\n",
       "      <td>37f85135259ece793213aca9d8765542</td>\n",
       "      <td>665c3613013ba0a66e3a2a26b89f1b68</td>\n",
       "      <td>4.103270e+11</td>\n",
       "      <td>45.166039</td>\n",
       "      <td>-122.414576</td>\n",
       "      <td>Colton</td>\n",
       "      <td>OR</td>\n",
       "      <td>97017.0</td>\n",
       "      <td>rural</td>\n",
       "      <td>Colton School District 53</td>\n",
       "      <td>Clackamas</td>\n",
       "      <td>f</td>\n",
       "      <td>f</td>\n",
       "      <td>f</td>\n",
       "      <td>f</td>\n",
       "      <td>f</td>\n",
       "      <td>f</td>\n",
       "      <td>Mr.</td>\n",
       "      <td>f</td>\n",
       "      <td>f</td>\n",
       "      <td>Literacy</td>\n",
       "      <td>Literacy &amp; Language</td>\n",
       "      <td>Mathematics</td>\n",
       "      <td>Math &amp; Science</td>\n",
       "      <td>Technology</td>\n",
       "      <td>high poverty</td>\n",
       "      <td>Grades PreK-2</td>\n",
       "      <td>30.0</td>\n",
       "      <td>430.89</td>\n",
       "      <td>506.93</td>\n",
       "      <td>17.0</td>\n",
       "      <td>f</td>\n",
       "      <td>f</td>\n",
       "      <td>2014-05-11</td>\n",
       "    </tr>\n",
       "    <tr>\n",
       "      <th>3</th>\n",
       "      <td>bb18f409abda2f264d5acda8cab577a9</td>\n",
       "      <td>2133fc46f951f1e7d60645b0f9e48a6c</td>\n",
       "      <td>4f12c3fa0c1cce823c7ba1df57e90ccb</td>\n",
       "      <td>3.600153e+11</td>\n",
       "      <td>40.641727</td>\n",
       "      <td>-73.965655</td>\n",
       "      <td>Brooklyn</td>\n",
       "      <td>NY</td>\n",
       "      <td>11226.0</td>\n",
       "      <td>urban</td>\n",
       "      <td>New York City Dept Of Ed</td>\n",
       "      <td>Kings (Brooklyn)</td>\n",
       "      <td>f</td>\n",
       "      <td>t</td>\n",
       "      <td>f</td>\n",
       "      <td>f</td>\n",
       "      <td>f</td>\n",
       "      <td>f</td>\n",
       "      <td>Mr.</td>\n",
       "      <td>t</td>\n",
       "      <td>f</td>\n",
       "      <td>Social Sciences</td>\n",
       "      <td>History &amp; Civics</td>\n",
       "      <td>Special Needs</td>\n",
       "      <td>Special Needs</td>\n",
       "      <td>Books</td>\n",
       "      <td>highest poverty</td>\n",
       "      <td>Grades 3-5</td>\n",
       "      <td>30.0</td>\n",
       "      <td>576.07</td>\n",
       "      <td>677.73</td>\n",
       "      <td>12.0</td>\n",
       "      <td>f</td>\n",
       "      <td>f</td>\n",
       "      <td>2014-05-11</td>\n",
       "    </tr>\n",
       "    <tr>\n",
       "      <th>4</th>\n",
       "      <td>24761b686e18e5eace634607acbcc19f</td>\n",
       "      <td>867ff478a63f5457eaf41049536c47cd</td>\n",
       "      <td>10179fd362d7b8cf0e89baa1ca3025bb</td>\n",
       "      <td>6.227100e+10</td>\n",
       "      <td>34.043939</td>\n",
       "      <td>-118.288371</td>\n",
       "      <td>Los Angeles</td>\n",
       "      <td>CA</td>\n",
       "      <td>90006.0</td>\n",
       "      <td>urban</td>\n",
       "      <td>Los Angeles Unif Sch Dist</td>\n",
       "      <td>Los Angeles</td>\n",
       "      <td>f</td>\n",
       "      <td>f</td>\n",
       "      <td>f</td>\n",
       "      <td>f</td>\n",
       "      <td>f</td>\n",
       "      <td>f</td>\n",
       "      <td>Ms.</td>\n",
       "      <td>f</td>\n",
       "      <td>f</td>\n",
       "      <td>Mathematics</td>\n",
       "      <td>Math &amp; Science</td>\n",
       "      <td>Literacy</td>\n",
       "      <td>Literacy &amp; Language</td>\n",
       "      <td>Other</td>\n",
       "      <td>highest poverty</td>\n",
       "      <td>Grades PreK-2</td>\n",
       "      <td>30.0</td>\n",
       "      <td>408.40</td>\n",
       "      <td>480.47</td>\n",
       "      <td>24.0</td>\n",
       "      <td>f</td>\n",
       "      <td>f</td>\n",
       "      <td>2014-05-11</td>\n",
       "    </tr>\n",
       "  </tbody>\n",
       "</table>\n",
       "</div>"
      ],
      "text/plain": [
       "                          projectid                    teacher_acctid  \\\n",
       "0  316ed8fb3b81402ff6ac8f721bb31192  42d43fa6f37314365d08692e08680973   \n",
       "1  90de744e368a7e4883223ca49318ae30  864eb466462bf704bf7a16a585ef296a   \n",
       "2  32943bb1063267de6ed19fc0ceb4b9a7  37f85135259ece793213aca9d8765542   \n",
       "3  bb18f409abda2f264d5acda8cab577a9  2133fc46f951f1e7d60645b0f9e48a6c   \n",
       "4  24761b686e18e5eace634607acbcc19f  867ff478a63f5457eaf41049536c47cd   \n",
       "\n",
       "                           schoolid  school_ncesid  school_latitude  \\\n",
       "0  c0e6ce89b244764085691a1b8e28cb81   6.362701e+10        36.576340   \n",
       "1  d711e47810900c96f26a5d0be30c446d   4.837020e+11        32.911179   \n",
       "2  665c3613013ba0a66e3a2a26b89f1b68   4.103270e+11        45.166039   \n",
       "3  4f12c3fa0c1cce823c7ba1df57e90ccb   3.600153e+11        40.641727   \n",
       "4  10179fd362d7b8cf0e89baa1ca3025bb   6.227100e+10        34.043939   \n",
       "\n",
       "   school_longitude  school_city school_state  school_zip school_metro  \\\n",
       "0       -119.608713        Selma           CA     93662.0          NaN   \n",
       "1        -96.723640       Dallas           TX     75243.0        urban   \n",
       "2       -122.414576       Colton           OR     97017.0        rural   \n",
       "3        -73.965655     Brooklyn           NY     11226.0        urban   \n",
       "4       -118.288371  Los Angeles           CA     90006.0        urban   \n",
       "\n",
       "                  school_district     school_county school_charter  \\\n",
       "0      Selma Unified Sch District            Fresno              f   \n",
       "1  Richardson Ind School District            Dallas              f   \n",
       "2       Colton School District 53         Clackamas              f   \n",
       "3        New York City Dept Of Ed  Kings (Brooklyn)              f   \n",
       "4       Los Angeles Unif Sch Dist       Los Angeles              f   \n",
       "\n",
       "  school_magnet school_year_round school_nlns school_kipp  \\\n",
       "0             f                 f           f           f   \n",
       "1             f                 f           f           f   \n",
       "2             f                 f           f           f   \n",
       "3             t                 f           f           f   \n",
       "4             f                 f           f           f   \n",
       "\n",
       "  school_charter_ready_promise teacher_prefix teacher_teach_for_america  \\\n",
       "0                            f           Mrs.                         f   \n",
       "1                            f           Mrs.                         f   \n",
       "2                            f            Mr.                         f   \n",
       "3                            f            Mr.                         t   \n",
       "4                            f            Ms.                         f   \n",
       "\n",
       "  teacher_ny_teaching_fellow primary_focus_subject   primary_focus_area  \\\n",
       "0                          f  Literature & Writing  Literacy & Language   \n",
       "1                          f              Literacy  Literacy & Language   \n",
       "2                          f              Literacy  Literacy & Language   \n",
       "3                          f       Social Sciences     History & Civics   \n",
       "4                          f           Mathematics       Math & Science   \n",
       "\n",
       "  secondary_focus_subject secondary_focus_area resource_type    poverty_level  \\\n",
       "0   College & Career Prep     Applied Learning         Books  highest poverty   \n",
       "1                     ESL  Literacy & Language         Books  highest poverty   \n",
       "2             Mathematics       Math & Science    Technology     high poverty   \n",
       "3           Special Needs        Special Needs         Books  highest poverty   \n",
       "4                Literacy  Literacy & Language         Other  highest poverty   \n",
       "\n",
       "     grade_level  fulfillment_labor_materials  \\\n",
       "0     Grades 6-8                         30.0   \n",
       "1  Grades PreK-2                         30.0   \n",
       "2  Grades PreK-2                         30.0   \n",
       "3     Grades 3-5                         30.0   \n",
       "4  Grades PreK-2                         30.0   \n",
       "\n",
       "   total_price_excluding_optional_support  \\\n",
       "0                                  555.81   \n",
       "1                                  296.47   \n",
       "2                                  430.89   \n",
       "3                                  576.07   \n",
       "4                                  408.40   \n",
       "\n",
       "   total_price_including_optional_support  students_reached  \\\n",
       "0                                  653.89              32.0   \n",
       "1                                  348.79              22.0   \n",
       "2                                  506.93              17.0   \n",
       "3                                  677.73              12.0   \n",
       "4                                  480.47              24.0   \n",
       "\n",
       "  eligible_double_your_impact_match eligible_almost_home_match date_posted  \n",
       "0                                 f                          f  2014-05-12  \n",
       "1                                 f                          f  2014-05-12  \n",
       "2                                 f                          f  2014-05-11  \n",
       "3                                 f                          f  2014-05-11  \n",
       "4                                 f                          f  2014-05-11  "
      ]
     },
     "execution_count": 27,
     "metadata": {},
     "output_type": "execute_result"
    }
   ],
   "source": [
    "projects.head()"
   ]
  },
  {
   "cell_type": "code",
   "execution_count": 28,
   "metadata": {
    "deletable": false,
    "editable": false,
    "run_control": {
     "frozen": true
    }
   },
   "outputs": [],
   "source": [
    "projects = projects.merge(history_features('schoolid', 'projectid', 'date_posted', 'qtd_projects', 'count', projects), how='left')"
   ]
  },
  {
   "cell_type": "code",
   "execution_count": 29,
   "metadata": {
    "deletable": false,
    "editable": false,
    "run_control": {
     "frozen": true
    }
   },
   "outputs": [],
   "source": [
    "projects.drop(['schoolid', 'school_ncesid', 'school_city', 'school_state', 'school_zip', 'school_district', 'school_county'],\n",
    "              axis=1, inplace=True)"
   ]
  },
  {
   "cell_type": "code",
   "execution_count": 30,
   "metadata": {
    "deletable": false,
    "editable": false,
    "run_control": {
     "frozen": true
    }
   },
   "outputs": [
    {
     "data": {
      "text/plain": [
       "664098"
      ]
     },
     "execution_count": 30,
     "metadata": {},
     "output_type": "execute_result"
    }
   ],
   "source": [
    "len(projects)"
   ]
  },
  {
   "cell_type": "code",
   "execution_count": 31,
   "metadata": {
    "deletable": false,
    "editable": false,
    "run_control": {
     "frozen": true
    }
   },
   "outputs": [],
   "source": [
    "projects = projects.replace(d)"
   ]
  },
  {
   "cell_type": "code",
   "execution_count": 32,
   "metadata": {
    "deletable": false,
    "editable": false,
    "run_control": {
     "frozen": true
    }
   },
   "outputs": [
    {
     "data": {
      "text/html": [
       "<div>\n",
       "<style scoped>\n",
       "    .dataframe tbody tr th:only-of-type {\n",
       "        vertical-align: middle;\n",
       "    }\n",
       "\n",
       "    .dataframe tbody tr th {\n",
       "        vertical-align: top;\n",
       "    }\n",
       "\n",
       "    .dataframe thead th {\n",
       "        text-align: right;\n",
       "    }\n",
       "</style>\n",
       "<table border=\"1\" class=\"dataframe\">\n",
       "  <thead>\n",
       "    <tr style=\"text-align: right;\">\n",
       "      <th></th>\n",
       "      <th>projectid</th>\n",
       "      <th>teacher_acctid</th>\n",
       "      <th>school_latitude</th>\n",
       "      <th>school_longitude</th>\n",
       "      <th>school_metro</th>\n",
       "      <th>school_charter</th>\n",
       "      <th>school_magnet</th>\n",
       "      <th>school_year_round</th>\n",
       "      <th>school_nlns</th>\n",
       "      <th>school_kipp</th>\n",
       "      <th>school_charter_ready_promise</th>\n",
       "      <th>teacher_prefix</th>\n",
       "      <th>teacher_teach_for_america</th>\n",
       "      <th>teacher_ny_teaching_fellow</th>\n",
       "      <th>primary_focus_subject</th>\n",
       "      <th>primary_focus_area</th>\n",
       "      <th>secondary_focus_subject</th>\n",
       "      <th>secondary_focus_area</th>\n",
       "      <th>resource_type</th>\n",
       "      <th>poverty_level</th>\n",
       "      <th>grade_level</th>\n",
       "      <th>fulfillment_labor_materials</th>\n",
       "      <th>total_price_excluding_optional_support</th>\n",
       "      <th>total_price_including_optional_support</th>\n",
       "      <th>students_reached</th>\n",
       "      <th>eligible_double_your_impact_match</th>\n",
       "      <th>eligible_almost_home_match</th>\n",
       "      <th>date_posted</th>\n",
       "      <th>qtd_projects</th>\n",
       "    </tr>\n",
       "  </thead>\n",
       "  <tbody>\n",
       "    <tr>\n",
       "      <th>0</th>\n",
       "      <td>316ed8fb3b81402ff6ac8f721bb31192</td>\n",
       "      <td>42d43fa6f37314365d08692e08680973</td>\n",
       "      <td>36.576340</td>\n",
       "      <td>-119.608713</td>\n",
       "      <td>NaN</td>\n",
       "      <td>0</td>\n",
       "      <td>0</td>\n",
       "      <td>0</td>\n",
       "      <td>0</td>\n",
       "      <td>0</td>\n",
       "      <td>0</td>\n",
       "      <td>Mrs.</td>\n",
       "      <td>0</td>\n",
       "      <td>0</td>\n",
       "      <td>Literature &amp; Writing</td>\n",
       "      <td>Literacy &amp; Language</td>\n",
       "      <td>College &amp; Career Prep</td>\n",
       "      <td>Applied Learning</td>\n",
       "      <td>Books</td>\n",
       "      <td>highest poverty</td>\n",
       "      <td>Grades 6-8</td>\n",
       "      <td>30.0</td>\n",
       "      <td>555.81</td>\n",
       "      <td>653.89</td>\n",
       "      <td>32.0</td>\n",
       "      <td>0</td>\n",
       "      <td>0</td>\n",
       "      <td>2014-05-12</td>\n",
       "      <td>3.0</td>\n",
       "    </tr>\n",
       "    <tr>\n",
       "      <th>1</th>\n",
       "      <td>90de744e368a7e4883223ca49318ae30</td>\n",
       "      <td>864eb466462bf704bf7a16a585ef296a</td>\n",
       "      <td>32.911179</td>\n",
       "      <td>-96.723640</td>\n",
       "      <td>urban</td>\n",
       "      <td>0</td>\n",
       "      <td>0</td>\n",
       "      <td>0</td>\n",
       "      <td>0</td>\n",
       "      <td>0</td>\n",
       "      <td>0</td>\n",
       "      <td>Mrs.</td>\n",
       "      <td>0</td>\n",
       "      <td>0</td>\n",
       "      <td>Literacy</td>\n",
       "      <td>Literacy &amp; Language</td>\n",
       "      <td>ESL</td>\n",
       "      <td>Literacy &amp; Language</td>\n",
       "      <td>Books</td>\n",
       "      <td>highest poverty</td>\n",
       "      <td>Grades PreK-2</td>\n",
       "      <td>30.0</td>\n",
       "      <td>296.47</td>\n",
       "      <td>348.79</td>\n",
       "      <td>22.0</td>\n",
       "      <td>0</td>\n",
       "      <td>0</td>\n",
       "      <td>2014-05-12</td>\n",
       "      <td>63.0</td>\n",
       "    </tr>\n",
       "    <tr>\n",
       "      <th>2</th>\n",
       "      <td>32943bb1063267de6ed19fc0ceb4b9a7</td>\n",
       "      <td>37f85135259ece793213aca9d8765542</td>\n",
       "      <td>45.166039</td>\n",
       "      <td>-122.414576</td>\n",
       "      <td>rural</td>\n",
       "      <td>0</td>\n",
       "      <td>0</td>\n",
       "      <td>0</td>\n",
       "      <td>0</td>\n",
       "      <td>0</td>\n",
       "      <td>0</td>\n",
       "      <td>Mr.</td>\n",
       "      <td>0</td>\n",
       "      <td>0</td>\n",
       "      <td>Literacy</td>\n",
       "      <td>Literacy &amp; Language</td>\n",
       "      <td>Mathematics</td>\n",
       "      <td>Math &amp; Science</td>\n",
       "      <td>Technology</td>\n",
       "      <td>high poverty</td>\n",
       "      <td>Grades PreK-2</td>\n",
       "      <td>30.0</td>\n",
       "      <td>430.89</td>\n",
       "      <td>506.93</td>\n",
       "      <td>17.0</td>\n",
       "      <td>0</td>\n",
       "      <td>0</td>\n",
       "      <td>2014-05-11</td>\n",
       "      <td>1.0</td>\n",
       "    </tr>\n",
       "    <tr>\n",
       "      <th>3</th>\n",
       "      <td>bb18f409abda2f264d5acda8cab577a9</td>\n",
       "      <td>2133fc46f951f1e7d60645b0f9e48a6c</td>\n",
       "      <td>40.641727</td>\n",
       "      <td>-73.965655</td>\n",
       "      <td>urban</td>\n",
       "      <td>0</td>\n",
       "      <td>1</td>\n",
       "      <td>0</td>\n",
       "      <td>0</td>\n",
       "      <td>0</td>\n",
       "      <td>0</td>\n",
       "      <td>Mr.</td>\n",
       "      <td>1</td>\n",
       "      <td>0</td>\n",
       "      <td>Social Sciences</td>\n",
       "      <td>History &amp; Civics</td>\n",
       "      <td>Special Needs</td>\n",
       "      <td>Special Needs</td>\n",
       "      <td>Books</td>\n",
       "      <td>highest poverty</td>\n",
       "      <td>Grades 3-5</td>\n",
       "      <td>30.0</td>\n",
       "      <td>576.07</td>\n",
       "      <td>677.73</td>\n",
       "      <td>12.0</td>\n",
       "      <td>0</td>\n",
       "      <td>0</td>\n",
       "      <td>2014-05-11</td>\n",
       "      <td>572.0</td>\n",
       "    </tr>\n",
       "    <tr>\n",
       "      <th>4</th>\n",
       "      <td>24761b686e18e5eace634607acbcc19f</td>\n",
       "      <td>867ff478a63f5457eaf41049536c47cd</td>\n",
       "      <td>34.043939</td>\n",
       "      <td>-118.288371</td>\n",
       "      <td>urban</td>\n",
       "      <td>0</td>\n",
       "      <td>0</td>\n",
       "      <td>0</td>\n",
       "      <td>0</td>\n",
       "      <td>0</td>\n",
       "      <td>0</td>\n",
       "      <td>Ms.</td>\n",
       "      <td>0</td>\n",
       "      <td>0</td>\n",
       "      <td>Mathematics</td>\n",
       "      <td>Math &amp; Science</td>\n",
       "      <td>Literacy</td>\n",
       "      <td>Literacy &amp; Language</td>\n",
       "      <td>Other</td>\n",
       "      <td>highest poverty</td>\n",
       "      <td>Grades PreK-2</td>\n",
       "      <td>30.0</td>\n",
       "      <td>408.40</td>\n",
       "      <td>480.47</td>\n",
       "      <td>24.0</td>\n",
       "      <td>0</td>\n",
       "      <td>0</td>\n",
       "      <td>2014-05-11</td>\n",
       "      <td>453.0</td>\n",
       "    </tr>\n",
       "  </tbody>\n",
       "</table>\n",
       "</div>"
      ],
      "text/plain": [
       "                          projectid                    teacher_acctid  \\\n",
       "0  316ed8fb3b81402ff6ac8f721bb31192  42d43fa6f37314365d08692e08680973   \n",
       "1  90de744e368a7e4883223ca49318ae30  864eb466462bf704bf7a16a585ef296a   \n",
       "2  32943bb1063267de6ed19fc0ceb4b9a7  37f85135259ece793213aca9d8765542   \n",
       "3  bb18f409abda2f264d5acda8cab577a9  2133fc46f951f1e7d60645b0f9e48a6c   \n",
       "4  24761b686e18e5eace634607acbcc19f  867ff478a63f5457eaf41049536c47cd   \n",
       "\n",
       "   school_latitude  school_longitude school_metro  school_charter  \\\n",
       "0        36.576340       -119.608713          NaN               0   \n",
       "1        32.911179        -96.723640        urban               0   \n",
       "2        45.166039       -122.414576        rural               0   \n",
       "3        40.641727        -73.965655        urban               0   \n",
       "4        34.043939       -118.288371        urban               0   \n",
       "\n",
       "   school_magnet  school_year_round  school_nlns  school_kipp  \\\n",
       "0              0                  0            0            0   \n",
       "1              0                  0            0            0   \n",
       "2              0                  0            0            0   \n",
       "3              1                  0            0            0   \n",
       "4              0                  0            0            0   \n",
       "\n",
       "   school_charter_ready_promise teacher_prefix  teacher_teach_for_america  \\\n",
       "0                             0           Mrs.                          0   \n",
       "1                             0           Mrs.                          0   \n",
       "2                             0            Mr.                          0   \n",
       "3                             0            Mr.                          1   \n",
       "4                             0            Ms.                          0   \n",
       "\n",
       "   teacher_ny_teaching_fellow primary_focus_subject   primary_focus_area  \\\n",
       "0                           0  Literature & Writing  Literacy & Language   \n",
       "1                           0              Literacy  Literacy & Language   \n",
       "2                           0              Literacy  Literacy & Language   \n",
       "3                           0       Social Sciences     History & Civics   \n",
       "4                           0           Mathematics       Math & Science   \n",
       "\n",
       "  secondary_focus_subject secondary_focus_area resource_type    poverty_level  \\\n",
       "0   College & Career Prep     Applied Learning         Books  highest poverty   \n",
       "1                     ESL  Literacy & Language         Books  highest poverty   \n",
       "2             Mathematics       Math & Science    Technology     high poverty   \n",
       "3           Special Needs        Special Needs         Books  highest poverty   \n",
       "4                Literacy  Literacy & Language         Other  highest poverty   \n",
       "\n",
       "     grade_level  fulfillment_labor_materials  \\\n",
       "0     Grades 6-8                         30.0   \n",
       "1  Grades PreK-2                         30.0   \n",
       "2  Grades PreK-2                         30.0   \n",
       "3     Grades 3-5                         30.0   \n",
       "4  Grades PreK-2                         30.0   \n",
       "\n",
       "   total_price_excluding_optional_support  \\\n",
       "0                                  555.81   \n",
       "1                                  296.47   \n",
       "2                                  430.89   \n",
       "3                                  576.07   \n",
       "4                                  408.40   \n",
       "\n",
       "   total_price_including_optional_support  students_reached  \\\n",
       "0                                  653.89              32.0   \n",
       "1                                  348.79              22.0   \n",
       "2                                  506.93              17.0   \n",
       "3                                  677.73              12.0   \n",
       "4                                  480.47              24.0   \n",
       "\n",
       "   eligible_double_your_impact_match  eligible_almost_home_match date_posted  \\\n",
       "0                                  0                           0  2014-05-12   \n",
       "1                                  0                           0  2014-05-12   \n",
       "2                                  0                           0  2014-05-11   \n",
       "3                                  0                           0  2014-05-11   \n",
       "4                                  0                           0  2014-05-11   \n",
       "\n",
       "   qtd_projects  \n",
       "0           3.0  \n",
       "1          63.0  \n",
       "2           1.0  \n",
       "3         572.0  \n",
       "4         453.0  "
      ]
     },
     "execution_count": 32,
     "metadata": {},
     "output_type": "execute_result"
    }
   ],
   "source": [
    "projects.head()"
   ]
  },
  {
   "cell_type": "code",
   "execution_count": 33,
   "metadata": {
    "deletable": false,
    "editable": false,
    "run_control": {
     "frozen": true
    }
   },
   "outputs": [
    {
     "data": {
      "text/plain": [
       "216"
      ]
     },
     "execution_count": 33,
     "metadata": {},
     "output_type": "execute_result"
    }
   ],
   "source": [
    "gc.collect()"
   ]
  },
  {
   "cell_type": "code",
   "execution_count": 34,
   "metadata": {
    "deletable": false,
    "editable": false,
    "run_control": {
     "frozen": true
    }
   },
   "outputs": [],
   "source": [
    "projects.to_csv('../Data/Kaggle/KDDCup14/projects_feat.csv', index=False)"
   ]
  }
 ],
 "metadata": {
  "kernelspec": {
   "display_name": "Python 3",
   "language": "python",
   "name": "python3"
  },
  "language_info": {
   "codemirror_mode": {
    "name": "ipython",
    "version": 3
   },
   "file_extension": ".py",
   "mimetype": "text/x-python",
   "name": "python",
   "nbconvert_exporter": "python",
   "pygments_lexer": "ipython3",
   "version": "3.6.4"
  },
  "toc": {
   "nav_menu": {},
   "number_sections": true,
   "sideBar": true,
   "skip_h1_title": false,
   "toc_cell": false,
   "toc_position": {},
   "toc_section_display": "block",
   "toc_window_display": true
  }
 },
 "nbformat": 4,
 "nbformat_minor": 2
}
