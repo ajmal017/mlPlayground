{
 "cells": [
  {
   "cell_type": "markdown",
   "metadata": {},
   "source": [
    "### Kaggle Link"
   ]
  },
  {
   "cell_type": "markdown",
   "metadata": {},
   "source": [
    "https://www.kaggle.com/c/jigsaw-toxic-comment-classification-challenge"
   ]
  },
  {
   "cell_type": "code",
   "execution_count": 1,
   "metadata": {
    "collapsed": true
   },
   "outputs": [],
   "source": [
    "import pandas as pd\n",
    "import numpy as np\n",
    "import matplotlib.pyplot as plt\n",
    "import seaborn as sns\n",
    "\n",
    "%matplotlib inline"
   ]
  },
  {
   "cell_type": "code",
   "execution_count": 2,
   "metadata": {
    "collapsed": true
   },
   "outputs": [],
   "source": [
    "train_df = pd.read_csv('../Data/Kaggle/toxic_train.csv')\n",
    "test_df  = pd.read_csv('../Data/Kaggle/toxic_test.csv')"
   ]
  },
  {
   "cell_type": "code",
   "execution_count": 3,
   "metadata": {},
   "outputs": [
    {
     "data": {
      "text/html": [
       "<div>\n",
       "<style>\n",
       "    .dataframe thead tr:only-child th {\n",
       "        text-align: right;\n",
       "    }\n",
       "\n",
       "    .dataframe thead th {\n",
       "        text-align: left;\n",
       "    }\n",
       "\n",
       "    .dataframe tbody tr th {\n",
       "        vertical-align: top;\n",
       "    }\n",
       "</style>\n",
       "<table border=\"1\" class=\"dataframe\">\n",
       "  <thead>\n",
       "    <tr style=\"text-align: right;\">\n",
       "      <th></th>\n",
       "      <th>id</th>\n",
       "      <th>comment_text</th>\n",
       "      <th>toxic</th>\n",
       "      <th>severe_toxic</th>\n",
       "      <th>obscene</th>\n",
       "      <th>threat</th>\n",
       "      <th>insult</th>\n",
       "      <th>identity_hate</th>\n",
       "    </tr>\n",
       "  </thead>\n",
       "  <tbody>\n",
       "    <tr>\n",
       "      <th>0</th>\n",
       "      <td>0000997932d777bf</td>\n",
       "      <td>Explanation\\nWhy the edits made under my usern...</td>\n",
       "      <td>0</td>\n",
       "      <td>0</td>\n",
       "      <td>0</td>\n",
       "      <td>0</td>\n",
       "      <td>0</td>\n",
       "      <td>0</td>\n",
       "    </tr>\n",
       "    <tr>\n",
       "      <th>1</th>\n",
       "      <td>000103f0d9cfb60f</td>\n",
       "      <td>D'aww! He matches this background colour I'm s...</td>\n",
       "      <td>0</td>\n",
       "      <td>0</td>\n",
       "      <td>0</td>\n",
       "      <td>0</td>\n",
       "      <td>0</td>\n",
       "      <td>0</td>\n",
       "    </tr>\n",
       "    <tr>\n",
       "      <th>2</th>\n",
       "      <td>000113f07ec002fd</td>\n",
       "      <td>Hey man, I'm really not trying to edit war. It...</td>\n",
       "      <td>0</td>\n",
       "      <td>0</td>\n",
       "      <td>0</td>\n",
       "      <td>0</td>\n",
       "      <td>0</td>\n",
       "      <td>0</td>\n",
       "    </tr>\n",
       "    <tr>\n",
       "      <th>3</th>\n",
       "      <td>0001b41b1c6bb37e</td>\n",
       "      <td>\"\\nMore\\nI can't make any real suggestions on ...</td>\n",
       "      <td>0</td>\n",
       "      <td>0</td>\n",
       "      <td>0</td>\n",
       "      <td>0</td>\n",
       "      <td>0</td>\n",
       "      <td>0</td>\n",
       "    </tr>\n",
       "    <tr>\n",
       "      <th>4</th>\n",
       "      <td>0001d958c54c6e35</td>\n",
       "      <td>You, sir, are my hero. Any chance you remember...</td>\n",
       "      <td>0</td>\n",
       "      <td>0</td>\n",
       "      <td>0</td>\n",
       "      <td>0</td>\n",
       "      <td>0</td>\n",
       "      <td>0</td>\n",
       "    </tr>\n",
       "  </tbody>\n",
       "</table>\n",
       "</div>"
      ],
      "text/plain": [
       "                 id                                       comment_text  toxic  \\\n",
       "0  0000997932d777bf  Explanation\\nWhy the edits made under my usern...      0   \n",
       "1  000103f0d9cfb60f  D'aww! He matches this background colour I'm s...      0   \n",
       "2  000113f07ec002fd  Hey man, I'm really not trying to edit war. It...      0   \n",
       "3  0001b41b1c6bb37e  \"\\nMore\\nI can't make any real suggestions on ...      0   \n",
       "4  0001d958c54c6e35  You, sir, are my hero. Any chance you remember...      0   \n",
       "\n",
       "   severe_toxic  obscene  threat  insult  identity_hate  \n",
       "0             0        0       0       0              0  \n",
       "1             0        0       0       0              0  \n",
       "2             0        0       0       0              0  \n",
       "3             0        0       0       0              0  \n",
       "4             0        0       0       0              0  "
      ]
     },
     "execution_count": 3,
     "metadata": {},
     "output_type": "execute_result"
    }
   ],
   "source": [
    "train_df.head()"
   ]
  },
  {
   "cell_type": "markdown",
   "metadata": {},
   "source": [
    "### Pre-Processing"
   ]
  },
  {
   "cell_type": "code",
   "execution_count": 4,
   "metadata": {
    "collapsed": true
   },
   "outputs": [],
   "source": [
    "from nltk.corpus import stopwords\n",
    "from nltk.tokenize import word_tokenize \n",
    "from nltk.stem import SnowballStemmer\n",
    "from nltk.stem.wordnet import WordNetLemmatizer"
   ]
  },
  {
   "cell_type": "code",
   "execution_count": 5,
   "metadata": {
    "collapsed": true
   },
   "outputs": [],
   "source": [
    "stop_words = set(stopwords.words('english'))\n",
    "stemmer = SnowballStemmer('english')\n",
    "lemma = WordNetLemmatizer()"
   ]
  },
  {
   "cell_type": "code",
   "execution_count": 6,
   "metadata": {
    "collapsed": true
   },
   "outputs": [],
   "source": [
    "from autocorrect import spell"
   ]
  },
  {
   "cell_type": "code",
   "execution_count": 7,
   "metadata": {
    "collapsed": true
   },
   "outputs": [],
   "source": [
    "for df in [train_df, test_df]:\n",
    "    df['comment_text'] = df['comment_text'].apply(lambda x: word_tokenize(str(x)))\n",
    "    df['comment_text'] = df['comment_text'].apply(lambda x: [lemma.lemmatize(word) for word in x])\n",
    "    df['comment_text'] = df['comment_text'].apply(lambda x: ' '.join(x))"
   ]
  },
  {
   "cell_type": "markdown",
   "metadata": {},
   "source": [
    "### Feature Engineering "
   ]
  },
  {
   "cell_type": "code",
   "execution_count": 8,
   "metadata": {
    "collapsed": true,
    "deletable": false,
    "editable": false
   },
   "outputs": [],
   "source": [
    "import re\n",
    "\n",
    "for df in [train_df, test_df]:\n",
    "    df['len'] = df['comment_text'].apply(lambda x: len(str(x)))\n",
    "    df['num_numbers'] = df['comment_text'].apply(lambda x: len(re.sub(r'\\D+', '', str(x))))\n",
    "    df['num_non-word'] = df['comment_text'].apply(lambda x: len(re.sub(r'\\w+', '', str(x))))    \n",
    "    df['num_capitals'] = df['comment_text'].apply(lambda x: sum(1 for c in x if c.isupper()))\n",
    "    df['caps_vs_len'] = df.apply(lambda row: 0 if row['len'] == 0 else float(row['num_capitals'])/float(row['len']),  axis=1)\n",
    "    df['num_exclamation_marks'] = df['comment_text'].apply(lambda x: x.count('!'))\n",
    "    df['num_question_marks'] = df['comment_text'].apply(lambda x: x.count('?'))\n",
    "    df['num_punctuation'] = df['comment_text'].apply(lambda x: sum(x.count(w) for w in '.,;:'))\n",
    "    df['num_symbols'] = df['comment_text'].apply(lambda x: sum(x.count(w) for w in '*&$%#'))\n",
    "    df['num_words'] = df['comment_text'].apply(lambda x: len(x.split()))\n",
    "    df['num_unique_words'] = df['comment_text'].apply(lambda x: len(set(w for w in x.split())))\n",
    "    df['words_vs_unique'] = df['num_unique_words'] / df['num_words']"
   ]
  },
  {
   "cell_type": "code",
   "execution_count": 9,
   "metadata": {
    "collapsed": true,
    "deletable": false,
    "editable": false
   },
   "outputs": [],
   "source": [
    "new_features = ['len', 'num_numbers', 'num_non-word', 'num_capitals', 'caps_vs_len', \n",
    "                'num_exclamation_marks', 'num_question_marks', 'num_punctuation', \n",
    "                'num_symbols', 'num_words', 'num_unique_words', 'words_vs_unique']"
   ]
  },
  {
   "cell_type": "code",
   "execution_count": 10,
   "metadata": {
    "deletable": false,
    "editable": false
   },
   "outputs": [
    {
     "data": {
      "text/plain": [
       "<matplotlib.axes._subplots.AxesSubplot at 0x26bfb87fc88>"
      ]
     },
     "execution_count": 10,
     "metadata": {},
     "output_type": "execute_result"
    },
    {
     "data": {
      "image/png": "[encoded data removed]",
      "text/plain": [
       "<matplotlib.figure.Figure at 0x26bfb877588>"
      ]
     },
     "metadata": {},
     "output_type": "display_data"
    }
   ],
   "source": [
    "plt.figure(figsize=(7,5))\n",
    "columns = ['toxic', 'severe_toxic', 'obscene', 'threat', 'insult', 'identity_hate']\n",
    "\n",
    "rows = [{c:train_df[f].corr(train_df[c]) for c in columns} for f in new_features]\n",
    "df_correlations = pd.DataFrame(rows, index=new_features)\n",
    "\n",
    "sns.heatmap(df_correlations)"
   ]
  },
  {
   "cell_type": "code",
   "execution_count": 11,
   "metadata": {
    "collapsed": true,
    "deletable": false,
    "editable": false
   },
   "outputs": [],
   "source": [
    "train_df[new_features] = train_df[new_features].fillna(0)\n",
    "test_df[new_features] = test_df[new_features].fillna(0)"
   ]
  },
  {
   "cell_type": "code",
   "execution_count": 12,
   "metadata": {
    "collapsed": true,
    "deletable": false,
    "editable": false
   },
   "outputs": [],
   "source": [
    "from sklearn.preprocessing import StandardScaler\n",
    "\n",
    "scaler = StandardScaler()\n",
    "train_df.loc[:, new_features] = scaler.fit_transform(train_df[new_features])\n",
    "test_df.loc[:, new_features]  = scaler.transform(test_df[new_features])"
   ]
  },
  {
   "cell_type": "code",
   "execution_count": 13,
   "metadata": {
    "deletable": false,
    "editable": false
   },
   "outputs": [
    {
     "data": {
      "text/html": [
       "<div>\n",
       "<style>\n",
       "    .dataframe thead tr:only-child th {\n",
       "        text-align: right;\n",
       "    }\n",
       "\n",
       "    .dataframe thead th {\n",
       "        text-align: left;\n",
       "    }\n",
       "\n",
       "    .dataframe tbody tr th {\n",
       "        vertical-align: top;\n",
       "    }\n",
       "</style>\n",
       "<table border=\"1\" class=\"dataframe\">\n",
       "  <thead>\n",
       "    <tr style=\"text-align: right;\">\n",
       "      <th></th>\n",
       "      <th>id</th>\n",
       "      <th>comment_text</th>\n",
       "      <th>toxic</th>\n",
       "      <th>severe_toxic</th>\n",
       "      <th>obscene</th>\n",
       "      <th>threat</th>\n",
       "      <th>insult</th>\n",
       "      <th>identity_hate</th>\n",
       "      <th>len</th>\n",
       "      <th>num_numbers</th>\n",
       "      <th>num_non-word</th>\n",
       "      <th>num_capitals</th>\n",
       "      <th>caps_vs_len</th>\n",
       "      <th>num_exclamation_marks</th>\n",
       "      <th>num_question_marks</th>\n",
       "      <th>num_punctuation</th>\n",
       "      <th>num_symbols</th>\n",
       "      <th>num_words</th>\n",
       "      <th>num_unique_words</th>\n",
       "      <th>words_vs_unique</th>\n",
       "    </tr>\n",
       "  </thead>\n",
       "  <tbody>\n",
       "    <tr>\n",
       "      <th>0</th>\n",
       "      <td>0000997932d777bf</td>\n",
       "      <td>Explanation Why the edits made under my userna...</td>\n",
       "      <td>0</td>\n",
       "      <td>0</td>\n",
       "      <td>0</td>\n",
       "      <td>0</td>\n",
       "      <td>0</td>\n",
       "      <td>0</td>\n",
       "      <td>-0.220846</td>\n",
       "      <td>0.335426</td>\n",
       "      <td>-0.258955</td>\n",
       "      <td>-0.001654</td>\n",
       "      <td>0.144424</td>\n",
       "      <td>-0.025546</td>\n",
       "      <td>0.346388</td>\n",
       "      <td>-0.154587</td>\n",
       "      <td>-0.122056</td>\n",
       "      <td>-0.259355</td>\n",
       "      <td>-0.106586</td>\n",
       "      <td>0.745514</td>\n",
       "    </tr>\n",
       "    <tr>\n",
       "      <th>1</th>\n",
       "      <td>000103f0d9cfb60f</td>\n",
       "      <td>D'aww ! He match this background colour I 'm s...</td>\n",
       "      <td>0</td>\n",
       "      <td>0</td>\n",
       "      <td>0</td>\n",
       "      <td>0</td>\n",
       "      <td>0</td>\n",
       "      <td>0</td>\n",
       "      <td>-0.469385</td>\n",
       "      <td>0.394302</td>\n",
       "      <td>-0.389186</td>\n",
       "      <td>-0.094891</td>\n",
       "      <td>0.189114</td>\n",
       "      <td>0.013065</td>\n",
       "      <td>-0.282584</td>\n",
       "      <td>-0.232894</td>\n",
       "      <td>-0.122056</td>\n",
       "      <td>-0.441521</td>\n",
       "      <td>-0.517732</td>\n",
       "      <td>0.449312</td>\n",
       "    </tr>\n",
       "    <tr>\n",
       "      <th>2</th>\n",
       "      <td>000113f07ec002fd</td>\n",
       "      <td>Hey man , I 'm really not trying to edit war ....</td>\n",
       "      <td>0</td>\n",
       "      <td>0</td>\n",
       "      <td>0</td>\n",
       "      <td>0</td>\n",
       "      <td>0</td>\n",
       "      <td>0</td>\n",
       "      <td>-0.270554</td>\n",
       "      <td>-0.194455</td>\n",
       "      <td>-0.291513</td>\n",
       "      <td>-0.136330</td>\n",
       "      <td>-0.370814</td>\n",
       "      <td>-0.025546</td>\n",
       "      <td>-0.282584</td>\n",
       "      <td>-0.311200</td>\n",
       "      <td>-0.122056</td>\n",
       "      <td>-0.267636</td>\n",
       "      <td>-0.126165</td>\n",
       "      <td>0.731857</td>\n",
       "    </tr>\n",
       "    <tr>\n",
       "      <th>3</th>\n",
       "      <td>0001b41b1c6bb37e</td>\n",
       "      <td>`` More I ca n't make any real suggestion on i...</td>\n",
       "      <td>0</td>\n",
       "      <td>0</td>\n",
       "      <td>0</td>\n",
       "      <td>0</td>\n",
       "      <td>0</td>\n",
       "      <td>0</td>\n",
       "      <td>0.377306</td>\n",
       "      <td>-0.194455</td>\n",
       "      <td>0.353131</td>\n",
       "      <td>-0.063812</td>\n",
       "      <td>-0.362786</td>\n",
       "      <td>-0.025546</td>\n",
       "      <td>-0.282584</td>\n",
       "      <td>-0.154587</td>\n",
       "      <td>0.659476</td>\n",
       "      <td>0.394784</td>\n",
       "      <td>0.794019</td>\n",
       "      <td>-0.506134</td>\n",
       "    </tr>\n",
       "    <tr>\n",
       "      <th>4</th>\n",
       "      <td>0001d958c54c6e35</td>\n",
       "      <td>You , sir , are my hero . Any chance you remem...</td>\n",
       "      <td>0</td>\n",
       "      <td>0</td>\n",
       "      <td>0</td>\n",
       "      <td>0</td>\n",
       "      <td>0</td>\n",
       "      <td>0</td>\n",
       "      <td>-0.547261</td>\n",
       "      <td>-0.194455</td>\n",
       "      <td>-0.493371</td>\n",
       "      <td>-0.157049</td>\n",
       "      <td>-0.248368</td>\n",
       "      <td>-0.025546</td>\n",
       "      <td>0.346388</td>\n",
       "      <td>-0.389507</td>\n",
       "      <td>-0.122056</td>\n",
       "      <td>-0.516043</td>\n",
       "      <td>-0.635202</td>\n",
       "      <td>1.044143</td>\n",
       "    </tr>\n",
       "  </tbody>\n",
       "</table>\n",
       "</div>"
      ],
      "text/plain": [
       "                 id                                       comment_text  toxic  \\\n",
       "0  0000997932d777bf  Explanation Why the edits made under my userna...      0   \n",
       "1  000103f0d9cfb60f  D'aww ! He match this background colour I 'm s...      0   \n",
       "2  000113f07ec002fd  Hey man , I 'm really not trying to edit war ....      0   \n",
       "3  0001b41b1c6bb37e  `` More I ca n't make any real suggestion on i...      0   \n",
       "4  0001d958c54c6e35  You , sir , are my hero . Any chance you remem...      0   \n",
       "\n",
       "   severe_toxic  obscene  threat  insult  identity_hate       len  \\\n",
       "0             0        0       0       0              0 -0.220846   \n",
       "1             0        0       0       0              0 -0.469385   \n",
       "2             0        0       0       0              0 -0.270554   \n",
       "3             0        0       0       0              0  0.377306   \n",
       "4             0        0       0       0              0 -0.547261   \n",
       "\n",
       "   num_numbers  num_non-word  num_capitals  caps_vs_len  \\\n",
       "0     0.335426     -0.258955     -0.001654     0.144424   \n",
       "1     0.394302     -0.389186     -0.094891     0.189114   \n",
       "2    -0.194455     -0.291513     -0.136330    -0.370814   \n",
       "3    -0.194455      0.353131     -0.063812    -0.362786   \n",
       "4    -0.194455     -0.493371     -0.157049    -0.248368   \n",
       "\n",
       "   num_exclamation_marks  num_question_marks  num_punctuation  num_symbols  \\\n",
       "0              -0.025546            0.346388        -0.154587    -0.122056   \n",
       "1               0.013065           -0.282584        -0.232894    -0.122056   \n",
       "2              -0.025546           -0.282584        -0.311200    -0.122056   \n",
       "3              -0.025546           -0.282584        -0.154587     0.659476   \n",
       "4              -0.025546            0.346388        -0.389507    -0.122056   \n",
       "\n",
       "   num_words  num_unique_words  words_vs_unique  \n",
       "0  -0.259355         -0.106586         0.745514  \n",
       "1  -0.441521         -0.517732         0.449312  \n",
       "2  -0.267636         -0.126165         0.731857  \n",
       "3   0.394784          0.794019        -0.506134  \n",
       "4  -0.516043         -0.635202         1.044143  "
      ]
     },
     "execution_count": 13,
     "metadata": {},
     "output_type": "execute_result"
    }
   ],
   "source": [
    "train_df.head()"
   ]
  },
  {
   "cell_type": "code",
   "execution_count": 14,
   "metadata": {
    "deletable": false,
    "editable": false
   },
   "outputs": [
    {
     "data": {
      "text/html": [
       "<div>\n",
       "<style>\n",
       "    .dataframe thead tr:only-child th {\n",
       "        text-align: right;\n",
       "    }\n",
       "\n",
       "    .dataframe thead th {\n",
       "        text-align: left;\n",
       "    }\n",
       "\n",
       "    .dataframe tbody tr th {\n",
       "        vertical-align: top;\n",
       "    }\n",
       "</style>\n",
       "<table border=\"1\" class=\"dataframe\">\n",
       "  <thead>\n",
       "    <tr style=\"text-align: right;\">\n",
       "      <th></th>\n",
       "      <th>id</th>\n",
       "      <th>comment_text</th>\n",
       "      <th>len</th>\n",
       "      <th>num_numbers</th>\n",
       "      <th>num_non-word</th>\n",
       "      <th>num_capitals</th>\n",
       "      <th>caps_vs_len</th>\n",
       "      <th>num_exclamation_marks</th>\n",
       "      <th>num_question_marks</th>\n",
       "      <th>num_punctuation</th>\n",
       "      <th>num_symbols</th>\n",
       "      <th>num_words</th>\n",
       "      <th>num_unique_words</th>\n",
       "      <th>words_vs_unique</th>\n",
       "    </tr>\n",
       "  </thead>\n",
       "  <tbody>\n",
       "    <tr>\n",
       "      <th>0</th>\n",
       "      <td>00001cee341fdb12</td>\n",
       "      <td>Yo bitch Ja Rule is more succesful then you 'l...</td>\n",
       "      <td>-0.055153</td>\n",
       "      <td>-0.194455</td>\n",
       "      <td>-0.037562</td>\n",
       "      <td>-0.136330</td>\n",
       "      <td>-0.436202</td>\n",
       "      <td>-0.025546</td>\n",
       "      <td>-0.282584</td>\n",
       "      <td>0.236945</td>\n",
       "      <td>-0.122056</td>\n",
       "      <td>0.005612</td>\n",
       "      <td>0.324138</td>\n",
       "      <td>0.211380</td>\n",
       "    </tr>\n",
       "    <tr>\n",
       "      <th>1</th>\n",
       "      <td>0000247867823ef7</td>\n",
       "      <td>== From RfC == The title is fine a it is , IMO .</td>\n",
       "      <td>-0.587027</td>\n",
       "      <td>-0.194455</td>\n",
       "      <td>-0.512906</td>\n",
       "      <td>-0.105251</td>\n",
       "      <td>1.060842</td>\n",
       "      <td>-0.025546</td>\n",
       "      <td>-0.282584</td>\n",
       "      <td>-0.467814</td>\n",
       "      <td>-0.122056</td>\n",
       "      <td>-0.549164</td>\n",
       "      <td>-0.733094</td>\n",
       "      <td>0.483303</td>\n",
       "    </tr>\n",
       "    <tr>\n",
       "      <th>2</th>\n",
       "      <td>00013b17ad220c46</td>\n",
       "      <td>`` == Sources == * Zawe Ashton on Lapland — / ``</td>\n",
       "      <td>-0.587027</td>\n",
       "      <td>-0.194455</td>\n",
       "      <td>-0.493371</td>\n",
       "      <td>-0.136330</td>\n",
       "      <td>0.367731</td>\n",
       "      <td>-0.025546</td>\n",
       "      <td>-0.282584</td>\n",
       "      <td>-0.624427</td>\n",
       "      <td>0.659476</td>\n",
       "      <td>-0.565724</td>\n",
       "      <td>-0.772251</td>\n",
       "      <td>0.330346</td>\n",
       "    </tr>\n",
       "    <tr>\n",
       "      <th>3</th>\n",
       "      <td>00017563c3f7919a</td>\n",
       "      <td>: If you have a look back at the source , the ...</td>\n",
       "      <td>-0.318605</td>\n",
       "      <td>-0.194455</td>\n",
       "      <td>-0.317559</td>\n",
       "      <td>-0.136330</td>\n",
       "      <td>-0.345183</td>\n",
       "      <td>-0.025546</td>\n",
       "      <td>-0.282584</td>\n",
       "      <td>-0.232894</td>\n",
       "      <td>-0.122056</td>\n",
       "      <td>-0.300757</td>\n",
       "      <td>-0.341527</td>\n",
       "      <td>-0.351005</td>\n",
       "    </tr>\n",
       "    <tr>\n",
       "      <th>4</th>\n",
       "      <td>00017695ad8997eb</td>\n",
       "      <td>I do n't anonymously edit article at all .</td>\n",
       "      <td>-0.596969</td>\n",
       "      <td>-0.194455</td>\n",
       "      <td>-0.571510</td>\n",
       "      <td>-0.167409</td>\n",
       "      <td>-0.292375</td>\n",
       "      <td>-0.025546</td>\n",
       "      <td>-0.282584</td>\n",
       "      <td>-0.546120</td>\n",
       "      <td>-0.122056</td>\n",
       "      <td>-0.590565</td>\n",
       "      <td>-0.791829</td>\n",
       "      <td>1.401041</td>\n",
       "    </tr>\n",
       "  </tbody>\n",
       "</table>\n",
       "</div>"
      ],
      "text/plain": [
       "                 id                                       comment_text  \\\n",
       "0  00001cee341fdb12  Yo bitch Ja Rule is more succesful then you 'l...   \n",
       "1  0000247867823ef7   == From RfC == The title is fine a it is , IMO .   \n",
       "2  00013b17ad220c46   `` == Sources == * Zawe Ashton on Lapland — / ``   \n",
       "3  00017563c3f7919a  : If you have a look back at the source , the ...   \n",
       "4  00017695ad8997eb         I do n't anonymously edit article at all .   \n",
       "\n",
       "        len  num_numbers  num_non-word  num_capitals  caps_vs_len  \\\n",
       "0 -0.055153    -0.194455     -0.037562     -0.136330    -0.436202   \n",
       "1 -0.587027    -0.194455     -0.512906     -0.105251     1.060842   \n",
       "2 -0.587027    -0.194455     -0.493371     -0.136330     0.367731   \n",
       "3 -0.318605    -0.194455     -0.317559     -0.136330    -0.345183   \n",
       "4 -0.596969    -0.194455     -0.571510     -0.167409    -0.292375   \n",
       "\n",
       "   num_exclamation_marks  num_question_marks  num_punctuation  num_symbols  \\\n",
       "0              -0.025546           -0.282584         0.236945    -0.122056   \n",
       "1              -0.025546           -0.282584        -0.467814    -0.122056   \n",
       "2              -0.025546           -0.282584        -0.624427     0.659476   \n",
       "3              -0.025546           -0.282584        -0.232894    -0.122056   \n",
       "4              -0.025546           -0.282584        -0.546120    -0.122056   \n",
       "\n",
       "   num_words  num_unique_words  words_vs_unique  \n",
       "0   0.005612          0.324138         0.211380  \n",
       "1  -0.549164         -0.733094         0.483303  \n",
       "2  -0.565724         -0.772251         0.330346  \n",
       "3  -0.300757         -0.341527        -0.351005  \n",
       "4  -0.590565         -0.791829         1.401041  "
      ]
     },
     "execution_count": 14,
     "metadata": {},
     "output_type": "execute_result"
    }
   ],
   "source": [
    "test_df.head()"
   ]
  },
  {
   "cell_type": "markdown",
   "metadata": {},
   "source": [
    "### Modeling"
   ]
  },
  {
   "cell_type": "code",
   "execution_count": 15,
   "metadata": {
    "collapsed": true
   },
   "outputs": [],
   "source": [
    "features = train_df.columns.difference(columns)\n",
    "train_df[\"comment_text\"].fillna(\" \", inplace=True)\n",
    "test_df[\"comment_text\"].fillna(\" \", inplace=True)\n",
    "\n",
    "x_train = train_df[features].drop('id', axis=1)\n",
    "x_test  = test_df[features].drop('id', axis=1)\n",
    "y_train = train_df[columns]"
   ]
  },
  {
   "cell_type": "code",
   "execution_count": 16,
   "metadata": {},
   "outputs": [
    {
     "data": {
      "text/html": [
       "<div>\n",
       "<style>\n",
       "    .dataframe thead tr:only-child th {\n",
       "        text-align: right;\n",
       "    }\n",
       "\n",
       "    .dataframe thead th {\n",
       "        text-align: left;\n",
       "    }\n",
       "\n",
       "    .dataframe tbody tr th {\n",
       "        vertical-align: top;\n",
       "    }\n",
       "</style>\n",
       "<table border=\"1\" class=\"dataframe\">\n",
       "  <thead>\n",
       "    <tr style=\"text-align: right;\">\n",
       "      <th></th>\n",
       "      <th>caps_vs_len</th>\n",
       "      <th>comment_text</th>\n",
       "      <th>len</th>\n",
       "      <th>num_capitals</th>\n",
       "      <th>num_exclamation_marks</th>\n",
       "      <th>num_non-word</th>\n",
       "      <th>num_numbers</th>\n",
       "      <th>num_punctuation</th>\n",
       "      <th>num_question_marks</th>\n",
       "      <th>num_symbols</th>\n",
       "      <th>num_unique_words</th>\n",
       "      <th>num_words</th>\n",
       "      <th>words_vs_unique</th>\n",
       "    </tr>\n",
       "  </thead>\n",
       "  <tbody>\n",
       "    <tr>\n",
       "      <th>0</th>\n",
       "      <td>0.144424</td>\n",
       "      <td>Explanation Why the edits made under my userna...</td>\n",
       "      <td>-0.220846</td>\n",
       "      <td>-0.001654</td>\n",
       "      <td>-0.025546</td>\n",
       "      <td>-0.258955</td>\n",
       "      <td>0.335426</td>\n",
       "      <td>-0.154587</td>\n",
       "      <td>0.346388</td>\n",
       "      <td>-0.122056</td>\n",
       "      <td>-0.106586</td>\n",
       "      <td>-0.259355</td>\n",
       "      <td>0.745514</td>\n",
       "    </tr>\n",
       "    <tr>\n",
       "      <th>1</th>\n",
       "      <td>0.189114</td>\n",
       "      <td>D'aww ! He match this background colour I 'm s...</td>\n",
       "      <td>-0.469385</td>\n",
       "      <td>-0.094891</td>\n",
       "      <td>0.013065</td>\n",
       "      <td>-0.389186</td>\n",
       "      <td>0.394302</td>\n",
       "      <td>-0.232894</td>\n",
       "      <td>-0.282584</td>\n",
       "      <td>-0.122056</td>\n",
       "      <td>-0.517732</td>\n",
       "      <td>-0.441521</td>\n",
       "      <td>0.449312</td>\n",
       "    </tr>\n",
       "    <tr>\n",
       "      <th>2</th>\n",
       "      <td>-0.370814</td>\n",
       "      <td>Hey man , I 'm really not trying to edit war ....</td>\n",
       "      <td>-0.270554</td>\n",
       "      <td>-0.136330</td>\n",
       "      <td>-0.025546</td>\n",
       "      <td>-0.291513</td>\n",
       "      <td>-0.194455</td>\n",
       "      <td>-0.311200</td>\n",
       "      <td>-0.282584</td>\n",
       "      <td>-0.122056</td>\n",
       "      <td>-0.126165</td>\n",
       "      <td>-0.267636</td>\n",
       "      <td>0.731857</td>\n",
       "    </tr>\n",
       "    <tr>\n",
       "      <th>3</th>\n",
       "      <td>-0.362786</td>\n",
       "      <td>`` More I ca n't make any real suggestion on i...</td>\n",
       "      <td>0.377306</td>\n",
       "      <td>-0.063812</td>\n",
       "      <td>-0.025546</td>\n",
       "      <td>0.353131</td>\n",
       "      <td>-0.194455</td>\n",
       "      <td>-0.154587</td>\n",
       "      <td>-0.282584</td>\n",
       "      <td>0.659476</td>\n",
       "      <td>0.794019</td>\n",
       "      <td>0.394784</td>\n",
       "      <td>-0.506134</td>\n",
       "    </tr>\n",
       "    <tr>\n",
       "      <th>4</th>\n",
       "      <td>-0.248368</td>\n",
       "      <td>You , sir , are my hero . Any chance you remem...</td>\n",
       "      <td>-0.547261</td>\n",
       "      <td>-0.157049</td>\n",
       "      <td>-0.025546</td>\n",
       "      <td>-0.493371</td>\n",
       "      <td>-0.194455</td>\n",
       "      <td>-0.389507</td>\n",
       "      <td>0.346388</td>\n",
       "      <td>-0.122056</td>\n",
       "      <td>-0.635202</td>\n",
       "      <td>-0.516043</td>\n",
       "      <td>1.044143</td>\n",
       "    </tr>\n",
       "  </tbody>\n",
       "</table>\n",
       "</div>"
      ],
      "text/plain": [
       "   caps_vs_len                                       comment_text       len  \\\n",
       "0     0.144424  Explanation Why the edits made under my userna... -0.220846   \n",
       "1     0.189114  D'aww ! He match this background colour I 'm s... -0.469385   \n",
       "2    -0.370814  Hey man , I 'm really not trying to edit war .... -0.270554   \n",
       "3    -0.362786  `` More I ca n't make any real suggestion on i...  0.377306   \n",
       "4    -0.248368  You , sir , are my hero . Any chance you remem... -0.547261   \n",
       "\n",
       "   num_capitals  num_exclamation_marks  num_non-word  num_numbers  \\\n",
       "0     -0.001654              -0.025546     -0.258955     0.335426   \n",
       "1     -0.094891               0.013065     -0.389186     0.394302   \n",
       "2     -0.136330              -0.025546     -0.291513    -0.194455   \n",
       "3     -0.063812              -0.025546      0.353131    -0.194455   \n",
       "4     -0.157049              -0.025546     -0.493371    -0.194455   \n",
       "\n",
       "   num_punctuation  num_question_marks  num_symbols  num_unique_words  \\\n",
       "0        -0.154587            0.346388    -0.122056         -0.106586   \n",
       "1        -0.232894           -0.282584    -0.122056         -0.517732   \n",
       "2        -0.311200           -0.282584    -0.122056         -0.126165   \n",
       "3        -0.154587           -0.282584     0.659476          0.794019   \n",
       "4        -0.389507            0.346388    -0.122056         -0.635202   \n",
       "\n",
       "   num_words  words_vs_unique  \n",
       "0  -0.259355         0.745514  \n",
       "1  -0.441521         0.449312  \n",
       "2  -0.267636         0.731857  \n",
       "3   0.394784        -0.506134  \n",
       "4  -0.516043         1.044143  "
      ]
     },
     "execution_count": 16,
     "metadata": {},
     "output_type": "execute_result"
    }
   ],
   "source": [
    "x_train.head()"
   ]
  },
  {
   "cell_type": "code",
   "execution_count": 17,
   "metadata": {},
   "outputs": [
    {
     "data": {
      "text/html": [
       "<div>\n",
       "<style>\n",
       "    .dataframe thead tr:only-child th {\n",
       "        text-align: right;\n",
       "    }\n",
       "\n",
       "    .dataframe thead th {\n",
       "        text-align: left;\n",
       "    }\n",
       "\n",
       "    .dataframe tbody tr th {\n",
       "        vertical-align: top;\n",
       "    }\n",
       "</style>\n",
       "<table border=\"1\" class=\"dataframe\">\n",
       "  <thead>\n",
       "    <tr style=\"text-align: right;\">\n",
       "      <th></th>\n",
       "      <th>toxic</th>\n",
       "      <th>severe_toxic</th>\n",
       "      <th>obscene</th>\n",
       "      <th>threat</th>\n",
       "      <th>insult</th>\n",
       "      <th>identity_hate</th>\n",
       "    </tr>\n",
       "  </thead>\n",
       "  <tbody>\n",
       "    <tr>\n",
       "      <th>0</th>\n",
       "      <td>0</td>\n",
       "      <td>0</td>\n",
       "      <td>0</td>\n",
       "      <td>0</td>\n",
       "      <td>0</td>\n",
       "      <td>0</td>\n",
       "    </tr>\n",
       "    <tr>\n",
       "      <th>1</th>\n",
       "      <td>0</td>\n",
       "      <td>0</td>\n",
       "      <td>0</td>\n",
       "      <td>0</td>\n",
       "      <td>0</td>\n",
       "      <td>0</td>\n",
       "    </tr>\n",
       "    <tr>\n",
       "      <th>2</th>\n",
       "      <td>0</td>\n",
       "      <td>0</td>\n",
       "      <td>0</td>\n",
       "      <td>0</td>\n",
       "      <td>0</td>\n",
       "      <td>0</td>\n",
       "    </tr>\n",
       "    <tr>\n",
       "      <th>3</th>\n",
       "      <td>0</td>\n",
       "      <td>0</td>\n",
       "      <td>0</td>\n",
       "      <td>0</td>\n",
       "      <td>0</td>\n",
       "      <td>0</td>\n",
       "    </tr>\n",
       "    <tr>\n",
       "      <th>4</th>\n",
       "      <td>0</td>\n",
       "      <td>0</td>\n",
       "      <td>0</td>\n",
       "      <td>0</td>\n",
       "      <td>0</td>\n",
       "      <td>0</td>\n",
       "    </tr>\n",
       "  </tbody>\n",
       "</table>\n",
       "</div>"
      ],
      "text/plain": [
       "   toxic  severe_toxic  obscene  threat  insult  identity_hate\n",
       "0      0             0        0       0       0              0\n",
       "1      0             0        0       0       0              0\n",
       "2      0             0        0       0       0              0\n",
       "3      0             0        0       0       0              0\n",
       "4      0             0        0       0       0              0"
      ]
     },
     "execution_count": 17,
     "metadata": {},
     "output_type": "execute_result"
    }
   ],
   "source": [
    "y_train.head()"
   ]
  },
  {
   "cell_type": "markdown",
   "metadata": {},
   "source": [
    "#### Embeddings"
   ]
  },
  {
   "cell_type": "code",
   "execution_count": 18,
   "metadata": {
    "collapsed": true
   },
   "outputs": [],
   "source": [
    "from tqdm import tqdm"
   ]
  },
  {
   "cell_type": "code",
   "execution_count": 19,
   "metadata": {},
   "outputs": [
    {
     "name": "stderr",
     "output_type": "stream",
     "text": [
      "C:\\Users\\paula.ceccon.ribeiro\\AppData\\Local\\Continuum\\Anaconda3\\lib\\site-packages\\gensim\\utils.py:865: UserWarning: detected Windows; aliasing chunkize to chunkize_serial\n",
      "  warnings.warn(\"detected Windows; aliasing chunkize to chunkize_serial\")\n",
      "C:\\Users\\paula.ceccon.ribeiro\\AppData\\Local\\Continuum\\Anaconda3\\lib\\site-packages\\h5py\\__init__.py:34: FutureWarning: Conversion of the second argument of issubdtype from `float` to `np.floating` is deprecated. In future, it will be treated as `np.float64 == np.dtype(float).type`.\n",
      "  from ._conv import register_converters as _register_converters\n",
      "Using TensorFlow backend.\n"
     ]
    }
   ],
   "source": [
    "# load the vectors in a dictionary:\n",
    "import gensim.models.keyedvectors as word2vec\n",
    "\n",
    "def load_embeddings(path, embedding, split=\" \", encoding='utf8'):\n",
    "    embeddings_index = {}\n",
    "    \n",
    "    if(embedding==\"glove\" or embedding==\"fasttext\" ):\n",
    "        f = open(path, encoding=encoding)\n",
    "        for line in tqdm(f):\n",
    "            print(line)\n",
    "            break\n",
    "            values = line.split(split)\n",
    "            word = values[0]\n",
    "            try:\n",
    "                coefs = np.asarray(values[1:], dtype='float32')\n",
    "            except:\n",
    "                continue\n",
    "            embeddings_index[word] = coefs\n",
    "        f.close() \n",
    "    else:\n",
    "        word2vecDict = word2vec.KeyedVectors.load_word2vec_format(path, binary=True)\n",
    "        for word in tqdm(word2vecDict.wv.vocab):\n",
    "            embeddings_index[word] = word2vecDict.word_vec(word)\n",
    "               \n",
    "    print('Found %s word vectors.' % len(embeddings_index))\n",
    "\n",
    "    return embeddings_index"
   ]
  },
  {
   "cell_type": "code",
   "execution_count": 20,
   "metadata": {
    "code_folding": [],
    "collapsed": true
   },
   "outputs": [],
   "source": [
    "# this function creates a normalized vector for the whole sentence\n",
    "def sent2vec(s, embeddings_index):\n",
    "    words = str(s).lower()\n",
    "    words = word_tokenize(words)\n",
    "    words = [w for w in words if not w in stop_words]\n",
    "    words = [w for w in words if w.isalpha()]\n",
    "    M = []\n",
    "    for w in words:\n",
    "        try:\n",
    "            M.append(embeddings_index[w])\n",
    "        except:\n",
    "            continue\n",
    "    M = np.array(M)\n",
    "    v = M.sum(axis=0)\n",
    "    if type(v) != np.ndarray:\n",
    "        return np.zeros(300)\n",
    "    return v / np.sqrt((v ** 2).sum())"
   ]
  },
  {
   "cell_type": "code",
   "execution_count": 21,
   "metadata": {
    "collapsed": true
   },
   "outputs": [],
   "source": [
    "def embedding_matrix(embeddings_index):\n",
    "    word_index = tokenizer.word_index\n",
    "\n",
    "    # create an embedding matrix for the words we have in the dataset\n",
    "    embedding_matrix = np.zeros((len(word_index) + 1, 300))\n",
    "    for word, i in tqdm(word_index.items()):\n",
    "        embedding_vector = embeddings_index.get(word)\n",
    "        if embedding_vector is not None:\n",
    "            embedding_matrix[i] = embedding_vector\n",
    "            \n",
    "    return embedding_matrix"
   ]
  },
  {
   "cell_type": "markdown",
   "metadata": {},
   "source": [
    "#### Deep Learning"
   ]
  },
  {
   "cell_type": "code",
   "execution_count": 22,
   "metadata": {},
   "outputs": [],
   "source": [
    "from keras.models import Model, Sequential\n",
    "from keras.layers import Dense, Embedding, Input, Activation\n",
    "from keras.layers import Flatten, Dropout, GlobalMaxPool1D, SpatialDropout1D\n",
    "from keras.layers import LSTM, Bidirectional, GRU, CuDNNGRU, concatenate\n",
    "from keras.preprocessing import text, sequence\n",
    "from keras.callbacks import EarlyStopping, Callback\n",
    "from keras.layers.normalization import BatchNormalization\n",
    "from keras.models import load_model\n",
    "import keras.backend as K"
   ]
  },
  {
   "cell_type": "code",
   "execution_count": 23,
   "metadata": {
    "code_folding": [],
    "collapsed": true
   },
   "outputs": [],
   "source": [
    "from IPython.display import clear_output\n",
    "\n",
    "class PlotLosses(Callback):\n",
    "    def on_train_begin(self, logs={}):\n",
    "        self.i = 0\n",
    "        self.x = []\n",
    "        self.losses = []\n",
    "        self.val_losses = []\n",
    "        \n",
    "        self.fig = plt.figure()\n",
    "        \n",
    "        self.logs = []\n",
    "\n",
    "    def on_epoch_end(self, epoch, logs={}):\n",
    "        \n",
    "        self.logs.append(logs)\n",
    "        self.x.append(self.i)\n",
    "        self.losses.append(logs.get('loss'))\n",
    "        self.val_losses.append(logs.get('val_loss'))\n",
    "        self.i += 1\n",
    "        \n",
    "        clear_output(wait=True)\n",
    "        plt.figure(figsize=(10, 5))\n",
    "        plt.plot(self.x, self.losses, label='loss')\n",
    "        plt.plot(self.x, self.val_losses, label='val_loss')\n",
    "        plt.legend()\n",
    "        plt.show();\n",
    "        \n",
    "plot_losses = PlotLosses()"
   ]
  },
  {
   "cell_type": "code",
   "execution_count": 24,
   "metadata": {},
   "outputs": [
    {
     "data": {
      "text/plain": [
       "402.2861798196414"
      ]
     },
     "execution_count": 24,
     "metadata": {},
     "output_type": "execute_result"
    }
   ],
   "source": [
    "x_train['comment_text'].str.len().mean()"
   ]
  },
  {
   "cell_type": "code",
   "execution_count": 25,
   "metadata": {},
   "outputs": [
    {
     "data": {
      "text/plain": [
       "370.91567861899665"
      ]
     },
     "execution_count": 25,
     "metadata": {},
     "output_type": "execute_result"
    }
   ],
   "source": [
    "x_test['comment_text'].str.len().mean()"
   ]
  },
  {
   "cell_type": "code",
   "execution_count": 26,
   "metadata": {
    "collapsed": true
   },
   "outputs": [],
   "source": [
    "max_features = 50000\n",
    "maxlen = 300"
   ]
  },
  {
   "cell_type": "code",
   "execution_count": 27,
   "metadata": {
    "collapsed": true
   },
   "outputs": [],
   "source": [
    "tokenizer = text.Tokenizer(num_words=max_features)\n",
    "tokenizer.fit_on_texts(list(x_train['comment_text']))\n",
    "\n",
    "X_train = tokenizer.texts_to_sequences(x_train['comment_text'])\n",
    "X_test  = tokenizer.texts_to_sequences(x_test['comment_text'])\n",
    "X_train = sequence.pad_sequences(X_train, maxlen=maxlen)\n",
    "X_test  = sequence.pad_sequences(X_test,  maxlen=maxlen)"
   ]
  },
  {
   "cell_type": "markdown",
   "metadata": {},
   "source": [
    "Model based on:\n",
    "https://github.com/PavelOstyakov/toxic/blob/master/toxic/model.py"
   ]
  },
  {
   "cell_type": "code",
   "execution_count": 28,
   "metadata": {
    "collapsed": true
   },
   "outputs": [],
   "source": [
    "selected_features = ['caps_vs_len', \n",
    "                     'num_exclamation_marks', \n",
    "                     'num_punctuation', \n",
    "                     'num_unique_words']"
   ]
  },
  {
   "cell_type": "code",
   "execution_count": 29,
   "metadata": {
    "code_folding": [],
    "collapsed": true
   },
   "outputs": [],
   "source": [
    "def get_keras_data(dataset, df_features):\n",
    "    \n",
    "    X = {\n",
    "        'comment_input' : dataset,\n",
    "        'features_input' : df_features[selected_features]\n",
    "    }\n",
    "    \n",
    "    return X\n",
    "\n",
    "X_train_ = get_keras_data(X_train, x_train)\n",
    "X_test_  = get_keras_data(X_test, x_test)"
   ]
  },
  {
   "cell_type": "code",
   "execution_count": 30,
   "metadata": {
    "code_folding": [],
    "collapsed": true
   },
   "outputs": [],
   "source": [
    "def get_model(embedding_matrix, sequence_length, dropout_rate, recurrent_units, dense_size):\n",
    "    comment_input = Input(shape=(sequence_length,), name='comment_input')\n",
    "    features_input = Input(shape=[X_train_['features_input'].shape[1]], name='features_input')\n",
    "    \n",
    "    embedding_layer = Embedding(embedding_matrix.shape[0], embedding_matrix.shape[1],\n",
    "                                weights=[embedding_matrix], trainable=False)(comment_input)\n",
    "    \n",
    "    bidirecti_layer = Bidirectional(CuDNNGRU(recurrent_units, return_sequences=True))(embedding_layer)\n",
    "    bidirecti_layer = Dropout(dropout_rate)(bidirecti_layer)\n",
    "    bidirecti_layer = Bidirectional(CuDNNGRU(recurrent_units, return_sequences=False))(bidirecti_layer)\n",
    "    bidirecti_layer = Dense(dense_size, activation=\"relu\")(bidirecti_layer)\n",
    "    bidirecti_layer = BatchNormalization()(bidirecti_layer)\n",
    "    \n",
    "    main_layer = concatenate([\n",
    "        bidirecti_layer,\n",
    "        features_input\n",
    "    ])\n",
    "    \n",
    "    main_layer = BatchNormalization()(main_layer)\n",
    "    main_layer = Dense(64, activation=\"relu\")(main_layer)\n",
    "    main_layer = Dropout(dropout_rate)(main_layer)\n",
    "    main_layer = Dense(32, activation=\"relu\")(main_layer)\n",
    "    main_layer = Dropout(dropout_rate)(main_layer)\n",
    "    output_layer = Dense(6, activation=\"sigmoid\")(main_layer)\n",
    "\n",
    "    model = Model([comment_input, features_input], outputs=output_layer)\n",
    "    model.compile(loss='binary_crossentropy',\n",
    "                  optimizer='adam',\n",
    "                  metrics=['accuracy'])\n",
    "\n",
    "    return model"
   ]
  },
  {
   "cell_type": "code",
   "execution_count": 31,
   "metadata": {
    "collapsed": true
   },
   "outputs": [],
   "source": [
    "early_stopping = EarlyStopping(monitor='val_loss', patience=2)\n",
    "epochs = 20"
   ]
  },
  {
   "cell_type": "markdown",
   "metadata": {},
   "source": [
    "##### GloVe\n",
    "https://nlp.stanford.edu/projects/glove/"
   ]
  },
  {
   "cell_type": "code",
   "execution_count": 33,
   "metadata": {
    "deletable": false,
    "editable": false
   },
   "outputs": [
    {
     "name": "stderr",
     "output_type": "stream",
     "text": [
      "2196017it [03:18, 11052.39it/s]\n"
     ]
    },
    {
     "name": "stdout",
     "output_type": "stream",
     "text": [
      "Found 2196016 word vectors.\n"
     ]
    }
   ],
   "source": [
    "glove_path = 'Embeddings/glove.840B.300d.txt'\n",
    "glove_embeddings_index = load_embeddings(glove_path)"
   ]
  },
  {
   "cell_type": "code",
   "execution_count": 34,
   "metadata": {
    "deletable": false,
    "editable": false
   },
   "outputs": [
    {
     "name": "stderr",
     "output_type": "stream",
     "text": [
      "100%|██████████████████████████████████████████████████████████████████████| 190542/190542 [00:00<00:00, 412522.55it/s]\n"
     ]
    }
   ],
   "source": [
    "glove_embedding_matrix = embedding_matrix(glove_embeddings_index)"
   ]
  },
  {
   "cell_type": "code",
   "execution_count": 35,
   "metadata": {
    "deletable": false,
    "editable": false
   },
   "outputs": [
    {
     "data": {
      "text/plain": [
       "(190543, 300)"
      ]
     },
     "execution_count": 35,
     "metadata": {},
     "output_type": "execute_result"
    }
   ],
   "source": [
    "glove_embedding_matrix.shape"
   ]
  },
  {
   "cell_type": "code",
   "execution_count": 36,
   "metadata": {
    "collapsed": true,
    "deletable": false,
    "editable": false
   },
   "outputs": [],
   "source": [
    "model = get_model(glove_embedding_matrix, maxlen, 0.3, 128, 32)"
   ]
  },
  {
   "cell_type": "code",
   "execution_count": 37,
   "metadata": {
    "deletable": false,
    "editable": false,
    "scrolled": false
   },
   "outputs": [
    {
     "data": {
      "image/png": "[encoded data removed]",
      "text/plain": [
       "<matplotlib.figure.Figure at 0x285e8fc0f60>"
      ]
     },
     "metadata": {},
     "output_type": "display_data"
    },
    {
     "name": "stdout",
     "output_type": "stream",
     "text": [
      " - 827s - loss: 0.0418 - acc: 0.9835 - val_loss: 0.0523 - val_acc: 0.9826\n"
     ]
    },
    {
     "data": {
      "text/plain": [
       "<keras.callbacks.History at 0x285de791e10>"
      ]
     },
     "execution_count": 37,
     "metadata": {},
     "output_type": "execute_result"
    }
   ],
   "source": [
    "model.fit(X_train_, y_train.values, epochs=epochs, verbose=2, validation_split=0.3, callbacks=[plot_losses, early_stopping])"
   ]
  },
  {
   "cell_type": "code",
   "execution_count": 38,
   "metadata": {
    "collapsed": true,
    "deletable": false,
    "editable": false
   },
   "outputs": [],
   "source": [
    "y_pred = model.predict(X_test_)"
   ]
  },
  {
   "cell_type": "code",
   "execution_count": 39,
   "metadata": {
    "collapsed": true,
    "deletable": false,
    "editable": false
   },
   "outputs": [],
   "source": [
    "y_df = pd.DataFrame(y_pred, columns=columns)\n",
    "submission = pd.concat([test_df['id'], y_df], axis=1)\n",
    "submission.to_csv('glove.csv', index=False)"
   ]
  },
  {
   "cell_type": "markdown",
   "metadata": {},
   "source": [
    "Score: 0.9493 "
   ]
  },
  {
   "cell_type": "markdown",
   "metadata": {},
   "source": [
    "##### FastText\n",
    "https://github.com/facebookresearch/fastText/blob/master/docs/english-vectors.md"
   ]
  },
  {
   "cell_type": "code",
   "execution_count": 32,
   "metadata": {
    "collapsed": true,
    "deletable": false,
    "editable": false
   },
   "outputs": [],
   "source": [
    "import gc\n",
    "\n",
    "for i in range(10):\n",
    "    gc.collect()\n",
    "    K.clear_session()"
   ]
  },
  {
   "cell_type": "code",
   "execution_count": 33,
   "metadata": {
    "scrolled": true
   },
   "outputs": [
    {
     "name": "stderr",
     "output_type": "stream",
     "text": [
      "111051it [00:01, 87102.97it/s]\n"
     ]
    },
    {
     "name": "stdout",
     "output_type": "stream",
     "text": [
      "Found 110938 word vectors.\n"
     ]
    }
   ],
   "source": [
    "fast_path = 'Embeddings/wiki.simple.vec'\n",
    "fast_embeddings_index = load_embeddings(fast_path, skiplines=1, split=\",\")"
   ]
  },
  {
   "cell_type": "code",
   "execution_count": 34,
   "metadata": {
    "deletable": false,
    "editable": false
   },
   "outputs": [
    {
     "name": "stderr",
     "output_type": "stream",
     "text": [
      "100%|█████████████████████████████████████████████████████████████████████| 190542/190542 [00:00<00:00, 1773737.37it/s]\n"
     ]
    }
   ],
   "source": [
    "fast_embedding_matrix = embedding_matrix(fast_embeddings_index)"
   ]
  },
  {
   "cell_type": "code",
   "execution_count": 35,
   "metadata": {
    "deletable": false,
    "editable": false,
    "scrolled": true
   },
   "outputs": [
    {
     "data": {
      "text/plain": [
       "(190543, 300)"
      ]
     },
     "execution_count": 35,
     "metadata": {},
     "output_type": "execute_result"
    }
   ],
   "source": [
    "fast_embedding_matrix.shape"
   ]
  },
  {
   "cell_type": "code",
   "execution_count": 36,
   "metadata": {
    "deletable": false,
    "editable": false
   },
   "outputs": [
    {
     "name": "stdout",
     "output_type": "stream",
     "text": [
      "__________________________________________________________________________________________________\n",
      "Layer (type)                    Output Shape         Param #     Connected to                     \n",
      "==================================================================================================\n",
      "comment_input (InputLayer)      (None, 300)          0                                            \n",
      "__________________________________________________________________________________________________\n",
      "embedding_1 (Embedding)         (None, 300, 300)     57162900    comment_input[0][0]              \n",
      "__________________________________________________________________________________________________\n",
      "bidirectional_1 (Bidirectional) (None, 300, 256)     330240      embedding_1[0][0]                \n",
      "__________________________________________________________________________________________________\n",
      "dropout_1 (Dropout)             (None, 300, 256)     0           bidirectional_1[0][0]            \n",
      "__________________________________________________________________________________________________\n",
      "bidirectional_2 (Bidirectional) (None, 256)          296448      dropout_1[0][0]                  \n",
      "__________________________________________________________________________________________________\n",
      "dense_1 (Dense)                 (None, 32)           8224        bidirectional_2[0][0]            \n",
      "__________________________________________________________________________________________________\n",
      "batch_normalization_1 (BatchNor (None, 32)           128         dense_1[0][0]                    \n",
      "__________________________________________________________________________________________________\n",
      "features_input (InputLayer)     (None, 4)            0                                            \n",
      "__________________________________________________________________________________________________\n",
      "concatenate_1 (Concatenate)     (None, 36)           0           batch_normalization_1[0][0]      \n",
      "                                                                 features_input[0][0]             \n",
      "__________________________________________________________________________________________________\n",
      "batch_normalization_2 (BatchNor (None, 36)           144         concatenate_1[0][0]              \n",
      "__________________________________________________________________________________________________\n",
      "dense_2 (Dense)                 (None, 64)           2368        batch_normalization_2[0][0]      \n",
      "__________________________________________________________________________________________________\n",
      "dropout_2 (Dropout)             (None, 64)           0           dense_2[0][0]                    \n",
      "__________________________________________________________________________________________________\n",
      "dense_3 (Dense)                 (None, 32)           2080        dropout_2[0][0]                  \n",
      "__________________________________________________________________________________________________\n",
      "dropout_3 (Dropout)             (None, 32)           0           dense_3[0][0]                    \n",
      "__________________________________________________________________________________________________\n",
      "dense_4 (Dense)                 (None, 6)            198         dropout_3[0][0]                  \n",
      "==================================================================================================\n",
      "Total params: 57,802,730\n",
      "Trainable params: 639,694\n",
      "Non-trainable params: 57,163,036\n",
      "__________________________________________________________________________________________________\n"
     ]
    }
   ],
   "source": [
    "model = get_model(fast_embedding_matrix, maxlen, 0.4, 128, 32)\n",
    "model.summary()"
   ]
  },
  {
   "cell_type": "code",
   "execution_count": 37,
   "metadata": {
    "deletable": false,
    "editable": false
   },
   "outputs": [
    {
     "data": {
      "image/png": "[encoded data removed]",
      "text/plain": [
       "<matplotlib.figure.Figure at 0x20790dd99e8>"
      ]
     },
     "metadata": {},
     "output_type": "display_data"
    },
    {
     "name": "stdout",
     "output_type": "stream",
     "text": [
      " - 824s - loss: 0.1318 - acc: 0.9636 - val_loss: 0.1302 - val_acc: 0.9641\n"
     ]
    },
    {
     "data": {
      "text/plain": [
       "<keras.callbacks.History at 0x207907b8dd8>"
      ]
     },
     "execution_count": 37,
     "metadata": {},
     "output_type": "execute_result"
    }
   ],
   "source": [
    "early_stopping = EarlyStopping(monitor='val_loss', patience=2)\n",
    "epochs = 20\n",
    "\n",
    "model.fit(X_train_, y_train.values, epochs=epochs, verbose=2, validation_split=0.3, callbacks=[plot_losses, early_stopping])"
   ]
  },
  {
   "cell_type": "code",
   "execution_count": 38,
   "metadata": {
    "collapsed": true,
    "deletable": false,
    "editable": false
   },
   "outputs": [],
   "source": [
    "y_pred = model.predict(X_test_)"
   ]
  },
  {
   "cell_type": "code",
   "execution_count": 39,
   "metadata": {
    "collapsed": true,
    "deletable": false,
    "editable": false
   },
   "outputs": [],
   "source": [
    "y_df = pd.DataFrame(y_pred, columns=columns)\n",
    "submission = pd.concat([test_df['id'], y_df], axis=1)\n",
    "submission.to_csv('fasttext.csv', index=False)"
   ]
  },
  {
   "cell_type": "markdown",
   "metadata": {},
   "source": [
    "Score: 0.7498"
   ]
  },
  {
   "cell_type": "markdown",
   "metadata": {
    "heading_collapsed": true
   },
   "source": [
    "##### word2vec"
   ]
  },
  {
   "cell_type": "markdown",
   "metadata": {
    "hidden": true
   },
   "source": [
    "https://code.google.com/archive/p/word2vec/"
   ]
  },
  {
   "cell_type": "code",
   "execution_count": 32,
   "metadata": {
    "collapsed": true,
    "deletable": false,
    "editable": false,
    "hidden": true
   },
   "outputs": [],
   "source": [
    "import gc\n",
    "\n",
    "for i in range(10):\n",
    "    gc.collect()\n",
    "    K.clear_session()"
   ]
  },
  {
   "cell_type": "code",
   "execution_count": 33,
   "metadata": {
    "deletable": false,
    "editable": false,
    "hidden": true
   },
   "outputs": [
    {
     "name": "stderr",
     "output_type": "stream",
     "text": [
      "100%|████████████████████████████████████████████████████████████████████| 3000000/3000000 [00:03<00:00, 778580.84it/s]\n"
     ]
    },
    {
     "name": "stdout",
     "output_type": "stream",
     "text": [
      "Found 3000000 word vectors.\n"
     ]
    }
   ],
   "source": [
    "word2vec_path = 'Embeddings/GoogleNews-vectors-negative300.bin'\n",
    "word2vec_embeddings_index = load_embeddings(word2vec_path, embedding='word2vec', encoding='ISO-8859-1')"
   ]
  },
  {
   "cell_type": "code",
   "execution_count": 34,
   "metadata": {
    "deletable": false,
    "editable": false,
    "hidden": true
   },
   "outputs": [
    {
     "name": "stderr",
     "output_type": "stream",
     "text": [
      "100%|██████████████████████████████████████████████████████████████████████| 190542/190542 [00:00<00:00, 523462.46it/s]\n"
     ]
    }
   ],
   "source": [
    "word2vec_embedding_matrix = embedding_matrix(word2vec_embeddings_index)"
   ]
  },
  {
   "cell_type": "code",
   "execution_count": 35,
   "metadata": {
    "deletable": false,
    "editable": false,
    "hidden": true,
    "scrolled": true
   },
   "outputs": [
    {
     "data": {
      "text/plain": [
       "(190543, 300)"
      ]
     },
     "execution_count": 35,
     "metadata": {},
     "output_type": "execute_result"
    }
   ],
   "source": [
    "word2vec_embedding_matrix.shape"
   ]
  },
  {
   "cell_type": "code",
   "execution_count": 36,
   "metadata": {
    "deletable": false,
    "editable": false,
    "hidden": true
   },
   "outputs": [
    {
     "name": "stdout",
     "output_type": "stream",
     "text": [
      "__________________________________________________________________________________________________\n",
      "Layer (type)                    Output Shape         Param #     Connected to                     \n",
      "==================================================================================================\n",
      "comment_input (InputLayer)      (None, 300)          0                                            \n",
      "__________________________________________________________________________________________________\n",
      "embedding_1 (Embedding)         (None, 300, 300)     57162900    comment_input[0][0]              \n",
      "__________________________________________________________________________________________________\n",
      "bidirectional_1 (Bidirectional) (None, 300, 256)     330240      embedding_1[0][0]                \n",
      "__________________________________________________________________________________________________\n",
      "dropout_1 (Dropout)             (None, 300, 256)     0           bidirectional_1[0][0]            \n",
      "__________________________________________________________________________________________________\n",
      "bidirectional_2 (Bidirectional) (None, 256)          296448      dropout_1[0][0]                  \n",
      "__________________________________________________________________________________________________\n",
      "dense_1 (Dense)                 (None, 32)           8224        bidirectional_2[0][0]            \n",
      "__________________________________________________________________________________________________\n",
      "batch_normalization_1 (BatchNor (None, 32)           128         dense_1[0][0]                    \n",
      "__________________________________________________________________________________________________\n",
      "features_input (InputLayer)     (None, 4)            0                                            \n",
      "__________________________________________________________________________________________________\n",
      "concatenate_1 (Concatenate)     (None, 36)           0           batch_normalization_1[0][0]      \n",
      "                                                                 features_input[0][0]             \n",
      "__________________________________________________________________________________________________\n",
      "batch_normalization_2 (BatchNor (None, 36)           144         concatenate_1[0][0]              \n",
      "__________________________________________________________________________________________________\n",
      "dense_2 (Dense)                 (None, 64)           2368        batch_normalization_2[0][0]      \n",
      "__________________________________________________________________________________________________\n",
      "dropout_2 (Dropout)             (None, 64)           0           dense_2[0][0]                    \n",
      "__________________________________________________________________________________________________\n",
      "dense_3 (Dense)                 (None, 32)           2080        dropout_2[0][0]                  \n",
      "__________________________________________________________________________________________________\n",
      "dropout_3 (Dropout)             (None, 32)           0           dense_3[0][0]                    \n",
      "__________________________________________________________________________________________________\n",
      "dense_4 (Dense)                 (None, 6)            198         dropout_3[0][0]                  \n",
      "==================================================================================================\n",
      "Total params: 57,802,730\n",
      "Trainable params: 639,694\n",
      "Non-trainable params: 57,163,036\n",
      "__________________________________________________________________________________________________\n"
     ]
    }
   ],
   "source": [
    "model = get_model(word2vec_embedding_matrix, maxlen, 0.3, 128, 32)\n",
    "model.summary()"
   ]
  },
  {
   "cell_type": "code",
   "execution_count": 37,
   "metadata": {
    "deletable": false,
    "editable": false,
    "hidden": true
   },
   "outputs": [
    {
     "data": {
      "image/png": "[encoded data removed]",
      "text/plain": [
       "<matplotlib.figure.Figure at 0x26ce3b3bba8>"
      ]
     },
     "metadata": {},
     "output_type": "display_data"
    },
    {
     "name": "stdout",
     "output_type": "stream",
     "text": [
      " - 831s - loss: 0.0391 - acc: 0.9848 - val_loss: 0.0503 - val_acc: 0.9825\n"
     ]
    },
    {
     "data": {
      "text/plain": [
       "<keras.callbacks.History at 0x26ce432f240>"
      ]
     },
     "execution_count": 37,
     "metadata": {},
     "output_type": "execute_result"
    }
   ],
   "source": [
    "early_stopping = EarlyStopping(monitor='val_loss', patience=2)\n",
    "epochs = 20\n",
    "\n",
    "model.fit(X_train_, y_train.values, epochs=epochs, verbose=2, validation_split=0.3, callbacks=[plot_losses, early_stopping])"
   ]
  },
  {
   "cell_type": "code",
   "execution_count": 38,
   "metadata": {
    "collapsed": true,
    "deletable": false,
    "editable": false,
    "hidden": true
   },
   "outputs": [],
   "source": [
    "y_pred = model.predict(X_test_)"
   ]
  },
  {
   "cell_type": "code",
   "execution_count": 39,
   "metadata": {
    "collapsed": true,
    "deletable": false,
    "editable": false,
    "hidden": true
   },
   "outputs": [],
   "source": [
    "y_df = pd.DataFrame(y_pred, columns=columns)\n",
    "submission = pd.concat([test_df['id'], y_df], axis=1)\n",
    "submission.to_csv('word2vec.csv', index=False)"
   ]
  },
  {
   "cell_type": "markdown",
   "metadata": {
    "hidden": true
   },
   "source": [
    "Score: 0.9709"
   ]
  },
  {
   "cell_type": "markdown",
   "metadata": {
    "collapsed": true
   },
   "source": [
    "##### Going Simple"
   ]
  },
  {
   "cell_type": "code",
   "execution_count": 29,
   "metadata": {
    "collapsed": true
   },
   "outputs": [],
   "source": [
    "comment_input = Input((maxlen,))\n",
    "comment_emb = Embedding(max_features, 64, input_length=maxlen)(comment_input)\n",
    "\n",
    "# we add a GlobalMaxPool1D, which will extract information from the embeddings\n",
    "# of all words in the document\n",
    "comment_emb = SpatialDropout1D(0.25)(comment_emb)\n",
    "max_emb = GlobalMaxPool1D()(comment_emb)\n",
    "\n",
    "# normalized dense layer followed by dropout\n",
    "main = BatchNormalization()(max_emb)\n",
    "main = Dense(64)(main)\n",
    "main = Dropout(0.5)(main)\n",
    "\n",
    "output = Dense(6, activation='sigmoid')(main)\n",
    "\n",
    "model = Model(inputs=comment_input, outputs=output)\n",
    "\n",
    "model.compile(loss='binary_crossentropy',\n",
    "              optimizer='adam',\n",
    "              metrics=['accuracy'])"
   ]
  },
  {
   "cell_type": "code",
   "execution_count": 32,
   "metadata": {},
   "outputs": [
    {
     "data": {
      "image/png": "[encoded data removed]",
      "text/plain": [
       "<matplotlib.figure.Figure at 0x1af3e906be0>"
      ]
     },
     "metadata": {},
     "output_type": "display_data"
    },
    {
     "name": "stdout",
     "output_type": "stream",
     "text": [
      " - 85s - loss: 0.0441 - acc: 0.9839 - val_loss: 0.0507 - val_acc: 0.9820\n"
     ]
    },
    {
     "data": {
      "text/plain": [
       "<keras.callbacks.History at 0x1af38922828>"
      ]
     },
     "execution_count": 32,
     "metadata": {},
     "output_type": "execute_result"
    }
   ],
   "source": [
    "model.fit(X_train, y_train.values, epochs=epochs, verbose=2, validation_split=0.3, callbacks=[plot_losses, early_stopping])"
   ]
  },
  {
   "cell_type": "code",
   "execution_count": 33,
   "metadata": {
    "collapsed": true
   },
   "outputs": [],
   "source": [
    "y_pred = model.predict(X_test)"
   ]
  },
  {
   "cell_type": "code",
   "execution_count": 34,
   "metadata": {
    "collapsed": true
   },
   "outputs": [],
   "source": [
    "y_df = pd.DataFrame(y_pred, columns=columns)\n",
    "submission = pd.concat([test_df['id'], y_df], axis=1)\n",
    "submission.to_csv('simple_dnn.csv', index=False)"
   ]
  },
  {
   "cell_type": "markdown",
   "metadata": {},
   "source": [
    "Score: 0.9726"
   ]
  }
 ],
 "metadata": {
  "kernelspec": {
   "display_name": "Python 3",
   "language": "python",
   "name": "python3"
  },
  "language_info": {
   "codemirror_mode": {
    "name": "ipython",
    "version": 3
   },
   "file_extension": ".py",
   "mimetype": "text/x-python",
   "name": "python",
   "nbconvert_exporter": "python",
   "pygments_lexer": "ipython3",
   "version": "3.6.1"
  },
  "toc": {
   "nav_menu": {},
   "number_sections": true,
   "sideBar": false,
   "skip_h1_title": false,
   "toc_cell": false,
   "toc_position": {
    "height": "356px",
    "left": "7px",
    "right": "20px",
    "top": "107px",
    "width": "212px"
   },
   "toc_section_display": "block",
   "toc_window_display": true
  }
 },
 "nbformat": 4,
 "nbformat_minor": 2
}
