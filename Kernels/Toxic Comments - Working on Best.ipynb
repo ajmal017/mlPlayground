{
 "cells": [
  {
   "cell_type": "markdown",
   "metadata": {},
   "source": [
    "### Kaggle Link"
   ]
  },
  {
   "cell_type": "markdown",
   "metadata": {},
   "source": [
    "https://www.kaggle.com/c/jigsaw-toxic-comment-classification-challenge"
   ]
  },
  {
   "cell_type": "code",
   "execution_count": 1,
   "metadata": {},
   "outputs": [],
   "source": [
    "import pandas as pd\n",
    "import numpy as np\n",
    "import matplotlib.pyplot as plt\n",
    "import seaborn as sns\n",
    "\n",
    "%matplotlib inline"
   ]
  },
  {
   "cell_type": "code",
   "execution_count": 2,
   "metadata": {},
   "outputs": [],
   "source": [
    "train_df = pd.read_csv('../Data/Kaggle/toxic_train.csv')\n",
    "test_df  = pd.read_csv('../Data/Kaggle/toxic_test.csv')"
   ]
  },
  {
   "cell_type": "code",
   "execution_count": 3,
   "metadata": {},
   "outputs": [
    {
     "data": {
      "text/html": [
       "<div>\n",
       "<style scoped>\n",
       "    .dataframe tbody tr th:only-of-type {\n",
       "        vertical-align: middle;\n",
       "    }\n",
       "\n",
       "    .dataframe tbody tr th {\n",
       "        vertical-align: top;\n",
       "    }\n",
       "\n",
       "    .dataframe thead th {\n",
       "        text-align: right;\n",
       "    }\n",
       "</style>\n",
       "<table border=\"1\" class=\"dataframe\">\n",
       "  <thead>\n",
       "    <tr style=\"text-align: right;\">\n",
       "      <th></th>\n",
       "      <th>id</th>\n",
       "      <th>comment_text</th>\n",
       "      <th>toxic</th>\n",
       "      <th>severe_toxic</th>\n",
       "      <th>obscene</th>\n",
       "      <th>threat</th>\n",
       "      <th>insult</th>\n",
       "      <th>identity_hate</th>\n",
       "    </tr>\n",
       "  </thead>\n",
       "  <tbody>\n",
       "    <tr>\n",
       "      <th>0</th>\n",
       "      <td>0000997932d777bf</td>\n",
       "      <td>Explanation\\nWhy the edits made under my usern...</td>\n",
       "      <td>0</td>\n",
       "      <td>0</td>\n",
       "      <td>0</td>\n",
       "      <td>0</td>\n",
       "      <td>0</td>\n",
       "      <td>0</td>\n",
       "    </tr>\n",
       "    <tr>\n",
       "      <th>1</th>\n",
       "      <td>000103f0d9cfb60f</td>\n",
       "      <td>D'aww! He matches this background colour I'm s...</td>\n",
       "      <td>0</td>\n",
       "      <td>0</td>\n",
       "      <td>0</td>\n",
       "      <td>0</td>\n",
       "      <td>0</td>\n",
       "      <td>0</td>\n",
       "    </tr>\n",
       "    <tr>\n",
       "      <th>2</th>\n",
       "      <td>000113f07ec002fd</td>\n",
       "      <td>Hey man, I'm really not trying to edit war. It...</td>\n",
       "      <td>0</td>\n",
       "      <td>0</td>\n",
       "      <td>0</td>\n",
       "      <td>0</td>\n",
       "      <td>0</td>\n",
       "      <td>0</td>\n",
       "    </tr>\n",
       "    <tr>\n",
       "      <th>3</th>\n",
       "      <td>0001b41b1c6bb37e</td>\n",
       "      <td>\"\\nMore\\nI can't make any real suggestions on ...</td>\n",
       "      <td>0</td>\n",
       "      <td>0</td>\n",
       "      <td>0</td>\n",
       "      <td>0</td>\n",
       "      <td>0</td>\n",
       "      <td>0</td>\n",
       "    </tr>\n",
       "    <tr>\n",
       "      <th>4</th>\n",
       "      <td>0001d958c54c6e35</td>\n",
       "      <td>You, sir, are my hero. Any chance you remember...</td>\n",
       "      <td>0</td>\n",
       "      <td>0</td>\n",
       "      <td>0</td>\n",
       "      <td>0</td>\n",
       "      <td>0</td>\n",
       "      <td>0</td>\n",
       "    </tr>\n",
       "  </tbody>\n",
       "</table>\n",
       "</div>"
      ],
      "text/plain": [
       "                 id                                       comment_text  toxic  \\\n",
       "0  0000997932d777bf  Explanation\\nWhy the edits made under my usern...      0   \n",
       "1  000103f0d9cfb60f  D'aww! He matches this background colour I'm s...      0   \n",
       "2  000113f07ec002fd  Hey man, I'm really not trying to edit war. It...      0   \n",
       "3  0001b41b1c6bb37e  \"\\nMore\\nI can't make any real suggestions on ...      0   \n",
       "4  0001d958c54c6e35  You, sir, are my hero. Any chance you remember...      0   \n",
       "\n",
       "   severe_toxic  obscene  threat  insult  identity_hate  \n",
       "0             0        0       0       0              0  \n",
       "1             0        0       0       0              0  \n",
       "2             0        0       0       0              0  \n",
       "3             0        0       0       0              0  \n",
       "4             0        0       0       0              0  "
      ]
     },
     "execution_count": 3,
     "metadata": {},
     "output_type": "execute_result"
    }
   ],
   "source": [
    "train_df.head()"
   ]
  },
  {
   "cell_type": "markdown",
   "metadata": {
    "heading_collapsed": true
   },
   "source": [
    "### Pre-Processing"
   ]
  },
  {
   "cell_type": "code",
   "execution_count": 4,
   "metadata": {
    "hidden": true
   },
   "outputs": [],
   "source": [
    "from nltk.corpus import stopwords\n",
    "from nltk.tokenize import word_tokenize \n",
    "from nltk.stem import SnowballStemmer\n",
    "from nltk.stem.wordnet import WordNetLemmatizer"
   ]
  },
  {
   "cell_type": "code",
   "execution_count": 5,
   "metadata": {
    "hidden": true
   },
   "outputs": [],
   "source": [
    "stop_words = set(stopwords.words('english'))\n",
    "stemmer = SnowballStemmer('english')\n",
    "lemma = WordNetLemmatizer()"
   ]
  },
  {
   "cell_type": "code",
   "execution_count": 6,
   "metadata": {
    "hidden": true
   },
   "outputs": [],
   "source": [
    "from autocorrect import spell"
   ]
  },
  {
   "cell_type": "code",
   "execution_count": 7,
   "metadata": {
    "hidden": true
   },
   "outputs": [],
   "source": [
    "for df in [train_df, test_df]:\n",
    "    df['comment_text'] = df['comment_text'].apply(lambda x: word_tokenize(str(x)))\n",
    "    df['comment_text'] = df['comment_text'].apply(lambda x: [lemma.lemmatize(word) for word in x])\n",
    "    df['comment_text'] = df['comment_text'].apply(lambda x: ' '.join(x))"
   ]
  },
  {
   "cell_type": "markdown",
   "metadata": {},
   "source": [
    "### Feature Engineering "
   ]
  },
  {
   "cell_type": "code",
   "execution_count": 8,
   "metadata": {
    "deletable": false,
    "editable": false
   },
   "outputs": [],
   "source": [
    "import re\n",
    "\n",
    "for df in [train_df, test_df]:\n",
    "    df['len'] = df['comment_text'].apply(lambda x: len(str(x)))\n",
    "    df['num_numbers'] = df['comment_text'].apply(lambda x: len(re.sub(r'\\D+', '', str(x))))\n",
    "    df['num_non-word'] = df['comment_text'].apply(lambda x: len(re.sub(r'\\w+', '', str(x))))    \n",
    "    df['num_capitals'] = df['comment_text'].apply(lambda x: sum(1 for c in x if c.isupper()))\n",
    "    df['caps_vs_len'] = df.apply(lambda row: 0 if row['len'] == 0 else float(row['num_capitals'])/float(row['len']),  axis=1)\n",
    "    df['num_exclamation_marks'] = df['comment_text'].apply(lambda x: x.count('!'))\n",
    "    df['num_question_marks'] = df['comment_text'].apply(lambda x: x.count('?'))\n",
    "    df['num_punctuation'] = df['comment_text'].apply(lambda x: sum(x.count(w) for w in '.,;:'))\n",
    "    df['num_symbols'] = df['comment_text'].apply(lambda x: sum(x.count(w) for w in '*&$%#'))\n",
    "    df['num_words'] = df['comment_text'].apply(lambda x: len(x.split()))\n",
    "    df['num_unique_words'] = df['comment_text'].apply(lambda x: len(set(w for w in x.split())))\n",
    "    df['words_vs_unique'] = df['num_unique_words'] / df['num_words']"
   ]
  },
  {
   "cell_type": "code",
   "execution_count": 9,
   "metadata": {
    "deletable": false,
    "editable": false
   },
   "outputs": [],
   "source": [
    "new_features = ['len', 'num_numbers', 'num_non-word', 'num_capitals', 'caps_vs_len', \n",
    "                'num_exclamation_marks', 'num_question_marks', 'num_punctuation', \n",
    "                'num_symbols', 'num_words', 'num_unique_words', 'words_vs_unique']"
   ]
  },
  {
   "cell_type": "code",
   "execution_count": 10,
   "metadata": {
    "deletable": false,
    "editable": false
   },
   "outputs": [
    {
     "data": {
      "text/plain": [
       "<matplotlib.axes._subplots.AxesSubplot at 0x1f6fa37a5f8>"
      ]
     },
     "execution_count": 10,
     "metadata": {},
     "output_type": "execute_result"
    },
    {
     "data": {
      "image/png": "[encoded data removed]",
      "text/plain": [
       "<matplotlib.figure.Figure at 0x1f6fa371668>"
      ]
     },
     "metadata": {},
     "output_type": "display_data"
    }
   ],
   "source": [
    "plt.figure(figsize=(7,5))\n",
    "columns = ['toxic', 'severe_toxic', 'obscene', 'threat', 'insult', 'identity_hate']\n",
    "\n",
    "rows = [{c:train_df[f].corr(train_df[c]) for c in columns} for f in new_features]\n",
    "df_correlations = pd.DataFrame(rows, index=new_features)\n",
    "\n",
    "sns.heatmap(df_correlations)"
   ]
  },
  {
   "cell_type": "code",
   "execution_count": 11,
   "metadata": {
    "deletable": false,
    "editable": false
   },
   "outputs": [],
   "source": [
    "train_df[new_features] = train_df[new_features].fillna(0)\n",
    "test_df[new_features] = test_df[new_features].fillna(0)"
   ]
  },
  {
   "cell_type": "code",
   "execution_count": 12,
   "metadata": {
    "deletable": false,
    "editable": false
   },
   "outputs": [],
   "source": [
    "columns = ['toxic', 'severe_toxic', 'obscene', 'threat', 'insult', 'identity_hate']"
   ]
  },
  {
   "cell_type": "code",
   "execution_count": 13,
   "metadata": {
    "deletable": false,
    "editable": false
   },
   "outputs": [],
   "source": [
    "from sklearn.preprocessing import StandardScaler\n",
    "\n",
    "scaler = StandardScaler()\n",
    "train_df.loc[:, new_features] = scaler.fit_transform(train_df[new_features])\n",
    "test_df.loc[:, new_features]  = scaler.transform(test_df[new_features])"
   ]
  },
  {
   "cell_type": "code",
   "execution_count": 14,
   "metadata": {
    "deletable": false,
    "editable": false
   },
   "outputs": [
    {
     "data": {
      "text/html": [
       "<div>\n",
       "<style scoped>\n",
       "    .dataframe tbody tr th:only-of-type {\n",
       "        vertical-align: middle;\n",
       "    }\n",
       "\n",
       "    .dataframe tbody tr th {\n",
       "        vertical-align: top;\n",
       "    }\n",
       "\n",
       "    .dataframe thead th {\n",
       "        text-align: right;\n",
       "    }\n",
       "</style>\n",
       "<table border=\"1\" class=\"dataframe\">\n",
       "  <thead>\n",
       "    <tr style=\"text-align: right;\">\n",
       "      <th></th>\n",
       "      <th>id</th>\n",
       "      <th>comment_text</th>\n",
       "      <th>toxic</th>\n",
       "      <th>severe_toxic</th>\n",
       "      <th>obscene</th>\n",
       "      <th>threat</th>\n",
       "      <th>insult</th>\n",
       "      <th>identity_hate</th>\n",
       "      <th>len</th>\n",
       "      <th>num_numbers</th>\n",
       "      <th>num_non-word</th>\n",
       "      <th>num_capitals</th>\n",
       "      <th>caps_vs_len</th>\n",
       "      <th>num_exclamation_marks</th>\n",
       "      <th>num_question_marks</th>\n",
       "      <th>num_punctuation</th>\n",
       "      <th>num_symbols</th>\n",
       "      <th>num_words</th>\n",
       "      <th>num_unique_words</th>\n",
       "      <th>words_vs_unique</th>\n",
       "    </tr>\n",
       "  </thead>\n",
       "  <tbody>\n",
       "    <tr>\n",
       "      <th>0</th>\n",
       "      <td>0000997932d777bf</td>\n",
       "      <td>Explanation Why the edits made under my userna...</td>\n",
       "      <td>0</td>\n",
       "      <td>0</td>\n",
       "      <td>0</td>\n",
       "      <td>0</td>\n",
       "      <td>0</td>\n",
       "      <td>0</td>\n",
       "      <td>-0.220846</td>\n",
       "      <td>0.335426</td>\n",
       "      <td>-0.258955</td>\n",
       "      <td>-0.001654</td>\n",
       "      <td>0.144424</td>\n",
       "      <td>-0.025546</td>\n",
       "      <td>0.346388</td>\n",
       "      <td>-0.154587</td>\n",
       "      <td>-0.122056</td>\n",
       "      <td>-0.259355</td>\n",
       "      <td>-0.106586</td>\n",
       "      <td>0.745514</td>\n",
       "    </tr>\n",
       "    <tr>\n",
       "      <th>1</th>\n",
       "      <td>000103f0d9cfb60f</td>\n",
       "      <td>D'aww ! He match this background colour I 'm s...</td>\n",
       "      <td>0</td>\n",
       "      <td>0</td>\n",
       "      <td>0</td>\n",
       "      <td>0</td>\n",
       "      <td>0</td>\n",
       "      <td>0</td>\n",
       "      <td>-0.469385</td>\n",
       "      <td>0.394302</td>\n",
       "      <td>-0.389186</td>\n",
       "      <td>-0.094891</td>\n",
       "      <td>0.189114</td>\n",
       "      <td>0.013065</td>\n",
       "      <td>-0.282584</td>\n",
       "      <td>-0.232894</td>\n",
       "      <td>-0.122056</td>\n",
       "      <td>-0.441521</td>\n",
       "      <td>-0.517732</td>\n",
       "      <td>0.449312</td>\n",
       "    </tr>\n",
       "    <tr>\n",
       "      <th>2</th>\n",
       "      <td>000113f07ec002fd</td>\n",
       "      <td>Hey man , I 'm really not trying to edit war ....</td>\n",
       "      <td>0</td>\n",
       "      <td>0</td>\n",
       "      <td>0</td>\n",
       "      <td>0</td>\n",
       "      <td>0</td>\n",
       "      <td>0</td>\n",
       "      <td>-0.270554</td>\n",
       "      <td>-0.194455</td>\n",
       "      <td>-0.291513</td>\n",
       "      <td>-0.136330</td>\n",
       "      <td>-0.370814</td>\n",
       "      <td>-0.025546</td>\n",
       "      <td>-0.282584</td>\n",
       "      <td>-0.311200</td>\n",
       "      <td>-0.122056</td>\n",
       "      <td>-0.267636</td>\n",
       "      <td>-0.126165</td>\n",
       "      <td>0.731857</td>\n",
       "    </tr>\n",
       "    <tr>\n",
       "      <th>3</th>\n",
       "      <td>0001b41b1c6bb37e</td>\n",
       "      <td>`` More I ca n't make any real suggestion on i...</td>\n",
       "      <td>0</td>\n",
       "      <td>0</td>\n",
       "      <td>0</td>\n",
       "      <td>0</td>\n",
       "      <td>0</td>\n",
       "      <td>0</td>\n",
       "      <td>0.377306</td>\n",
       "      <td>-0.194455</td>\n",
       "      <td>0.353131</td>\n",
       "      <td>-0.063812</td>\n",
       "      <td>-0.362786</td>\n",
       "      <td>-0.025546</td>\n",
       "      <td>-0.282584</td>\n",
       "      <td>-0.154587</td>\n",
       "      <td>0.659476</td>\n",
       "      <td>0.394784</td>\n",
       "      <td>0.794019</td>\n",
       "      <td>-0.506134</td>\n",
       "    </tr>\n",
       "    <tr>\n",
       "      <th>4</th>\n",
       "      <td>0001d958c54c6e35</td>\n",
       "      <td>You , sir , are my hero . Any chance you remem...</td>\n",
       "      <td>0</td>\n",
       "      <td>0</td>\n",
       "      <td>0</td>\n",
       "      <td>0</td>\n",
       "      <td>0</td>\n",
       "      <td>0</td>\n",
       "      <td>-0.547261</td>\n",
       "      <td>-0.194455</td>\n",
       "      <td>-0.493371</td>\n",
       "      <td>-0.157049</td>\n",
       "      <td>-0.248368</td>\n",
       "      <td>-0.025546</td>\n",
       "      <td>0.346388</td>\n",
       "      <td>-0.389507</td>\n",
       "      <td>-0.122056</td>\n",
       "      <td>-0.516043</td>\n",
       "      <td>-0.635202</td>\n",
       "      <td>1.044143</td>\n",
       "    </tr>\n",
       "  </tbody>\n",
       "</table>\n",
       "</div>"
      ],
      "text/plain": [
       "                 id                                       comment_text  toxic  \\\n",
       "0  0000997932d777bf  Explanation Why the edits made under my userna...      0   \n",
       "1  000103f0d9cfb60f  D'aww ! He match this background colour I 'm s...      0   \n",
       "2  000113f07ec002fd  Hey man , I 'm really not trying to edit war ....      0   \n",
       "3  0001b41b1c6bb37e  `` More I ca n't make any real suggestion on i...      0   \n",
       "4  0001d958c54c6e35  You , sir , are my hero . Any chance you remem...      0   \n",
       "\n",
       "   severe_toxic  obscene  threat  insult  identity_hate       len  \\\n",
       "0             0        0       0       0              0 -0.220846   \n",
       "1             0        0       0       0              0 -0.469385   \n",
       "2             0        0       0       0              0 -0.270554   \n",
       "3             0        0       0       0              0  0.377306   \n",
       "4             0        0       0       0              0 -0.547261   \n",
       "\n",
       "   num_numbers  num_non-word  num_capitals  caps_vs_len  \\\n",
       "0     0.335426     -0.258955     -0.001654     0.144424   \n",
       "1     0.394302     -0.389186     -0.094891     0.189114   \n",
       "2    -0.194455     -0.291513     -0.136330    -0.370814   \n",
       "3    -0.194455      0.353131     -0.063812    -0.362786   \n",
       "4    -0.194455     -0.493371     -0.157049    -0.248368   \n",
       "\n",
       "   num_exclamation_marks  num_question_marks  num_punctuation  num_symbols  \\\n",
       "0              -0.025546            0.346388        -0.154587    -0.122056   \n",
       "1               0.013065           -0.282584        -0.232894    -0.122056   \n",
       "2              -0.025546           -0.282584        -0.311200    -0.122056   \n",
       "3              -0.025546           -0.282584        -0.154587     0.659476   \n",
       "4              -0.025546            0.346388        -0.389507    -0.122056   \n",
       "\n",
       "   num_words  num_unique_words  words_vs_unique  \n",
       "0  -0.259355         -0.106586         0.745514  \n",
       "1  -0.441521         -0.517732         0.449312  \n",
       "2  -0.267636         -0.126165         0.731857  \n",
       "3   0.394784          0.794019        -0.506134  \n",
       "4  -0.516043         -0.635202         1.044143  "
      ]
     },
     "execution_count": 14,
     "metadata": {},
     "output_type": "execute_result"
    }
   ],
   "source": [
    "train_df.head()"
   ]
  },
  {
   "cell_type": "code",
   "execution_count": 15,
   "metadata": {
    "deletable": false,
    "editable": false
   },
   "outputs": [
    {
     "data": {
      "text/html": [
       "<div>\n",
       "<style scoped>\n",
       "    .dataframe tbody tr th:only-of-type {\n",
       "        vertical-align: middle;\n",
       "    }\n",
       "\n",
       "    .dataframe tbody tr th {\n",
       "        vertical-align: top;\n",
       "    }\n",
       "\n",
       "    .dataframe thead th {\n",
       "        text-align: right;\n",
       "    }\n",
       "</style>\n",
       "<table border=\"1\" class=\"dataframe\">\n",
       "  <thead>\n",
       "    <tr style=\"text-align: right;\">\n",
       "      <th></th>\n",
       "      <th>id</th>\n",
       "      <th>comment_text</th>\n",
       "      <th>len</th>\n",
       "      <th>num_numbers</th>\n",
       "      <th>num_non-word</th>\n",
       "      <th>num_capitals</th>\n",
       "      <th>caps_vs_len</th>\n",
       "      <th>num_exclamation_marks</th>\n",
       "      <th>num_question_marks</th>\n",
       "      <th>num_punctuation</th>\n",
       "      <th>num_symbols</th>\n",
       "      <th>num_words</th>\n",
       "      <th>num_unique_words</th>\n",
       "      <th>words_vs_unique</th>\n",
       "    </tr>\n",
       "  </thead>\n",
       "  <tbody>\n",
       "    <tr>\n",
       "      <th>0</th>\n",
       "      <td>00001cee341fdb12</td>\n",
       "      <td>Yo bitch Ja Rule is more succesful then you 'l...</td>\n",
       "      <td>-0.055153</td>\n",
       "      <td>-0.194455</td>\n",
       "      <td>-0.037562</td>\n",
       "      <td>-0.136330</td>\n",
       "      <td>-0.436202</td>\n",
       "      <td>-0.025546</td>\n",
       "      <td>-0.282584</td>\n",
       "      <td>0.236945</td>\n",
       "      <td>-0.122056</td>\n",
       "      <td>0.005612</td>\n",
       "      <td>0.324138</td>\n",
       "      <td>0.211380</td>\n",
       "    </tr>\n",
       "    <tr>\n",
       "      <th>1</th>\n",
       "      <td>0000247867823ef7</td>\n",
       "      <td>== From RfC == The title is fine a it is , IMO .</td>\n",
       "      <td>-0.587027</td>\n",
       "      <td>-0.194455</td>\n",
       "      <td>-0.512906</td>\n",
       "      <td>-0.105251</td>\n",
       "      <td>1.060842</td>\n",
       "      <td>-0.025546</td>\n",
       "      <td>-0.282584</td>\n",
       "      <td>-0.467814</td>\n",
       "      <td>-0.122056</td>\n",
       "      <td>-0.549164</td>\n",
       "      <td>-0.733094</td>\n",
       "      <td>0.483303</td>\n",
       "    </tr>\n",
       "    <tr>\n",
       "      <th>2</th>\n",
       "      <td>00013b17ad220c46</td>\n",
       "      <td>`` == Sources == * Zawe Ashton on Lapland — / ``</td>\n",
       "      <td>-0.587027</td>\n",
       "      <td>-0.194455</td>\n",
       "      <td>-0.493371</td>\n",
       "      <td>-0.136330</td>\n",
       "      <td>0.367731</td>\n",
       "      <td>-0.025546</td>\n",
       "      <td>-0.282584</td>\n",
       "      <td>-0.624427</td>\n",
       "      <td>0.659476</td>\n",
       "      <td>-0.565724</td>\n",
       "      <td>-0.772251</td>\n",
       "      <td>0.330346</td>\n",
       "    </tr>\n",
       "    <tr>\n",
       "      <th>3</th>\n",
       "      <td>00017563c3f7919a</td>\n",
       "      <td>: If you have a look back at the source , the ...</td>\n",
       "      <td>-0.318605</td>\n",
       "      <td>-0.194455</td>\n",
       "      <td>-0.317559</td>\n",
       "      <td>-0.136330</td>\n",
       "      <td>-0.345183</td>\n",
       "      <td>-0.025546</td>\n",
       "      <td>-0.282584</td>\n",
       "      <td>-0.232894</td>\n",
       "      <td>-0.122056</td>\n",
       "      <td>-0.300757</td>\n",
       "      <td>-0.341527</td>\n",
       "      <td>-0.351005</td>\n",
       "    </tr>\n",
       "    <tr>\n",
       "      <th>4</th>\n",
       "      <td>00017695ad8997eb</td>\n",
       "      <td>I do n't anonymously edit article at all .</td>\n",
       "      <td>-0.596969</td>\n",
       "      <td>-0.194455</td>\n",
       "      <td>-0.571510</td>\n",
       "      <td>-0.167409</td>\n",
       "      <td>-0.292375</td>\n",
       "      <td>-0.025546</td>\n",
       "      <td>-0.282584</td>\n",
       "      <td>-0.546120</td>\n",
       "      <td>-0.122056</td>\n",
       "      <td>-0.590565</td>\n",
       "      <td>-0.791829</td>\n",
       "      <td>1.401041</td>\n",
       "    </tr>\n",
       "  </tbody>\n",
       "</table>\n",
       "</div>"
      ],
      "text/plain": [
       "                 id                                       comment_text  \\\n",
       "0  00001cee341fdb12  Yo bitch Ja Rule is more succesful then you 'l...   \n",
       "1  0000247867823ef7   == From RfC == The title is fine a it is , IMO .   \n",
       "2  00013b17ad220c46   `` == Sources == * Zawe Ashton on Lapland — / ``   \n",
       "3  00017563c3f7919a  : If you have a look back at the source , the ...   \n",
       "4  00017695ad8997eb         I do n't anonymously edit article at all .   \n",
       "\n",
       "        len  num_numbers  num_non-word  num_capitals  caps_vs_len  \\\n",
       "0 -0.055153    -0.194455     -0.037562     -0.136330    -0.436202   \n",
       "1 -0.587027    -0.194455     -0.512906     -0.105251     1.060842   \n",
       "2 -0.587027    -0.194455     -0.493371     -0.136330     0.367731   \n",
       "3 -0.318605    -0.194455     -0.317559     -0.136330    -0.345183   \n",
       "4 -0.596969    -0.194455     -0.571510     -0.167409    -0.292375   \n",
       "\n",
       "   num_exclamation_marks  num_question_marks  num_punctuation  num_symbols  \\\n",
       "0              -0.025546           -0.282584         0.236945    -0.122056   \n",
       "1              -0.025546           -0.282584        -0.467814    -0.122056   \n",
       "2              -0.025546           -0.282584        -0.624427     0.659476   \n",
       "3              -0.025546           -0.282584        -0.232894    -0.122056   \n",
       "4              -0.025546           -0.282584        -0.546120    -0.122056   \n",
       "\n",
       "   num_words  num_unique_words  words_vs_unique  \n",
       "0   0.005612          0.324138         0.211380  \n",
       "1  -0.549164         -0.733094         0.483303  \n",
       "2  -0.565724         -0.772251         0.330346  \n",
       "3  -0.300757         -0.341527        -0.351005  \n",
       "4  -0.590565         -0.791829         1.401041  "
      ]
     },
     "execution_count": 15,
     "metadata": {},
     "output_type": "execute_result"
    }
   ],
   "source": [
    "test_df.head()"
   ]
  },
  {
   "cell_type": "markdown",
   "metadata": {},
   "source": [
    "### Modeling"
   ]
  },
  {
   "cell_type": "code",
   "execution_count": 16,
   "metadata": {},
   "outputs": [],
   "source": [
    "features = train_df.columns.difference(columns)\n",
    "train_df[\"comment_text\"].fillna(\" \", inplace=True)\n",
    "test_df[\"comment_text\"].fillna(\" \", inplace=True)\n",
    "\n",
    "x_train = train_df[features].drop('id', axis=1)\n",
    "x_test  = test_df[features].drop('id', axis=1)\n",
    "y_train = train_df[columns]"
   ]
  },
  {
   "cell_type": "code",
   "execution_count": 17,
   "metadata": {},
   "outputs": [
    {
     "data": {
      "text/html": [
       "<div>\n",
       "<style scoped>\n",
       "    .dataframe tbody tr th:only-of-type {\n",
       "        vertical-align: middle;\n",
       "    }\n",
       "\n",
       "    .dataframe tbody tr th {\n",
       "        vertical-align: top;\n",
       "    }\n",
       "\n",
       "    .dataframe thead th {\n",
       "        text-align: right;\n",
       "    }\n",
       "</style>\n",
       "<table border=\"1\" class=\"dataframe\">\n",
       "  <thead>\n",
       "    <tr style=\"text-align: right;\">\n",
       "      <th></th>\n",
       "      <th>caps_vs_len</th>\n",
       "      <th>comment_text</th>\n",
       "      <th>len</th>\n",
       "      <th>num_capitals</th>\n",
       "      <th>num_exclamation_marks</th>\n",
       "      <th>num_non-word</th>\n",
       "      <th>num_numbers</th>\n",
       "      <th>num_punctuation</th>\n",
       "      <th>num_question_marks</th>\n",
       "      <th>num_symbols</th>\n",
       "      <th>num_unique_words</th>\n",
       "      <th>num_words</th>\n",
       "      <th>words_vs_unique</th>\n",
       "    </tr>\n",
       "  </thead>\n",
       "  <tbody>\n",
       "    <tr>\n",
       "      <th>0</th>\n",
       "      <td>0.144424</td>\n",
       "      <td>Explanation Why the edits made under my userna...</td>\n",
       "      <td>-0.220846</td>\n",
       "      <td>-0.001654</td>\n",
       "      <td>-0.025546</td>\n",
       "      <td>-0.258955</td>\n",
       "      <td>0.335426</td>\n",
       "      <td>-0.154587</td>\n",
       "      <td>0.346388</td>\n",
       "      <td>-0.122056</td>\n",
       "      <td>-0.106586</td>\n",
       "      <td>-0.259355</td>\n",
       "      <td>0.745514</td>\n",
       "    </tr>\n",
       "    <tr>\n",
       "      <th>1</th>\n",
       "      <td>0.189114</td>\n",
       "      <td>D'aww ! He match this background colour I 'm s...</td>\n",
       "      <td>-0.469385</td>\n",
       "      <td>-0.094891</td>\n",
       "      <td>0.013065</td>\n",
       "      <td>-0.389186</td>\n",
       "      <td>0.394302</td>\n",
       "      <td>-0.232894</td>\n",
       "      <td>-0.282584</td>\n",
       "      <td>-0.122056</td>\n",
       "      <td>-0.517732</td>\n",
       "      <td>-0.441521</td>\n",
       "      <td>0.449312</td>\n",
       "    </tr>\n",
       "    <tr>\n",
       "      <th>2</th>\n",
       "      <td>-0.370814</td>\n",
       "      <td>Hey man , I 'm really not trying to edit war ....</td>\n",
       "      <td>-0.270554</td>\n",
       "      <td>-0.136330</td>\n",
       "      <td>-0.025546</td>\n",
       "      <td>-0.291513</td>\n",
       "      <td>-0.194455</td>\n",
       "      <td>-0.311200</td>\n",
       "      <td>-0.282584</td>\n",
       "      <td>-0.122056</td>\n",
       "      <td>-0.126165</td>\n",
       "      <td>-0.267636</td>\n",
       "      <td>0.731857</td>\n",
       "    </tr>\n",
       "    <tr>\n",
       "      <th>3</th>\n",
       "      <td>-0.362786</td>\n",
       "      <td>`` More I ca n't make any real suggestion on i...</td>\n",
       "      <td>0.377306</td>\n",
       "      <td>-0.063812</td>\n",
       "      <td>-0.025546</td>\n",
       "      <td>0.353131</td>\n",
       "      <td>-0.194455</td>\n",
       "      <td>-0.154587</td>\n",
       "      <td>-0.282584</td>\n",
       "      <td>0.659476</td>\n",
       "      <td>0.794019</td>\n",
       "      <td>0.394784</td>\n",
       "      <td>-0.506134</td>\n",
       "    </tr>\n",
       "    <tr>\n",
       "      <th>4</th>\n",
       "      <td>-0.248368</td>\n",
       "      <td>You , sir , are my hero . Any chance you remem...</td>\n",
       "      <td>-0.547261</td>\n",
       "      <td>-0.157049</td>\n",
       "      <td>-0.025546</td>\n",
       "      <td>-0.493371</td>\n",
       "      <td>-0.194455</td>\n",
       "      <td>-0.389507</td>\n",
       "      <td>0.346388</td>\n",
       "      <td>-0.122056</td>\n",
       "      <td>-0.635202</td>\n",
       "      <td>-0.516043</td>\n",
       "      <td>1.044143</td>\n",
       "    </tr>\n",
       "  </tbody>\n",
       "</table>\n",
       "</div>"
      ],
      "text/plain": [
       "   caps_vs_len                                       comment_text       len  \\\n",
       "0     0.144424  Explanation Why the edits made under my userna... -0.220846   \n",
       "1     0.189114  D'aww ! He match this background colour I 'm s... -0.469385   \n",
       "2    -0.370814  Hey man , I 'm really not trying to edit war .... -0.270554   \n",
       "3    -0.362786  `` More I ca n't make any real suggestion on i...  0.377306   \n",
       "4    -0.248368  You , sir , are my hero . Any chance you remem... -0.547261   \n",
       "\n",
       "   num_capitals  num_exclamation_marks  num_non-word  num_numbers  \\\n",
       "0     -0.001654              -0.025546     -0.258955     0.335426   \n",
       "1     -0.094891               0.013065     -0.389186     0.394302   \n",
       "2     -0.136330              -0.025546     -0.291513    -0.194455   \n",
       "3     -0.063812              -0.025546      0.353131    -0.194455   \n",
       "4     -0.157049              -0.025546     -0.493371    -0.194455   \n",
       "\n",
       "   num_punctuation  num_question_marks  num_symbols  num_unique_words  \\\n",
       "0        -0.154587            0.346388    -0.122056         -0.106586   \n",
       "1        -0.232894           -0.282584    -0.122056         -0.517732   \n",
       "2        -0.311200           -0.282584    -0.122056         -0.126165   \n",
       "3        -0.154587           -0.282584     0.659476          0.794019   \n",
       "4        -0.389507            0.346388    -0.122056         -0.635202   \n",
       "\n",
       "   num_words  words_vs_unique  \n",
       "0  -0.259355         0.745514  \n",
       "1  -0.441521         0.449312  \n",
       "2  -0.267636         0.731857  \n",
       "3   0.394784        -0.506134  \n",
       "4  -0.516043         1.044143  "
      ]
     },
     "execution_count": 17,
     "metadata": {},
     "output_type": "execute_result"
    }
   ],
   "source": [
    "x_train.head()"
   ]
  },
  {
   "cell_type": "code",
   "execution_count": 18,
   "metadata": {
    "scrolled": true
   },
   "outputs": [
    {
     "data": {
      "text/html": [
       "<div>\n",
       "<style scoped>\n",
       "    .dataframe tbody tr th:only-of-type {\n",
       "        vertical-align: middle;\n",
       "    }\n",
       "\n",
       "    .dataframe tbody tr th {\n",
       "        vertical-align: top;\n",
       "    }\n",
       "\n",
       "    .dataframe thead th {\n",
       "        text-align: right;\n",
       "    }\n",
       "</style>\n",
       "<table border=\"1\" class=\"dataframe\">\n",
       "  <thead>\n",
       "    <tr style=\"text-align: right;\">\n",
       "      <th></th>\n",
       "      <th>toxic</th>\n",
       "      <th>severe_toxic</th>\n",
       "      <th>obscene</th>\n",
       "      <th>threat</th>\n",
       "      <th>insult</th>\n",
       "      <th>identity_hate</th>\n",
       "    </tr>\n",
       "  </thead>\n",
       "  <tbody>\n",
       "    <tr>\n",
       "      <th>0</th>\n",
       "      <td>0</td>\n",
       "      <td>0</td>\n",
       "      <td>0</td>\n",
       "      <td>0</td>\n",
       "      <td>0</td>\n",
       "      <td>0</td>\n",
       "    </tr>\n",
       "    <tr>\n",
       "      <th>1</th>\n",
       "      <td>0</td>\n",
       "      <td>0</td>\n",
       "      <td>0</td>\n",
       "      <td>0</td>\n",
       "      <td>0</td>\n",
       "      <td>0</td>\n",
       "    </tr>\n",
       "    <tr>\n",
       "      <th>2</th>\n",
       "      <td>0</td>\n",
       "      <td>0</td>\n",
       "      <td>0</td>\n",
       "      <td>0</td>\n",
       "      <td>0</td>\n",
       "      <td>0</td>\n",
       "    </tr>\n",
       "    <tr>\n",
       "      <th>3</th>\n",
       "      <td>0</td>\n",
       "      <td>0</td>\n",
       "      <td>0</td>\n",
       "      <td>0</td>\n",
       "      <td>0</td>\n",
       "      <td>0</td>\n",
       "    </tr>\n",
       "    <tr>\n",
       "      <th>4</th>\n",
       "      <td>0</td>\n",
       "      <td>0</td>\n",
       "      <td>0</td>\n",
       "      <td>0</td>\n",
       "      <td>0</td>\n",
       "      <td>0</td>\n",
       "    </tr>\n",
       "  </tbody>\n",
       "</table>\n",
       "</div>"
      ],
      "text/plain": [
       "   toxic  severe_toxic  obscene  threat  insult  identity_hate\n",
       "0      0             0        0       0       0              0\n",
       "1      0             0        0       0       0              0\n",
       "2      0             0        0       0       0              0\n",
       "3      0             0        0       0       0              0\n",
       "4      0             0        0       0       0              0"
      ]
     },
     "execution_count": 18,
     "metadata": {},
     "output_type": "execute_result"
    }
   ],
   "source": [
    "y_train.head()"
   ]
  },
  {
   "cell_type": "code",
   "execution_count": 19,
   "metadata": {},
   "outputs": [],
   "source": [
    "selected_features = ['caps_vs_len', \n",
    "                     'num_exclamation_marks', \n",
    "                     'num_punctuation', \n",
    "                     'num_unique_words']"
   ]
  },
  {
   "cell_type": "markdown",
   "metadata": {},
   "source": [
    "#### Tf-Idf"
   ]
  },
  {
   "cell_type": "code",
   "execution_count": 20,
   "metadata": {},
   "outputs": [],
   "source": [
    "from sklearn.feature_extraction.text import TfidfVectorizer"
   ]
  },
  {
   "cell_type": "code",
   "execution_count": 21,
   "metadata": {},
   "outputs": [],
   "source": [
    "vect_word = TfidfVectorizer(lowercase=True, analyzer='word', stop_words= 'english', ngram_range=(1,3), max_features=80000)\n",
    "vect_char = TfidfVectorizer(lowercase=True, analyzer='char', stop_words= 'english', ngram_range=(1,3), max_features=80000)\n",
    "\n",
    "X_train_vectorized_word = vect_word.fit_transform(x_train['comment_text'])\n",
    "X_train_vectorized_char = vect_char.fit_transform(x_train['comment_text'])\n",
    "\n",
    "X_test_vectorized_word = vect_word.transform(x_test['comment_text'])\n",
    "X_test_vectorized_char = vect_char.transform(x_test['comment_text'])"
   ]
  },
  {
   "cell_type": "code",
   "execution_count": 22,
   "metadata": {},
   "outputs": [],
   "source": [
    "vect_word = TfidfVectorizer(lowercase=True, analyzer='word', token_pattern=r'\\w{1,}', strip_accents='unicode',\n",
    "                            ngram_range=(1, 1), sublinear_tf=True, max_features=20000)\n",
    "vect_char = TfidfVectorizer(lowercase=True, analyzer='char', strip_accents='unicode',\n",
    "                            ngram_range=(1, 1), sublinear_tf=True, max_features=30000)\n",
    "\n",
    "X_train_vectorized_word = vect_word.fit_transform(x_train['comment_text'])\n",
    "X_train_vectorized_char = vect_char.fit_transform(x_train['comment_text'])\n",
    "\n",
    "X_test_vectorized_word = vect_word.transform(x_test['comment_text'])\n",
    "X_test_vectorized_char = vect_char.transform(x_test['comment_text'])"
   ]
  },
  {
   "cell_type": "code",
   "execution_count": 23,
   "metadata": {},
   "outputs": [
    {
     "name": "stdout",
     "output_type": "stream",
     "text": [
      "Vocabulary len: 20000\n",
      "Longest word: 173\n"
     ]
    }
   ],
   "source": [
    "print('Vocabulary len:', len(vect_word.get_feature_names()))\n",
    "print('Longest word:', len(max(vect_word.vocabulary_, key=len)))"
   ]
  },
  {
   "cell_type": "code",
   "execution_count": 24,
   "metadata": {},
   "outputs": [
    {
     "name": "stdout",
     "output_type": "stream",
     "text": [
      "Vocabulary len: 1696\n",
      "Longest word: 1\n"
     ]
    }
   ],
   "source": [
    "print('Vocabulary len:', len(vect_char.get_feature_names()))\n",
    "print('Longest word:', len(max(vect_char.vocabulary_, key=len)))"
   ]
  },
  {
   "cell_type": "code",
   "execution_count": 25,
   "metadata": {},
   "outputs": [],
   "source": [
    "from scipy import sparse"
   ]
  },
  {
   "cell_type": "code",
   "execution_count": 26,
   "metadata": {},
   "outputs": [],
   "source": [
    "X_train_vectorized = sparse.hstack([X_train_vectorized_word, X_train_vectorized_char])\n",
    "X_test_vectorized  = sparse.hstack([X_test_vectorized_word, X_test_vectorized_char])"
   ]
  },
  {
   "cell_type": "code",
   "execution_count": 27,
   "metadata": {},
   "outputs": [],
   "source": [
    "X_train_vectorized = sparse.hstack([X_train_vectorized, x_train[selected_features]])\n",
    "X_test_vectorized  = sparse.hstack([X_test_vectorized, x_test[selected_features]])"
   ]
  },
  {
   "cell_type": "code",
   "execution_count": 28,
   "metadata": {},
   "outputs": [
    {
     "data": {
      "text/plain": [
       "(159571, 21700)"
      ]
     },
     "execution_count": 28,
     "metadata": {},
     "output_type": "execute_result"
    }
   ],
   "source": [
    "X_train_vectorized.shape"
   ]
  },
  {
   "cell_type": "code",
   "execution_count": 29,
   "metadata": {},
   "outputs": [],
   "source": [
    "from sklearn.linear_model import LogisticRegression\n",
    "from sklearn.metrics import roc_auc_score"
   ]
  },
  {
   "cell_type": "code",
   "execution_count": 30,
   "metadata": {},
   "outputs": [],
   "source": [
    "cols = ['toxic', 'severe_toxic', 'obscene', 'threat', 'insult', 'identity_hate']"
   ]
  },
  {
   "cell_type": "code",
   "execution_count": 31,
   "metadata": {},
   "outputs": [
    {
     "data": {
      "text/plain": [
       "0.9952396612159089"
      ]
     },
     "execution_count": 31,
     "metadata": {},
     "output_type": "execute_result"
    }
   ],
   "source": [
    "y_pred = np.zeros((test_df.shape[0], len(cols)))\n",
    "\n",
    "roc_auc = []\n",
    "for i, j in enumerate(cols):\n",
    "    model = LogisticRegression(C=4)\n",
    "    model.fit(X_train_vectorized, y_train[j])\n",
    "    y_pred[:,i] = model.predict_proba(X_test_vectorized)[:,1]\n",
    "    y_check = model.predict_proba(X_train_vectorized)[:,1]\n",
    "    roc_auc.append(roc_auc_score(y_train[j], y_check))\n",
    "    \n",
    "np.mean(roc_auc)"
   ]
  },
  {
   "cell_type": "code",
   "execution_count": 32,
   "metadata": {},
   "outputs": [],
   "source": [
    "y_df = pd.DataFrame(y_pred, columns=cols)\n",
    "submission = pd.concat([test_df['id'], y_df], axis=1)\n",
    "submission.to_csv('tfidf-logistic+features.csv', index=False)"
   ]
  },
  {
   "cell_type": "markdown",
   "metadata": {},
   "source": [
    "Score: 0.9745"
   ]
  },
  {
   "cell_type": "markdown",
   "metadata": {},
   "source": [
    "#### Deep Learning"
   ]
  },
  {
   "cell_type": "code",
   "execution_count": 33,
   "metadata": {},
   "outputs": [
    {
     "name": "stderr",
     "output_type": "stream",
     "text": [
      "C:\\Users\\paula.ceccon.ribeiro\\AppData\\Local\\Continuum\\Anaconda3\\lib\\site-packages\\h5py\\__init__.py:34: FutureWarning: Conversion of the second argument of issubdtype from `float` to `np.floating` is deprecated. In future, it will be treated as `np.float64 == np.dtype(float).type`.\n",
      "  from ._conv import register_converters as _register_converters\n",
      "Using TensorFlow backend.\n"
     ]
    }
   ],
   "source": [
    "from keras.models import Model, Sequential, load_model\n",
    "from keras.layers import Dense, Flatten, Embedding, Input, Activation, Dropout\n",
    "from keras.layers import GRU, Bidirectional, Conv1D\n",
    "from keras.layers import GlobalMaxPooling1D, SpatialDropout1D, GlobalAveragePooling1D, concatenate\n",
    "from keras.preprocessing import text, sequence\n",
    "from keras.callbacks import EarlyStopping, Callback\n",
    "from keras.layers.normalization import BatchNormalization\n",
    "import keras.backend as K"
   ]
  },
  {
   "cell_type": "code",
   "execution_count": 34,
   "metadata": {
    "code_folding": []
   },
   "outputs": [],
   "source": [
    "from IPython.display import clear_output\n",
    "\n",
    "class PlotLosses(Callback):\n",
    "    def on_train_begin(self, logs={}):\n",
    "        self.i = 0\n",
    "        self.x = []\n",
    "        self.losses = []\n",
    "        self.val_losses = []\n",
    "        \n",
    "        self.fig = plt.figure()\n",
    "        \n",
    "        self.logs = []\n",
    "\n",
    "    def on_epoch_end(self, epoch, logs={}):\n",
    "        \n",
    "        self.logs.append(logs)\n",
    "        self.x.append(self.i)\n",
    "        self.losses.append(logs.get('loss'))\n",
    "        self.val_losses.append(logs.get('val_loss'))\n",
    "        self.i += 1\n",
    "        \n",
    "        clear_output(wait=True)\n",
    "        plt.figure(figsize=(10, 5))\n",
    "        plt.plot(self.x, self.losses, label='loss')\n",
    "        plt.plot(self.x, self.val_losses, label='val_loss')\n",
    "        plt.legend()\n",
    "        plt.show();\n",
    "        \n",
    "plot_losses = PlotLosses()"
   ]
  },
  {
   "cell_type": "code",
   "execution_count": 35,
   "metadata": {},
   "outputs": [
    {
     "data": {
      "text/plain": [
       "402.2861798196414"
      ]
     },
     "execution_count": 35,
     "metadata": {},
     "output_type": "execute_result"
    }
   ],
   "source": [
    "x_train['comment_text'].str.len().mean()"
   ]
  },
  {
   "cell_type": "code",
   "execution_count": 36,
   "metadata": {},
   "outputs": [
    {
     "data": {
      "text/plain": [
       "370.91567861899665"
      ]
     },
     "execution_count": 36,
     "metadata": {},
     "output_type": "execute_result"
    }
   ],
   "source": [
    "x_test['comment_text'].str.len().mean()"
   ]
  },
  {
   "cell_type": "code",
   "execution_count": 37,
   "metadata": {},
   "outputs": [],
   "source": [
    "max_features = 100000\n",
    "maxlen = 300"
   ]
  },
  {
   "cell_type": "code",
   "execution_count": 38,
   "metadata": {},
   "outputs": [],
   "source": [
    "tokenizer = text.Tokenizer(num_words=max_features)\n",
    "tokenizer.fit_on_texts(list(x_train['comment_text']))\n",
    "\n",
    "X_train = tokenizer.texts_to_sequences(x_train['comment_text'])\n",
    "X_test  = tokenizer.texts_to_sequences(x_test['comment_text'])\n",
    "X_train = sequence.pad_sequences(X_train, maxlen=maxlen)\n",
    "X_test  = sequence.pad_sequences(X_test,  maxlen=maxlen)"
   ]
  },
  {
   "cell_type": "markdown",
   "metadata": {},
   "source": [
    "Model based on:\n",
    "https://github.com/PavelOstyakov/toxic/blob/master/toxic/model.py"
   ]
  },
  {
   "cell_type": "code",
   "execution_count": 39,
   "metadata": {
    "code_folding": []
   },
   "outputs": [],
   "source": [
    "def get_keras_data(dataset, df_features):\n",
    "    \n",
    "    X = {\n",
    "        'comment_input'  : dataset,\n",
    "        'features_input' : df_features[selected_features]\n",
    "    }\n",
    "    \n",
    "    return X\n",
    "\n",
    "X_train_ = get_keras_data(X_train, x_train)\n",
    "X_test_  = get_keras_data(X_test, x_test)"
   ]
  },
  {
   "cell_type": "code",
   "execution_count": 40,
   "metadata": {},
   "outputs": [],
   "source": [
    "early_stopping = EarlyStopping(monitor='val_loss', patience=2)\n",
    "batch_size = 128\n",
    "epochs = 20"
   ]
  },
  {
   "cell_type": "markdown",
   "metadata": {},
   "source": [
    "##### With Features"
   ]
  },
  {
   "cell_type": "code",
   "execution_count": 41,
   "metadata": {
    "code_folding": []
   },
   "outputs": [],
   "source": [
    "def get_model():\n",
    "    comment_input  = Input(shape=(maxlen,), name='comment_input')\n",
    "    features_input = Input(shape=[X_train_['features_input'].shape[1]], name='features_input')\n",
    "    \n",
    "    embedded = Embedding(max_features, 200)(comment_input)\n",
    "    \n",
    "    x = Bidirectional(GRU(300, dropout=0.3, recurrent_dropout=0.3, return_sequences=True))(embedded)\n",
    "    x = SpatialDropout1D(0.25)(x)\n",
    "    x = Conv1D(64, kernel_size = 3, padding = \"valid\", kernel_initializer = \"glorot_uniform\")(x)\n",
    "    max_pooled = GlobalMaxPooling1D()(x)\n",
    "    avg_pooled = GlobalAveragePooling1D()(x)\n",
    "    \n",
    "    main_layer = concatenate([\n",
    "        max_pooled,\n",
    "        avg_pooled,\n",
    "        features_input\n",
    "    ])\n",
    "    \n",
    "#     embedded = SpatialDropout1D(0.25)(embedded)\n",
    "#     max_embedding = GlobalMaxPool1D()(embedded)\n",
    "#     max_embedding = BatchNormalization()(max_embedding)\n",
    "    \n",
    "#     main_layer = concatenate([\n",
    "#         max_embedding,\n",
    "#         features_input\n",
    "#     ])\n",
    "\n",
    "    # normalized dense layer followed by dropout\n",
    "    main_layer = BatchNormalization()(main_layer)\n",
    "    main_layer = Dense(64)(main_layer)\n",
    "    main_layer = Dropout(0.5)(main_layer)\n",
    "\n",
    "    output_layer = Dense(6, activation='sigmoid')(main_layer)\n",
    "\n",
    "    model = Model([comment_input, features_input], outputs=output_layer)\n",
    "    model.compile(loss='binary_crossentropy', optimizer='adam', metrics=['accuracy'])\n",
    "\n",
    "    return model"
   ]
  },
  {
   "cell_type": "code",
   "execution_count": 42,
   "metadata": {},
   "outputs": [
    {
     "name": "stdout",
     "output_type": "stream",
     "text": [
      "__________________________________________________________________________________________________\n",
      "Layer (type)                    Output Shape         Param #     Connected to                     \n",
      "==================================================================================================\n",
      "comment_input (InputLayer)      (None, 300)          0                                            \n",
      "__________________________________________________________________________________________________\n",
      "embedding_1 (Embedding)         (None, 300, 200)     20000000    comment_input[0][0]              \n",
      "__________________________________________________________________________________________________\n",
      "bidirectional_1 (Bidirectional) (None, 300, 600)     901800      embedding_1[0][0]                \n",
      "__________________________________________________________________________________________________\n",
      "spatial_dropout1d_1 (SpatialDro (None, 300, 600)     0           bidirectional_1[0][0]            \n",
      "__________________________________________________________________________________________________\n",
      "conv1d_1 (Conv1D)               (None, 298, 64)      115264      spatial_dropout1d_1[0][0]        \n",
      "__________________________________________________________________________________________________\n",
      "global_max_pooling1d_1 (GlobalM (None, 64)           0           conv1d_1[0][0]                   \n",
      "__________________________________________________________________________________________________\n",
      "global_average_pooling1d_1 (Glo (None, 64)           0           conv1d_1[0][0]                   \n",
      "__________________________________________________________________________________________________\n",
      "features_input (InputLayer)     (None, 4)            0                                            \n",
      "__________________________________________________________________________________________________\n",
      "concatenate_1 (Concatenate)     (None, 132)          0           global_max_pooling1d_1[0][0]     \n",
      "                                                                 global_average_pooling1d_1[0][0] \n",
      "                                                                 features_input[0][0]             \n",
      "__________________________________________________________________________________________________\n",
      "batch_normalization_1 (BatchNor (None, 132)          528         concatenate_1[0][0]              \n",
      "__________________________________________________________________________________________________\n",
      "dense_1 (Dense)                 (None, 64)           8512        batch_normalization_1[0][0]      \n",
      "__________________________________________________________________________________________________\n",
      "dropout_1 (Dropout)             (None, 64)           0           dense_1[0][0]                    \n",
      "__________________________________________________________________________________________________\n",
      "dense_2 (Dense)                 (None, 6)            390         dropout_1[0][0]                  \n",
      "==================================================================================================\n",
      "Total params: 21,026,494\n",
      "Trainable params: 21,026,230\n",
      "Non-trainable params: 264\n",
      "__________________________________________________________________________________________________\n"
     ]
    }
   ],
   "source": [
    "model = get_model()\n",
    "model.summary()"
   ]
  },
  {
   "cell_type": "code",
   "execution_count": 43,
   "metadata": {},
   "outputs": [
    {
     "data": {
      "image/png": "[encoded data removed]",
      "text/plain": [
       "<matplotlib.figure.Figure at 0x1f6cd51a9b0>"
      ]
     },
     "metadata": {},
     "output_type": "display_data"
    },
    {
     "data": {
      "text/plain": [
       "<keras.callbacks.History at 0x1f6cca40d68>"
      ]
     },
     "execution_count": 43,
     "metadata": {},
     "output_type": "execute_result"
    }
   ],
   "source": [
    "model.fit(X_train_, y_train.values, epochs=epochs, verbose=2, validation_split=0.3, callbacks=[plot_losses, early_stopping])"
   ]
  },
  {
   "cell_type": "code",
   "execution_count": 44,
   "metadata": {},
   "outputs": [],
   "source": [
    "y_pred = model.predict(X_test_)"
   ]
  },
  {
   "cell_type": "code",
   "execution_count": 45,
   "metadata": {},
   "outputs": [],
   "source": [
    "y_df = pd.DataFrame(y_pred, columns=columns)\n",
    "submission = pd.concat([test_df['id'], y_df], axis=1)\n",
    "submission.to_csv('simple_dnn+features.csv', index=False)"
   ]
  },
  {
   "cell_type": "markdown",
   "metadata": {},
   "source": [
    "Score: 0.9751"
   ]
  },
  {
   "cell_type": "markdown",
   "metadata": {},
   "source": [
    "##### Without Features"
   ]
  },
  {
   "cell_type": "code",
   "execution_count": 48,
   "metadata": {},
   "outputs": [],
   "source": [
    "def get_model():\n",
    "    comment_input  = Input(shape=(maxlen,), name='comment_input')\n",
    "    \n",
    "    embedded = Embedding(max_features, 200)(comment_input)\n",
    "    \n",
    "    x = Bidirectional(GRU(300, dropout=0.3, recurrent_dropout=0.3, return_sequences=True))(embedded)\n",
    "    x = SpatialDropout1D(0.25)(x)\n",
    "    x = Conv1D(64, kernel_size = 3, padding = \"valid\", kernel_initializer = \"glorot_uniform\")(x)\n",
    "    max_pooled = GlobalMaxPooling1D()(x)\n",
    "    avg_pooled = GlobalAveragePooling1D()(x)\n",
    "    \n",
    "    main_layer = concatenate([\n",
    "        max_pooled,\n",
    "        avg_pooled\n",
    "    ])\n",
    "\n",
    "    # normalized dense layer followed by dropout\n",
    "    main_layer = BatchNormalization()(main_layer)\n",
    "    main_layer = Dense(64)(main_layer)\n",
    "    main_layer = Dropout(0.5)(main_layer)\n",
    "\n",
    "    output_layer = Dense(6, activation='sigmoid')(main_layer)\n",
    "\n",
    "    model = Model([comment_input], outputs=output_layer)\n",
    "    model.compile(loss='binary_crossentropy', optimizer='adam', metrics=['accuracy'])\n",
    "\n",
    "    return model"
   ]
  },
  {
   "cell_type": "code",
   "execution_count": 49,
   "metadata": {},
   "outputs": [
    {
     "name": "stdout",
     "output_type": "stream",
     "text": [
      "__________________________________________________________________________________________________\n",
      "Layer (type)                    Output Shape         Param #     Connected to                     \n",
      "==================================================================================================\n",
      "comment_input (InputLayer)      (None, 300)          0                                            \n",
      "__________________________________________________________________________________________________\n",
      "embedding_3 (Embedding)         (None, 300, 200)     20000000    comment_input[0][0]              \n",
      "__________________________________________________________________________________________________\n",
      "bidirectional_3 (Bidirectional) (None, 300, 600)     901800      embedding_3[0][0]                \n",
      "__________________________________________________________________________________________________\n",
      "spatial_dropout1d_3 (SpatialDro (None, 300, 600)     0           bidirectional_3[0][0]            \n",
      "__________________________________________________________________________________________________\n",
      "conv1d_3 (Conv1D)               (None, 298, 64)      115264      spatial_dropout1d_3[0][0]        \n",
      "__________________________________________________________________________________________________\n",
      "global_max_pooling1d_3 (GlobalM (None, 64)           0           conv1d_3[0][0]                   \n",
      "__________________________________________________________________________________________________\n",
      "global_average_pooling1d_2 (Glo (None, 64)           0           conv1d_3[0][0]                   \n",
      "__________________________________________________________________________________________________\n",
      "concatenate_2 (Concatenate)     (None, 128)          0           global_max_pooling1d_3[0][0]     \n",
      "                                                                 global_average_pooling1d_2[0][0] \n",
      "__________________________________________________________________________________________________\n",
      "batch_normalization_2 (BatchNor (None, 128)          512         concatenate_2[0][0]              \n",
      "__________________________________________________________________________________________________\n",
      "dense_3 (Dense)                 (None, 64)           8256        batch_normalization_2[0][0]      \n",
      "__________________________________________________________________________________________________\n",
      "dropout_2 (Dropout)             (None, 64)           0           dense_3[0][0]                    \n",
      "__________________________________________________________________________________________________\n",
      "dense_4 (Dense)                 (None, 6)            390         dropout_2[0][0]                  \n",
      "==================================================================================================\n",
      "Total params: 21,026,222\n",
      "Trainable params: 21,025,966\n",
      "Non-trainable params: 256\n",
      "__________________________________________________________________________________________________\n"
     ]
    }
   ],
   "source": [
    "model = get_model()\n",
    "model.summary()"
   ]
  },
  {
   "cell_type": "code",
   "execution_count": 50,
   "metadata": {},
   "outputs": [],
   "source": [
    "exp_decay = lambda init, fin, steps: (init/fin)**(1/(steps-1)) - 1\n",
    "steps = int(len(X_train_)/batch_size) * epochs\n",
    "lr_init, lr_fin = 0.001, 0.0005\n",
    "lr_decay = exp_decay(lr_init, lr_fin, steps)\n",
    "K.set_value(model.optimizer.lr, lr_init)\n",
    "K.set_value(model.optimizer.decay, lr_decay)"
   ]
  },
  {
   "cell_type": "code",
   "execution_count": 51,
   "metadata": {},
   "outputs": [
    {
     "data": {
      "image/png": "[encoded data removed]",
      "text/plain": [
       "<matplotlib.figure.Figure at 0x1f6cdf61080>"
      ]
     },
     "metadata": {},
     "output_type": "display_data"
    },
    {
     "data": {
      "text/plain": [
       "<keras.callbacks.History at 0x1f6ce27dc18>"
      ]
     },
     "execution_count": 51,
     "metadata": {},
     "output_type": "execute_result"
    }
   ],
   "source": [
    "model.fit(X_train_, y_train.values, epochs=epochs, verbose=2, validation_split=0.3, callbacks=[plot_losses, early_stopping])"
   ]
  },
  {
   "cell_type": "code",
   "execution_count": 52,
   "metadata": {},
   "outputs": [],
   "source": [
    "y_pred = model.predict(X_test_)"
   ]
  },
  {
   "cell_type": "code",
   "execution_count": 53,
   "metadata": {},
   "outputs": [],
   "source": [
    "y_df = pd.DataFrame(y_pred, columns=columns)\n",
    "submission = pd.concat([test_df['id'], y_df], axis=1)\n",
    "submission.to_csv('simple_dnn.csv', index=False)"
   ]
  },
  {
   "cell_type": "markdown",
   "metadata": {},
   "source": [
    "Score: 0.9748"
   ]
  }
 ],
 "metadata": {
  "kernelspec": {
   "display_name": "Python 3",
   "language": "python",
   "name": "python3"
  },
  "language_info": {
   "codemirror_mode": {
    "name": "ipython",
    "version": 3
   },
   "file_extension": ".py",
   "mimetype": "text/x-python",
   "name": "python",
   "nbconvert_exporter": "python",
   "pygments_lexer": "ipython3",
   "version": "3.6.4"
  },
  "toc": {
   "nav_menu": {},
   "number_sections": true,
   "sideBar": false,
   "skip_h1_title": false,
   "toc_cell": false,
   "toc_position": {
    "height": "396px",
    "left": "1px",
    "right": "20px",
    "top": "110px",
    "width": "189px"
   },
   "toc_section_display": "block",
   "toc_window_display": true
  }
 },
 "nbformat": 4,
 "nbformat_minor": 2
}
