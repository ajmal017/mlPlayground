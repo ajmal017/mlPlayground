{
 "cells": [
  {
   "cell_type": "markdown",
   "metadata": {},
   "source": [
    "### Kaggle Link\n",
    "\n",
    "https://www.kaggle.com/c/recruit-restaurant-visitor-forecasting"
   ]
  },
  {
   "cell_type": "markdown",
   "metadata": {},
   "source": [
    "### File Descriptions\n",
    "\n",
    "This is a relational dataset from two systems. Each file is prefaced with the source (either `air_` or `hpg_`) to indicate its origin. Each restaurant has a unique `air_store_id` and `hpg_store_id`. Note that not all restaurants are covered by both systems, and that you have been provided data beyond the restaurants for which you must forecast. Latitudes and Longitudes are not exact to discourage de-identification of restaurants.\n",
    "\n",
    "- air_reserve.csv\n",
    "\n",
    "This file contains reservations made in the air system. Note that the `reserve_datetime` indicates the time when the reservation was created, whereas the `visit_datetime` is the time in the future where the visit will occur.\n",
    "\n",
    "- hpg_reserve.csv\n",
    "\n",
    "This file contains reservations made in the `hpg` system.\n",
    "\n",
    "- air_store_info.csv\n",
    "\n",
    "This file contains information about select air restaurants. Column names and contents are self-explanatory.\n",
    "Note: latitude and longitude are the latitude and longitude of the area to which the store belongs\n",
    "\n",
    "- hpg_store_info.csv\n",
    "\n",
    "This file contains information about select hpg restaurants. Column names and contents are self-explanatory.\n",
    "Note: latitude and longitude are the latitude and longitude of the area to which the store belongs\n",
    "\n",
    "- store_id_relation.csv\n",
    "\n",
    "This file allows you to join select restaurants that have both the `air` and `hpg` system.\n",
    "\n",
    "- air_visit_data.csv\n",
    "\n",
    "This file contains historical visit data for the air restaurants.\n",
    "\n",
    "- date_info.csv\n",
    "\n",
    "This file gives basic information about the calendar dates in the dataset."
   ]
  },
  {
   "cell_type": "markdown",
   "metadata": {},
   "source": [
    "### Data Loading"
   ]
  },
  {
   "cell_type": "code",
   "execution_count": 1,
   "metadata": {
    "collapsed": true
   },
   "outputs": [],
   "source": [
    "import numpy as np\n",
    "import pandas as pd \n",
    "import matplotlib.pyplot as plt\n",
    "import seaborn as sns\n",
    "import time\n",
    "import gc\n",
    "\n",
    "from datetime import datetime\n",
    "\n",
    "sns.set(style='whitegrid')\n",
    "\n",
    "pd.set_option('display.max_columns', None)  \n",
    "\n",
    "%matplotlib inline"
   ]
  },
  {
   "cell_type": "code",
   "execution_count": 2,
   "metadata": {
    "collapsed": true
   },
   "outputs": [],
   "source": [
    "df_air_reserve  =  pd.read_csv('../Data/Kaggle/Recruiter/air_reserve.csv', parse_dates=['visit_datetime','reserve_datetime']) \n",
    "df_hpg_reserve = pd.read_csv('../Data/Kaggle/Recruiter/hpg_reserve.csv', parse_dates=['visit_datetime','reserve_datetime'])\n",
    "df_air_store_info = pd.read_csv('../Data/Kaggle/Recruiter/air_store_info.csv')\n",
    "df_hpg_store_info = pd.read_csv('../Data/Kaggle/Recruiter/hpg_store_info.csv')\n",
    "df_air_visit = pd.read_csv('../Data/Kaggle/Recruiter/air_visit_data.csv', parse_dates=['visit_date'])\n",
    "df_store_id  = pd.read_csv('../Data/Kaggle/Recruiter/store_id_relation.csv')\n",
    "df_holiday_dates =  pd.read_csv('../Data/Kaggle/Recruiter/date_info.csv', parse_dates=['calendar_date']).rename(columns={'calendar_date':'visit_date'})\n",
    "df_submission = pd.read_csv('../Data/Kaggle/Recruiter/sample_submission.csv')"
   ]
  },
  {
   "cell_type": "code",
   "execution_count": 3,
   "metadata": {},
   "outputs": [
    {
     "data": {
      "text/html": [
       "<div>\n",
       "<style>\n",
       "    .dataframe thead tr:only-child th {\n",
       "        text-align: right;\n",
       "    }\n",
       "\n",
       "    .dataframe thead th {\n",
       "        text-align: left;\n",
       "    }\n",
       "\n",
       "    .dataframe tbody tr th {\n",
       "        vertical-align: top;\n",
       "    }\n",
       "</style>\n",
       "<table border=\"1\" class=\"dataframe\">\n",
       "  <thead>\n",
       "    <tr style=\"text-align: right;\">\n",
       "      <th></th>\n",
       "      <th>air_store_id</th>\n",
       "      <th>visit_datetime</th>\n",
       "      <th>reserve_datetime</th>\n",
       "      <th>reserve_visitors</th>\n",
       "    </tr>\n",
       "  </thead>\n",
       "  <tbody>\n",
       "    <tr>\n",
       "      <th>0</th>\n",
       "      <td>air_877f79706adbfb06</td>\n",
       "      <td>2016-01-01 19:00:00</td>\n",
       "      <td>2016-01-01 16:00:00</td>\n",
       "      <td>1</td>\n",
       "    </tr>\n",
       "    <tr>\n",
       "      <th>1</th>\n",
       "      <td>air_db4b38ebe7a7ceff</td>\n",
       "      <td>2016-01-01 19:00:00</td>\n",
       "      <td>2016-01-01 19:00:00</td>\n",
       "      <td>3</td>\n",
       "    </tr>\n",
       "    <tr>\n",
       "      <th>2</th>\n",
       "      <td>air_db4b38ebe7a7ceff</td>\n",
       "      <td>2016-01-01 19:00:00</td>\n",
       "      <td>2016-01-01 19:00:00</td>\n",
       "      <td>6</td>\n",
       "    </tr>\n",
       "    <tr>\n",
       "      <th>3</th>\n",
       "      <td>air_877f79706adbfb06</td>\n",
       "      <td>2016-01-01 20:00:00</td>\n",
       "      <td>2016-01-01 16:00:00</td>\n",
       "      <td>2</td>\n",
       "    </tr>\n",
       "    <tr>\n",
       "      <th>4</th>\n",
       "      <td>air_db80363d35f10926</td>\n",
       "      <td>2016-01-01 20:00:00</td>\n",
       "      <td>2016-01-01 01:00:00</td>\n",
       "      <td>5</td>\n",
       "    </tr>\n",
       "  </tbody>\n",
       "</table>\n",
       "</div>"
      ],
      "text/plain": [
       "           air_store_id      visit_datetime    reserve_datetime  \\\n",
       "0  air_877f79706adbfb06 2016-01-01 19:00:00 2016-01-01 16:00:00   \n",
       "1  air_db4b38ebe7a7ceff 2016-01-01 19:00:00 2016-01-01 19:00:00   \n",
       "2  air_db4b38ebe7a7ceff 2016-01-01 19:00:00 2016-01-01 19:00:00   \n",
       "3  air_877f79706adbfb06 2016-01-01 20:00:00 2016-01-01 16:00:00   \n",
       "4  air_db80363d35f10926 2016-01-01 20:00:00 2016-01-01 01:00:00   \n",
       "\n",
       "   reserve_visitors  \n",
       "0                 1  \n",
       "1                 3  \n",
       "2                 6  \n",
       "3                 2  \n",
       "4                 5  "
      ]
     },
     "execution_count": 3,
     "metadata": {},
     "output_type": "execute_result"
    }
   ],
   "source": [
    "df_air_reserve.head()"
   ]
  },
  {
   "cell_type": "code",
   "execution_count": 4,
   "metadata": {},
   "outputs": [
    {
     "data": {
      "text/plain": [
       "(92378, 4)"
      ]
     },
     "execution_count": 4,
     "metadata": {},
     "output_type": "execute_result"
    }
   ],
   "source": [
    "df_air_reserve.shape"
   ]
  },
  {
   "cell_type": "code",
   "execution_count": 5,
   "metadata": {},
   "outputs": [
    {
     "data": {
      "text/html": [
       "<div>\n",
       "<style>\n",
       "    .dataframe thead tr:only-child th {\n",
       "        text-align: right;\n",
       "    }\n",
       "\n",
       "    .dataframe thead th {\n",
       "        text-align: left;\n",
       "    }\n",
       "\n",
       "    .dataframe tbody tr th {\n",
       "        vertical-align: top;\n",
       "    }\n",
       "</style>\n",
       "<table border=\"1\" class=\"dataframe\">\n",
       "  <thead>\n",
       "    <tr style=\"text-align: right;\">\n",
       "      <th></th>\n",
       "      <th>hpg_store_id</th>\n",
       "      <th>visit_datetime</th>\n",
       "      <th>reserve_datetime</th>\n",
       "      <th>reserve_visitors</th>\n",
       "    </tr>\n",
       "  </thead>\n",
       "  <tbody>\n",
       "    <tr>\n",
       "      <th>0</th>\n",
       "      <td>hpg_c63f6f42e088e50f</td>\n",
       "      <td>2016-01-01 11:00:00</td>\n",
       "      <td>2016-01-01 09:00:00</td>\n",
       "      <td>1</td>\n",
       "    </tr>\n",
       "    <tr>\n",
       "      <th>1</th>\n",
       "      <td>hpg_dac72789163a3f47</td>\n",
       "      <td>2016-01-01 13:00:00</td>\n",
       "      <td>2016-01-01 06:00:00</td>\n",
       "      <td>3</td>\n",
       "    </tr>\n",
       "    <tr>\n",
       "      <th>2</th>\n",
       "      <td>hpg_c8e24dcf51ca1eb5</td>\n",
       "      <td>2016-01-01 16:00:00</td>\n",
       "      <td>2016-01-01 14:00:00</td>\n",
       "      <td>2</td>\n",
       "    </tr>\n",
       "    <tr>\n",
       "      <th>3</th>\n",
       "      <td>hpg_24bb207e5fd49d4a</td>\n",
       "      <td>2016-01-01 17:00:00</td>\n",
       "      <td>2016-01-01 11:00:00</td>\n",
       "      <td>5</td>\n",
       "    </tr>\n",
       "    <tr>\n",
       "      <th>4</th>\n",
       "      <td>hpg_25291c542ebb3bc2</td>\n",
       "      <td>2016-01-01 17:00:00</td>\n",
       "      <td>2016-01-01 03:00:00</td>\n",
       "      <td>13</td>\n",
       "    </tr>\n",
       "  </tbody>\n",
       "</table>\n",
       "</div>"
      ],
      "text/plain": [
       "           hpg_store_id      visit_datetime    reserve_datetime  \\\n",
       "0  hpg_c63f6f42e088e50f 2016-01-01 11:00:00 2016-01-01 09:00:00   \n",
       "1  hpg_dac72789163a3f47 2016-01-01 13:00:00 2016-01-01 06:00:00   \n",
       "2  hpg_c8e24dcf51ca1eb5 2016-01-01 16:00:00 2016-01-01 14:00:00   \n",
       "3  hpg_24bb207e5fd49d4a 2016-01-01 17:00:00 2016-01-01 11:00:00   \n",
       "4  hpg_25291c542ebb3bc2 2016-01-01 17:00:00 2016-01-01 03:00:00   \n",
       "\n",
       "   reserve_visitors  \n",
       "0                 1  \n",
       "1                 3  \n",
       "2                 2  \n",
       "3                 5  \n",
       "4                13  "
      ]
     },
     "execution_count": 5,
     "metadata": {},
     "output_type": "execute_result"
    }
   ],
   "source": [
    "df_hpg_reserve.head()"
   ]
  },
  {
   "cell_type": "code",
   "execution_count": 6,
   "metadata": {},
   "outputs": [
    {
     "data": {
      "text/plain": [
       "(2000320, 4)"
      ]
     },
     "execution_count": 6,
     "metadata": {},
     "output_type": "execute_result"
    }
   ],
   "source": [
    "df_hpg_reserve.shape"
   ]
  },
  {
   "cell_type": "code",
   "execution_count": 7,
   "metadata": {},
   "outputs": [
    {
     "data": {
      "text/html": [
       "<div>\n",
       "<style>\n",
       "    .dataframe thead tr:only-child th {\n",
       "        text-align: right;\n",
       "    }\n",
       "\n",
       "    .dataframe thead th {\n",
       "        text-align: left;\n",
       "    }\n",
       "\n",
       "    .dataframe tbody tr th {\n",
       "        vertical-align: top;\n",
       "    }\n",
       "</style>\n",
       "<table border=\"1\" class=\"dataframe\">\n",
       "  <thead>\n",
       "    <tr style=\"text-align: right;\">\n",
       "      <th></th>\n",
       "      <th>air_store_id</th>\n",
       "      <th>air_genre_name</th>\n",
       "      <th>air_area_name</th>\n",
       "      <th>latitude</th>\n",
       "      <th>longitude</th>\n",
       "    </tr>\n",
       "  </thead>\n",
       "  <tbody>\n",
       "    <tr>\n",
       "      <th>0</th>\n",
       "      <td>air_0f0cdeee6c9bf3d7</td>\n",
       "      <td>Italian/French</td>\n",
       "      <td>Hyōgo-ken Kōbe-shi Kumoidōri</td>\n",
       "      <td>34.695124</td>\n",
       "      <td>135.197852</td>\n",
       "    </tr>\n",
       "    <tr>\n",
       "      <th>1</th>\n",
       "      <td>air_7cc17a324ae5c7dc</td>\n",
       "      <td>Italian/French</td>\n",
       "      <td>Hyōgo-ken Kōbe-shi Kumoidōri</td>\n",
       "      <td>34.695124</td>\n",
       "      <td>135.197852</td>\n",
       "    </tr>\n",
       "    <tr>\n",
       "      <th>2</th>\n",
       "      <td>air_fee8dcf4d619598e</td>\n",
       "      <td>Italian/French</td>\n",
       "      <td>Hyōgo-ken Kōbe-shi Kumoidōri</td>\n",
       "      <td>34.695124</td>\n",
       "      <td>135.197852</td>\n",
       "    </tr>\n",
       "    <tr>\n",
       "      <th>3</th>\n",
       "      <td>air_a17f0778617c76e2</td>\n",
       "      <td>Italian/French</td>\n",
       "      <td>Hyōgo-ken Kōbe-shi Kumoidōri</td>\n",
       "      <td>34.695124</td>\n",
       "      <td>135.197852</td>\n",
       "    </tr>\n",
       "    <tr>\n",
       "      <th>4</th>\n",
       "      <td>air_83db5aff8f50478e</td>\n",
       "      <td>Italian/French</td>\n",
       "      <td>Tōkyō-to Minato-ku Shibakōen</td>\n",
       "      <td>35.658068</td>\n",
       "      <td>139.751599</td>\n",
       "    </tr>\n",
       "  </tbody>\n",
       "</table>\n",
       "</div>"
      ],
      "text/plain": [
       "           air_store_id  air_genre_name                 air_area_name  \\\n",
       "0  air_0f0cdeee6c9bf3d7  Italian/French  Hyōgo-ken Kōbe-shi Kumoidōri   \n",
       "1  air_7cc17a324ae5c7dc  Italian/French  Hyōgo-ken Kōbe-shi Kumoidōri   \n",
       "2  air_fee8dcf4d619598e  Italian/French  Hyōgo-ken Kōbe-shi Kumoidōri   \n",
       "3  air_a17f0778617c76e2  Italian/French  Hyōgo-ken Kōbe-shi Kumoidōri   \n",
       "4  air_83db5aff8f50478e  Italian/French  Tōkyō-to Minato-ku Shibakōen   \n",
       "\n",
       "    latitude   longitude  \n",
       "0  34.695124  135.197852  \n",
       "1  34.695124  135.197852  \n",
       "2  34.695124  135.197852  \n",
       "3  34.695124  135.197852  \n",
       "4  35.658068  139.751599  "
      ]
     },
     "execution_count": 7,
     "metadata": {},
     "output_type": "execute_result"
    }
   ],
   "source": [
    "df_air_store_info.head()"
   ]
  },
  {
   "cell_type": "code",
   "execution_count": 8,
   "metadata": {},
   "outputs": [
    {
     "data": {
      "text/html": [
       "<div>\n",
       "<style>\n",
       "    .dataframe thead tr:only-child th {\n",
       "        text-align: right;\n",
       "    }\n",
       "\n",
       "    .dataframe thead th {\n",
       "        text-align: left;\n",
       "    }\n",
       "\n",
       "    .dataframe tbody tr th {\n",
       "        vertical-align: top;\n",
       "    }\n",
       "</style>\n",
       "<table border=\"1\" class=\"dataframe\">\n",
       "  <thead>\n",
       "    <tr style=\"text-align: right;\">\n",
       "      <th></th>\n",
       "      <th>hpg_store_id</th>\n",
       "      <th>hpg_genre_name</th>\n",
       "      <th>hpg_area_name</th>\n",
       "      <th>latitude</th>\n",
       "      <th>longitude</th>\n",
       "    </tr>\n",
       "  </thead>\n",
       "  <tbody>\n",
       "    <tr>\n",
       "      <th>0</th>\n",
       "      <td>hpg_6622b62385aec8bf</td>\n",
       "      <td>Japanese style</td>\n",
       "      <td>Tōkyō-to Setagaya-ku Taishidō</td>\n",
       "      <td>35.643675</td>\n",
       "      <td>139.668221</td>\n",
       "    </tr>\n",
       "    <tr>\n",
       "      <th>1</th>\n",
       "      <td>hpg_e9e068dd49c5fa00</td>\n",
       "      <td>Japanese style</td>\n",
       "      <td>Tōkyō-to Setagaya-ku Taishidō</td>\n",
       "      <td>35.643675</td>\n",
       "      <td>139.668221</td>\n",
       "    </tr>\n",
       "    <tr>\n",
       "      <th>2</th>\n",
       "      <td>hpg_2976f7acb4b3a3bc</td>\n",
       "      <td>Japanese style</td>\n",
       "      <td>Tōkyō-to Setagaya-ku Taishidō</td>\n",
       "      <td>35.643675</td>\n",
       "      <td>139.668221</td>\n",
       "    </tr>\n",
       "    <tr>\n",
       "      <th>3</th>\n",
       "      <td>hpg_e51a522e098f024c</td>\n",
       "      <td>Japanese style</td>\n",
       "      <td>Tōkyō-to Setagaya-ku Taishidō</td>\n",
       "      <td>35.643675</td>\n",
       "      <td>139.668221</td>\n",
       "    </tr>\n",
       "    <tr>\n",
       "      <th>4</th>\n",
       "      <td>hpg_e3d0e1519894f275</td>\n",
       "      <td>Japanese style</td>\n",
       "      <td>Tōkyō-to Setagaya-ku Taishidō</td>\n",
       "      <td>35.643675</td>\n",
       "      <td>139.668221</td>\n",
       "    </tr>\n",
       "  </tbody>\n",
       "</table>\n",
       "</div>"
      ],
      "text/plain": [
       "           hpg_store_id  hpg_genre_name                  hpg_area_name  \\\n",
       "0  hpg_6622b62385aec8bf  Japanese style  Tōkyō-to Setagaya-ku Taishidō   \n",
       "1  hpg_e9e068dd49c5fa00  Japanese style  Tōkyō-to Setagaya-ku Taishidō   \n",
       "2  hpg_2976f7acb4b3a3bc  Japanese style  Tōkyō-to Setagaya-ku Taishidō   \n",
       "3  hpg_e51a522e098f024c  Japanese style  Tōkyō-to Setagaya-ku Taishidō   \n",
       "4  hpg_e3d0e1519894f275  Japanese style  Tōkyō-to Setagaya-ku Taishidō   \n",
       "\n",
       "    latitude   longitude  \n",
       "0  35.643675  139.668221  \n",
       "1  35.643675  139.668221  \n",
       "2  35.643675  139.668221  \n",
       "3  35.643675  139.668221  \n",
       "4  35.643675  139.668221  "
      ]
     },
     "execution_count": 8,
     "metadata": {},
     "output_type": "execute_result"
    }
   ],
   "source": [
    "df_hpg_store_info.head()"
   ]
  },
  {
   "cell_type": "code",
   "execution_count": 9,
   "metadata": {},
   "outputs": [
    {
     "data": {
      "text/html": [
       "<div>\n",
       "<style>\n",
       "    .dataframe thead tr:only-child th {\n",
       "        text-align: right;\n",
       "    }\n",
       "\n",
       "    .dataframe thead th {\n",
       "        text-align: left;\n",
       "    }\n",
       "\n",
       "    .dataframe tbody tr th {\n",
       "        vertical-align: top;\n",
       "    }\n",
       "</style>\n",
       "<table border=\"1\" class=\"dataframe\">\n",
       "  <thead>\n",
       "    <tr style=\"text-align: right;\">\n",
       "      <th></th>\n",
       "      <th>air_store_id</th>\n",
       "      <th>visit_date</th>\n",
       "      <th>visitors</th>\n",
       "    </tr>\n",
       "  </thead>\n",
       "  <tbody>\n",
       "    <tr>\n",
       "      <th>0</th>\n",
       "      <td>air_ba937bf13d40fb24</td>\n",
       "      <td>2016-01-13</td>\n",
       "      <td>25</td>\n",
       "    </tr>\n",
       "    <tr>\n",
       "      <th>1</th>\n",
       "      <td>air_ba937bf13d40fb24</td>\n",
       "      <td>2016-01-14</td>\n",
       "      <td>32</td>\n",
       "    </tr>\n",
       "    <tr>\n",
       "      <th>2</th>\n",
       "      <td>air_ba937bf13d40fb24</td>\n",
       "      <td>2016-01-15</td>\n",
       "      <td>29</td>\n",
       "    </tr>\n",
       "    <tr>\n",
       "      <th>3</th>\n",
       "      <td>air_ba937bf13d40fb24</td>\n",
       "      <td>2016-01-16</td>\n",
       "      <td>22</td>\n",
       "    </tr>\n",
       "    <tr>\n",
       "      <th>4</th>\n",
       "      <td>air_ba937bf13d40fb24</td>\n",
       "      <td>2016-01-18</td>\n",
       "      <td>6</td>\n",
       "    </tr>\n",
       "  </tbody>\n",
       "</table>\n",
       "</div>"
      ],
      "text/plain": [
       "           air_store_id visit_date  visitors\n",
       "0  air_ba937bf13d40fb24 2016-01-13        25\n",
       "1  air_ba937bf13d40fb24 2016-01-14        32\n",
       "2  air_ba937bf13d40fb24 2016-01-15        29\n",
       "3  air_ba937bf13d40fb24 2016-01-16        22\n",
       "4  air_ba937bf13d40fb24 2016-01-18         6"
      ]
     },
     "execution_count": 9,
     "metadata": {},
     "output_type": "execute_result"
    }
   ],
   "source": [
    "df_air_visit.head()"
   ]
  },
  {
   "cell_type": "code",
   "execution_count": 10,
   "metadata": {},
   "outputs": [
    {
     "data": {
      "text/html": [
       "<div>\n",
       "<style>\n",
       "    .dataframe thead tr:only-child th {\n",
       "        text-align: right;\n",
       "    }\n",
       "\n",
       "    .dataframe thead th {\n",
       "        text-align: left;\n",
       "    }\n",
       "\n",
       "    .dataframe tbody tr th {\n",
       "        vertical-align: top;\n",
       "    }\n",
       "</style>\n",
       "<table border=\"1\" class=\"dataframe\">\n",
       "  <thead>\n",
       "    <tr style=\"text-align: right;\">\n",
       "      <th></th>\n",
       "      <th>air_store_id</th>\n",
       "      <th>hpg_store_id</th>\n",
       "    </tr>\n",
       "  </thead>\n",
       "  <tbody>\n",
       "    <tr>\n",
       "      <th>0</th>\n",
       "      <td>air_63b13c56b7201bd9</td>\n",
       "      <td>hpg_4bc649e72e2a239a</td>\n",
       "    </tr>\n",
       "    <tr>\n",
       "      <th>1</th>\n",
       "      <td>air_a24bf50c3e90d583</td>\n",
       "      <td>hpg_c34b496d0305a809</td>\n",
       "    </tr>\n",
       "    <tr>\n",
       "      <th>2</th>\n",
       "      <td>air_c7f78b4f3cba33ff</td>\n",
       "      <td>hpg_cd8ae0d9bbd58ff9</td>\n",
       "    </tr>\n",
       "    <tr>\n",
       "      <th>3</th>\n",
       "      <td>air_947eb2cae4f3e8f2</td>\n",
       "      <td>hpg_de24ea49dc25d6b8</td>\n",
       "    </tr>\n",
       "    <tr>\n",
       "      <th>4</th>\n",
       "      <td>air_965b2e0cf4119003</td>\n",
       "      <td>hpg_653238a84804d8e7</td>\n",
       "    </tr>\n",
       "  </tbody>\n",
       "</table>\n",
       "</div>"
      ],
      "text/plain": [
       "           air_store_id          hpg_store_id\n",
       "0  air_63b13c56b7201bd9  hpg_4bc649e72e2a239a\n",
       "1  air_a24bf50c3e90d583  hpg_c34b496d0305a809\n",
       "2  air_c7f78b4f3cba33ff  hpg_cd8ae0d9bbd58ff9\n",
       "3  air_947eb2cae4f3e8f2  hpg_de24ea49dc25d6b8\n",
       "4  air_965b2e0cf4119003  hpg_653238a84804d8e7"
      ]
     },
     "execution_count": 10,
     "metadata": {},
     "output_type": "execute_result"
    }
   ],
   "source": [
    "df_store_id.head()"
   ]
  },
  {
   "cell_type": "code",
   "execution_count": 11,
   "metadata": {},
   "outputs": [
    {
     "data": {
      "text/plain": [
       "(150, 2)"
      ]
     },
     "execution_count": 11,
     "metadata": {},
     "output_type": "execute_result"
    }
   ],
   "source": [
    "df_store_id.shape"
   ]
  },
  {
   "cell_type": "code",
   "execution_count": 12,
   "metadata": {},
   "outputs": [
    {
     "data": {
      "text/html": [
       "<div>\n",
       "<style>\n",
       "    .dataframe thead tr:only-child th {\n",
       "        text-align: right;\n",
       "    }\n",
       "\n",
       "    .dataframe thead th {\n",
       "        text-align: left;\n",
       "    }\n",
       "\n",
       "    .dataframe tbody tr th {\n",
       "        vertical-align: top;\n",
       "    }\n",
       "</style>\n",
       "<table border=\"1\" class=\"dataframe\">\n",
       "  <thead>\n",
       "    <tr style=\"text-align: right;\">\n",
       "      <th></th>\n",
       "      <th>visit_date</th>\n",
       "      <th>day_of_week</th>\n",
       "      <th>holiday_flg</th>\n",
       "    </tr>\n",
       "  </thead>\n",
       "  <tbody>\n",
       "    <tr>\n",
       "      <th>0</th>\n",
       "      <td>2016-01-01</td>\n",
       "      <td>Friday</td>\n",
       "      <td>1</td>\n",
       "    </tr>\n",
       "    <tr>\n",
       "      <th>1</th>\n",
       "      <td>2016-01-02</td>\n",
       "      <td>Saturday</td>\n",
       "      <td>1</td>\n",
       "    </tr>\n",
       "    <tr>\n",
       "      <th>2</th>\n",
       "      <td>2016-01-03</td>\n",
       "      <td>Sunday</td>\n",
       "      <td>1</td>\n",
       "    </tr>\n",
       "    <tr>\n",
       "      <th>3</th>\n",
       "      <td>2016-01-04</td>\n",
       "      <td>Monday</td>\n",
       "      <td>0</td>\n",
       "    </tr>\n",
       "    <tr>\n",
       "      <th>4</th>\n",
       "      <td>2016-01-05</td>\n",
       "      <td>Tuesday</td>\n",
       "      <td>0</td>\n",
       "    </tr>\n",
       "  </tbody>\n",
       "</table>\n",
       "</div>"
      ],
      "text/plain": [
       "  visit_date day_of_week  holiday_flg\n",
       "0 2016-01-01      Friday            1\n",
       "1 2016-01-02    Saturday            1\n",
       "2 2016-01-03      Sunday            1\n",
       "3 2016-01-04      Monday            0\n",
       "4 2016-01-05     Tuesday            0"
      ]
     },
     "execution_count": 12,
     "metadata": {},
     "output_type": "execute_result"
    }
   ],
   "source": [
    "df_holiday_dates.head()"
   ]
  },
  {
   "cell_type": "code",
   "execution_count": 13,
   "metadata": {},
   "outputs": [
    {
     "data": {
      "text/html": [
       "<div>\n",
       "<style>\n",
       "    .dataframe thead tr:only-child th {\n",
       "        text-align: right;\n",
       "    }\n",
       "\n",
       "    .dataframe thead th {\n",
       "        text-align: left;\n",
       "    }\n",
       "\n",
       "    .dataframe tbody tr th {\n",
       "        vertical-align: top;\n",
       "    }\n",
       "</style>\n",
       "<table border=\"1\" class=\"dataframe\">\n",
       "  <thead>\n",
       "    <tr style=\"text-align: right;\">\n",
       "      <th></th>\n",
       "      <th>id</th>\n",
       "      <th>visitors</th>\n",
       "    </tr>\n",
       "  </thead>\n",
       "  <tbody>\n",
       "    <tr>\n",
       "      <th>0</th>\n",
       "      <td>air_00a91d42b08b08d9_2017-04-23</td>\n",
       "      <td>0</td>\n",
       "    </tr>\n",
       "    <tr>\n",
       "      <th>1</th>\n",
       "      <td>air_00a91d42b08b08d9_2017-04-24</td>\n",
       "      <td>0</td>\n",
       "    </tr>\n",
       "    <tr>\n",
       "      <th>2</th>\n",
       "      <td>air_00a91d42b08b08d9_2017-04-25</td>\n",
       "      <td>0</td>\n",
       "    </tr>\n",
       "    <tr>\n",
       "      <th>3</th>\n",
       "      <td>air_00a91d42b08b08d9_2017-04-26</td>\n",
       "      <td>0</td>\n",
       "    </tr>\n",
       "    <tr>\n",
       "      <th>4</th>\n",
       "      <td>air_00a91d42b08b08d9_2017-04-27</td>\n",
       "      <td>0</td>\n",
       "    </tr>\n",
       "  </tbody>\n",
       "</table>\n",
       "</div>"
      ],
      "text/plain": [
       "                                id  visitors\n",
       "0  air_00a91d42b08b08d9_2017-04-23         0\n",
       "1  air_00a91d42b08b08d9_2017-04-24         0\n",
       "2  air_00a91d42b08b08d9_2017-04-25         0\n",
       "3  air_00a91d42b08b08d9_2017-04-26         0\n",
       "4  air_00a91d42b08b08d9_2017-04-27         0"
      ]
     },
     "execution_count": 13,
     "metadata": {},
     "output_type": "execute_result"
    }
   ],
   "source": [
    "df_submission.head()"
   ]
  },
  {
   "cell_type": "code",
   "execution_count": 14,
   "metadata": {},
   "outputs": [
    {
     "data": {
      "text/plain": [
       "13325"
      ]
     },
     "execution_count": 14,
     "metadata": {},
     "output_type": "execute_result"
    }
   ],
   "source": [
    "df_hpg_reserve['hpg_store_id'].nunique()"
   ]
  },
  {
   "cell_type": "code",
   "execution_count": 15,
   "metadata": {},
   "outputs": [
    {
     "data": {
      "text/plain": [
       "314"
      ]
     },
     "execution_count": 15,
     "metadata": {},
     "output_type": "execute_result"
    }
   ],
   "source": [
    "df_air_reserve['air_store_id'].nunique()"
   ]
  },
  {
   "cell_type": "markdown",
   "metadata": {},
   "source": [
    "### Data Preparation"
   ]
  },
  {
   "cell_type": "code",
   "execution_count": 16,
   "metadata": {
    "collapsed": true
   },
   "outputs": [],
   "source": [
    "df_hpg_reserve = df_hpg_reserve.merge(df_store_id, on='hpg_store_id')"
   ]
  },
  {
   "cell_type": "code",
   "execution_count": 17,
   "metadata": {
    "collapsed": true
   },
   "outputs": [],
   "source": [
    "df_hpg_reserve.drop('hpg_store_id', axis=1, inplace=True)"
   ]
  },
  {
   "cell_type": "code",
   "execution_count": 18,
   "metadata": {},
   "outputs": [
    {
     "data": {
      "text/plain": [
       "(28183, 4)"
      ]
     },
     "execution_count": 18,
     "metadata": {},
     "output_type": "execute_result"
    }
   ],
   "source": [
    "df_hpg_reserve.shape"
   ]
  },
  {
   "cell_type": "code",
   "execution_count": 19,
   "metadata": {
    "collapsed": true
   },
   "outputs": [],
   "source": [
    "df_submission['visit_date'] = df_submission['id'].map(lambda x: str(x).split('_')[2])\n",
    "df_submission['air_store_id'] = df_submission['id'].map(lambda x: '_'.join(x.split('_')[:2]))\n",
    "df_submission['visit_date'] = pd.to_datetime(df_submission['visit_date'])\n",
    "df_submission['dow'] = df_submission['visit_date'].dt.dayofweek\n",
    "df_submission['visit_date'] = df_submission['visit_date'].dt.date\n",
    "df_submission['visit_date'] = pd.to_datetime(df_submission['visit_date'])"
   ]
  },
  {
   "cell_type": "code",
   "execution_count": 20,
   "metadata": {
    "collapsed": true
   },
   "outputs": [],
   "source": [
    "df_ids = df_submission['id']"
   ]
  },
  {
   "cell_type": "code",
   "execution_count": 21,
   "metadata": {
    "collapsed": true
   },
   "outputs": [],
   "source": [
    "df_submission.drop(['id'], axis=1, inplace=True)"
   ]
  },
  {
   "cell_type": "code",
   "execution_count": 22,
   "metadata": {},
   "outputs": [
    {
     "data": {
      "text/html": [
       "<div>\n",
       "<style>\n",
       "    .dataframe thead tr:only-child th {\n",
       "        text-align: right;\n",
       "    }\n",
       "\n",
       "    .dataframe thead th {\n",
       "        text-align: left;\n",
       "    }\n",
       "\n",
       "    .dataframe tbody tr th {\n",
       "        vertical-align: top;\n",
       "    }\n",
       "</style>\n",
       "<table border=\"1\" class=\"dataframe\">\n",
       "  <thead>\n",
       "    <tr style=\"text-align: right;\">\n",
       "      <th></th>\n",
       "      <th>visitors</th>\n",
       "      <th>visit_date</th>\n",
       "      <th>air_store_id</th>\n",
       "      <th>dow</th>\n",
       "    </tr>\n",
       "  </thead>\n",
       "  <tbody>\n",
       "    <tr>\n",
       "      <th>0</th>\n",
       "      <td>0</td>\n",
       "      <td>2017-04-23</td>\n",
       "      <td>air_00a91d42b08b08d9</td>\n",
       "      <td>6</td>\n",
       "    </tr>\n",
       "    <tr>\n",
       "      <th>1</th>\n",
       "      <td>0</td>\n",
       "      <td>2017-04-24</td>\n",
       "      <td>air_00a91d42b08b08d9</td>\n",
       "      <td>0</td>\n",
       "    </tr>\n",
       "    <tr>\n",
       "      <th>2</th>\n",
       "      <td>0</td>\n",
       "      <td>2017-04-25</td>\n",
       "      <td>air_00a91d42b08b08d9</td>\n",
       "      <td>1</td>\n",
       "    </tr>\n",
       "    <tr>\n",
       "      <th>3</th>\n",
       "      <td>0</td>\n",
       "      <td>2017-04-26</td>\n",
       "      <td>air_00a91d42b08b08d9</td>\n",
       "      <td>2</td>\n",
       "    </tr>\n",
       "    <tr>\n",
       "      <th>4</th>\n",
       "      <td>0</td>\n",
       "      <td>2017-04-27</td>\n",
       "      <td>air_00a91d42b08b08d9</td>\n",
       "      <td>3</td>\n",
       "    </tr>\n",
       "  </tbody>\n",
       "</table>\n",
       "</div>"
      ],
      "text/plain": [
       "   visitors visit_date          air_store_id  dow\n",
       "0         0 2017-04-23  air_00a91d42b08b08d9    6\n",
       "1         0 2017-04-24  air_00a91d42b08b08d9    0\n",
       "2         0 2017-04-25  air_00a91d42b08b08d9    1\n",
       "3         0 2017-04-26  air_00a91d42b08b08d9    2\n",
       "4         0 2017-04-27  air_00a91d42b08b08d9    3"
      ]
     },
     "execution_count": 22,
     "metadata": {},
     "output_type": "execute_result"
    }
   ],
   "source": [
    "df_submission.head()"
   ]
  },
  {
   "cell_type": "code",
   "execution_count": 23,
   "metadata": {
    "scrolled": true
   },
   "outputs": [
    {
     "data": {
      "text/plain": [
       "(32019, 4)"
      ]
     },
     "execution_count": 23,
     "metadata": {},
     "output_type": "execute_result"
    }
   ],
   "source": [
    "df_submission.shape"
   ]
  },
  {
   "cell_type": "code",
   "execution_count": 24,
   "metadata": {
    "collapsed": true
   },
   "outputs": [],
   "source": [
    "df_holiday_dates.loc[(df_holiday_dates['holiday_flg'] == 1) & (df_holiday_dates['day_of_week'] == 'Sunday'), 'holiday_flg'] = 0\n",
    "df_holiday_dates.loc[(df_holiday_dates['holiday_flg'] == 1) & (df_holiday_dates['day_of_week'] == 'Saturday'), 'holiday_flg'] = 0"
   ]
  },
  {
   "cell_type": "code",
   "execution_count": 25,
   "metadata": {
    "collapsed": true
   },
   "outputs": [],
   "source": [
    "df_holiday_dates.loc[(df_holiday_dates['holiday_flg'] == 1), 'holiday_flg'] = df_holiday_dates['visit_date'].dt.day"
   ]
  },
  {
   "cell_type": "code",
   "execution_count": 26,
   "metadata": {},
   "outputs": [
    {
     "data": {
      "text/html": [
       "<div>\n",
       "<style>\n",
       "    .dataframe thead tr:only-child th {\n",
       "        text-align: right;\n",
       "    }\n",
       "\n",
       "    .dataframe thead th {\n",
       "        text-align: left;\n",
       "    }\n",
       "\n",
       "    .dataframe tbody tr th {\n",
       "        vertical-align: top;\n",
       "    }\n",
       "</style>\n",
       "<table border=\"1\" class=\"dataframe\">\n",
       "  <thead>\n",
       "    <tr style=\"text-align: right;\">\n",
       "      <th></th>\n",
       "      <th>visit_date</th>\n",
       "      <th>day_of_week</th>\n",
       "      <th>holiday_flg</th>\n",
       "    </tr>\n",
       "  </thead>\n",
       "  <tbody>\n",
       "    <tr>\n",
       "      <th>0</th>\n",
       "      <td>2016-01-01</td>\n",
       "      <td>Friday</td>\n",
       "      <td>1</td>\n",
       "    </tr>\n",
       "    <tr>\n",
       "      <th>1</th>\n",
       "      <td>2016-01-02</td>\n",
       "      <td>Saturday</td>\n",
       "      <td>0</td>\n",
       "    </tr>\n",
       "    <tr>\n",
       "      <th>2</th>\n",
       "      <td>2016-01-03</td>\n",
       "      <td>Sunday</td>\n",
       "      <td>0</td>\n",
       "    </tr>\n",
       "    <tr>\n",
       "      <th>3</th>\n",
       "      <td>2016-01-04</td>\n",
       "      <td>Monday</td>\n",
       "      <td>0</td>\n",
       "    </tr>\n",
       "    <tr>\n",
       "      <th>4</th>\n",
       "      <td>2016-01-05</td>\n",
       "      <td>Tuesday</td>\n",
       "      <td>0</td>\n",
       "    </tr>\n",
       "  </tbody>\n",
       "</table>\n",
       "</div>"
      ],
      "text/plain": [
       "  visit_date day_of_week  holiday_flg\n",
       "0 2016-01-01      Friday            1\n",
       "1 2016-01-02    Saturday            0\n",
       "2 2016-01-03      Sunday            0\n",
       "3 2016-01-04      Monday            0\n",
       "4 2016-01-05     Tuesday            0"
      ]
     },
     "execution_count": 26,
     "metadata": {},
     "output_type": "execute_result"
    }
   ],
   "source": [
    "df_holiday_dates.head()"
   ]
  },
  {
   "cell_type": "markdown",
   "metadata": {},
   "source": [
    "### Feature Engineering"
   ]
  },
  {
   "cell_type": "markdown",
   "metadata": {},
   "source": [
    "#### Intervals"
   ]
  },
  {
   "cell_type": "code",
   "execution_count": 27,
   "metadata": {
    "collapsed": true
   },
   "outputs": [],
   "source": [
    "def transform_dates(df):\n",
    "    df['visit_datetime']   = df['visit_datetime'].dt.date\n",
    "    df['reserve_datetime'] = df['reserve_datetime'].dt.date\n",
    "    df['reserve_datetime_diff'] = (df['visit_datetime'] - df['reserve_datetime']).dt.days\n",
    "    df['visit_date'] = pd.to_datetime(df['visit_datetime'])\n",
    "    df['dow'] = df['visit_date'].dt.dayofweek\n",
    "    df = df.drop('visit_datetime', axis=1)\n",
    "    return df.groupby(['air_store_id','dow'])[['reserve_visitors', 'reserve_datetime_diff']].sum().reset_index()\n",
    "    \n",
    "df_air_reserve_agg = transform_dates(df_air_reserve)\n",
    "df_hpg_reserve_agg = transform_dates(df_hpg_reserve)"
   ]
  },
  {
   "cell_type": "code",
   "execution_count": 28,
   "metadata": {},
   "outputs": [
    {
     "data": {
      "text/html": [
       "<div>\n",
       "<style>\n",
       "    .dataframe thead tr:only-child th {\n",
       "        text-align: right;\n",
       "    }\n",
       "\n",
       "    .dataframe thead th {\n",
       "        text-align: left;\n",
       "    }\n",
       "\n",
       "    .dataframe tbody tr th {\n",
       "        vertical-align: top;\n",
       "    }\n",
       "</style>\n",
       "<table border=\"1\" class=\"dataframe\">\n",
       "  <thead>\n",
       "    <tr style=\"text-align: right;\">\n",
       "      <th></th>\n",
       "      <th>air_store_id</th>\n",
       "      <th>dow</th>\n",
       "      <th>reserve_visitors</th>\n",
       "      <th>reserve_datetime_diff</th>\n",
       "    </tr>\n",
       "  </thead>\n",
       "  <tbody>\n",
       "    <tr>\n",
       "      <th>0</th>\n",
       "      <td>air_00a91d42b08b08d9</td>\n",
       "      <td>0</td>\n",
       "      <td>11</td>\n",
       "      <td>4</td>\n",
       "    </tr>\n",
       "    <tr>\n",
       "      <th>1</th>\n",
       "      <td>air_00a91d42b08b08d9</td>\n",
       "      <td>1</td>\n",
       "      <td>13</td>\n",
       "      <td>9</td>\n",
       "    </tr>\n",
       "    <tr>\n",
       "      <th>2</th>\n",
       "      <td>air_00a91d42b08b08d9</td>\n",
       "      <td>2</td>\n",
       "      <td>21</td>\n",
       "      <td>17</td>\n",
       "    </tr>\n",
       "    <tr>\n",
       "      <th>3</th>\n",
       "      <td>air_00a91d42b08b08d9</td>\n",
       "      <td>3</td>\n",
       "      <td>12</td>\n",
       "      <td>2</td>\n",
       "    </tr>\n",
       "    <tr>\n",
       "      <th>4</th>\n",
       "      <td>air_00a91d42b08b08d9</td>\n",
       "      <td>4</td>\n",
       "      <td>2</td>\n",
       "      <td>1</td>\n",
       "    </tr>\n",
       "  </tbody>\n",
       "</table>\n",
       "</div>"
      ],
      "text/plain": [
       "           air_store_id  dow  reserve_visitors  reserve_datetime_diff\n",
       "0  air_00a91d42b08b08d9    0                11                      4\n",
       "1  air_00a91d42b08b08d9    1                13                      9\n",
       "2  air_00a91d42b08b08d9    2                21                     17\n",
       "3  air_00a91d42b08b08d9    3                12                      2\n",
       "4  air_00a91d42b08b08d9    4                 2                      1"
      ]
     },
     "execution_count": 28,
     "metadata": {},
     "output_type": "execute_result"
    }
   ],
   "source": [
    "df_air_reserve_agg.head()"
   ]
  },
  {
   "cell_type": "code",
   "execution_count": 29,
   "metadata": {},
   "outputs": [
    {
     "data": {
      "text/html": [
       "<div>\n",
       "<style>\n",
       "    .dataframe thead tr:only-child th {\n",
       "        text-align: right;\n",
       "    }\n",
       "\n",
       "    .dataframe thead th {\n",
       "        text-align: left;\n",
       "    }\n",
       "\n",
       "    .dataframe tbody tr th {\n",
       "        vertical-align: top;\n",
       "    }\n",
       "</style>\n",
       "<table border=\"1\" class=\"dataframe\">\n",
       "  <thead>\n",
       "    <tr style=\"text-align: right;\">\n",
       "      <th></th>\n",
       "      <th>air_store_id</th>\n",
       "      <th>dow</th>\n",
       "      <th>reserve_visitors</th>\n",
       "      <th>reserve_datetime_diff</th>\n",
       "    </tr>\n",
       "  </thead>\n",
       "  <tbody>\n",
       "    <tr>\n",
       "      <th>0</th>\n",
       "      <td>air_00a91d42b08b08d9</td>\n",
       "      <td>0</td>\n",
       "      <td>25</td>\n",
       "      <td>9</td>\n",
       "    </tr>\n",
       "    <tr>\n",
       "      <th>1</th>\n",
       "      <td>air_00a91d42b08b08d9</td>\n",
       "      <td>1</td>\n",
       "      <td>37</td>\n",
       "      <td>54</td>\n",
       "    </tr>\n",
       "    <tr>\n",
       "      <th>2</th>\n",
       "      <td>air_00a91d42b08b08d9</td>\n",
       "      <td>2</td>\n",
       "      <td>115</td>\n",
       "      <td>155</td>\n",
       "    </tr>\n",
       "    <tr>\n",
       "      <th>3</th>\n",
       "      <td>air_00a91d42b08b08d9</td>\n",
       "      <td>3</td>\n",
       "      <td>76</td>\n",
       "      <td>141</td>\n",
       "    </tr>\n",
       "    <tr>\n",
       "      <th>4</th>\n",
       "      <td>air_00a91d42b08b08d9</td>\n",
       "      <td>4</td>\n",
       "      <td>139</td>\n",
       "      <td>195</td>\n",
       "    </tr>\n",
       "  </tbody>\n",
       "</table>\n",
       "</div>"
      ],
      "text/plain": [
       "           air_store_id  dow  reserve_visitors  reserve_datetime_diff\n",
       "0  air_00a91d42b08b08d9    0                25                      9\n",
       "1  air_00a91d42b08b08d9    1                37                     54\n",
       "2  air_00a91d42b08b08d9    2               115                    155\n",
       "3  air_00a91d42b08b08d9    3                76                    141\n",
       "4  air_00a91d42b08b08d9    4               139                    195"
      ]
     },
     "execution_count": 29,
     "metadata": {},
     "output_type": "execute_result"
    }
   ],
   "source": [
    "df_hpg_reserve_agg.head()"
   ]
  },
  {
   "cell_type": "code",
   "execution_count": 30,
   "metadata": {
    "collapsed": true
   },
   "outputs": [],
   "source": [
    "for df in [df_air_reserve, df_hpg_reserve]:\n",
    "    df['visit_date'] = pd.to_datetime(df['visit_datetime'])\n",
    "    df['dow'] = df['visit_date'].dt.dayofweek\n",
    "    df.drop(['visit_datetime', 'reserve_datetime_diff', 'reserve_datetime', 'reserve_visitors'], inplace=True, axis=1)"
   ]
  },
  {
   "cell_type": "code",
   "execution_count": 31,
   "metadata": {
    "scrolled": true
   },
   "outputs": [
    {
     "data": {
      "text/html": [
       "<div>\n",
       "<style>\n",
       "    .dataframe thead tr:only-child th {\n",
       "        text-align: right;\n",
       "    }\n",
       "\n",
       "    .dataframe thead th {\n",
       "        text-align: left;\n",
       "    }\n",
       "\n",
       "    .dataframe tbody tr th {\n",
       "        vertical-align: top;\n",
       "    }\n",
       "</style>\n",
       "<table border=\"1\" class=\"dataframe\">\n",
       "  <thead>\n",
       "    <tr style=\"text-align: right;\">\n",
       "      <th></th>\n",
       "      <th>air_store_id</th>\n",
       "      <th>visit_date</th>\n",
       "      <th>dow</th>\n",
       "    </tr>\n",
       "  </thead>\n",
       "  <tbody>\n",
       "    <tr>\n",
       "      <th>0</th>\n",
       "      <td>air_877f79706adbfb06</td>\n",
       "      <td>2016-01-01</td>\n",
       "      <td>4</td>\n",
       "    </tr>\n",
       "    <tr>\n",
       "      <th>1</th>\n",
       "      <td>air_db4b38ebe7a7ceff</td>\n",
       "      <td>2016-01-01</td>\n",
       "      <td>4</td>\n",
       "    </tr>\n",
       "    <tr>\n",
       "      <th>2</th>\n",
       "      <td>air_db4b38ebe7a7ceff</td>\n",
       "      <td>2016-01-01</td>\n",
       "      <td>4</td>\n",
       "    </tr>\n",
       "    <tr>\n",
       "      <th>3</th>\n",
       "      <td>air_877f79706adbfb06</td>\n",
       "      <td>2016-01-01</td>\n",
       "      <td>4</td>\n",
       "    </tr>\n",
       "    <tr>\n",
       "      <th>4</th>\n",
       "      <td>air_db80363d35f10926</td>\n",
       "      <td>2016-01-01</td>\n",
       "      <td>4</td>\n",
       "    </tr>\n",
       "  </tbody>\n",
       "</table>\n",
       "</div>"
      ],
      "text/plain": [
       "           air_store_id visit_date  dow\n",
       "0  air_877f79706adbfb06 2016-01-01    4\n",
       "1  air_db4b38ebe7a7ceff 2016-01-01    4\n",
       "2  air_db4b38ebe7a7ceff 2016-01-01    4\n",
       "3  air_877f79706adbfb06 2016-01-01    4\n",
       "4  air_db80363d35f10926 2016-01-01    4"
      ]
     },
     "execution_count": 31,
     "metadata": {},
     "output_type": "execute_result"
    }
   ],
   "source": [
    "df_air_reserve.head()"
   ]
  },
  {
   "cell_type": "code",
   "execution_count": 32,
   "metadata": {},
   "outputs": [
    {
     "data": {
      "text/html": [
       "<div>\n",
       "<style>\n",
       "    .dataframe thead tr:only-child th {\n",
       "        text-align: right;\n",
       "    }\n",
       "\n",
       "    .dataframe thead th {\n",
       "        text-align: left;\n",
       "    }\n",
       "\n",
       "    .dataframe tbody tr th {\n",
       "        vertical-align: top;\n",
       "    }\n",
       "</style>\n",
       "<table border=\"1\" class=\"dataframe\">\n",
       "  <thead>\n",
       "    <tr style=\"text-align: right;\">\n",
       "      <th></th>\n",
       "      <th>air_store_id</th>\n",
       "      <th>visit_date</th>\n",
       "      <th>dow</th>\n",
       "    </tr>\n",
       "  </thead>\n",
       "  <tbody>\n",
       "    <tr>\n",
       "      <th>0</th>\n",
       "      <td>air_db80363d35f10926</td>\n",
       "      <td>2016-01-01</td>\n",
       "      <td>4</td>\n",
       "    </tr>\n",
       "    <tr>\n",
       "      <th>1</th>\n",
       "      <td>air_db80363d35f10926</td>\n",
       "      <td>2016-01-02</td>\n",
       "      <td>5</td>\n",
       "    </tr>\n",
       "    <tr>\n",
       "      <th>2</th>\n",
       "      <td>air_db80363d35f10926</td>\n",
       "      <td>2016-01-03</td>\n",
       "      <td>6</td>\n",
       "    </tr>\n",
       "    <tr>\n",
       "      <th>3</th>\n",
       "      <td>air_db80363d35f10926</td>\n",
       "      <td>2016-01-06</td>\n",
       "      <td>2</td>\n",
       "    </tr>\n",
       "    <tr>\n",
       "      <th>4</th>\n",
       "      <td>air_db80363d35f10926</td>\n",
       "      <td>2016-01-11</td>\n",
       "      <td>0</td>\n",
       "    </tr>\n",
       "  </tbody>\n",
       "</table>\n",
       "</div>"
      ],
      "text/plain": [
       "           air_store_id visit_date  dow\n",
       "0  air_db80363d35f10926 2016-01-01    4\n",
       "1  air_db80363d35f10926 2016-01-02    5\n",
       "2  air_db80363d35f10926 2016-01-03    6\n",
       "3  air_db80363d35f10926 2016-01-06    2\n",
       "4  air_db80363d35f10926 2016-01-11    0"
      ]
     },
     "execution_count": 32,
     "metadata": {},
     "output_type": "execute_result"
    }
   ],
   "source": [
    "df_hpg_reserve.head()"
   ]
  },
  {
   "cell_type": "markdown",
   "metadata": {},
   "source": [
    "#### Visitors"
   ]
  },
  {
   "cell_type": "code",
   "execution_count": 33,
   "metadata": {
    "collapsed": true
   },
   "outputs": [],
   "source": [
    "def transform_visitors(df):\n",
    "    return df.groupby(['air_store_id','dow'])['reserve_visitors'].agg([min, np.mean, np.max]).reset_index()\\\n",
    "             .rename(columns={'min': 'min_visitors', 'mean': 'mean_visitors', 'amax': 'max_visitors'})"
   ]
  },
  {
   "cell_type": "code",
   "execution_count": 34,
   "metadata": {
    "collapsed": true
   },
   "outputs": [],
   "source": [
    "df_air_visitors = transform_visitors(df_air_reserve_agg)\n",
    "df_hpg_visitors = transform_visitors(df_hpg_reserve_agg)"
   ]
  },
  {
   "cell_type": "code",
   "execution_count": 35,
   "metadata": {},
   "outputs": [
    {
     "data": {
      "text/html": [
       "<div>\n",
       "<style>\n",
       "    .dataframe thead tr:only-child th {\n",
       "        text-align: right;\n",
       "    }\n",
       "\n",
       "    .dataframe thead th {\n",
       "        text-align: left;\n",
       "    }\n",
       "\n",
       "    .dataframe tbody tr th {\n",
       "        vertical-align: top;\n",
       "    }\n",
       "</style>\n",
       "<table border=\"1\" class=\"dataframe\">\n",
       "  <thead>\n",
       "    <tr style=\"text-align: right;\">\n",
       "      <th></th>\n",
       "      <th>air_store_id</th>\n",
       "      <th>dow</th>\n",
       "      <th>min_visitors</th>\n",
       "      <th>mean_visitors</th>\n",
       "      <th>max_visitors</th>\n",
       "    </tr>\n",
       "  </thead>\n",
       "  <tbody>\n",
       "    <tr>\n",
       "      <th>0</th>\n",
       "      <td>air_00a91d42b08b08d9</td>\n",
       "      <td>0</td>\n",
       "      <td>11</td>\n",
       "      <td>11</td>\n",
       "      <td>11</td>\n",
       "    </tr>\n",
       "    <tr>\n",
       "      <th>1</th>\n",
       "      <td>air_00a91d42b08b08d9</td>\n",
       "      <td>1</td>\n",
       "      <td>13</td>\n",
       "      <td>13</td>\n",
       "      <td>13</td>\n",
       "    </tr>\n",
       "    <tr>\n",
       "      <th>2</th>\n",
       "      <td>air_00a91d42b08b08d9</td>\n",
       "      <td>2</td>\n",
       "      <td>21</td>\n",
       "      <td>21</td>\n",
       "      <td>21</td>\n",
       "    </tr>\n",
       "    <tr>\n",
       "      <th>3</th>\n",
       "      <td>air_00a91d42b08b08d9</td>\n",
       "      <td>3</td>\n",
       "      <td>12</td>\n",
       "      <td>12</td>\n",
       "      <td>12</td>\n",
       "    </tr>\n",
       "    <tr>\n",
       "      <th>4</th>\n",
       "      <td>air_00a91d42b08b08d9</td>\n",
       "      <td>4</td>\n",
       "      <td>2</td>\n",
       "      <td>2</td>\n",
       "      <td>2</td>\n",
       "    </tr>\n",
       "  </tbody>\n",
       "</table>\n",
       "</div>"
      ],
      "text/plain": [
       "           air_store_id  dow  min_visitors  mean_visitors  max_visitors\n",
       "0  air_00a91d42b08b08d9    0            11             11            11\n",
       "1  air_00a91d42b08b08d9    1            13             13            13\n",
       "2  air_00a91d42b08b08d9    2            21             21            21\n",
       "3  air_00a91d42b08b08d9    3            12             12            12\n",
       "4  air_00a91d42b08b08d9    4             2              2             2"
      ]
     },
     "execution_count": 35,
     "metadata": {},
     "output_type": "execute_result"
    }
   ],
   "source": [
    "df_air_visitors.head()"
   ]
  },
  {
   "cell_type": "code",
   "execution_count": 36,
   "metadata": {},
   "outputs": [
    {
     "data": {
      "text/html": [
       "<div>\n",
       "<style>\n",
       "    .dataframe thead tr:only-child th {\n",
       "        text-align: right;\n",
       "    }\n",
       "\n",
       "    .dataframe thead th {\n",
       "        text-align: left;\n",
       "    }\n",
       "\n",
       "    .dataframe tbody tr th {\n",
       "        vertical-align: top;\n",
       "    }\n",
       "</style>\n",
       "<table border=\"1\" class=\"dataframe\">\n",
       "  <thead>\n",
       "    <tr style=\"text-align: right;\">\n",
       "      <th></th>\n",
       "      <th>air_store_id</th>\n",
       "      <th>dow</th>\n",
       "      <th>min_visitors</th>\n",
       "      <th>mean_visitors</th>\n",
       "      <th>max_visitors</th>\n",
       "    </tr>\n",
       "  </thead>\n",
       "  <tbody>\n",
       "    <tr>\n",
       "      <th>0</th>\n",
       "      <td>air_00a91d42b08b08d9</td>\n",
       "      <td>0</td>\n",
       "      <td>25</td>\n",
       "      <td>25</td>\n",
       "      <td>25</td>\n",
       "    </tr>\n",
       "    <tr>\n",
       "      <th>1</th>\n",
       "      <td>air_00a91d42b08b08d9</td>\n",
       "      <td>1</td>\n",
       "      <td>37</td>\n",
       "      <td>37</td>\n",
       "      <td>37</td>\n",
       "    </tr>\n",
       "    <tr>\n",
       "      <th>2</th>\n",
       "      <td>air_00a91d42b08b08d9</td>\n",
       "      <td>2</td>\n",
       "      <td>115</td>\n",
       "      <td>115</td>\n",
       "      <td>115</td>\n",
       "    </tr>\n",
       "    <tr>\n",
       "      <th>3</th>\n",
       "      <td>air_00a91d42b08b08d9</td>\n",
       "      <td>3</td>\n",
       "      <td>76</td>\n",
       "      <td>76</td>\n",
       "      <td>76</td>\n",
       "    </tr>\n",
       "    <tr>\n",
       "      <th>4</th>\n",
       "      <td>air_00a91d42b08b08d9</td>\n",
       "      <td>4</td>\n",
       "      <td>139</td>\n",
       "      <td>139</td>\n",
       "      <td>139</td>\n",
       "    </tr>\n",
       "  </tbody>\n",
       "</table>\n",
       "</div>"
      ],
      "text/plain": [
       "           air_store_id  dow  min_visitors  mean_visitors  max_visitors\n",
       "0  air_00a91d42b08b08d9    0            25             25            25\n",
       "1  air_00a91d42b08b08d9    1            37             37            37\n",
       "2  air_00a91d42b08b08d9    2           115            115           115\n",
       "3  air_00a91d42b08b08d9    3            76             76            76\n",
       "4  air_00a91d42b08b08d9    4           139            139           139"
      ]
     },
     "execution_count": 36,
     "metadata": {},
     "output_type": "execute_result"
    }
   ],
   "source": [
    "df_hpg_visitors.head()"
   ]
  },
  {
   "cell_type": "markdown",
   "metadata": {},
   "source": [
    "### Localization"
   ]
  },
  {
   "cell_type": "code",
   "execution_count": 37,
   "metadata": {
    "collapsed": true
   },
   "outputs": [],
   "source": [
    "df_air_store_info['area_1'] = df_air_store_info['air_area_name'].str.split(' ', expand=True)[0]\n",
    "df_air_store_info['area_2'] = df_air_store_info['air_area_name'].str.split(' ', expand=True)[1]\n",
    "df_air_store_info['area_3'] = df_air_store_info['air_area_name'].str.split(' ', expand=True)[2]"
   ]
  },
  {
   "cell_type": "code",
   "execution_count": 38,
   "metadata": {},
   "outputs": [
    {
     "data": {
      "text/html": [
       "<div>\n",
       "<style>\n",
       "    .dataframe thead tr:only-child th {\n",
       "        text-align: right;\n",
       "    }\n",
       "\n",
       "    .dataframe thead th {\n",
       "        text-align: left;\n",
       "    }\n",
       "\n",
       "    .dataframe tbody tr th {\n",
       "        vertical-align: top;\n",
       "    }\n",
       "</style>\n",
       "<table border=\"1\" class=\"dataframe\">\n",
       "  <thead>\n",
       "    <tr style=\"text-align: right;\">\n",
       "      <th></th>\n",
       "      <th>air_store_id</th>\n",
       "      <th>air_genre_name</th>\n",
       "      <th>air_area_name</th>\n",
       "      <th>latitude</th>\n",
       "      <th>longitude</th>\n",
       "      <th>area_1</th>\n",
       "      <th>area_2</th>\n",
       "      <th>area_3</th>\n",
       "    </tr>\n",
       "  </thead>\n",
       "  <tbody>\n",
       "    <tr>\n",
       "      <th>0</th>\n",
       "      <td>air_0f0cdeee6c9bf3d7</td>\n",
       "      <td>Italian/French</td>\n",
       "      <td>Hyōgo-ken Kōbe-shi Kumoidōri</td>\n",
       "      <td>34.695124</td>\n",
       "      <td>135.197852</td>\n",
       "      <td>Hyōgo-ken</td>\n",
       "      <td>Kōbe-shi</td>\n",
       "      <td>Kumoidōri</td>\n",
       "    </tr>\n",
       "    <tr>\n",
       "      <th>1</th>\n",
       "      <td>air_7cc17a324ae5c7dc</td>\n",
       "      <td>Italian/French</td>\n",
       "      <td>Hyōgo-ken Kōbe-shi Kumoidōri</td>\n",
       "      <td>34.695124</td>\n",
       "      <td>135.197852</td>\n",
       "      <td>Hyōgo-ken</td>\n",
       "      <td>Kōbe-shi</td>\n",
       "      <td>Kumoidōri</td>\n",
       "    </tr>\n",
       "    <tr>\n",
       "      <th>2</th>\n",
       "      <td>air_fee8dcf4d619598e</td>\n",
       "      <td>Italian/French</td>\n",
       "      <td>Hyōgo-ken Kōbe-shi Kumoidōri</td>\n",
       "      <td>34.695124</td>\n",
       "      <td>135.197852</td>\n",
       "      <td>Hyōgo-ken</td>\n",
       "      <td>Kōbe-shi</td>\n",
       "      <td>Kumoidōri</td>\n",
       "    </tr>\n",
       "    <tr>\n",
       "      <th>3</th>\n",
       "      <td>air_a17f0778617c76e2</td>\n",
       "      <td>Italian/French</td>\n",
       "      <td>Hyōgo-ken Kōbe-shi Kumoidōri</td>\n",
       "      <td>34.695124</td>\n",
       "      <td>135.197852</td>\n",
       "      <td>Hyōgo-ken</td>\n",
       "      <td>Kōbe-shi</td>\n",
       "      <td>Kumoidōri</td>\n",
       "    </tr>\n",
       "    <tr>\n",
       "      <th>4</th>\n",
       "      <td>air_83db5aff8f50478e</td>\n",
       "      <td>Italian/French</td>\n",
       "      <td>Tōkyō-to Minato-ku Shibakōen</td>\n",
       "      <td>35.658068</td>\n",
       "      <td>139.751599</td>\n",
       "      <td>Tōkyō-to</td>\n",
       "      <td>Minato-ku</td>\n",
       "      <td>Shibakōen</td>\n",
       "    </tr>\n",
       "  </tbody>\n",
       "</table>\n",
       "</div>"
      ],
      "text/plain": [
       "           air_store_id  air_genre_name                 air_area_name  \\\n",
       "0  air_0f0cdeee6c9bf3d7  Italian/French  Hyōgo-ken Kōbe-shi Kumoidōri   \n",
       "1  air_7cc17a324ae5c7dc  Italian/French  Hyōgo-ken Kōbe-shi Kumoidōri   \n",
       "2  air_fee8dcf4d619598e  Italian/French  Hyōgo-ken Kōbe-shi Kumoidōri   \n",
       "3  air_a17f0778617c76e2  Italian/French  Hyōgo-ken Kōbe-shi Kumoidōri   \n",
       "4  air_83db5aff8f50478e  Italian/French  Tōkyō-to Minato-ku Shibakōen   \n",
       "\n",
       "    latitude   longitude     area_1     area_2     area_3  \n",
       "0  34.695124  135.197852  Hyōgo-ken   Kōbe-shi  Kumoidōri  \n",
       "1  34.695124  135.197852  Hyōgo-ken   Kōbe-shi  Kumoidōri  \n",
       "2  34.695124  135.197852  Hyōgo-ken   Kōbe-shi  Kumoidōri  \n",
       "3  34.695124  135.197852  Hyōgo-ken   Kōbe-shi  Kumoidōri  \n",
       "4  35.658068  139.751599   Tōkyō-to  Minato-ku  Shibakōen  "
      ]
     },
     "execution_count": 38,
     "metadata": {},
     "output_type": "execute_result"
    }
   ],
   "source": [
    "df_air_store_info.head()"
   ]
  },
  {
   "cell_type": "markdown",
   "metadata": {},
   "source": [
    "### Merge"
   ]
  },
  {
   "cell_type": "markdown",
   "metadata": {},
   "source": [
    "#### Test"
   ]
  },
  {
   "cell_type": "code",
   "execution_count": 39,
   "metadata": {
    "collapsed": true
   },
   "outputs": [],
   "source": [
    "df_test = df_submission.merge(df_air_reserve_agg, on=['air_store_id', 'dow'], how='left')"
   ]
  },
  {
   "cell_type": "code",
   "execution_count": 40,
   "metadata": {
    "collapsed": true
   },
   "outputs": [],
   "source": [
    "df_test = df_test.merge(df_air_visitors, on=['air_store_id', 'dow'], how='left')"
   ]
  },
  {
   "cell_type": "code",
   "execution_count": 41,
   "metadata": {
    "collapsed": true
   },
   "outputs": [],
   "source": [
    "df_test = df_test.merge(df_air_store_info, on='air_store_id', how='left')"
   ]
  },
  {
   "cell_type": "code",
   "execution_count": 42,
   "metadata": {
    "collapsed": true
   },
   "outputs": [],
   "source": [
    "df_test = df_test.merge(df_holiday_dates, on='visit_date', how='left')"
   ]
  },
  {
   "cell_type": "code",
   "execution_count": 43,
   "metadata": {},
   "outputs": [
    {
     "data": {
      "text/html": [
       "<div>\n",
       "<style>\n",
       "    .dataframe thead tr:only-child th {\n",
       "        text-align: right;\n",
       "    }\n",
       "\n",
       "    .dataframe thead th {\n",
       "        text-align: left;\n",
       "    }\n",
       "\n",
       "    .dataframe tbody tr th {\n",
       "        vertical-align: top;\n",
       "    }\n",
       "</style>\n",
       "<table border=\"1\" class=\"dataframe\">\n",
       "  <thead>\n",
       "    <tr style=\"text-align: right;\">\n",
       "      <th></th>\n",
       "      <th>visitors</th>\n",
       "      <th>visit_date</th>\n",
       "      <th>air_store_id</th>\n",
       "      <th>dow</th>\n",
       "      <th>reserve_visitors</th>\n",
       "      <th>reserve_datetime_diff</th>\n",
       "      <th>min_visitors</th>\n",
       "      <th>mean_visitors</th>\n",
       "      <th>max_visitors</th>\n",
       "      <th>air_genre_name</th>\n",
       "      <th>air_area_name</th>\n",
       "      <th>latitude</th>\n",
       "      <th>longitude</th>\n",
       "      <th>area_1</th>\n",
       "      <th>area_2</th>\n",
       "      <th>area_3</th>\n",
       "      <th>day_of_week</th>\n",
       "      <th>holiday_flg</th>\n",
       "    </tr>\n",
       "  </thead>\n",
       "  <tbody>\n",
       "    <tr>\n",
       "      <th>0</th>\n",
       "      <td>0</td>\n",
       "      <td>2017-04-23</td>\n",
       "      <td>air_00a91d42b08b08d9</td>\n",
       "      <td>6</td>\n",
       "      <td>NaN</td>\n",
       "      <td>NaN</td>\n",
       "      <td>NaN</td>\n",
       "      <td>NaN</td>\n",
       "      <td>NaN</td>\n",
       "      <td>Italian/French</td>\n",
       "      <td>Tōkyō-to Chiyoda-ku Kudanminami</td>\n",
       "      <td>35.694003</td>\n",
       "      <td>139.753595</td>\n",
       "      <td>Tōkyō-to</td>\n",
       "      <td>Chiyoda-ku</td>\n",
       "      <td>Kudanminami</td>\n",
       "      <td>Sunday</td>\n",
       "      <td>0</td>\n",
       "    </tr>\n",
       "    <tr>\n",
       "      <th>1</th>\n",
       "      <td>0</td>\n",
       "      <td>2017-04-24</td>\n",
       "      <td>air_00a91d42b08b08d9</td>\n",
       "      <td>0</td>\n",
       "      <td>11.0</td>\n",
       "      <td>4.0</td>\n",
       "      <td>11.0</td>\n",
       "      <td>11.0</td>\n",
       "      <td>11.0</td>\n",
       "      <td>Italian/French</td>\n",
       "      <td>Tōkyō-to Chiyoda-ku Kudanminami</td>\n",
       "      <td>35.694003</td>\n",
       "      <td>139.753595</td>\n",
       "      <td>Tōkyō-to</td>\n",
       "      <td>Chiyoda-ku</td>\n",
       "      <td>Kudanminami</td>\n",
       "      <td>Monday</td>\n",
       "      <td>0</td>\n",
       "    </tr>\n",
       "    <tr>\n",
       "      <th>2</th>\n",
       "      <td>0</td>\n",
       "      <td>2017-04-25</td>\n",
       "      <td>air_00a91d42b08b08d9</td>\n",
       "      <td>1</td>\n",
       "      <td>13.0</td>\n",
       "      <td>9.0</td>\n",
       "      <td>13.0</td>\n",
       "      <td>13.0</td>\n",
       "      <td>13.0</td>\n",
       "      <td>Italian/French</td>\n",
       "      <td>Tōkyō-to Chiyoda-ku Kudanminami</td>\n",
       "      <td>35.694003</td>\n",
       "      <td>139.753595</td>\n",
       "      <td>Tōkyō-to</td>\n",
       "      <td>Chiyoda-ku</td>\n",
       "      <td>Kudanminami</td>\n",
       "      <td>Tuesday</td>\n",
       "      <td>0</td>\n",
       "    </tr>\n",
       "    <tr>\n",
       "      <th>3</th>\n",
       "      <td>0</td>\n",
       "      <td>2017-04-26</td>\n",
       "      <td>air_00a91d42b08b08d9</td>\n",
       "      <td>2</td>\n",
       "      <td>21.0</td>\n",
       "      <td>17.0</td>\n",
       "      <td>21.0</td>\n",
       "      <td>21.0</td>\n",
       "      <td>21.0</td>\n",
       "      <td>Italian/French</td>\n",
       "      <td>Tōkyō-to Chiyoda-ku Kudanminami</td>\n",
       "      <td>35.694003</td>\n",
       "      <td>139.753595</td>\n",
       "      <td>Tōkyō-to</td>\n",
       "      <td>Chiyoda-ku</td>\n",
       "      <td>Kudanminami</td>\n",
       "      <td>Wednesday</td>\n",
       "      <td>0</td>\n",
       "    </tr>\n",
       "    <tr>\n",
       "      <th>4</th>\n",
       "      <td>0</td>\n",
       "      <td>2017-04-27</td>\n",
       "      <td>air_00a91d42b08b08d9</td>\n",
       "      <td>3</td>\n",
       "      <td>12.0</td>\n",
       "      <td>2.0</td>\n",
       "      <td>12.0</td>\n",
       "      <td>12.0</td>\n",
       "      <td>12.0</td>\n",
       "      <td>Italian/French</td>\n",
       "      <td>Tōkyō-to Chiyoda-ku Kudanminami</td>\n",
       "      <td>35.694003</td>\n",
       "      <td>139.753595</td>\n",
       "      <td>Tōkyō-to</td>\n",
       "      <td>Chiyoda-ku</td>\n",
       "      <td>Kudanminami</td>\n",
       "      <td>Thursday</td>\n",
       "      <td>0</td>\n",
       "    </tr>\n",
       "  </tbody>\n",
       "</table>\n",
       "</div>"
      ],
      "text/plain": [
       "   visitors visit_date          air_store_id  dow  reserve_visitors  \\\n",
       "0         0 2017-04-23  air_00a91d42b08b08d9    6               NaN   \n",
       "1         0 2017-04-24  air_00a91d42b08b08d9    0              11.0   \n",
       "2         0 2017-04-25  air_00a91d42b08b08d9    1              13.0   \n",
       "3         0 2017-04-26  air_00a91d42b08b08d9    2              21.0   \n",
       "4         0 2017-04-27  air_00a91d42b08b08d9    3              12.0   \n",
       "\n",
       "   reserve_datetime_diff  min_visitors  mean_visitors  max_visitors  \\\n",
       "0                    NaN           NaN            NaN           NaN   \n",
       "1                    4.0          11.0           11.0          11.0   \n",
       "2                    9.0          13.0           13.0          13.0   \n",
       "3                   17.0          21.0           21.0          21.0   \n",
       "4                    2.0          12.0           12.0          12.0   \n",
       "\n",
       "   air_genre_name                    air_area_name   latitude   longitude  \\\n",
       "0  Italian/French  Tōkyō-to Chiyoda-ku Kudanminami  35.694003  139.753595   \n",
       "1  Italian/French  Tōkyō-to Chiyoda-ku Kudanminami  35.694003  139.753595   \n",
       "2  Italian/French  Tōkyō-to Chiyoda-ku Kudanminami  35.694003  139.753595   \n",
       "3  Italian/French  Tōkyō-to Chiyoda-ku Kudanminami  35.694003  139.753595   \n",
       "4  Italian/French  Tōkyō-to Chiyoda-ku Kudanminami  35.694003  139.753595   \n",
       "\n",
       "     area_1      area_2       area_3 day_of_week  holiday_flg  \n",
       "0  Tōkyō-to  Chiyoda-ku  Kudanminami      Sunday            0  \n",
       "1  Tōkyō-to  Chiyoda-ku  Kudanminami      Monday            0  \n",
       "2  Tōkyō-to  Chiyoda-ku  Kudanminami     Tuesday            0  \n",
       "3  Tōkyō-to  Chiyoda-ku  Kudanminami   Wednesday            0  \n",
       "4  Tōkyō-to  Chiyoda-ku  Kudanminami    Thursday            0  "
      ]
     },
     "execution_count": 43,
     "metadata": {},
     "output_type": "execute_result"
    }
   ],
   "source": [
    "df_test.head()"
   ]
  },
  {
   "cell_type": "markdown",
   "metadata": {},
   "source": [
    "#### Train"
   ]
  },
  {
   "cell_type": "code",
   "execution_count": 44,
   "metadata": {
    "collapsed": true
   },
   "outputs": [],
   "source": [
    "df_train = df_air_reserve_agg.copy() # pd.concat([df_air_reserve_agg, df_hpg_reserve_agg])"
   ]
  },
  {
   "cell_type": "code",
   "execution_count": 45,
   "metadata": {
    "collapsed": true
   },
   "outputs": [],
   "source": [
    "df_train = df_train.merge(df_air_reserve, on=['air_store_id', 'dow'])"
   ]
  },
  {
   "cell_type": "code",
   "execution_count": 46,
   "metadata": {
    "collapsed": true
   },
   "outputs": [],
   "source": [
    "df_train = df_train.merge(df_air_visitors, on=['air_store_id', 'dow'])"
   ]
  },
  {
   "cell_type": "code",
   "execution_count": 47,
   "metadata": {
    "collapsed": true,
    "hide_input": false
   },
   "outputs": [],
   "source": [
    "df_train = df_train.merge(df_air_store_info, on='air_store_id')"
   ]
  },
  {
   "cell_type": "code",
   "execution_count": 48,
   "metadata": {
    "collapsed": true
   },
   "outputs": [],
   "source": [
    "df_train = df_train.merge(df_holiday_dates, on='visit_date')"
   ]
  },
  {
   "cell_type": "code",
   "execution_count": 49,
   "metadata": {
    "collapsed": true
   },
   "outputs": [],
   "source": [
    "df_train = df_train.merge(df_air_visit, on=['air_store_id', 'visit_date'], how='right')"
   ]
  },
  {
   "cell_type": "code",
   "execution_count": 50,
   "metadata": {},
   "outputs": [
    {
     "data": {
      "text/html": [
       "<div>\n",
       "<style>\n",
       "    .dataframe thead tr:only-child th {\n",
       "        text-align: right;\n",
       "    }\n",
       "\n",
       "    .dataframe thead th {\n",
       "        text-align: left;\n",
       "    }\n",
       "\n",
       "    .dataframe tbody tr th {\n",
       "        vertical-align: top;\n",
       "    }\n",
       "</style>\n",
       "<table border=\"1\" class=\"dataframe\">\n",
       "  <thead>\n",
       "    <tr style=\"text-align: right;\">\n",
       "      <th></th>\n",
       "      <th>air_store_id</th>\n",
       "      <th>dow</th>\n",
       "      <th>reserve_visitors</th>\n",
       "      <th>reserve_datetime_diff</th>\n",
       "      <th>visit_date</th>\n",
       "      <th>min_visitors</th>\n",
       "      <th>mean_visitors</th>\n",
       "      <th>max_visitors</th>\n",
       "      <th>air_genre_name</th>\n",
       "      <th>air_area_name</th>\n",
       "      <th>latitude</th>\n",
       "      <th>longitude</th>\n",
       "      <th>area_1</th>\n",
       "      <th>area_2</th>\n",
       "      <th>area_3</th>\n",
       "      <th>day_of_week</th>\n",
       "      <th>holiday_flg</th>\n",
       "      <th>visitors</th>\n",
       "    </tr>\n",
       "  </thead>\n",
       "  <tbody>\n",
       "    <tr>\n",
       "      <th>0</th>\n",
       "      <td>air_00a91d42b08b08d9</td>\n",
       "      <td>0.0</td>\n",
       "      <td>11.0</td>\n",
       "      <td>4.0</td>\n",
       "      <td>2016-10-31</td>\n",
       "      <td>11.0</td>\n",
       "      <td>11.0</td>\n",
       "      <td>11.0</td>\n",
       "      <td>Italian/French</td>\n",
       "      <td>Tōkyō-to Chiyoda-ku Kudanminami</td>\n",
       "      <td>35.694003</td>\n",
       "      <td>139.753595</td>\n",
       "      <td>Tōkyō-to</td>\n",
       "      <td>Chiyoda-ku</td>\n",
       "      <td>Kudanminami</td>\n",
       "      <td>Monday</td>\n",
       "      <td>0.0</td>\n",
       "      <td>26</td>\n",
       "    </tr>\n",
       "    <tr>\n",
       "      <th>1</th>\n",
       "      <td>air_03963426c9312048</td>\n",
       "      <td>0.0</td>\n",
       "      <td>751.0</td>\n",
       "      <td>712.0</td>\n",
       "      <td>2016-10-31</td>\n",
       "      <td>751.0</td>\n",
       "      <td>751.0</td>\n",
       "      <td>751.0</td>\n",
       "      <td>Izakaya</td>\n",
       "      <td>Hiroshima-ken Hiroshima-shi Kokutaijimachi</td>\n",
       "      <td>34.386245</td>\n",
       "      <td>132.455018</td>\n",
       "      <td>Hiroshima-ken</td>\n",
       "      <td>Hiroshima-shi</td>\n",
       "      <td>Kokutaijimachi</td>\n",
       "      <td>Monday</td>\n",
       "      <td>0.0</td>\n",
       "      <td>17</td>\n",
       "    </tr>\n",
       "    <tr>\n",
       "      <th>2</th>\n",
       "      <td>air_04cae7c1bc9b2a0b</td>\n",
       "      <td>0.0</td>\n",
       "      <td>222.0</td>\n",
       "      <td>228.0</td>\n",
       "      <td>2016-10-31</td>\n",
       "      <td>222.0</td>\n",
       "      <td>222.0</td>\n",
       "      <td>222.0</td>\n",
       "      <td>Izakaya</td>\n",
       "      <td>Hokkaidō Sapporo-shi Kotoni 2 Jō</td>\n",
       "      <td>43.074470</td>\n",
       "      <td>141.300889</td>\n",
       "      <td>Hokkaidō</td>\n",
       "      <td>Sapporo-shi</td>\n",
       "      <td>Kotoni</td>\n",
       "      <td>Monday</td>\n",
       "      <td>0.0</td>\n",
       "      <td>27</td>\n",
       "    </tr>\n",
       "    <tr>\n",
       "      <th>3</th>\n",
       "      <td>air_04cae7c1bc9b2a0b</td>\n",
       "      <td>0.0</td>\n",
       "      <td>222.0</td>\n",
       "      <td>228.0</td>\n",
       "      <td>2016-10-31</td>\n",
       "      <td>222.0</td>\n",
       "      <td>222.0</td>\n",
       "      <td>222.0</td>\n",
       "      <td>Izakaya</td>\n",
       "      <td>Hokkaidō Sapporo-shi Kotoni 2 Jō</td>\n",
       "      <td>43.074470</td>\n",
       "      <td>141.300889</td>\n",
       "      <td>Hokkaidō</td>\n",
       "      <td>Sapporo-shi</td>\n",
       "      <td>Kotoni</td>\n",
       "      <td>Monday</td>\n",
       "      <td>0.0</td>\n",
       "      <td>27</td>\n",
       "    </tr>\n",
       "    <tr>\n",
       "      <th>4</th>\n",
       "      <td>air_0867f7bebad6a649</td>\n",
       "      <td>0.0</td>\n",
       "      <td>101.0</td>\n",
       "      <td>115.0</td>\n",
       "      <td>2016-10-31</td>\n",
       "      <td>101.0</td>\n",
       "      <td>101.0</td>\n",
       "      <td>101.0</td>\n",
       "      <td>Italian/French</td>\n",
       "      <td>Hiroshima-ken Hiroshima-shi Kokutaijimachi</td>\n",
       "      <td>34.386245</td>\n",
       "      <td>132.455018</td>\n",
       "      <td>Hiroshima-ken</td>\n",
       "      <td>Hiroshima-shi</td>\n",
       "      <td>Kokutaijimachi</td>\n",
       "      <td>Monday</td>\n",
       "      <td>0.0</td>\n",
       "      <td>12</td>\n",
       "    </tr>\n",
       "  </tbody>\n",
       "</table>\n",
       "</div>"
      ],
      "text/plain": [
       "           air_store_id  dow  reserve_visitors  reserve_datetime_diff  \\\n",
       "0  air_00a91d42b08b08d9  0.0              11.0                    4.0   \n",
       "1  air_03963426c9312048  0.0             751.0                  712.0   \n",
       "2  air_04cae7c1bc9b2a0b  0.0             222.0                  228.0   \n",
       "3  air_04cae7c1bc9b2a0b  0.0             222.0                  228.0   \n",
       "4  air_0867f7bebad6a649  0.0             101.0                  115.0   \n",
       "\n",
       "  visit_date  min_visitors  mean_visitors  max_visitors  air_genre_name  \\\n",
       "0 2016-10-31          11.0           11.0          11.0  Italian/French   \n",
       "1 2016-10-31         751.0          751.0         751.0         Izakaya   \n",
       "2 2016-10-31         222.0          222.0         222.0         Izakaya   \n",
       "3 2016-10-31         222.0          222.0         222.0         Izakaya   \n",
       "4 2016-10-31         101.0          101.0         101.0  Italian/French   \n",
       "\n",
       "                                air_area_name   latitude   longitude  \\\n",
       "0             Tōkyō-to Chiyoda-ku Kudanminami  35.694003  139.753595   \n",
       "1  Hiroshima-ken Hiroshima-shi Kokutaijimachi  34.386245  132.455018   \n",
       "2            Hokkaidō Sapporo-shi Kotoni 2 Jō  43.074470  141.300889   \n",
       "3            Hokkaidō Sapporo-shi Kotoni 2 Jō  43.074470  141.300889   \n",
       "4  Hiroshima-ken Hiroshima-shi Kokutaijimachi  34.386245  132.455018   \n",
       "\n",
       "          area_1         area_2          area_3 day_of_week  holiday_flg  \\\n",
       "0       Tōkyō-to     Chiyoda-ku     Kudanminami      Monday          0.0   \n",
       "1  Hiroshima-ken  Hiroshima-shi  Kokutaijimachi      Monday          0.0   \n",
       "2       Hokkaidō    Sapporo-shi          Kotoni      Monday          0.0   \n",
       "3       Hokkaidō    Sapporo-shi          Kotoni      Monday          0.0   \n",
       "4  Hiroshima-ken  Hiroshima-shi  Kokutaijimachi      Monday          0.0   \n",
       "\n",
       "   visitors  \n",
       "0        26  \n",
       "1        17  \n",
       "2        27  \n",
       "3        27  \n",
       "4        12  "
      ]
     },
     "execution_count": 50,
     "metadata": {},
     "output_type": "execute_result"
    }
   ],
   "source": [
    "df_train.head()"
   ]
  },
  {
   "cell_type": "markdown",
   "metadata": {},
   "source": [
    "### Checking..."
   ]
  },
  {
   "cell_type": "code",
   "execution_count": 51,
   "metadata": {},
   "outputs": [
    {
     "data": {
      "text/plain": [
       "Index(['air_store_id', 'dow', 'reserve_visitors', 'reserve_datetime_diff',\n",
       "       'visit_date', 'min_visitors', 'mean_visitors', 'max_visitors',\n",
       "       'air_genre_name', 'air_area_name', 'latitude', 'longitude', 'area_1',\n",
       "       'area_2', 'area_3', 'day_of_week', 'holiday_flg', 'visitors'],\n",
       "      dtype='object')"
      ]
     },
     "execution_count": 51,
     "metadata": {},
     "output_type": "execute_result"
    }
   ],
   "source": [
    "df_train.columns"
   ]
  },
  {
   "cell_type": "code",
   "execution_count": 52,
   "metadata": {},
   "outputs": [
    {
     "data": {
      "text/plain": [
       "Index(['visitors', 'visit_date', 'air_store_id', 'dow', 'reserve_visitors',\n",
       "       'reserve_datetime_diff', 'min_visitors', 'mean_visitors',\n",
       "       'max_visitors', 'air_genre_name', 'air_area_name', 'latitude',\n",
       "       'longitude', 'area_1', 'area_2', 'area_3', 'day_of_week',\n",
       "       'holiday_flg'],\n",
       "      dtype='object')"
      ]
     },
     "execution_count": 52,
     "metadata": {},
     "output_type": "execute_result"
    }
   ],
   "source": [
    "df_test.columns"
   ]
  },
  {
   "cell_type": "code",
   "execution_count": 53,
   "metadata": {},
   "outputs": [
    {
     "data": {
      "text/plain": [
       "(311225, 18)"
      ]
     },
     "execution_count": 53,
     "metadata": {},
     "output_type": "execute_result"
    }
   ],
   "source": [
    "df_train.shape"
   ]
  },
  {
   "cell_type": "code",
   "execution_count": 54,
   "metadata": {},
   "outputs": [
    {
     "data": {
      "text/plain": [
       "(32019, 18)"
      ]
     },
     "execution_count": 54,
     "metadata": {},
     "output_type": "execute_result"
    }
   ],
   "source": [
    "df_test.shape"
   ]
  },
  {
   "cell_type": "code",
   "execution_count": 55,
   "metadata": {
    "collapsed": true
   },
   "outputs": [],
   "source": [
    "for df in [df_test, df_train]:\n",
    "    df.drop(['day_of_week', 'air_area_name', 'latitude', 'longitude',\n",
    "             'air_store_id'], axis=1, inplace=True) # Keep air_store_id for embedding? "
   ]
  },
  {
   "cell_type": "code",
   "execution_count": 56,
   "metadata": {},
   "outputs": [
    {
     "data": {
      "text/plain": [
       "573"
      ]
     },
     "execution_count": 56,
     "metadata": {},
     "output_type": "execute_result"
    }
   ],
   "source": [
    "del df_air_reserve\n",
    "del df_air_reserve_agg\n",
    "del df_air_store_info\n",
    "del df_air_visit\n",
    "del df_air_visitors\n",
    "del df_hpg_reserve\n",
    "del df_hpg_reserve_agg\n",
    "del df_hpg_store_info\n",
    "del df_hpg_visitors\n",
    "del df_holiday_dates\n",
    "del df_submission\n",
    "\n",
    "gc.collect()"
   ]
  },
  {
   "cell_type": "markdown",
   "metadata": {
    "heading_collapsed": true
   },
   "source": [
    "### Exploratory Analysis"
   ]
  },
  {
   "cell_type": "code",
   "execution_count": 55,
   "metadata": {
    "deletable": false,
    "editable": false,
    "hidden": true,
    "run_control": {
     "frozen": true
    }
   },
   "outputs": [
    {
     "data": {
      "text/plain": [
       "<matplotlib.legend.Legend at 0x1d18c62c5f8>"
      ]
     },
     "execution_count": 55,
     "metadata": {},
     "output_type": "execute_result"
    },
    {
     "data": {
      "image/png": "[encoded data removed]",
      "text/plain": [
       "<matplotlib.figure.Figure at 0x1d18c0a7e80>"
      ]
     },
     "metadata": {},
     "output_type": "display_data"
    }
   ],
   "source": [
    "df_train.groupby('dow')[['reserve_visitors', 'visitors']].agg(np.mean).plot(figsize=(10, 5))\n",
    "plt.legend(frameon=True, fontsize=12)"
   ]
  },
  {
   "cell_type": "markdown",
   "metadata": {
    "deletable": false,
    "editable": false,
    "hidden": true,
    "run_control": {
     "frozen": true
    }
   },
   "source": [
    "Reservation peaks at the end of the week, with not much visitors showing up."
   ]
  },
  {
   "cell_type": "markdown",
   "metadata": {
    "deletable": false,
    "editable": false,
    "hidden": true,
    "run_control": {
     "frozen": true
    }
   },
   "source": [
    "Much more reservations in in December/November, stabilyzing during the beginning of the year and going down after June."
   ]
  },
  {
   "cell_type": "code",
   "execution_count": 57,
   "metadata": {
    "deletable": false,
    "editable": false,
    "hidden": true,
    "run_control": {
     "frozen": true
    }
   },
   "outputs": [
    {
     "data": {
      "text/plain": [
       "<matplotlib.legend.Legend at 0x1d18ce2a6a0>"
      ]
     },
     "execution_count": 57,
     "metadata": {},
     "output_type": "execute_result"
    },
    {
     "data": {
      "image/png": "[encoded data removed]",
      "text/plain": [
       "<matplotlib.figure.Figure at 0x1d18ce2a0b8>"
      ]
     },
     "metadata": {},
     "output_type": "display_data"
    }
   ],
   "source": [
    "df_train.groupby(['dow', 'air_genre_name'])['reserve_visitors'].sum().unstack().plot(kind='barh', stacked=True, figsize=(10, 5), cmap='tab20')\n",
    "plt.legend(bbox_to_anchor=(1, 1), frameon=True, fontsize=12)"
   ]
  },
  {
   "cell_type": "markdown",
   "metadata": {
    "deletable": false,
    "editable": false,
    "hidden": true,
    "run_control": {
     "frozen": true
    }
   },
   "source": [
    "Preferences seens consistent for diferent time references."
   ]
  },
  {
   "cell_type": "code",
   "execution_count": 60,
   "metadata": {
    "deletable": false,
    "editable": false,
    "hidden": true,
    "run_control": {
     "frozen": true
    }
   },
   "outputs": [
    {
     "data": {
      "text/plain": [
       "<matplotlib.legend.Legend at 0x1d18dcb9128>"
      ]
     },
     "execution_count": 60,
     "metadata": {},
     "output_type": "execute_result"
    },
    {
     "data": {
      "image/png": "[encoded data removed]",
      "text/plain": [
       "<matplotlib.figure.Figure at 0x1d18dcc4ba8>"
      ]
     },
     "metadata": {},
     "output_type": "display_data"
    }
   ],
   "source": [
    "df_train.groupby(['dow', 'area_1'])['reserve_visitors'].sum().unstack().plot(kind='barh', stacked=True, figsize=(10, 5), cmap='tab20')\n",
    "plt.legend(bbox_to_anchor=(1, 1), frameon=True, fontsize=12)"
   ]
  },
  {
   "cell_type": "markdown",
   "metadata": {
    "deletable": false,
    "editable": false,
    "hidden": true,
    "run_control": {
     "frozen": true
    }
   },
   "source": [
    "The same for the preferred areas."
   ]
  },
  {
   "cell_type": "code",
   "execution_count": 62,
   "metadata": {
    "deletable": false,
    "editable": false,
    "hidden": true,
    "run_control": {
     "frozen": true
    }
   },
   "outputs": [
    {
     "data": {
      "text/plain": [
       "<matplotlib.legend.Legend at 0x1d18cd9db70>"
      ]
     },
     "execution_count": 62,
     "metadata": {},
     "output_type": "execute_result"
    },
    {
     "data": {
      "image/png": "[encoded data removed]",
      "text/plain": [
       "<matplotlib.figure.Figure at 0x1d190e95ac8>"
      ]
     },
     "metadata": {},
     "output_type": "display_data"
    }
   ],
   "source": [
    "df_train.groupby(['dow', 'holiday_flg'])['reserve_visitors'].sum().unstack().plot(kind='barh', stacked=True, figsize=(10, 5), cmap='tab20')\n",
    "plt.legend(bbox_to_anchor=(1, 1), frameon=True, fontsize=12)"
   ]
  },
  {
   "cell_type": "markdown",
   "metadata": {
    "deletable": false,
    "editable": false,
    "hidden": true,
    "run_control": {
     "frozen": true
    }
   },
   "source": [
    "There are much less reservations in holidays."
   ]
  },
  {
   "cell_type": "code",
   "execution_count": 64,
   "metadata": {
    "deletable": false,
    "editable": false,
    "hidden": true,
    "run_control": {
     "frozen": true
    }
   },
   "outputs": [
    {
     "data": {
      "text/plain": [
       "<matplotlib.legend.Legend at 0x1d18dbff908>"
      ]
     },
     "execution_count": 64,
     "metadata": {},
     "output_type": "execute_result"
    },
    {
     "data": {
      "image/png": "[encoded data removed]",
      "text/plain": [
       "<matplotlib.figure.Figure at 0x1d191406eb8>"
      ]
     },
     "metadata": {},
     "output_type": "display_data"
    }
   ],
   "source": [
    "df_train.groupby('dow')[['reserve_datetime_diff']].agg(np.mean).plot(figsize=(10, 5))\n",
    "plt.legend(frameon=True, fontsize=12)"
   ]
  },
  {
   "cell_type": "markdown",
   "metadata": {
    "deletable": false,
    "editable": false,
    "hidden": true,
    "run_control": {
     "frozen": true
    }
   },
   "source": [
    "People planning to show up in the end or beginning of the week reserve in advance."
   ]
  },
  {
   "cell_type": "markdown",
   "metadata": {},
   "source": [
    "### Modeling"
   ]
  },
  {
   "cell_type": "code",
   "execution_count": 57,
   "metadata": {
    "collapsed": true
   },
   "outputs": [],
   "source": [
    "import missingno as msno"
   ]
  },
  {
   "cell_type": "code",
   "execution_count": 58,
   "metadata": {},
   "outputs": [
    {
     "data": {
      "image/png": "[encoded data removed]",
      "text/plain": [
       "<matplotlib.figure.Figure at 0x296865f6828>"
      ]
     },
     "metadata": {},
     "output_type": "display_data"
    }
   ],
   "source": [
    "missing_columns = df_train.columns[df_train.isnull().any()].tolist()\n",
    "if len(missing_columns) > 0:\n",
    "    msno.matrix(df_train[missing_columns], figsize=(15, 3))"
   ]
  },
  {
   "cell_type": "code",
   "execution_count": 59,
   "metadata": {},
   "outputs": [
    {
     "data": {
      "image/png": "[encoded data removed]",
      "text/plain": [
       "<matplotlib.figure.Figure at 0x29685c65588>"
      ]
     },
     "metadata": {},
     "output_type": "display_data"
    }
   ],
   "source": [
    "missing_columns = df_test.columns[df_test.isnull().any()].tolist()\n",
    "if len(missing_columns) > 0:\n",
    "    msno.matrix(df_test[missing_columns], figsize=(15, 3))"
   ]
  },
  {
   "cell_type": "code",
   "execution_count": 60,
   "metadata": {
    "collapsed": true
   },
   "outputs": [],
   "source": [
    "for df in [df_test, df_train]:\n",
    "    df.sort_values('visit_date', inplace=True)\n",
    "    df.drop(['visit_date'], axis=1, inplace=True)\n",
    "    df.fillna(-1, inplace=True)\n",
    "    \n",
    "df_train['visitors'] = np.log1p(df_train['visitors'])"
   ]
  },
  {
   "cell_type": "code",
   "execution_count": 61,
   "metadata": {
    "collapsed": true
   },
   "outputs": [],
   "source": [
    "categorical = ['air_genre_name', 'area_1', 'area_2', 'area_3', 'dow', 'holiday_flg']\n",
    "\n",
    "for df in [df_train, df_test]:\n",
    "    for cat in categorical:\n",
    "        try:\n",
    "            df[cat] = df[cat].astype(np.int8)\n",
    "        except:\n",
    "            pass"
   ]
  },
  {
   "cell_type": "code",
   "execution_count": 62,
   "metadata": {},
   "outputs": [
    {
     "name": "stdout",
     "output_type": "stream",
     "text": [
      "<class 'pandas.core.frame.DataFrame'>\n",
      "Int64Index: 343244 entries, 249719 to 32018\n",
      "Data columns (total 12 columns):\n",
      "air_genre_name           343244 non-null object\n",
      "area_1                   343244 non-null object\n",
      "area_2                   343244 non-null object\n",
      "area_3                   343244 non-null object\n",
      "dow                      343244 non-null int8\n",
      "holiday_flg              343244 non-null int8\n",
      "max_visitors             343244 non-null float64\n",
      "mean_visitors            343244 non-null float64\n",
      "min_visitors             343244 non-null float64\n",
      "reserve_datetime_diff    343244 non-null float64\n",
      "reserve_visitors         343244 non-null float64\n",
      "visitors                 343244 non-null float64\n",
      "dtypes: float64(6), int8(2), object(4)\n",
      "memory usage: 29.5+ MB\n"
     ]
    }
   ],
   "source": [
    "df_both = pd.concat([df_train, df_test])\n",
    "df_both.info()"
   ]
  },
  {
   "cell_type": "code",
   "execution_count": 63,
   "metadata": {
    "scrolled": false
   },
   "outputs": [
    {
     "name": "stdout",
     "output_type": "stream",
     "text": [
      "Category: air_genre_name\n",
      "['-1' 'Asian' 'Bar/Cocktail' 'Cafe/Sweets' 'Creative cuisine' 'Dining bar'\n",
      " 'International cuisine' 'Italian/French' 'Izakaya' 'Japanese food'\n",
      " 'Karaoke/Party' 'Okonomiyaki/Monja/Teppanyaki' 'Other' 'Western food'\n",
      " 'Yakiniku/Korean food']\n",
      "[ 0  1  2  3  4  5  6  7  8  9 10 11 12 13 14]\n",
      "Category: area_1\n",
      "['-1' 'Fukuoka-ken' 'Hiroshima-ken' 'Hokkaidō' 'Hyōgo-ken' 'Miyagi-ken'\n",
      " 'Niigata-ken' 'Shizuoka-ken' 'Tōkyō-to' 'Ōsaka-fu']\n",
      "[0 1 2 3 4 5 6 7 8 9]\n",
      "Category: area_2\n",
      "['-1' 'Abashiri-shi' 'Adachi-ku' 'Amagasaki-shi' 'Asahikawa-shi'\n",
      " 'Bunkyō-ku' 'Chiyoda-ku' 'Chūō-ku' 'Edogawa-ku' 'Fuchū-shi' 'Fukuoka-shi'\n",
      " 'Fukuyama-shi' 'Hamamatsu-shi' 'Higashiōsaka-shi' 'Himeji-shi'\n",
      " 'Hiroshima-shi' 'Itabashi-ku' 'Itoshima-shi' 'Kakogawa-shi'\n",
      " 'Kashiwazaki-shi' 'Katsushika-ku' 'Katō-gun' 'Kita-ku' 'Kitakyūshū-shi'\n",
      " 'Koganei-shi' 'Kurume-shi' 'Kōbe-shi' 'Kōtō-ku' 'Machida-shi' 'Meguro-ku'\n",
      " 'Minato-ku' 'Musashino-shi' 'Nagaoka-shi' 'Nakano-ku' 'Nerima-ku'\n",
      " 'Neyagawa-shi' 'Niigata-shi' 'Nishinomiya-shi' 'Numazu-shi' 'Sakai-shi'\n",
      " 'Sapporo-shi' 'Sendai-shi' 'Setagaya-ku' 'Shibuya-ku' 'Shinagawa-ku'\n",
      " 'Shinjuku-ku' 'Shizuoka-shi' 'Suginami-ku' 'Suita-shi' 'Tachikawa-shi'\n",
      " 'Taitō-ku' 'Takarazuka-shi' 'Toshima-ku' 'Yame-shi' 'Ōsaka-shi' 'Ōta-ku']\n",
      "[ 0  1  2  3  4  5  6  7  8  9 10 11 12 13 14 15 16 17 18 19 20 21 22 23 24\n",
      " 25 26 27 28 29 30 31 32 33 34 35 36 37 38 39 40 41 42 43 44 45 46 47 48 49\n",
      " 50 51 52 53 54 55]\n",
      "Category: area_3\n",
      "['-1' '6' 'Akasaka' 'Aramotokita' 'Asagayaminami' 'Asakusa' 'Atsubetsuchūō'\n",
      " 'Chūō' 'Chūōchō' 'Chūōhonchō' 'Daimyō' 'Dōgenzaka' 'Fuminosato'\n",
      " 'Gakkōchōdōri' 'Ginza' 'Hakata' 'Higashi' 'Higashigotanda'\n",
      " 'Higashiikebukuro' 'Higashinanamatsuchō' 'Higashisakuramachi'\n",
      " 'Higashiueno' 'Hiromachi' 'Honchō' 'Honmachi' 'Imaizumi' 'Itabashi'\n",
      " 'Izumichō' 'Jingūmae' 'Jiyūgaoka' 'Jōnanmachi' 'Kabukichō' 'Kakogawachō'\n",
      " 'Kamata' 'Kameido' 'Kamiikedai' 'Kamimeguro' 'Kamisugi' 'Kanda' 'Kasuga'\n",
      " 'Kichijōji' 'Kita' 'Kitazawa' 'Kokutaijimachi' 'Konyamachi' 'Kotoni'\n",
      " 'Kudanminami' 'Kumoidōri' 'Kuramae' 'Kyōmachibori' 'Kyūtarōmachi'\n",
      " 'Maebarunishi' 'Mejiro' 'Midorichō' 'Minami' 'Minamiikebukuro'\n",
      " 'Minamikawaramachi' 'Miyanishichō' 'Miyukichō' 'Momochi' 'Morino'\n",
      " 'Motomachi' 'Motomachidōri' 'Motoshirochō' 'Nagarekawachō' 'Nakano'\n",
      " 'Nakanochō' 'Nanbasennichimae' 'Nishiikebukuro' 'Nishishinjuku' 'None'\n",
      " 'Okusawa' 'Rokutanjichō' 'Roppongi' 'Sangenjaya' 'Sendagi' 'Setagaya'\n",
      " 'Shibakōen' 'Shibuya' 'Shinmachi' 'Shiobaru' 'Sugamo' 'Sumiyoshi'\n",
      " 'Takaban' 'Takatori' 'Tateishi' 'Tenjin' 'Teraohigashi' 'Tomioka'\n",
      " 'Torikai' 'Toyotamakita' 'Tsukiji' 'Tōyō' 'Tōyōchō' 'Yasuda' 'Ōgimachi'\n",
      " 'Ōhiraki' 'Ōjihonchō' 'Ōtedōri' 'Ōtemachi']\n",
      "[ 0  1  2  3  4  5  6  7  8  9 10 11 12 13 14 15 16 17 18 19 20 21 22 23 24\n",
      " 25 26 27 28 29 30 31 32 33 34 35 36 37 38 39 40 41 42 43 44 45 46 47 48 49\n",
      " 50 51 52 53 54 55 56 57 58 59 60 61 62 63 64 65 66 67 68 69 70 71 72 73 74\n",
      " 75 76 77 78 79 80 81 82 83 84 85 86 87 88 89 90 91 92 93 94 95 96 97 98 99]\n",
      "Category: dow\n",
      "['-1' '0' '1' '2' '3' '4' '5' '6']\n",
      "[0 1 2 3 4 5 6 7]\n",
      "Category: holiday_flg\n",
      "['-1' '0' '1' '11' '18' '2' '20' '21' '23' '29' '3' '30' '4' '5' '9']\n",
      "[ 0  1  2  3  4  5  6  7  8  9 10 11 12 13 14]\n"
     ]
    }
   ],
   "source": [
    "from sklearn.preprocessing import LabelEncoder\n",
    "\n",
    "le = LabelEncoder()\n",
    "for cat in categorical:\n",
    "    print('Category:', cat) \n",
    "    le = le.fit(df_both[cat].astype('str'))\n",
    "    print(le.classes_)\n",
    "    for df in [df_train, df_test]:\n",
    "        df[cat] = le.transform(df[cat].astype('str'))\n",
    "    print(le.transform(le.classes_))"
   ]
  },
  {
   "cell_type": "code",
   "execution_count": 64,
   "metadata": {
    "collapsed": true
   },
   "outputs": [],
   "source": [
    "for df in [df_train, df_test]:\n",
    "    for cat in categorical:\n",
    "        df[cat] = df[cat].astype('category')"
   ]
  },
  {
   "cell_type": "code",
   "execution_count": 65,
   "metadata": {
    "collapsed": true
   },
   "outputs": [],
   "source": [
    "from sklearn.preprocessing import MinMaxScaler\n",
    "\n",
    "non_categorical_feat = [c for c in df_train.columns if c not in categorical]\n",
    "\n",
    "scaler = MinMaxScaler(feature_range=(0, 1))\n",
    "df_train.loc[:, non_categorical_feat] = scaler.fit_transform(df_train[non_categorical_feat])\n",
    "df_test.loc[:, non_categorical_feat]  = scaler.transform(df_test[non_categorical_feat])"
   ]
  },
  {
   "cell_type": "code",
   "execution_count": 66,
   "metadata": {},
   "outputs": [
    {
     "name": "stdout",
     "output_type": "stream",
     "text": [
      "<class 'pandas.core.frame.DataFrame'>\n",
      "Int64Index: 311225 entries, 249719 to 311224\n",
      "Data columns (total 12 columns):\n",
      "dow                      311225 non-null category\n",
      "reserve_visitors         311225 non-null float64\n",
      "reserve_datetime_diff    311225 non-null float64\n",
      "min_visitors             311225 non-null float64\n",
      "mean_visitors            311225 non-null float64\n",
      "max_visitors             311225 non-null float64\n",
      "air_genre_name           311225 non-null category\n",
      "area_1                   311225 non-null category\n",
      "area_2                   311225 non-null category\n",
      "area_3                   311225 non-null category\n",
      "holiday_flg              311225 non-null category\n",
      "visitors                 311225 non-null float64\n",
      "dtypes: category(6), float64(6)\n",
      "memory usage: 18.4 MB\n"
     ]
    }
   ],
   "source": [
    "df_train.info()"
   ]
  },
  {
   "cell_type": "code",
   "execution_count": 67,
   "metadata": {
    "collapsed": true
   },
   "outputs": [],
   "source": [
    "from sklearn.model_selection import train_test_split\n",
    "\n",
    "X_train = df_train.drop(['visitors'], axis=1).copy()\n",
    "y_train = df_train['visitors'].copy()\n",
    "X_valid = df_test.drop(['visitors'], axis=1).copy()\n",
    "\n",
    "X_train, X_test, y_train, y_test = train_test_split(X_train.copy(), y_train.copy(), test_size=0.2, random_state=0)"
   ]
  },
  {
   "cell_type": "code",
   "execution_count": 68,
   "metadata": {},
   "outputs": [
    {
     "data": {
      "text/plain": [
       "(248980, 11)"
      ]
     },
     "execution_count": 68,
     "metadata": {},
     "output_type": "execute_result"
    }
   ],
   "source": [
    "X_train.shape"
   ]
  },
  {
   "cell_type": "code",
   "execution_count": 69,
   "metadata": {},
   "outputs": [
    {
     "data": {
      "text/plain": [
       "(62245, 11)"
      ]
     },
     "execution_count": 69,
     "metadata": {},
     "output_type": "execute_result"
    }
   ],
   "source": [
    "X_test.shape"
   ]
  },
  {
   "cell_type": "code",
   "execution_count": 70,
   "metadata": {},
   "outputs": [
    {
     "data": {
      "text/plain": [
       "(32019, 11)"
      ]
     },
     "execution_count": 70,
     "metadata": {},
     "output_type": "execute_result"
    }
   ],
   "source": [
    "X_valid.shape"
   ]
  },
  {
   "cell_type": "markdown",
   "metadata": {},
   "source": [
    "#### Deep Learning"
   ]
  },
  {
   "cell_type": "code",
   "execution_count": 71,
   "metadata": {},
   "outputs": [
    {
     "name": "stderr",
     "output_type": "stream",
     "text": [
      "Using TensorFlow backend.\n"
     ]
    }
   ],
   "source": [
    "from keras.models import Sequential\n",
    "from keras.layers import Input, Dense, Dropout, Flatten, Activation, Embedding, LSTM, concatenate\n",
    "from keras.layers.normalization import BatchNormalization\n",
    "from keras.models import Model\n",
    "from keras import optimizers\n",
    "from keras.callbacks import Callback, EarlyStopping\n",
    "import keras.backend as K"
   ]
  },
  {
   "cell_type": "code",
   "execution_count": 72,
   "metadata": {
    "collapsed": true
   },
   "outputs": [],
   "source": [
    "from IPython.display import clear_output\n",
    "\n",
    "class PlotLosses(Callback):\n",
    "    def on_train_begin(self, logs={}):\n",
    "        self.i = 0\n",
    "        self.x = []\n",
    "        self.losses = []\n",
    "        self.val_losses = []\n",
    "        \n",
    "        self.fig = plt.figure()\n",
    "        \n",
    "        self.logs = []\n",
    "\n",
    "    def on_epoch_end(self, epoch, logs={}):\n",
    "        \n",
    "        self.logs.append(logs)\n",
    "        self.x.append(self.i)\n",
    "        self.losses.append(logs.get('loss'))\n",
    "        self.val_losses.append(logs.get('val_loss'))\n",
    "        self.i += 1\n",
    "        \n",
    "        clear_output(wait=True)\n",
    "        plt.figure(figsize=(10, 5))\n",
    "        plt.plot(self.x, self.losses, label='loss')\n",
    "        plt.plot(self.x, self.val_losses, label='val_loss')\n",
    "        plt.legend()\n",
    "        plt.show();\n",
    "        \n",
    "plot_losses = PlotLosses()"
   ]
  },
  {
   "cell_type": "code",
   "execution_count": 73,
   "metadata": {
    "collapsed": true
   },
   "outputs": [],
   "source": [
    "def rmsle(y_true, y_pred):\n",
    "    first_log  = K.log(K.clip(y_pred, K.epsilon(), None) + 1.)\n",
    "    second_log = K.log(K.clip(y_true, K.epsilon(), None) + 1.)\n",
    "    return K.sqrt(K.mean(K.square(first_log - second_log), axis=-1))"
   ]
  },
  {
   "cell_type": "code",
   "execution_count": 74,
   "metadata": {
    "collapsed": true
   },
   "outputs": [],
   "source": [
    "MAX_AREA_1 =  df_both['area_1'].nunique() \n",
    "MAX_AREA_2 =  df_both['area_2'].nunique()\n",
    "MAX_AREA_3 =  df_both['area_3'].nunique() \n",
    "MAX_GENRE_NAME = df_both['air_genre_name'].nunique() \n",
    "MAX_HOLIDAY = df_both['holiday_flg'].nunique()"
   ]
  },
  {
   "cell_type": "code",
   "execution_count": 75,
   "metadata": {},
   "outputs": [
    {
     "name": "stdout",
     "output_type": "stream",
     "text": [
      "10\n",
      "56\n",
      "100\n",
      "15\n",
      "15\n"
     ]
    }
   ],
   "source": [
    "print(MAX_AREA_1)\n",
    "print(MAX_AREA_2)\n",
    "print(MAX_AREA_3)\n",
    "print(MAX_GENRE_NAME)\n",
    "print(MAX_HOLIDAY)"
   ]
  },
  {
   "cell_type": "code",
   "execution_count": 76,
   "metadata": {
    "collapsed": true
   },
   "outputs": [],
   "source": [
    "def get_keras_data(dataset):\n",
    "    cat_cols = [cat for cat in dataset.columns if any(c in cat for c in categorical)]\n",
    "    num_cols = dataset.columns.difference(cat_cols)\n",
    "    \n",
    "    X = {\n",
    "        # Categorical\n",
    "        'area_1' : np.array(dataset['area_1']),\n",
    "        'area_2' : np.array(dataset['area_2']),\n",
    "        'area_3' : np.array(dataset['area_3']),\n",
    "        'air_genre_name' : np.array(dataset['air_genre_name']),\n",
    "        'dow' : np.array(dataset['dow']),\n",
    "        'holiday' : np.array(dataset['holiday_flg']),\n",
    "\n",
    "        # Numerical\n",
    "        'numerical' : np.array(dataset[num_cols])\n",
    "    }\n",
    "    \n",
    "    return X\n",
    "\n",
    "X_train_ = get_keras_data(X_train)\n",
    "X_test_  = get_keras_data(X_test)\n",
    "X_valid_ = get_keras_data(X_valid)"
   ]
  },
  {
   "cell_type": "code",
   "execution_count": 86,
   "metadata": {},
   "outputs": [],
   "source": [
    "def get_model():\n",
    "    dr_r = 0.1\n",
    "    \n",
    "    # Categorical\n",
    "    area_1 = Input(shape=[1], name='area_1')\n",
    "    area_2 = Input(shape=[1], name='area_2')\n",
    "    area_3 = Input(shape=[1], name='area_3')\n",
    "    air_genre_name = Input(shape=[1], name='air_genre_name')\n",
    "    dow = Input(shape=[1], name='dow')\n",
    "    holiday = Input(shape=[1], name='holiday')\n",
    "    \n",
    "    # Numerical\n",
    "    numerical = Input(shape=[X_valid_['numerical'].shape[1]], name='numerical')\n",
    "    \n",
    "    # Embeddings layers\n",
    "    emb_area_1 = Embedding(MAX_AREA_1, 5)  (area_1)\n",
    "    emb_area_2 = Embedding(MAX_AREA_2, 20) (area_2)\n",
    "    emb_area_3 = Embedding(MAX_AREA_3, 50) (area_3)\n",
    "    emb_genre_name = Embedding(MAX_GENRE_NAME, 7) (air_genre_name)\n",
    "    emb_dow = Embedding(7, 4) (dow)\n",
    "    emb_holiday = Embedding(MAX_HOLIDAY, 7) (holiday)\n",
    "    \n",
    "    # Main layer\n",
    "    main_l = concatenate([\n",
    "        Flatten() (emb_area_1),\n",
    "        Flatten() (emb_area_2),\n",
    "        Flatten() (emb_area_3),\n",
    "        Flatten() (emb_genre_name),\n",
    "        Flatten() (emb_dow),\n",
    "        Flatten() (emb_holiday),\n",
    "        numerical\n",
    "    ])\n",
    "    \n",
    "    main_l = Dropout(dr_r) (Dense(512, activation='relu') (main_l))\n",
    "    main_l = Dropout(dr_r) (Dense(256, activation='relu') (main_l))\n",
    "    main_l = Dropout(dr_r) (Dense(128, activation='relu') (main_l))\n",
    "    main_l = Dropout(dr_r) (Dense(64, activation='relu')  (main_l))\n",
    "    \n",
    "    # Output\n",
    "    output = Dense(1) (main_l)\n",
    "    \n",
    "    # Model\n",
    "    model = Model([area_1, area_2, area_3, air_genre_name, dow, holiday, numerical], output)\n",
    "    model.compile(loss='mse', optimizer='adam', metrics=[rmsle])\n",
    "    \n",
    "    return model"
   ]
  },
  {
   "cell_type": "code",
   "execution_count": 87,
   "metadata": {},
   "outputs": [
    {
     "name": "stdout",
     "output_type": "stream",
     "text": [
      "____________________________________________________________________________________________________\n",
      "Layer (type)                     Output Shape          Param #     Connected to                     \n",
      "====================================================================================================\n",
      "area_1 (InputLayer)              (None, 1)             0                                            \n",
      "____________________________________________________________________________________________________\n",
      "area_2 (InputLayer)              (None, 1)             0                                            \n",
      "____________________________________________________________________________________________________\n",
      "area_3 (InputLayer)              (None, 1)             0                                            \n",
      "____________________________________________________________________________________________________\n",
      "air_genre_name (InputLayer)      (None, 1)             0                                            \n",
      "____________________________________________________________________________________________________\n",
      "dow (InputLayer)                 (None, 1)             0                                            \n",
      "____________________________________________________________________________________________________\n",
      "holiday (InputLayer)             (None, 1)             0                                            \n",
      "____________________________________________________________________________________________________\n",
      "embedding_19 (Embedding)         (None, 1, 5)          50          area_1[0][0]                     \n",
      "____________________________________________________________________________________________________\n",
      "embedding_20 (Embedding)         (None, 1, 20)         1120        area_2[0][0]                     \n",
      "____________________________________________________________________________________________________\n",
      "embedding_21 (Embedding)         (None, 1, 50)         5000        area_3[0][0]                     \n",
      "____________________________________________________________________________________________________\n",
      "embedding_22 (Embedding)         (None, 1, 7)          105         air_genre_name[0][0]             \n",
      "____________________________________________________________________________________________________\n",
      "embedding_23 (Embedding)         (None, 1, 4)          28          dow[0][0]                        \n",
      "____________________________________________________________________________________________________\n",
      "embedding_24 (Embedding)         (None, 1, 7)          105         holiday[0][0]                    \n",
      "____________________________________________________________________________________________________\n",
      "flatten_19 (Flatten)             (None, 5)             0           embedding_19[0][0]               \n",
      "____________________________________________________________________________________________________\n",
      "flatten_20 (Flatten)             (None, 20)            0           embedding_20[0][0]               \n",
      "____________________________________________________________________________________________________\n",
      "flatten_21 (Flatten)             (None, 50)            0           embedding_21[0][0]               \n",
      "____________________________________________________________________________________________________\n",
      "flatten_22 (Flatten)             (None, 7)             0           embedding_22[0][0]               \n",
      "____________________________________________________________________________________________________\n",
      "flatten_23 (Flatten)             (None, 4)             0           embedding_23[0][0]               \n",
      "____________________________________________________________________________________________________\n",
      "flatten_24 (Flatten)             (None, 7)             0           embedding_24[0][0]               \n",
      "____________________________________________________________________________________________________\n",
      "numerical (InputLayer)           (None, 5)             0                                            \n",
      "____________________________________________________________________________________________________\n",
      "concatenate_3 (Concatenate)      (None, 98)            0           flatten_19[0][0]                 \n",
      "                                                                   flatten_20[0][0]                 \n",
      "                                                                   flatten_21[0][0]                 \n",
      "                                                                   flatten_22[0][0]                 \n",
      "                                                                   flatten_23[0][0]                 \n",
      "                                                                   flatten_24[0][0]                 \n",
      "                                                                   numerical[0][0]                  \n",
      "____________________________________________________________________________________________________\n",
      "dense_11 (Dense)                 (None, 512)           50688       concatenate_3[0][0]              \n",
      "____________________________________________________________________________________________________\n",
      "dropout_9 (Dropout)              (None, 512)           0           dense_11[0][0]                   \n",
      "____________________________________________________________________________________________________\n",
      "dense_12 (Dense)                 (None, 256)           131328      dropout_9[0][0]                  \n",
      "____________________________________________________________________________________________________\n",
      "dropout_10 (Dropout)             (None, 256)           0           dense_12[0][0]                   \n",
      "____________________________________________________________________________________________________\n",
      "dense_13 (Dense)                 (None, 128)           32896       dropout_10[0][0]                 \n",
      "____________________________________________________________________________________________________\n",
      "dropout_11 (Dropout)             (None, 128)           0           dense_13[0][0]                   \n",
      "____________________________________________________________________________________________________\n",
      "dense_14 (Dense)                 (None, 64)            8256        dropout_11[0][0]                 \n",
      "____________________________________________________________________________________________________\n",
      "dropout_12 (Dropout)             (None, 64)            0           dense_14[0][0]                   \n",
      "____________________________________________________________________________________________________\n",
      "dense_15 (Dense)                 (None, 1)             65          dropout_12[0][0]                 \n",
      "====================================================================================================\n",
      "Total params: 229,641\n",
      "Trainable params: 229,641\n",
      "Non-trainable params: 0\n",
      "____________________________________________________________________________________________________\n"
     ]
    }
   ],
   "source": [
    "model = get_model()\n",
    "model.summary()"
   ]
  },
  {
   "cell_type": "code",
   "execution_count": 88,
   "metadata": {},
   "outputs": [
    {
     "data": {
      "image/png": "[encoded data removed]",
      "text/plain": [
       "<matplotlib.figure.Figure at 0x297175e2940>"
      ]
     },
     "metadata": {},
     "output_type": "display_data"
    },
    {
     "name": "stdout",
     "output_type": "stream",
     "text": [
      "248980/248980 [==============================] - 1s - loss: 0.0145 - rmsle: 0.0701 - val_loss: 0.0141 - val_rmsle: 0.0690\n"
     ]
    },
    {
     "data": {
      "text/plain": [
       "<keras.callbacks.History at 0x2970d9705f8>"
      ]
     },
     "execution_count": 88,
     "metadata": {},
     "output_type": "execute_result"
    }
   ],
   "source": [
    "early_stopping = EarlyStopping(monitor='val_rmsle', patience=5)\n",
    "BATCH_SIZE = 10000\n",
    "epochs = 200\n",
    "\n",
    "model = get_model()\n",
    "model.fit(X_train_, y_train.values, epochs=epochs, batch_size=BATCH_SIZE, validation_data=(X_test_, y_test.values), \n",
    "          verbose=1, callbacks=[plot_losses, early_stopping])"
   ]
  },
  {
   "cell_type": "code",
   "execution_count": 89,
   "metadata": {
    "collapsed": true
   },
   "outputs": [],
   "source": [
    "y_pred = model.predict(X_valid_)"
   ]
  },
  {
   "cell_type": "code",
   "execution_count": 90,
   "metadata": {
    "collapsed": true
   },
   "outputs": [],
   "source": [
    "inv_yhat = pd.concat((X_valid, pd.DataFrame(data=y_pred, columns=['visitors'])), axis=1)"
   ]
  },
  {
   "cell_type": "code",
   "execution_count": 91,
   "metadata": {
    "collapsed": true
   },
   "outputs": [],
   "source": [
    "inv_yhat = inv_yhat[non_categorical_feat]"
   ]
  },
  {
   "cell_type": "code",
   "execution_count": 92,
   "metadata": {
    "collapsed": true
   },
   "outputs": [],
   "source": [
    "inv_yhat.loc[:, non_categorical_feat] = scaler.inverse_transform(inv_yhat)\n",
    "inv_yhat = inv_yhat.loc[:, 'visitors']"
   ]
  },
  {
   "cell_type": "code",
   "execution_count": 93,
   "metadata": {
    "collapsed": true
   },
   "outputs": [],
   "source": [
    "inv_yhat = np.expm1(inv_yhat)"
   ]
  },
  {
   "cell_type": "code",
   "execution_count": 94,
   "metadata": {
    "collapsed": true
   },
   "outputs": [],
   "source": [
    "submission = pd.DataFrame.from_items([('id', df_ids), ('visitors', inv_yhat)])\n",
    "submission.to_csv('recruiter_dl.csv', index=False)"
   ]
  },
  {
   "cell_type": "markdown",
   "metadata": {},
   "source": [
    "#### Sklearn"
   ]
  },
  {
   "cell_type": "code",
   "execution_count": 95,
   "metadata": {
    "collapsed": true
   },
   "outputs": [],
   "source": [
    "from sklearn.metrics import make_scorer\n",
    "\n",
    "def rmsle_func(ground_truth, predictions):\n",
    "    try:\n",
    "        n_preds, n_targets = predictions.shape\n",
    "        p = predictions.sum(axis=1)\n",
    "        a = ground_truth.sum(axis=1)\n",
    "    except:\n",
    "        n_preds = len(predictions)\n",
    "        n_targets = 1\n",
    "        p = predictions\n",
    "        a = ground_truth\n",
    "\n",
    "    sum_squared_error = np.sum((np.log(p + 1) - np.log(a + 1))**2)\n",
    "    return np.sqrt(1./(n_preds*n_targets) * sum_squared_error)\n",
    "\n",
    "rmsle = make_scorer(rmsle_func, greater_is_better=False)"
   ]
  },
  {
   "cell_type": "code",
   "execution_count": 96,
   "metadata": {
    "collapsed": true
   },
   "outputs": [],
   "source": [
    "from sklearn.model_selection import cross_val_score\n",
    "import lightgbm as lgbm"
   ]
  },
  {
   "cell_type": "code",
   "execution_count": 97,
   "metadata": {},
   "outputs": [
    {
     "data": {
      "text/plain": [
       "Index(['dow', 'reserve_visitors', 'reserve_datetime_diff', 'min_visitors',\n",
       "       'mean_visitors', 'max_visitors', 'air_genre_name', 'area_1', 'area_2',\n",
       "       'area_3', 'holiday_flg'],\n",
       "      dtype='object')"
      ]
     },
     "execution_count": 97,
     "metadata": {},
     "output_type": "execute_result"
    }
   ],
   "source": [
    "X_train.columns"
   ]
  },
  {
   "cell_type": "code",
   "execution_count": 98,
   "metadata": {},
   "outputs": [
    {
     "name": "stdout",
     "output_type": "stream",
     "text": [
      "-0.0940017161752\n"
     ]
    }
   ],
   "source": [
    "clf = lgbm.LGBMRegressor(random_state=0)\n",
    "cols = []\n",
    "\n",
    "xv = cross_val_score(clf, X_train.drop(cols, axis=1), y_train, scoring=rmsle, cv=3)\n",
    "print(xv.mean())"
   ]
  },
  {
   "cell_type": "code",
   "execution_count": 99,
   "metadata": {
    "collapsed": true
   },
   "outputs": [],
   "source": [
    "clf = clf.fit(X_train.drop(cols, axis=1), y_train)"
   ]
  },
  {
   "cell_type": "code",
   "execution_count": 100,
   "metadata": {
    "collapsed": true
   },
   "outputs": [],
   "source": [
    "y_pred = clf.predict(X_valid.drop(cols, axis=1))"
   ]
  },
  {
   "cell_type": "code",
   "execution_count": 101,
   "metadata": {
    "collapsed": true
   },
   "outputs": [],
   "source": [
    "inv_yhat = pd.concat((X_valid, pd.DataFrame(data=y_pred, columns=['visitors'])), axis=1)"
   ]
  },
  {
   "cell_type": "code",
   "execution_count": 102,
   "metadata": {
    "collapsed": true
   },
   "outputs": [],
   "source": [
    "inv_yhat = inv_yhat[non_categorical_feat]"
   ]
  },
  {
   "cell_type": "code",
   "execution_count": 103,
   "metadata": {
    "collapsed": true
   },
   "outputs": [],
   "source": [
    "inv_yhat.loc[:, non_categorical_feat] = scaler.inverse_transform(inv_yhat)\n",
    "inv_yhat = inv_yhat.loc[:, 'visitors']"
   ]
  },
  {
   "cell_type": "code",
   "execution_count": 104,
   "metadata": {
    "collapsed": true
   },
   "outputs": [],
   "source": [
    "inv_yhat = np.expm1(inv_yhat)"
   ]
  },
  {
   "cell_type": "code",
   "execution_count": 105,
   "metadata": {
    "collapsed": true
   },
   "outputs": [],
   "source": [
    "submission = pd.DataFrame.from_items([('id', df_ids), ('visitors', inv_yhat)])\n",
    "submission.to_csv('recruiter_rf.csv', index=False)"
   ]
  },
  {
   "cell_type": "markdown",
   "metadata": {},
   "source": [
    "#### Time Series"
   ]
  },
  {
   "cell_type": "code",
   "execution_count": 43,
   "metadata": {
    "collapsed": true,
    "deletable": false,
    "editable": false,
    "run_control": {
     "frozen": true
    }
   },
   "outputs": [],
   "source": [
    "fixed = ['area_head', 'air_genre_name', 'air_area_name']"
   ]
  },
  {
   "cell_type": "code",
   "execution_count": 44,
   "metadata": {
    "collapsed": true,
    "deletable": false,
    "editable": false,
    "run_control": {
     "frozen": true
    }
   },
   "outputs": [],
   "source": [
    "def df2supervised(df, n_in=1, n_out=1, dropnan=True):\n",
    "    \"\"\"\n",
    "    Frame a time series as a supervised learning dataset.\n",
    "    Arguments:\n",
    "        data: Sequence of observations as a list or NumPy array.\n",
    "        n_in: Number of lag observations as input (X).\n",
    "        n_out: Number of observations as output (y).\n",
    "        dropnan: Boolean whether or not to drop rows with NaN values.\n",
    "    Returns:\n",
    "        Pandas DataFrame of series framed for supervised learning.\n",
    "    \"\"\"\n",
    "    n_vars =  df.shape[1]\n",
    "    n_names = df.columns\n",
    "    cols, names = list(), list()\n",
    "    # Input sequence (t-n, ... t-1)\n",
    "    for i in range(n_in, 0, -1):\n",
    "        cols.append(df.shift(i))\n",
    "        names += [('%s(t-%d)' % (n_names[j], i)) for j in range(n_vars)]\n",
    "    # Forecast sequence (t, t+1, ... t+n)\n",
    "    for i in range(0, n_out):\n",
    "        cols.append(df.shift(-i))\n",
    "        if i == 0:\n",
    "            names += [('%s(t)' % (n_names[j])) for j in range(n_vars)]\n",
    "        else:\n",
    "            names += [('%s(t+%d)' % (n_names[j], i)) for j in range(n_vars)]\n",
    "    # Put it all together\n",
    "    agg = pd.concat(cols, axis=1)\n",
    "    agg.columns = names\n",
    "    # Drop rows with NaN values\n",
    "    if dropnan:\n",
    "        agg.dropna(inplace=True)\n",
    "    return agg"
   ]
  },
  {
   "cell_type": "code",
   "execution_count": 45,
   "metadata": {
    "deletable": false,
    "editable": false,
    "run_control": {
     "frozen": true
    }
   },
   "outputs": [
    {
     "name": "stdout",
     "output_type": "stream",
     "text": [
      "<class 'pandas.core.frame.DataFrame'>\n",
      "Int64Index: 41614 entries, 38748 to 26812\n",
      "Data columns (total 14 columns):\n",
      "reserve_visitors         41614 non-null float64\n",
      "reserve_datetime_diff    41614 non-null float64\n",
      "dow                      41614 non-null float64\n",
      "year                     41614 non-null float64\n",
      "month                    41614 non-null float64\n",
      "dom                      41614 non-null float64\n",
      "min_visitors             41614 non-null float64\n",
      "mean_visitors            41614 non-null float64\n",
      "max_visitors             41614 non-null float64\n",
      "air_genre_name           41614 non-null category\n",
      "air_area_name            41614 non-null category\n",
      "area_head                41614 non-null category\n",
      "holiday_flg              41614 non-null float64\n",
      "visitors                 41614 non-null float64\n",
      "dtypes: category(3), float64(11)\n",
      "memory usage: 3.9 MB\n"
     ]
    }
   ],
   "source": [
    "df_train.info()"
   ]
  },
  {
   "cell_type": "code",
   "execution_count": 46,
   "metadata": {
    "collapsed": true,
    "deletable": false,
    "editable": false,
    "run_control": {
     "frozen": true
    }
   },
   "outputs": [],
   "source": [
    "look_back = 1\n",
    "n_features = df_train.shape[1]-4\n",
    "train = df2supervised(df_train, n_in=look_back)"
   ]
  },
  {
   "cell_type": "code",
   "execution_count": 47,
   "metadata": {
    "deletable": false,
    "editable": false,
    "run_control": {
     "frozen": true
    }
   },
   "outputs": [
    {
     "name": "stdout",
     "output_type": "stream",
     "text": [
      "0 reserve_visitors(t-1)\n",
      "1 reserve_datetime_diff(t-1)\n",
      "2 dow(t-1)\n",
      "3 year(t-1)\n",
      "4 month(t-1)\n",
      "5 dom(t-1)\n",
      "6 min_visitors(t-1)\n",
      "7 mean_visitors(t-1)\n",
      "8 max_visitors(t-1)\n",
      "9 air_genre_name(t-1)\n",
      "10 air_area_name(t-1)\n",
      "11 area_head(t-1)\n",
      "12 holiday_flg(t-1)\n",
      "13 visitors(t-1)\n",
      "14 reserve_visitors(t)\n",
      "15 reserve_datetime_diff(t)\n",
      "16 dow(t)\n",
      "17 year(t)\n",
      "18 month(t)\n",
      "19 dom(t)\n",
      "20 min_visitors(t)\n",
      "21 mean_visitors(t)\n",
      "22 max_visitors(t)\n",
      "23 air_genre_name(t)\n",
      "24 air_area_name(t)\n",
      "25 area_head(t)\n",
      "26 holiday_flg(t)\n",
      "27 visitors(t)\n"
     ]
    }
   ],
   "source": [
    "for i, c in enumerate(train.columns):\n",
    "    print(i, c)"
   ]
  },
  {
   "cell_type": "code",
   "execution_count": 48,
   "metadata": {
    "collapsed": true,
    "deletable": false,
    "editable": false,
    "run_control": {
     "frozen": true
    }
   },
   "outputs": [],
   "source": [
    "del_cols = [col for col in train.columns if any(c in col for c in fixed)]"
   ]
  },
  {
   "cell_type": "code",
   "execution_count": 49,
   "metadata": {
    "collapsed": true,
    "deletable": false,
    "editable": false,
    "run_control": {
     "frozen": true
    }
   },
   "outputs": [],
   "source": [
    "train.drop(train.columns[-15:-1], axis=1, inplace=True)"
   ]
  },
  {
   "cell_type": "code",
   "execution_count": 50,
   "metadata": {
    "collapsed": true,
    "deletable": false,
    "editable": false,
    "run_control": {
     "frozen": true
    }
   },
   "outputs": [],
   "source": [
    "train.drop(train.columns.intersection(del_cols), axis=1, inplace=True)"
   ]
  },
  {
   "cell_type": "code",
   "execution_count": 51,
   "metadata": {
    "collapsed": true,
    "deletable": false,
    "editable": false,
    "run_control": {
     "frozen": true
    }
   },
   "outputs": [],
   "source": [
    "train = pd.concat([train, df_train[fixed].shift().dropna()], axis=1)"
   ]
  },
  {
   "cell_type": "code",
   "execution_count": 52,
   "metadata": {
    "deletable": false,
    "editable": false,
    "run_control": {
     "frozen": true
    }
   },
   "outputs": [
    {
     "data": {
      "text/plain": [
       "(41613, 14)"
      ]
     },
     "execution_count": 52,
     "metadata": {},
     "output_type": "execute_result"
    }
   ],
   "source": [
    "train.shape"
   ]
  },
  {
   "cell_type": "code",
   "execution_count": 53,
   "metadata": {
    "deletable": false,
    "editable": false,
    "run_control": {
     "frozen": true
    }
   },
   "outputs": [
    {
     "data": {
      "text/html": [
       "<div>\n",
       "<style>\n",
       "    .dataframe thead tr:only-child th {\n",
       "        text-align: right;\n",
       "    }\n",
       "\n",
       "    .dataframe thead th {\n",
       "        text-align: left;\n",
       "    }\n",
       "\n",
       "    .dataframe tbody tr th {\n",
       "        vertical-align: top;\n",
       "    }\n",
       "</style>\n",
       "<table border=\"1\" class=\"dataframe\">\n",
       "  <thead>\n",
       "    <tr style=\"text-align: right;\">\n",
       "      <th></th>\n",
       "      <th>reserve_visitors(t-1)</th>\n",
       "      <th>reserve_datetime_diff(t-1)</th>\n",
       "      <th>dow(t-1)</th>\n",
       "      <th>year(t-1)</th>\n",
       "      <th>month(t-1)</th>\n",
       "      <th>dom(t-1)</th>\n",
       "      <th>min_visitors(t-1)</th>\n",
       "      <th>mean_visitors(t-1)</th>\n",
       "      <th>max_visitors(t-1)</th>\n",
       "      <th>holiday_flg(t-1)</th>\n",
       "      <th>visitors(t)</th>\n",
       "      <th>area_head</th>\n",
       "      <th>air_genre_name</th>\n",
       "      <th>air_area_name</th>\n",
       "    </tr>\n",
       "  </thead>\n",
       "  <tbody>\n",
       "    <tr>\n",
       "      <th>38747</th>\n",
       "      <td>0.002451</td>\n",
       "      <td>0.0</td>\n",
       "      <td>0.666667</td>\n",
       "      <td>0.0</td>\n",
       "      <td>0.0</td>\n",
       "      <td>0.000000</td>\n",
       "      <td>0.019608</td>\n",
       "      <td>0.069612</td>\n",
       "      <td>0.035268</td>\n",
       "      <td>1.0</td>\n",
       "      <td>0.498719</td>\n",
       "      <td>2</td>\n",
       "      <td>4</td>\n",
       "      <td>14</td>\n",
       "    </tr>\n",
       "    <tr>\n",
       "      <th>38746</th>\n",
       "      <td>0.004902</td>\n",
       "      <td>0.0</td>\n",
       "      <td>0.666667</td>\n",
       "      <td>0.0</td>\n",
       "      <td>0.0</td>\n",
       "      <td>0.000000</td>\n",
       "      <td>0.019608</td>\n",
       "      <td>0.022002</td>\n",
       "      <td>0.008036</td>\n",
       "      <td>1.0</td>\n",
       "      <td>0.144162</td>\n",
       "      <td>8</td>\n",
       "      <td>4</td>\n",
       "      <td>69</td>\n",
       "    </tr>\n",
       "    <tr>\n",
       "      <th>38749</th>\n",
       "      <td>0.001225</td>\n",
       "      <td>0.0</td>\n",
       "      <td>0.666667</td>\n",
       "      <td>0.0</td>\n",
       "      <td>0.0</td>\n",
       "      <td>0.000000</td>\n",
       "      <td>0.039216</td>\n",
       "      <td>0.033563</td>\n",
       "      <td>0.008929</td>\n",
       "      <td>1.0</td>\n",
       "      <td>0.312821</td>\n",
       "      <td>7</td>\n",
       "      <td>8</td>\n",
       "      <td>46</td>\n",
       "    </tr>\n",
       "    <tr>\n",
       "      <th>38535</th>\n",
       "      <td>0.001838</td>\n",
       "      <td>0.0</td>\n",
       "      <td>0.666667</td>\n",
       "      <td>0.0</td>\n",
       "      <td>0.0</td>\n",
       "      <td>0.000000</td>\n",
       "      <td>0.019608</td>\n",
       "      <td>0.026484</td>\n",
       "      <td>0.017857</td>\n",
       "      <td>1.0</td>\n",
       "      <td>0.084329</td>\n",
       "      <td>2</td>\n",
       "      <td>4</td>\n",
       "      <td>14</td>\n",
       "    </tr>\n",
       "    <tr>\n",
       "      <th>38527</th>\n",
       "      <td>0.000613</td>\n",
       "      <td>0.0</td>\n",
       "      <td>0.833333</td>\n",
       "      <td>0.0</td>\n",
       "      <td>0.0</td>\n",
       "      <td>0.033333</td>\n",
       "      <td>0.019608</td>\n",
       "      <td>0.033551</td>\n",
       "      <td>0.020089</td>\n",
       "      <td>1.0</td>\n",
       "      <td>0.556174</td>\n",
       "      <td>2</td>\n",
       "      <td>8</td>\n",
       "      <td>18</td>\n",
       "    </tr>\n",
       "  </tbody>\n",
       "</table>\n",
       "</div>"
      ],
      "text/plain": [
       "       reserve_visitors(t-1)  reserve_datetime_diff(t-1)  dow(t-1)  year(t-1)  \\\n",
       "38747               0.002451                         0.0  0.666667        0.0   \n",
       "38746               0.004902                         0.0  0.666667        0.0   \n",
       "38749               0.001225                         0.0  0.666667        0.0   \n",
       "38535               0.001838                         0.0  0.666667        0.0   \n",
       "38527               0.000613                         0.0  0.833333        0.0   \n",
       "\n",
       "       month(t-1)  dom(t-1)  min_visitors(t-1)  mean_visitors(t-1)  \\\n",
       "38747         0.0  0.000000           0.019608            0.069612   \n",
       "38746         0.0  0.000000           0.019608            0.022002   \n",
       "38749         0.0  0.000000           0.039216            0.033563   \n",
       "38535         0.0  0.000000           0.019608            0.026484   \n",
       "38527         0.0  0.033333           0.019608            0.033551   \n",
       "\n",
       "       max_visitors(t-1)  holiday_flg(t-1)  visitors(t) area_head  \\\n",
       "38747           0.035268               1.0     0.498719         2   \n",
       "38746           0.008036               1.0     0.144162         8   \n",
       "38749           0.008929               1.0     0.312821         7   \n",
       "38535           0.017857               1.0     0.084329         2   \n",
       "38527           0.020089               1.0     0.556174         2   \n",
       "\n",
       "      air_genre_name air_area_name  \n",
       "38747              4            14  \n",
       "38746              4            69  \n",
       "38749              8            46  \n",
       "38535              4            14  \n",
       "38527              8            18  "
      ]
     },
     "execution_count": 53,
     "metadata": {},
     "output_type": "execute_result"
    }
   ],
   "source": [
    "train.head()"
   ]
  },
  {
   "cell_type": "code",
   "execution_count": 54,
   "metadata": {
    "deletable": false,
    "editable": false,
    "run_control": {
     "frozen": true
    }
   },
   "outputs": [
    {
     "name": "stdout",
     "output_type": "stream",
     "text": [
      "0 reserve_visitors(t-1)\n",
      "1 reserve_datetime_diff(t-1)\n",
      "2 dow(t-1)\n",
      "3 year(t-1)\n",
      "4 month(t-1)\n",
      "5 dom(t-1)\n",
      "6 min_visitors(t-1)\n",
      "7 mean_visitors(t-1)\n",
      "8 max_visitors(t-1)\n",
      "9 holiday_flg(t-1)\n",
      "10 visitors(t)\n",
      "11 area_head\n",
      "12 air_genre_name\n",
      "13 air_area_name\n"
     ]
    }
   ],
   "source": [
    "for i, c in enumerate(train.columns):\n",
    "    print(i, c)"
   ]
  },
  {
   "cell_type": "code",
   "execution_count": 55,
   "metadata": {
    "collapsed": true,
    "deletable": false,
    "editable": false,
    "run_control": {
     "frozen": true
    }
   },
   "outputs": [],
   "source": [
    "n_train = int(len(train) * 0.7)\n",
    "x = train[train.columns.difference(['visitors(t)'])]\n",
    "y = train['visitors(t)']\n",
    "X_train = x.iloc[:n_train, :]\n",
    "X_valid = x.iloc[n_train:, :]\n",
    "y_train = y.iloc[:n_train]\n",
    "y_valid = y.iloc[n_train:]"
   ]
  },
  {
   "cell_type": "code",
   "execution_count": 56,
   "metadata": {
    "collapsed": true,
    "deletable": false,
    "editable": false,
    "run_control": {
     "frozen": true
    }
   },
   "outputs": [],
   "source": [
    "def get_keras_data(dataset):\n",
    "    cat_cols = [cat for cat in dataset.columns if any(c in cat for c in categorical)]\n",
    "    num_cols = dataset.columns.difference(cat_cols)\n",
    "    \n",
    "    X = {\n",
    "        # Categorical\n",
    "        'area_head' : np.array(dataset['area_head']),\n",
    "        'air_genre_name' : np.array(dataset['air_genre_name']),\n",
    "        'air_area_name' : np.array(dataset['air_area_name']),\n",
    "\n",
    "        # Numerical\n",
    "        'time_series' : np.array(dataset[num_cols]).reshape(dataset[num_cols].shape[0], look_back, n_features)\n",
    "    }\n",
    "    \n",
    "    return X\n",
    "\n",
    "X_train_ = get_keras_data(X_train)\n",
    "X_valid_ = get_keras_data(X_valid)"
   ]
  },
  {
   "cell_type": "code",
   "execution_count": 61,
   "metadata": {
    "collapsed": true,
    "deletable": false,
    "editable": false,
    "run_control": {
     "frozen": true
    }
   },
   "outputs": [],
   "source": [
    "def get_model():\n",
    "    dr_r = 0.45\n",
    "    \n",
    "    # Categorical\n",
    "    area_head = Input(shape=[1], name='area_head')\n",
    "    air_genre_name = Input(shape=[1], name='air_genre_name')\n",
    "    air_area_name = Input(shape=[1], name='air_area_name')\n",
    "    \n",
    "    # LSTM\n",
    "    time_series = Input(shape=(X_train_['time_series'].shape[1], X_train_['time_series'].shape[2]), name='time_series')\n",
    "    \n",
    "    # Embeddings layers\n",
    "    emb_area_head  = Embedding(MAX_AREA_HEAD, 3) (area_head)\n",
    "    emb_genre_name = Embedding(MAX_GENRE_NAME, 20) (air_genre_name)\n",
    "    emb_air_area_name = Embedding(MAX_AREA_NAME, 3) (air_area_name)\n",
    "    \n",
    "    time_series_lstm = LSTM(50) (time_series)\n",
    "    \n",
    "    # Main layer\n",
    "    main_l = concatenate([\n",
    "        Flatten() (emb_area_head),\n",
    "        Flatten() (emb_genre_name),\n",
    "        Flatten() (emb_air_area_name),\n",
    "        time_series_lstm\n",
    "    ])\n",
    "    \n",
    "    main_l = Dropout(dr_r) (Dense(128, activation='relu') (main_l))\n",
    "    main_l = Dropout(dr_r) (Dense(64, activation='relu') (main_l))\n",
    "    \n",
    "    # Output\n",
    "    output = Dense(1) (main_l)\n",
    "    \n",
    "    # Model\n",
    "    model = Model([area_head, air_genre_name, air_area_name, time_series], output)\n",
    "    model.compile(loss='mse', optimizer='adam')\n",
    "    \n",
    "    return model"
   ]
  },
  {
   "cell_type": "code",
   "execution_count": 62,
   "metadata": {
    "deletable": false,
    "editable": false,
    "run_control": {
     "frozen": true
    }
   },
   "outputs": [
    {
     "name": "stdout",
     "output_type": "stream",
     "text": [
      "____________________________________________________________________________________________________\n",
      "Layer (type)                     Output Shape          Param #     Connected to                     \n",
      "====================================================================================================\n",
      "area_head (InputLayer)           (None, 1)             0                                            \n",
      "____________________________________________________________________________________________________\n",
      "air_genre_name (InputLayer)      (None, 1)             0                                            \n",
      "____________________________________________________________________________________________________\n",
      "air_area_name (InputLayer)       (None, 1)             0                                            \n",
      "____________________________________________________________________________________________________\n",
      "embedding_1 (Embedding)          (None, 1, 3)          30          area_head[0][0]                  \n",
      "____________________________________________________________________________________________________\n",
      "embedding_2 (Embedding)          (None, 1, 20)         300         air_genre_name[0][0]             \n",
      "____________________________________________________________________________________________________\n",
      "embedding_3 (Embedding)          (None, 1, 3)          219         air_area_name[0][0]              \n",
      "____________________________________________________________________________________________________\n",
      "time_series (InputLayer)         (None, 1, 10)         0                                            \n",
      "____________________________________________________________________________________________________\n",
      "flatten_1 (Flatten)              (None, 3)             0           embedding_1[0][0]                \n",
      "____________________________________________________________________________________________________\n",
      "flatten_2 (Flatten)              (None, 20)            0           embedding_2[0][0]                \n",
      "____________________________________________________________________________________________________\n",
      "flatten_3 (Flatten)              (None, 3)             0           embedding_3[0][0]                \n",
      "____________________________________________________________________________________________________\n",
      "lstm_1 (LSTM)                    (None, 50)            12200       time_series[0][0]                \n",
      "____________________________________________________________________________________________________\n",
      "concatenate_1 (Concatenate)      (None, 76)            0           flatten_1[0][0]                  \n",
      "                                                                   flatten_2[0][0]                  \n",
      "                                                                   flatten_3[0][0]                  \n",
      "                                                                   lstm_1[0][0]                     \n",
      "____________________________________________________________________________________________________\n",
      "dense_1 (Dense)                  (None, 128)           9856        concatenate_1[0][0]              \n",
      "____________________________________________________________________________________________________\n",
      "dropout_1 (Dropout)              (None, 128)           0           dense_1[0][0]                    \n",
      "____________________________________________________________________________________________________\n",
      "dense_2 (Dense)                  (None, 64)            8256        dropout_1[0][0]                  \n",
      "____________________________________________________________________________________________________\n",
      "dropout_2 (Dropout)              (None, 64)            0           dense_2[0][0]                    \n",
      "____________________________________________________________________________________________________\n",
      "dense_3 (Dense)                  (None, 1)             65          dropout_2[0][0]                  \n",
      "====================================================================================================\n",
      "Total params: 30,926\n",
      "Trainable params: 30,926\n",
      "Non-trainable params: 0\n",
      "____________________________________________________________________________________________________\n"
     ]
    }
   ],
   "source": [
    "model = get_model()\n",
    "model.summary()"
   ]
  },
  {
   "cell_type": "code",
   "execution_count": 64,
   "metadata": {
    "deletable": false,
    "editable": false,
    "run_control": {
     "frozen": true
    }
   },
   "outputs": [
    {
     "data": {
      "text/plain": [
       "{'air_area_name': array([14, 69, 46, ..., 44, 11, 11], dtype=int64),\n",
       " 'air_genre_name': array([ 4,  4,  8, ...,  6,  4, 10], dtype=int64),\n",
       " 'area_head': array([2, 8, 7, ..., 7, 1, 1], dtype=int64),\n",
       " 'time_series': array([[[  0.00000000e+00,   6.66666667e-01,   1.00000000e+00, ...,\n",
       "            0.00000000e+00,   2.45098039e-03,   0.00000000e+00]],\n",
       " \n",
       "        [[  0.00000000e+00,   6.66666667e-01,   1.00000000e+00, ...,\n",
       "            0.00000000e+00,   4.90196078e-03,   0.00000000e+00]],\n",
       " \n",
       "        [[  0.00000000e+00,   6.66666667e-01,   1.00000000e+00, ...,\n",
       "            0.00000000e+00,   1.22549020e-03,   0.00000000e+00]],\n",
       " \n",
       "        ..., \n",
       "        [[  3.33333333e-01,   8.33333333e-01,   1.00000000e+00, ...,\n",
       "            1.47490450e-05,   6.12745098e-03,   1.00000000e+00]],\n",
       " \n",
       "        [[  3.33333333e-01,   8.33333333e-01,   1.00000000e+00, ...,\n",
       "            2.50733765e-04,   1.47058824e-02,   1.00000000e+00]],\n",
       " \n",
       "        [[  3.33333333e-01,   8.33333333e-01,   1.00000000e+00, ...,\n",
       "            3.09729945e-04,   1.83823529e-03,   1.00000000e+00]]])}"
      ]
     },
     "execution_count": 64,
     "metadata": {},
     "output_type": "execute_result"
    }
   ],
   "source": [
    "X_train_"
   ]
  },
  {
   "cell_type": "code",
   "execution_count": 65,
   "metadata": {
    "deletable": false,
    "editable": false,
    "run_control": {
     "frozen": true
    }
   },
   "outputs": [
    {
     "data": {
      "text/plain": [
       "{'air_area_name': array([11, 53, 10, ...,  7,  0,  8], dtype=int64),\n",
       " 'air_genre_name': array([10,  8,  7, ...,  4,  7,  4], dtype=int64),\n",
       " 'area_head': array([1, 7, 1, ..., 0, 0, 0], dtype=int64),\n",
       " 'time_series': array([[[  3.33333333e-01,   8.33333333e-01,   1.00000000e+00, ...,\n",
       "            7.37452250e-04,   1.65441176e-02,   1.00000000e+00]],\n",
       " \n",
       "        [[  3.33333333e-01,   8.33333333e-01,   1.00000000e+00, ...,\n",
       "            4.42471350e-04,   2.45098039e-03,   1.00000000e+00]],\n",
       " \n",
       "        [[  3.33333333e-01,   8.33333333e-01,   1.00000000e+00, ...,\n",
       "            1.04718219e-03,   1.89950980e-02,   1.00000000e+00]],\n",
       " \n",
       "        ..., \n",
       "        [[  7.00000000e-01,   8.33333333e-01,   0.00000000e+00, ...,\n",
       "            5.89961800e-04,   3.67647059e-03,   1.00000000e+00]],\n",
       " \n",
       "        [[  7.00000000e-01,   8.33333333e-01,   0.00000000e+00, ...,\n",
       "            6.78456070e-04,   2.02205882e-02,   1.00000000e+00]],\n",
       " \n",
       "        [[  7.00000000e-01,   8.33333333e-01,   0.00000000e+00, ...,\n",
       "            1.03243315e-04,   6.12745098e-04,   1.00000000e+00]]])}"
      ]
     },
     "execution_count": 65,
     "metadata": {},
     "output_type": "execute_result"
    }
   ],
   "source": [
    "X_valid_"
   ]
  },
  {
   "cell_type": "code",
   "execution_count": 68,
   "metadata": {
    "deletable": false,
    "editable": false,
    "run_control": {
     "frozen": true
    }
   },
   "outputs": [
    {
     "data": {
      "image/png": "[encoded data removed]",
      "text/plain": [
       "<matplotlib.figure.Figure at 0x1d19a099940>"
      ]
     },
     "metadata": {},
     "output_type": "display_data"
    },
    {
     "name": "stdout",
     "output_type": "stream",
     "text": [
      "29129/29129 [==============================] - 0s - loss: 0.0286 - val_loss: 0.0221\n"
     ]
    },
    {
     "data": {
      "text/plain": [
       "<keras.callbacks.History at 0x1d199b4ed68>"
      ]
     },
     "execution_count": 68,
     "metadata": {},
     "output_type": "execute_result"
    }
   ],
   "source": [
    "early_stopping = EarlyStopping(monitor='val_loss', patience=2)\n",
    "BATCH_SIZE = 1000\n",
    "epochs = 5\n",
    "\n",
    "model = get_model()\n",
    "model.fit(X_train_, y_train, epochs=epochs, batch_size=BATCH_SIZE, validation_data=(X_valid_, y_valid), \n",
    "          verbose=1, shuffle=False, callbacks=[plot_losses, early_stopping])"
   ]
  }
 ],
 "metadata": {
  "kernelspec": {
   "display_name": "Python 3",
   "language": "python",
   "name": "python3"
  },
  "language_info": {
   "codemirror_mode": {
    "name": "ipython",
    "version": 3
   },
   "file_extension": ".py",
   "mimetype": "text/x-python",
   "name": "python",
   "nbconvert_exporter": "python",
   "pygments_lexer": "ipython3",
   "version": "3.6.1"
  },
  "toc": {
   "nav_menu": {},
   "number_sections": true,
   "sideBar": false,
   "skip_h1_title": false,
   "toc_cell": false,
   "toc_position": {
    "height": "352px",
    "left": "13px",
    "right": "20px",
    "top": "130px",
    "width": "228px"
   },
   "toc_section_display": "block",
   "toc_window_display": true
  }
 },
 "nbformat": 4,
 "nbformat_minor": 2
}
