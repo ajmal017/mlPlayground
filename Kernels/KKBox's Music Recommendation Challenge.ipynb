{
 "cells": [
  {
   "cell_type": "markdown",
   "metadata": {},
   "source": [
    "###  Kaggle Link\n",
    "\n",
    "https://www.kaggle.com/c/kkbox-music-recommendation-challenge"
   ]
  },
  {
   "cell_type": "markdown",
   "metadata": {},
   "source": [
    "### Tables"
   ]
  },
  {
   "cell_type": "markdown",
   "metadata": {},
   "source": [
    "#### train.csv"
   ]
  },
  {
   "cell_type": "markdown",
   "metadata": {},
   "source": [
    "- msno: user id\n",
    "- song_id: song id\n",
    "- source_system_tab: the name of the tab where the event was triggered. System tabs are used to categorize KKBOX mobile apps functions. For example, tab my library contains functions to manipulate the local storage, and tab search contains functions relating to search.\n",
    "- source_screen_name: name of the layout a user sees.\n",
    "- source_type: an entry point a user first plays music on mobile apps. An entry point could be album, online-playlist, song .. etc.\n",
    "- target: this is the target variable. target=1 means there are recurring listening event(s) triggered within a month after the user’s very first observable listening event, target=0 otherwise ."
   ]
  },
  {
   "cell_type": "markdown",
   "metadata": {},
   "source": [
    "#### test.csv"
   ]
  },
  {
   "cell_type": "markdown",
   "metadata": {},
   "source": [
    "- id: row id (will be used for submission)\n",
    "- msno: user id\n",
    "- song_id: song id\n",
    "- source_system_tab: the name of the tab where the event was triggered. System tabs are used to categorize KKBOX mobile apps functions. For example, tab my library contains functions to manipulate the local storage, and tab search contains functions relating to search.\n",
    "- source_screen_name: name of the layout a user sees.\n",
    "- source_type: an entry point a user first plays music on mobile apps. An entry point could be album, online-playlist, song .. etc."
   ]
  },
  {
   "cell_type": "markdown",
   "metadata": {},
   "source": [
    "#### songs.csv"
   ]
  },
  {
   "cell_type": "markdown",
   "metadata": {},
   "source": [
    "The songs. Note that data is in unicode.\n",
    "\n",
    "- song_id\n",
    "- song_length: in ms\n",
    "- genre_ids: genre category. Some songs have multiple genres and they are separated by |\n",
    "- artist_name\n",
    "- composer\n",
    "- lyricist\n",
    "- language"
   ]
  },
  {
   "cell_type": "markdown",
   "metadata": {},
   "source": [
    "#### members.csv"
   ]
  },
  {
   "cell_type": "markdown",
   "metadata": {},
   "source": [
    "User information.\n",
    "\n",
    "- msno\n",
    "- city\n",
    "- bd: age. Note: this column has outlier values, please use your judgement.\n",
    "- gender\n",
    "- registered_via: registration method\n",
    "- registration_init_time: format %Y%m%d\n",
    "- expiration_date: format %Y%m%d"
   ]
  },
  {
   "cell_type": "markdown",
   "metadata": {},
   "source": [
    "#### song_extra_info.csv"
   ]
  },
  {
   "cell_type": "markdown",
   "metadata": {},
   "source": [
    "- song_id\n",
    "- song name: the name of the song.\n",
    "- isrc: International Standard Recording Code, theoretically can be used as an identity of a song. However, what worth to note is, ISRCs generated from providers have not been officially verified; therefore the information in ISRC, such as country code and reference year, can be misleading/incorrect. Multiple songs could share one ISRC since a single recording could be re-published several times."
   ]
  },
  {
   "cell_type": "markdown",
   "metadata": {},
   "source": [
    "### Reading Data"
   ]
  },
  {
   "cell_type": "code",
   "execution_count": 1,
   "metadata": {
    "collapsed": true
   },
   "outputs": [],
   "source": [
    "import numpy as np\n",
    "import pandas as pd \n",
    "import matplotlib.pyplot as plt\n",
    "import seaborn as sns\n",
    "import time\n",
    "import gc\n",
    "\n",
    "from datetime import datetime\n",
    "\n",
    "sns.set(style='whitegrid')\n",
    "\n",
    "pd.set_option('display.max_columns', None)  \n",
    "\n",
    "%matplotlib inline"
   ]
  },
  {
   "cell_type": "code",
   "execution_count": 2,
   "metadata": {
    "collapsed": true
   },
   "outputs": [],
   "source": [
    "df_test = pd.read_csv('../Data/Kaggle/MusicRecomendation/test.csv', dtype={'msno' : 'category',\n",
    "                                                                           'source_system_tab' : 'category',\n",
    "                                                                           'source_screen_name' : 'category',\n",
    "                                                                           'source_type' : 'category',\n",
    "                                                                           'song_id' : 'category'})\n",
    "\n",
    "df_train = pd.read_csv('../Data/Kaggle/MusicRecomendation/train.csv', dtype={'msno' : 'category',\n",
    "                                                                             'source_system_tab' : 'category',\n",
    "                                                                             'source_screen_name' : 'category',\n",
    "                                                                             'source_type' : 'category',\n",
    "                                                                             'target' : np.uint8,\n",
    "                                                                             'song_id' : 'category'})\n",
    "\n",
    "df_members = pd.read_csv('../Data/Kaggle/MusicRecomendation/members.csv', dtype={'city' : 'category',\n",
    "                                                                                 'bd' : np.uint8,\n",
    "                                                                                 'gender' : 'category',\n",
    "                                                                                 'registered_via' : 'category'},\n",
    "                         parse_dates=['registration_init_time', 'expiration_date'])"
   ]
  },
  {
   "cell_type": "code",
   "execution_count": 3,
   "metadata": {
    "collapsed": true
   },
   "outputs": [],
   "source": [
    "df_songs = pd.read_csv('../Data/Kaggle/MusicRecomendation/songs.csv', dtype={'genre_ids': 'category',\n",
    "                                                                             'language' : 'category',\n",
    "                                                                             'artist_name' : 'category',\n",
    "                                                                             'composer' : 'category',\n",
    "                                                                             'lyricist' : 'category',\n",
    "                                                                             'song_id' : 'category'})"
   ]
  },
  {
   "cell_type": "code",
   "execution_count": 8,
   "metadata": {
    "deletable": false,
    "editable": false,
    "run_control": {
     "frozen": true
    }
   },
   "outputs": [
    {
     "data": {
      "text/html": [
       "<div>\n",
       "<style>\n",
       "    .dataframe thead tr:only-child th {\n",
       "        text-align: right;\n",
       "    }\n",
       "\n",
       "    .dataframe thead th {\n",
       "        text-align: left;\n",
       "    }\n",
       "\n",
       "    .dataframe tbody tr th {\n",
       "        vertical-align: top;\n",
       "    }\n",
       "</style>\n",
       "<table border=\"1\" class=\"dataframe\">\n",
       "  <thead>\n",
       "    <tr style=\"text-align: right;\">\n",
       "      <th></th>\n",
       "      <th>msno</th>\n",
       "      <th>song_id</th>\n",
       "      <th>source_system_tab</th>\n",
       "      <th>source_screen_name</th>\n",
       "      <th>source_type</th>\n",
       "      <th>target</th>\n",
       "    </tr>\n",
       "  </thead>\n",
       "  <tbody>\n",
       "    <tr>\n",
       "      <th>0</th>\n",
       "      <td>FGtllVqz18RPiwJj/edr2gV78zirAiY/9SmYvia+kCg=</td>\n",
       "      <td>BBzumQNXUHKdEBOB7mAJuzok+IJA1c2Ryg/yzTF6tik=</td>\n",
       "      <td>explore</td>\n",
       "      <td>Explore</td>\n",
       "      <td>online-playlist</td>\n",
       "      <td>1</td>\n",
       "    </tr>\n",
       "    <tr>\n",
       "      <th>1</th>\n",
       "      <td>Xumu+NIjS6QYVxDS4/t3SawvJ7viT9hPKXmf0RtLNx8=</td>\n",
       "      <td>bhp/MpSNoqoxOIB+/l8WPqu6jldth4DIpCm3ayXnJqM=</td>\n",
       "      <td>my library</td>\n",
       "      <td>Local playlist more</td>\n",
       "      <td>local-playlist</td>\n",
       "      <td>1</td>\n",
       "    </tr>\n",
       "    <tr>\n",
       "      <th>2</th>\n",
       "      <td>Xumu+NIjS6QYVxDS4/t3SawvJ7viT9hPKXmf0RtLNx8=</td>\n",
       "      <td>JNWfrrC7zNN7BdMpsISKa4Mw+xVJYNnxXh3/Epw7QgY=</td>\n",
       "      <td>my library</td>\n",
       "      <td>Local playlist more</td>\n",
       "      <td>local-playlist</td>\n",
       "      <td>1</td>\n",
       "    </tr>\n",
       "    <tr>\n",
       "      <th>3</th>\n",
       "      <td>Xumu+NIjS6QYVxDS4/t3SawvJ7viT9hPKXmf0RtLNx8=</td>\n",
       "      <td>2A87tzfnJTSWqD7gIZHisolhe4DMdzkbd6LzO1KHjNs=</td>\n",
       "      <td>my library</td>\n",
       "      <td>Local playlist more</td>\n",
       "      <td>local-playlist</td>\n",
       "      <td>1</td>\n",
       "    </tr>\n",
       "    <tr>\n",
       "      <th>4</th>\n",
       "      <td>FGtllVqz18RPiwJj/edr2gV78zirAiY/9SmYvia+kCg=</td>\n",
       "      <td>3qm6XTZ6MOCU11x8FIVbAGH5l5uMkT3/ZalWG1oo2Gc=</td>\n",
       "      <td>explore</td>\n",
       "      <td>Explore</td>\n",
       "      <td>online-playlist</td>\n",
       "      <td>1</td>\n",
       "    </tr>\n",
       "  </tbody>\n",
       "</table>\n",
       "</div>"
      ],
      "text/plain": [
       "                                           msno  \\\n",
       "0  FGtllVqz18RPiwJj/edr2gV78zirAiY/9SmYvia+kCg=   \n",
       "1  Xumu+NIjS6QYVxDS4/t3SawvJ7viT9hPKXmf0RtLNx8=   \n",
       "2  Xumu+NIjS6QYVxDS4/t3SawvJ7viT9hPKXmf0RtLNx8=   \n",
       "3  Xumu+NIjS6QYVxDS4/t3SawvJ7viT9hPKXmf0RtLNx8=   \n",
       "4  FGtllVqz18RPiwJj/edr2gV78zirAiY/9SmYvia+kCg=   \n",
       "\n",
       "                                        song_id source_system_tab  \\\n",
       "0  BBzumQNXUHKdEBOB7mAJuzok+IJA1c2Ryg/yzTF6tik=           explore   \n",
       "1  bhp/MpSNoqoxOIB+/l8WPqu6jldth4DIpCm3ayXnJqM=        my library   \n",
       "2  JNWfrrC7zNN7BdMpsISKa4Mw+xVJYNnxXh3/Epw7QgY=        my library   \n",
       "3  2A87tzfnJTSWqD7gIZHisolhe4DMdzkbd6LzO1KHjNs=        my library   \n",
       "4  3qm6XTZ6MOCU11x8FIVbAGH5l5uMkT3/ZalWG1oo2Gc=           explore   \n",
       "\n",
       "    source_screen_name      source_type  target  \n",
       "0              Explore  online-playlist       1  \n",
       "1  Local playlist more   local-playlist       1  \n",
       "2  Local playlist more   local-playlist       1  \n",
       "3  Local playlist more   local-playlist       1  \n",
       "4              Explore  online-playlist       1  "
      ]
     },
     "execution_count": 8,
     "metadata": {},
     "output_type": "execute_result"
    }
   ],
   "source": [
    "df_train.head()"
   ]
  },
  {
   "cell_type": "code",
   "execution_count": 9,
   "metadata": {
    "deletable": false,
    "editable": false,
    "run_control": {
     "frozen": true
    }
   },
   "outputs": [
    {
     "data": {
      "text/html": [
       "<div>\n",
       "<style>\n",
       "    .dataframe thead tr:only-child th {\n",
       "        text-align: right;\n",
       "    }\n",
       "\n",
       "    .dataframe thead th {\n",
       "        text-align: left;\n",
       "    }\n",
       "\n",
       "    .dataframe tbody tr th {\n",
       "        vertical-align: top;\n",
       "    }\n",
       "</style>\n",
       "<table border=\"1\" class=\"dataframe\">\n",
       "  <thead>\n",
       "    <tr style=\"text-align: right;\">\n",
       "      <th></th>\n",
       "      <th>msno</th>\n",
       "      <th>city</th>\n",
       "      <th>bd</th>\n",
       "      <th>gender</th>\n",
       "      <th>registered_via</th>\n",
       "      <th>registration_init_time</th>\n",
       "      <th>expiration_date</th>\n",
       "    </tr>\n",
       "  </thead>\n",
       "  <tbody>\n",
       "    <tr>\n",
       "      <th>0</th>\n",
       "      <td>XQxgAYj3klVKjR3oxPPXYYFp4soD4TuBghkhMTD4oTw=</td>\n",
       "      <td>1</td>\n",
       "      <td>0</td>\n",
       "      <td>NaN</td>\n",
       "      <td>7</td>\n",
       "      <td>2011-08-20</td>\n",
       "      <td>2017-09-20</td>\n",
       "    </tr>\n",
       "    <tr>\n",
       "      <th>1</th>\n",
       "      <td>UizsfmJb9mV54qE9hCYyU07Va97c0lCRLEQX3ae+ztM=</td>\n",
       "      <td>1</td>\n",
       "      <td>0</td>\n",
       "      <td>NaN</td>\n",
       "      <td>7</td>\n",
       "      <td>2015-06-28</td>\n",
       "      <td>2017-06-22</td>\n",
       "    </tr>\n",
       "    <tr>\n",
       "      <th>2</th>\n",
       "      <td>D8nEhsIOBSoE6VthTaqDX8U6lqjJ7dLdr72mOyLya2A=</td>\n",
       "      <td>1</td>\n",
       "      <td>0</td>\n",
       "      <td>NaN</td>\n",
       "      <td>4</td>\n",
       "      <td>2016-04-11</td>\n",
       "      <td>2017-07-12</td>\n",
       "    </tr>\n",
       "    <tr>\n",
       "      <th>3</th>\n",
       "      <td>mCuD+tZ1hERA/o5GPqk38e041J8ZsBaLcu7nGoIIvhI=</td>\n",
       "      <td>1</td>\n",
       "      <td>0</td>\n",
       "      <td>NaN</td>\n",
       "      <td>9</td>\n",
       "      <td>2015-09-06</td>\n",
       "      <td>2015-09-07</td>\n",
       "    </tr>\n",
       "    <tr>\n",
       "      <th>4</th>\n",
       "      <td>q4HRBfVSssAFS9iRfxWrohxuk9kCYMKjHOEagUMV6rQ=</td>\n",
       "      <td>1</td>\n",
       "      <td>0</td>\n",
       "      <td>NaN</td>\n",
       "      <td>4</td>\n",
       "      <td>2017-01-26</td>\n",
       "      <td>2017-06-13</td>\n",
       "    </tr>\n",
       "  </tbody>\n",
       "</table>\n",
       "</div>"
      ],
      "text/plain": [
       "                                           msno city  bd gender  \\\n",
       "0  XQxgAYj3klVKjR3oxPPXYYFp4soD4TuBghkhMTD4oTw=    1   0    NaN   \n",
       "1  UizsfmJb9mV54qE9hCYyU07Va97c0lCRLEQX3ae+ztM=    1   0    NaN   \n",
       "2  D8nEhsIOBSoE6VthTaqDX8U6lqjJ7dLdr72mOyLya2A=    1   0    NaN   \n",
       "3  mCuD+tZ1hERA/o5GPqk38e041J8ZsBaLcu7nGoIIvhI=    1   0    NaN   \n",
       "4  q4HRBfVSssAFS9iRfxWrohxuk9kCYMKjHOEagUMV6rQ=    1   0    NaN   \n",
       "\n",
       "  registered_via registration_init_time expiration_date  \n",
       "0              7             2011-08-20      2017-09-20  \n",
       "1              7             2015-06-28      2017-06-22  \n",
       "2              4             2016-04-11      2017-07-12  \n",
       "3              9             2015-09-06      2015-09-07  \n",
       "4              4             2017-01-26      2017-06-13  "
      ]
     },
     "execution_count": 9,
     "metadata": {},
     "output_type": "execute_result"
    }
   ],
   "source": [
    "df_members.head()"
   ]
  },
  {
   "cell_type": "code",
   "execution_count": 10,
   "metadata": {
    "deletable": false,
    "editable": false,
    "run_control": {
     "frozen": true
    }
   },
   "outputs": [
    {
     "data": {
      "text/html": [
       "<div>\n",
       "<style>\n",
       "    .dataframe thead tr:only-child th {\n",
       "        text-align: right;\n",
       "    }\n",
       "\n",
       "    .dataframe thead th {\n",
       "        text-align: left;\n",
       "    }\n",
       "\n",
       "    .dataframe tbody tr th {\n",
       "        vertical-align: top;\n",
       "    }\n",
       "</style>\n",
       "<table border=\"1\" class=\"dataframe\">\n",
       "  <thead>\n",
       "    <tr style=\"text-align: right;\">\n",
       "      <th></th>\n",
       "      <th>song_id</th>\n",
       "      <th>song_length</th>\n",
       "      <th>genre_ids</th>\n",
       "      <th>artist_name</th>\n",
       "      <th>composer</th>\n",
       "      <th>lyricist</th>\n",
       "      <th>language</th>\n",
       "    </tr>\n",
       "  </thead>\n",
       "  <tbody>\n",
       "    <tr>\n",
       "      <th>0</th>\n",
       "      <td>CXoTN1eb7AI+DntdU1vbcwGRV4SCIDxZu+YD8JP8r4E=</td>\n",
       "      <td>247640</td>\n",
       "      <td>465</td>\n",
       "      <td>張信哲 (Jeff Chang)</td>\n",
       "      <td>董貞</td>\n",
       "      <td>何啟弘</td>\n",
       "      <td>3.0</td>\n",
       "    </tr>\n",
       "    <tr>\n",
       "      <th>1</th>\n",
       "      <td>o0kFgae9QtnYgRkVPqLJwa05zIhRlUjfF7O1tDw0ZDU=</td>\n",
       "      <td>197328</td>\n",
       "      <td>444</td>\n",
       "      <td>BLACKPINK</td>\n",
       "      <td>TEDDY|  FUTURE BOUNCE|  Bekuh BOOM</td>\n",
       "      <td>TEDDY</td>\n",
       "      <td>31.0</td>\n",
       "    </tr>\n",
       "    <tr>\n",
       "      <th>2</th>\n",
       "      <td>DwVvVurfpuz+XPuFvucclVQEyPqcpUkHR0ne1RQzPs0=</td>\n",
       "      <td>231781</td>\n",
       "      <td>465</td>\n",
       "      <td>SUPER JUNIOR</td>\n",
       "      <td>NaN</td>\n",
       "      <td>NaN</td>\n",
       "      <td>31.0</td>\n",
       "    </tr>\n",
       "    <tr>\n",
       "      <th>3</th>\n",
       "      <td>dKMBWoZyScdxSkihKG+Vf47nc18N9q4m58+b4e7dSSE=</td>\n",
       "      <td>273554</td>\n",
       "      <td>465</td>\n",
       "      <td>S.H.E</td>\n",
       "      <td>湯小康</td>\n",
       "      <td>徐世珍</td>\n",
       "      <td>3.0</td>\n",
       "    </tr>\n",
       "    <tr>\n",
       "      <th>4</th>\n",
       "      <td>W3bqWd3T+VeHFzHAUfARgW9AvVRaF4N5Yzm4Mr6Eo/o=</td>\n",
       "      <td>140329</td>\n",
       "      <td>726</td>\n",
       "      <td>貴族精選</td>\n",
       "      <td>Traditional</td>\n",
       "      <td>Traditional</td>\n",
       "      <td>52.0</td>\n",
       "    </tr>\n",
       "  </tbody>\n",
       "</table>\n",
       "</div>"
      ],
      "text/plain": [
       "                                        song_id  song_length genre_ids  \\\n",
       "0  CXoTN1eb7AI+DntdU1vbcwGRV4SCIDxZu+YD8JP8r4E=       247640       465   \n",
       "1  o0kFgae9QtnYgRkVPqLJwa05zIhRlUjfF7O1tDw0ZDU=       197328       444   \n",
       "2  DwVvVurfpuz+XPuFvucclVQEyPqcpUkHR0ne1RQzPs0=       231781       465   \n",
       "3  dKMBWoZyScdxSkihKG+Vf47nc18N9q4m58+b4e7dSSE=       273554       465   \n",
       "4  W3bqWd3T+VeHFzHAUfARgW9AvVRaF4N5Yzm4Mr6Eo/o=       140329       726   \n",
       "\n",
       "        artist_name                            composer     lyricist language  \n",
       "0  張信哲 (Jeff Chang)                                  董貞          何啟弘      3.0  \n",
       "1         BLACKPINK  TEDDY|  FUTURE BOUNCE|  Bekuh BOOM        TEDDY     31.0  \n",
       "2      SUPER JUNIOR                                 NaN          NaN     31.0  \n",
       "3             S.H.E                                 湯小康          徐世珍      3.0  \n",
       "4              貴族精選                         Traditional  Traditional     52.0  "
      ]
     },
     "execution_count": 10,
     "metadata": {},
     "output_type": "execute_result"
    }
   ],
   "source": [
    "df_songs.head()"
   ]
  },
  {
   "cell_type": "code",
   "execution_count": 11,
   "metadata": {
    "deletable": false,
    "editable": false,
    "run_control": {
     "frozen": true
    }
   },
   "outputs": [
    {
     "data": {
      "text/html": [
       "<div>\n",
       "<style>\n",
       "    .dataframe thead tr:only-child th {\n",
       "        text-align: right;\n",
       "    }\n",
       "\n",
       "    .dataframe thead th {\n",
       "        text-align: left;\n",
       "    }\n",
       "\n",
       "    .dataframe tbody tr th {\n",
       "        vertical-align: top;\n",
       "    }\n",
       "</style>\n",
       "<table border=\"1\" class=\"dataframe\">\n",
       "  <thead>\n",
       "    <tr style=\"text-align: right;\">\n",
       "      <th></th>\n",
       "      <th>id</th>\n",
       "      <th>msno</th>\n",
       "      <th>song_id</th>\n",
       "      <th>source_system_tab</th>\n",
       "      <th>source_screen_name</th>\n",
       "      <th>source_type</th>\n",
       "    </tr>\n",
       "  </thead>\n",
       "  <tbody>\n",
       "    <tr>\n",
       "      <th>0</th>\n",
       "      <td>0</td>\n",
       "      <td>V8ruy7SGk7tDm3zA51DPpn6qutt+vmKMBKa21dp54uM=</td>\n",
       "      <td>WmHKgKMlp1lQMecNdNvDMkvIycZYHnFwDT72I5sIssc=</td>\n",
       "      <td>my library</td>\n",
       "      <td>Local playlist more</td>\n",
       "      <td>local-library</td>\n",
       "    </tr>\n",
       "    <tr>\n",
       "      <th>1</th>\n",
       "      <td>1</td>\n",
       "      <td>V8ruy7SGk7tDm3zA51DPpn6qutt+vmKMBKa21dp54uM=</td>\n",
       "      <td>y/rsZ9DC7FwK5F2PK2D5mj+aOBUJAjuu3dZ14NgE0vM=</td>\n",
       "      <td>my library</td>\n",
       "      <td>Local playlist more</td>\n",
       "      <td>local-library</td>\n",
       "    </tr>\n",
       "    <tr>\n",
       "      <th>2</th>\n",
       "      <td>2</td>\n",
       "      <td>/uQAlrAkaczV+nWCd2sPF2ekvXPRipV7q0l+gbLuxjw=</td>\n",
       "      <td>8eZLFOdGVdXBSqoAv5nsLigeH2BvKXzTQYtUM53I0k4=</td>\n",
       "      <td>discover</td>\n",
       "      <td>NaN</td>\n",
       "      <td>song-based-playlist</td>\n",
       "    </tr>\n",
       "    <tr>\n",
       "      <th>3</th>\n",
       "      <td>3</td>\n",
       "      <td>1a6oo/iXKatxQx4eS9zTVD+KlSVaAFbTIqVvwLC1Y0k=</td>\n",
       "      <td>ztCf8thYsS4YN3GcIL/bvoxLm/T5mYBVKOO4C9NiVfQ=</td>\n",
       "      <td>radio</td>\n",
       "      <td>Radio</td>\n",
       "      <td>radio</td>\n",
       "    </tr>\n",
       "    <tr>\n",
       "      <th>4</th>\n",
       "      <td>4</td>\n",
       "      <td>1a6oo/iXKatxQx4eS9zTVD+KlSVaAFbTIqVvwLC1Y0k=</td>\n",
       "      <td>MKVMpslKcQhMaFEgcEQhEfi5+RZhMYlU3eRDpySrH8Y=</td>\n",
       "      <td>radio</td>\n",
       "      <td>Radio</td>\n",
       "      <td>radio</td>\n",
       "    </tr>\n",
       "  </tbody>\n",
       "</table>\n",
       "</div>"
      ],
      "text/plain": [
       "   id                                          msno  \\\n",
       "0   0  V8ruy7SGk7tDm3zA51DPpn6qutt+vmKMBKa21dp54uM=   \n",
       "1   1  V8ruy7SGk7tDm3zA51DPpn6qutt+vmKMBKa21dp54uM=   \n",
       "2   2  /uQAlrAkaczV+nWCd2sPF2ekvXPRipV7q0l+gbLuxjw=   \n",
       "3   3  1a6oo/iXKatxQx4eS9zTVD+KlSVaAFbTIqVvwLC1Y0k=   \n",
       "4   4  1a6oo/iXKatxQx4eS9zTVD+KlSVaAFbTIqVvwLC1Y0k=   \n",
       "\n",
       "                                        song_id source_system_tab  \\\n",
       "0  WmHKgKMlp1lQMecNdNvDMkvIycZYHnFwDT72I5sIssc=        my library   \n",
       "1  y/rsZ9DC7FwK5F2PK2D5mj+aOBUJAjuu3dZ14NgE0vM=        my library   \n",
       "2  8eZLFOdGVdXBSqoAv5nsLigeH2BvKXzTQYtUM53I0k4=          discover   \n",
       "3  ztCf8thYsS4YN3GcIL/bvoxLm/T5mYBVKOO4C9NiVfQ=             radio   \n",
       "4  MKVMpslKcQhMaFEgcEQhEfi5+RZhMYlU3eRDpySrH8Y=             radio   \n",
       "\n",
       "    source_screen_name          source_type  \n",
       "0  Local playlist more        local-library  \n",
       "1  Local playlist more        local-library  \n",
       "2                  NaN  song-based-playlist  \n",
       "3                Radio                radio  \n",
       "4                Radio                radio  "
      ]
     },
     "execution_count": 11,
     "metadata": {},
     "output_type": "execute_result"
    }
   ],
   "source": [
    "df_test.head()"
   ]
  },
  {
   "cell_type": "markdown",
   "metadata": {},
   "source": [
    "### Merging"
   ]
  },
  {
   "cell_type": "code",
   "execution_count": 4,
   "metadata": {},
   "outputs": [
    {
     "data": {
      "text/html": [
       "<div>\n",
       "<style>\n",
       "    .dataframe thead tr:only-child th {\n",
       "        text-align: right;\n",
       "    }\n",
       "\n",
       "    .dataframe thead th {\n",
       "        text-align: left;\n",
       "    }\n",
       "\n",
       "    .dataframe tbody tr th {\n",
       "        vertical-align: top;\n",
       "    }\n",
       "</style>\n",
       "<table border=\"1\" class=\"dataframe\">\n",
       "  <thead>\n",
       "    <tr style=\"text-align: right;\">\n",
       "      <th></th>\n",
       "      <th>msno</th>\n",
       "      <th>song_id</th>\n",
       "      <th>source_system_tab</th>\n",
       "      <th>source_screen_name</th>\n",
       "      <th>source_type</th>\n",
       "      <th>target</th>\n",
       "      <th>city</th>\n",
       "      <th>bd</th>\n",
       "      <th>gender</th>\n",
       "      <th>registered_via</th>\n",
       "      <th>registration_init_time</th>\n",
       "      <th>expiration_date</th>\n",
       "      <th>song_length</th>\n",
       "      <th>genre_ids</th>\n",
       "      <th>artist_name</th>\n",
       "      <th>composer</th>\n",
       "      <th>lyricist</th>\n",
       "      <th>language</th>\n",
       "    </tr>\n",
       "  </thead>\n",
       "  <tbody>\n",
       "    <tr>\n",
       "      <th>0</th>\n",
       "      <td>FGtllVqz18RPiwJj/edr2gV78zirAiY/9SmYvia+kCg=</td>\n",
       "      <td>BBzumQNXUHKdEBOB7mAJuzok+IJA1c2Ryg/yzTF6tik=</td>\n",
       "      <td>explore</td>\n",
       "      <td>Explore</td>\n",
       "      <td>online-playlist</td>\n",
       "      <td>1</td>\n",
       "      <td>1</td>\n",
       "      <td>0</td>\n",
       "      <td>NaN</td>\n",
       "      <td>7</td>\n",
       "      <td>2012-01-02</td>\n",
       "      <td>2017-10-05</td>\n",
       "      <td>206471.0</td>\n",
       "      <td>359</td>\n",
       "      <td>Bastille</td>\n",
       "      <td>Dan Smith| Mark Crew</td>\n",
       "      <td>NaN</td>\n",
       "      <td>52.0</td>\n",
       "    </tr>\n",
       "    <tr>\n",
       "      <th>1</th>\n",
       "      <td>Xumu+NIjS6QYVxDS4/t3SawvJ7viT9hPKXmf0RtLNx8=</td>\n",
       "      <td>bhp/MpSNoqoxOIB+/l8WPqu6jldth4DIpCm3ayXnJqM=</td>\n",
       "      <td>my library</td>\n",
       "      <td>Local playlist more</td>\n",
       "      <td>local-playlist</td>\n",
       "      <td>1</td>\n",
       "      <td>13</td>\n",
       "      <td>24</td>\n",
       "      <td>female</td>\n",
       "      <td>9</td>\n",
       "      <td>2011-05-25</td>\n",
       "      <td>2017-09-11</td>\n",
       "      <td>284584.0</td>\n",
       "      <td>1259</td>\n",
       "      <td>Various Artists</td>\n",
       "      <td>NaN</td>\n",
       "      <td>NaN</td>\n",
       "      <td>52.0</td>\n",
       "    </tr>\n",
       "    <tr>\n",
       "      <th>2</th>\n",
       "      <td>Xumu+NIjS6QYVxDS4/t3SawvJ7viT9hPKXmf0RtLNx8=</td>\n",
       "      <td>JNWfrrC7zNN7BdMpsISKa4Mw+xVJYNnxXh3/Epw7QgY=</td>\n",
       "      <td>my library</td>\n",
       "      <td>Local playlist more</td>\n",
       "      <td>local-playlist</td>\n",
       "      <td>1</td>\n",
       "      <td>13</td>\n",
       "      <td>24</td>\n",
       "      <td>female</td>\n",
       "      <td>9</td>\n",
       "      <td>2011-05-25</td>\n",
       "      <td>2017-09-11</td>\n",
       "      <td>225396.0</td>\n",
       "      <td>1259</td>\n",
       "      <td>Nas</td>\n",
       "      <td>N. Jones、W. Adams、J. Lordan、D. Ingle</td>\n",
       "      <td>NaN</td>\n",
       "      <td>52.0</td>\n",
       "    </tr>\n",
       "    <tr>\n",
       "      <th>3</th>\n",
       "      <td>Xumu+NIjS6QYVxDS4/t3SawvJ7viT9hPKXmf0RtLNx8=</td>\n",
       "      <td>2A87tzfnJTSWqD7gIZHisolhe4DMdzkbd6LzO1KHjNs=</td>\n",
       "      <td>my library</td>\n",
       "      <td>Local playlist more</td>\n",
       "      <td>local-playlist</td>\n",
       "      <td>1</td>\n",
       "      <td>13</td>\n",
       "      <td>24</td>\n",
       "      <td>female</td>\n",
       "      <td>9</td>\n",
       "      <td>2011-05-25</td>\n",
       "      <td>2017-09-11</td>\n",
       "      <td>255512.0</td>\n",
       "      <td>1019</td>\n",
       "      <td>Soundway</td>\n",
       "      <td>Kwadwo Donkoh</td>\n",
       "      <td>NaN</td>\n",
       "      <td>-1.0</td>\n",
       "    </tr>\n",
       "    <tr>\n",
       "      <th>4</th>\n",
       "      <td>FGtllVqz18RPiwJj/edr2gV78zirAiY/9SmYvia+kCg=</td>\n",
       "      <td>3qm6XTZ6MOCU11x8FIVbAGH5l5uMkT3/ZalWG1oo2Gc=</td>\n",
       "      <td>explore</td>\n",
       "      <td>Explore</td>\n",
       "      <td>online-playlist</td>\n",
       "      <td>1</td>\n",
       "      <td>1</td>\n",
       "      <td>0</td>\n",
       "      <td>NaN</td>\n",
       "      <td>7</td>\n",
       "      <td>2012-01-02</td>\n",
       "      <td>2017-10-05</td>\n",
       "      <td>187802.0</td>\n",
       "      <td>1011</td>\n",
       "      <td>Brett Young</td>\n",
       "      <td>Brett Young| Kelly Archer| Justin Ebach</td>\n",
       "      <td>NaN</td>\n",
       "      <td>52.0</td>\n",
       "    </tr>\n",
       "  </tbody>\n",
       "</table>\n",
       "</div>"
      ],
      "text/plain": [
       "                                           msno  \\\n",
       "0  FGtllVqz18RPiwJj/edr2gV78zirAiY/9SmYvia+kCg=   \n",
       "1  Xumu+NIjS6QYVxDS4/t3SawvJ7viT9hPKXmf0RtLNx8=   \n",
       "2  Xumu+NIjS6QYVxDS4/t3SawvJ7viT9hPKXmf0RtLNx8=   \n",
       "3  Xumu+NIjS6QYVxDS4/t3SawvJ7viT9hPKXmf0RtLNx8=   \n",
       "4  FGtllVqz18RPiwJj/edr2gV78zirAiY/9SmYvia+kCg=   \n",
       "\n",
       "                                        song_id source_system_tab  \\\n",
       "0  BBzumQNXUHKdEBOB7mAJuzok+IJA1c2Ryg/yzTF6tik=           explore   \n",
       "1  bhp/MpSNoqoxOIB+/l8WPqu6jldth4DIpCm3ayXnJqM=        my library   \n",
       "2  JNWfrrC7zNN7BdMpsISKa4Mw+xVJYNnxXh3/Epw7QgY=        my library   \n",
       "3  2A87tzfnJTSWqD7gIZHisolhe4DMdzkbd6LzO1KHjNs=        my library   \n",
       "4  3qm6XTZ6MOCU11x8FIVbAGH5l5uMkT3/ZalWG1oo2Gc=           explore   \n",
       "\n",
       "    source_screen_name      source_type  target city  bd  gender  \\\n",
       "0              Explore  online-playlist       1    1   0     NaN   \n",
       "1  Local playlist more   local-playlist       1   13  24  female   \n",
       "2  Local playlist more   local-playlist       1   13  24  female   \n",
       "3  Local playlist more   local-playlist       1   13  24  female   \n",
       "4              Explore  online-playlist       1    1   0     NaN   \n",
       "\n",
       "  registered_via registration_init_time expiration_date  song_length  \\\n",
       "0              7             2012-01-02      2017-10-05     206471.0   \n",
       "1              9             2011-05-25      2017-09-11     284584.0   \n",
       "2              9             2011-05-25      2017-09-11     225396.0   \n",
       "3              9             2011-05-25      2017-09-11     255512.0   \n",
       "4              7             2012-01-02      2017-10-05     187802.0   \n",
       "\n",
       "  genre_ids      artist_name                                 composer  \\\n",
       "0       359         Bastille                     Dan Smith| Mark Crew   \n",
       "1      1259  Various Artists                                      NaN   \n",
       "2      1259              Nas     N. Jones、W. Adams、J. Lordan、D. Ingle   \n",
       "3      1019         Soundway                            Kwadwo Donkoh   \n",
       "4      1011      Brett Young  Brett Young| Kelly Archer| Justin Ebach   \n",
       "\n",
       "  lyricist language  \n",
       "0      NaN     52.0  \n",
       "1      NaN     52.0  \n",
       "2      NaN     52.0  \n",
       "3      NaN     -1.0  \n",
       "4      NaN     52.0  "
      ]
     },
     "execution_count": 4,
     "metadata": {},
     "output_type": "execute_result"
    }
   ],
   "source": [
    "df_train = df_train.merge(df_members, how='left', on='msno')\n",
    "df_train = df_train.merge(df_songs, how='left', on='song_id')\n",
    "df_train.head()"
   ]
  },
  {
   "cell_type": "code",
   "execution_count": 5,
   "metadata": {},
   "outputs": [
    {
     "data": {
      "text/html": [
       "<div>\n",
       "<style>\n",
       "    .dataframe thead tr:only-child th {\n",
       "        text-align: right;\n",
       "    }\n",
       "\n",
       "    .dataframe thead th {\n",
       "        text-align: left;\n",
       "    }\n",
       "\n",
       "    .dataframe tbody tr th {\n",
       "        vertical-align: top;\n",
       "    }\n",
       "</style>\n",
       "<table border=\"1\" class=\"dataframe\">\n",
       "  <thead>\n",
       "    <tr style=\"text-align: right;\">\n",
       "      <th></th>\n",
       "      <th>id</th>\n",
       "      <th>msno</th>\n",
       "      <th>song_id</th>\n",
       "      <th>source_system_tab</th>\n",
       "      <th>source_screen_name</th>\n",
       "      <th>source_type</th>\n",
       "      <th>city</th>\n",
       "      <th>bd</th>\n",
       "      <th>gender</th>\n",
       "      <th>registered_via</th>\n",
       "      <th>registration_init_time</th>\n",
       "      <th>expiration_date</th>\n",
       "      <th>song_length</th>\n",
       "      <th>genre_ids</th>\n",
       "      <th>artist_name</th>\n",
       "      <th>composer</th>\n",
       "      <th>lyricist</th>\n",
       "      <th>language</th>\n",
       "    </tr>\n",
       "  </thead>\n",
       "  <tbody>\n",
       "    <tr>\n",
       "      <th>0</th>\n",
       "      <td>0</td>\n",
       "      <td>V8ruy7SGk7tDm3zA51DPpn6qutt+vmKMBKa21dp54uM=</td>\n",
       "      <td>WmHKgKMlp1lQMecNdNvDMkvIycZYHnFwDT72I5sIssc=</td>\n",
       "      <td>my library</td>\n",
       "      <td>Local playlist more</td>\n",
       "      <td>local-library</td>\n",
       "      <td>1</td>\n",
       "      <td>0</td>\n",
       "      <td>NaN</td>\n",
       "      <td>7</td>\n",
       "      <td>2016-02-19</td>\n",
       "      <td>2017-09-18</td>\n",
       "      <td>224130.0</td>\n",
       "      <td>458</td>\n",
       "      <td>梁文音 (Rachel Liang)</td>\n",
       "      <td>Qi Zheng Zhang</td>\n",
       "      <td>NaN</td>\n",
       "      <td>3.0</td>\n",
       "    </tr>\n",
       "    <tr>\n",
       "      <th>1</th>\n",
       "      <td>1</td>\n",
       "      <td>V8ruy7SGk7tDm3zA51DPpn6qutt+vmKMBKa21dp54uM=</td>\n",
       "      <td>y/rsZ9DC7FwK5F2PK2D5mj+aOBUJAjuu3dZ14NgE0vM=</td>\n",
       "      <td>my library</td>\n",
       "      <td>Local playlist more</td>\n",
       "      <td>local-library</td>\n",
       "      <td>1</td>\n",
       "      <td>0</td>\n",
       "      <td>NaN</td>\n",
       "      <td>7</td>\n",
       "      <td>2016-02-19</td>\n",
       "      <td>2017-09-18</td>\n",
       "      <td>320470.0</td>\n",
       "      <td>465</td>\n",
       "      <td>林俊傑 (JJ Lin)</td>\n",
       "      <td>林俊傑</td>\n",
       "      <td>孫燕姿/易家揚</td>\n",
       "      <td>3.0</td>\n",
       "    </tr>\n",
       "    <tr>\n",
       "      <th>2</th>\n",
       "      <td>2</td>\n",
       "      <td>/uQAlrAkaczV+nWCd2sPF2ekvXPRipV7q0l+gbLuxjw=</td>\n",
       "      <td>8eZLFOdGVdXBSqoAv5nsLigeH2BvKXzTQYtUM53I0k4=</td>\n",
       "      <td>discover</td>\n",
       "      <td>NaN</td>\n",
       "      <td>song-based-playlist</td>\n",
       "      <td>1</td>\n",
       "      <td>0</td>\n",
       "      <td>NaN</td>\n",
       "      <td>4</td>\n",
       "      <td>2016-11-17</td>\n",
       "      <td>2016-11-24</td>\n",
       "      <td>315899.0</td>\n",
       "      <td>2022</td>\n",
       "      <td>Yu Takahashi (高橋優)</td>\n",
       "      <td>Yu Takahashi</td>\n",
       "      <td>Yu Takahashi</td>\n",
       "      <td>17.0</td>\n",
       "    </tr>\n",
       "    <tr>\n",
       "      <th>3</th>\n",
       "      <td>3</td>\n",
       "      <td>1a6oo/iXKatxQx4eS9zTVD+KlSVaAFbTIqVvwLC1Y0k=</td>\n",
       "      <td>ztCf8thYsS4YN3GcIL/bvoxLm/T5mYBVKOO4C9NiVfQ=</td>\n",
       "      <td>radio</td>\n",
       "      <td>Radio</td>\n",
       "      <td>radio</td>\n",
       "      <td>3</td>\n",
       "      <td>30</td>\n",
       "      <td>male</td>\n",
       "      <td>9</td>\n",
       "      <td>2007-07-25</td>\n",
       "      <td>2017-04-30</td>\n",
       "      <td>285210.0</td>\n",
       "      <td>465</td>\n",
       "      <td>U2</td>\n",
       "      <td>The Edge| Adam Clayton| Larry Mullen| Jr.</td>\n",
       "      <td>NaN</td>\n",
       "      <td>52.0</td>\n",
       "    </tr>\n",
       "    <tr>\n",
       "      <th>4</th>\n",
       "      <td>4</td>\n",
       "      <td>1a6oo/iXKatxQx4eS9zTVD+KlSVaAFbTIqVvwLC1Y0k=</td>\n",
       "      <td>MKVMpslKcQhMaFEgcEQhEfi5+RZhMYlU3eRDpySrH8Y=</td>\n",
       "      <td>radio</td>\n",
       "      <td>Radio</td>\n",
       "      <td>radio</td>\n",
       "      <td>3</td>\n",
       "      <td>30</td>\n",
       "      <td>male</td>\n",
       "      <td>9</td>\n",
       "      <td>2007-07-25</td>\n",
       "      <td>2017-04-30</td>\n",
       "      <td>197590.0</td>\n",
       "      <td>873</td>\n",
       "      <td>Yoga Mr Sound</td>\n",
       "      <td>Neuromancer</td>\n",
       "      <td>NaN</td>\n",
       "      <td>-1.0</td>\n",
       "    </tr>\n",
       "  </tbody>\n",
       "</table>\n",
       "</div>"
      ],
      "text/plain": [
       "   id                                          msno  \\\n",
       "0   0  V8ruy7SGk7tDm3zA51DPpn6qutt+vmKMBKa21dp54uM=   \n",
       "1   1  V8ruy7SGk7tDm3zA51DPpn6qutt+vmKMBKa21dp54uM=   \n",
       "2   2  /uQAlrAkaczV+nWCd2sPF2ekvXPRipV7q0l+gbLuxjw=   \n",
       "3   3  1a6oo/iXKatxQx4eS9zTVD+KlSVaAFbTIqVvwLC1Y0k=   \n",
       "4   4  1a6oo/iXKatxQx4eS9zTVD+KlSVaAFbTIqVvwLC1Y0k=   \n",
       "\n",
       "                                        song_id source_system_tab  \\\n",
       "0  WmHKgKMlp1lQMecNdNvDMkvIycZYHnFwDT72I5sIssc=        my library   \n",
       "1  y/rsZ9DC7FwK5F2PK2D5mj+aOBUJAjuu3dZ14NgE0vM=        my library   \n",
       "2  8eZLFOdGVdXBSqoAv5nsLigeH2BvKXzTQYtUM53I0k4=          discover   \n",
       "3  ztCf8thYsS4YN3GcIL/bvoxLm/T5mYBVKOO4C9NiVfQ=             radio   \n",
       "4  MKVMpslKcQhMaFEgcEQhEfi5+RZhMYlU3eRDpySrH8Y=             radio   \n",
       "\n",
       "    source_screen_name          source_type city  bd gender registered_via  \\\n",
       "0  Local playlist more        local-library    1   0    NaN              7   \n",
       "1  Local playlist more        local-library    1   0    NaN              7   \n",
       "2                  NaN  song-based-playlist    1   0    NaN              4   \n",
       "3                Radio                radio    3  30   male              9   \n",
       "4                Radio                radio    3  30   male              9   \n",
       "\n",
       "  registration_init_time expiration_date  song_length genre_ids  \\\n",
       "0             2016-02-19      2017-09-18     224130.0       458   \n",
       "1             2016-02-19      2017-09-18     320470.0       465   \n",
       "2             2016-11-17      2016-11-24     315899.0      2022   \n",
       "3             2007-07-25      2017-04-30     285210.0       465   \n",
       "4             2007-07-25      2017-04-30     197590.0       873   \n",
       "\n",
       "          artist_name                                   composer  \\\n",
       "0  梁文音 (Rachel Liang)                             Qi Zheng Zhang   \n",
       "1        林俊傑 (JJ Lin)                                        林俊傑   \n",
       "2  Yu Takahashi (高橋優)                               Yu Takahashi   \n",
       "3                  U2  The Edge| Adam Clayton| Larry Mullen| Jr.   \n",
       "4       Yoga Mr Sound                                Neuromancer   \n",
       "\n",
       "       lyricist language  \n",
       "0           NaN      3.0  \n",
       "1       孫燕姿/易家揚      3.0  \n",
       "2  Yu Takahashi     17.0  \n",
       "3           NaN     52.0  \n",
       "4           NaN     -1.0  "
      ]
     },
     "execution_count": 5,
     "metadata": {},
     "output_type": "execute_result"
    }
   ],
   "source": [
    "df_test = df_test.merge(df_members, how='left', on='msno')\n",
    "df_test = df_test.merge(df_songs, how='left', on='song_id')\n",
    "df_test.head()"
   ]
  },
  {
   "cell_type": "code",
   "execution_count": 6,
   "metadata": {},
   "outputs": [
    {
     "data": {
      "text/plain": [
       "446"
      ]
     },
     "execution_count": 6,
     "metadata": {},
     "output_type": "execute_result"
    }
   ],
   "source": [
    "del df_members\n",
    "del df_songs\n",
    "\n",
    "gc.collect()"
   ]
  },
  {
   "cell_type": "markdown",
   "metadata": {},
   "source": [
    "### Feature Engineering"
   ]
  },
  {
   "cell_type": "code",
   "execution_count": 7,
   "metadata": {
    "collapsed": true
   },
   "outputs": [],
   "source": [
    "def genre_id_count(x):\n",
    "    if x == 'no_genre_id':\n",
    "        return 0\n",
    "    else:\n",
    "        return x.count('|') + 1"
   ]
  },
  {
   "cell_type": "code",
   "execution_count": 8,
   "metadata": {
    "collapsed": true
   },
   "outputs": [],
   "source": [
    "def lyricist_count(x):\n",
    "    if x == 'no_lyricist':\n",
    "        return 0\n",
    "    else:\n",
    "        return sum(map(x.count, ['|', '/', '\\\\', ';'])) + 1\n",
    "    return sum(map(x.count, ['|', '/', '\\\\', ';']))"
   ]
  },
  {
   "cell_type": "code",
   "execution_count": 9,
   "metadata": {
    "collapsed": true
   },
   "outputs": [],
   "source": [
    "def composer_count(x):\n",
    "    if x == 'no_composer':\n",
    "        return 0\n",
    "    else:\n",
    "        return sum(map(x.count, ['|', '/', '\\\\', ';'])) + 1"
   ]
  },
  {
   "cell_type": "code",
   "execution_count": 10,
   "metadata": {
    "collapsed": true
   },
   "outputs": [],
   "source": [
    "def is_featured(x):\n",
    "    if 'feat' in str(x) :\n",
    "        return 1\n",
    "    return 0"
   ]
  },
  {
   "cell_type": "code",
   "execution_count": 11,
   "metadata": {
    "collapsed": true
   },
   "outputs": [],
   "source": [
    "def artist_count(x):\n",
    "    if x == 'no_artist':\n",
    "        return 0\n",
    "    else:\n",
    "        return x.count('and') + x.count(',') + x.count('feat') + x.count('&')"
   ]
  },
  {
   "cell_type": "code",
   "execution_count": 12,
   "metadata": {
    "collapsed": true
   },
   "outputs": [],
   "source": [
    "_dict_count_song_played_train = {k: v for k, v in df_train['song_id'].value_counts().iteritems()}\n",
    "_dict_count_song_played_test  = {k: v for k, v in  df_test['song_id'].value_counts().iteritems()}\n",
    "def count_song_played(x):\n",
    "    try:\n",
    "        return _dict_count_song_played_train[x]\n",
    "    except KeyError:\n",
    "        try:\n",
    "            return _dict_count_song_played_test[x]\n",
    "        except KeyError:\n",
    "            return 0"
   ]
  },
  {
   "cell_type": "code",
   "execution_count": 13,
   "metadata": {
    "collapsed": true
   },
   "outputs": [],
   "source": [
    "_dict_count_artist_played_train = {k: v for k, v in df_train['artist_name'].value_counts().iteritems()}\n",
    "_dict_count_artist_played_test =  {k: v for k, v in  df_test['artist_name'].value_counts().iteritems()}\n",
    "def count_artist_played(x):\n",
    "    try:\n",
    "        return _dict_count_artist_played_train[x]\n",
    "    except KeyError:\n",
    "        try:\n",
    "            return _dict_count_artist_played_test[x]\n",
    "        except KeyError:\n",
    "            return 0"
   ]
  },
  {
   "cell_type": "code",
   "execution_count": 14,
   "metadata": {
    "collapsed": true
   },
   "outputs": [],
   "source": [
    "for df in [df_train, df_test]:\n",
    "    df['genre_ids'] = df['genre_ids'].cat.add_categories(['no_genre_id'])\n",
    "    df['genre_ids'].fillna('no_genre_id', inplace=True)\n",
    "    df['genre_ids_count'] = df['genre_ids'].apply(genre_id_count).astype(np.int8)\n",
    "    \n",
    "    df['lyricist'] = df['lyricist'].cat.add_categories(['no_lyricist'])\n",
    "    df['lyricist'].fillna('no_lyricist', inplace=True)\n",
    "    df['lyricists_count'] = df['lyricist'].apply(lyricist_count).astype(np.int8)\n",
    "    \n",
    "    df['composer'] = df['composer'].cat.add_categories(['no_composer'])\n",
    "    df['composer'].fillna('no_composer', inplace=True)\n",
    "    df['composer_count'] = df['composer'].apply(composer_count).astype(np.int8)\n",
    "    \n",
    "    df['artist_name'] = df['artist_name'].cat.add_categories(['no_artist'])\n",
    "    df['artist_name'].fillna('no_artist', inplace=True)\n",
    "    df['is_featured'] = df['artist_name'].apply(is_featured).astype('category')\n",
    "    df['artist_count'] = df['artist_name'].apply(artist_count).astype(np.int8)\n",
    "    \n",
    "    df['count_song_played'] = df['song_id'].apply(count_song_played).astype(np.int64)\n",
    "    df['count_artist_played'] = df['artist_name'].apply(count_artist_played).astype(np.int64)"
   ]
  },
  {
   "cell_type": "code",
   "execution_count": 15,
   "metadata": {
    "collapsed": true
   },
   "outputs": [],
   "source": [
    "df_train['registration_duration'] = (df_train['expiration_date'] - df_train['registration_init_time']).dt.days\n",
    "df_test['registration_duration']  = (df_test['expiration_date'] - df_test['registration_init_time']).dt.days"
   ]
  },
  {
   "cell_type": "code",
   "execution_count": 16,
   "metadata": {
    "collapsed": true
   },
   "outputs": [],
   "source": [
    "for df in [df_train, df_test]:\n",
    "    df.drop(['expiration_date', 'registration_init_time',\n",
    "             'genre_ids', 'artist_name', 'composer', 'lyricist'], axis=1, inplace=True)"
   ]
  },
  {
   "cell_type": "code",
   "execution_count": 17,
   "metadata": {},
   "outputs": [
    {
     "data": {
      "text/plain": [
       "(7377418, 20)"
      ]
     },
     "execution_count": 17,
     "metadata": {},
     "output_type": "execute_result"
    }
   ],
   "source": [
    "df_train.shape"
   ]
  },
  {
   "cell_type": "code",
   "execution_count": 18,
   "metadata": {},
   "outputs": [
    {
     "data": {
      "text/plain": [
       "(2556790, 20)"
      ]
     },
     "execution_count": 18,
     "metadata": {},
     "output_type": "execute_result"
    }
   ],
   "source": [
    "df_test.shape"
   ]
  },
  {
   "cell_type": "markdown",
   "metadata": {
    "heading_collapsed": true
   },
   "source": [
    "### Exploratory Analysis"
   ]
  },
  {
   "cell_type": "code",
   "execution_count": 17,
   "metadata": {
    "deletable": false,
    "editable": false,
    "hidden": true,
    "run_control": {
     "frozen": true
    }
   },
   "outputs": [
    {
     "data": {
      "text/plain": [
       "Index(['msno', 'song_id', 'source_system_tab', 'source_screen_name',\n",
       "       'source_type', 'target', 'city', 'bd', 'gender', 'registered_via',\n",
       "       'song_length', 'language', 'genre_ids_count', 'lyricists_count',\n",
       "       'composer_count', 'is_featured', 'artist_count',\n",
       "       'registration_duration'],\n",
       "      dtype='object')"
      ]
     },
     "execution_count": 17,
     "metadata": {},
     "output_type": "execute_result"
    }
   ],
   "source": [
    "df_train.columns"
   ]
  },
  {
   "cell_type": "code",
   "execution_count": 18,
   "metadata": {
    "deletable": false,
    "editable": false,
    "hidden": true,
    "run_control": {
     "frozen": true
    }
   },
   "outputs": [
    {
     "data": {
      "text/plain": [
       "<matplotlib.axes._subplots.AxesSubplot at 0x1b6d308edd8>"
      ]
     },
     "execution_count": 18,
     "metadata": {},
     "output_type": "execute_result"
    },
    {
     "data": {
      "image/png": "[encoded data removed]",
      "text/plain": [
       "<matplotlib.figure.Figure at 0x1b6d308e358>"
      ]
     },
     "metadata": {},
     "output_type": "display_data"
    }
   ],
   "source": [
    "plt.figure(figsize=(7, 5))\n",
    "sns.countplot(df_train['target'])"
   ]
  },
  {
   "cell_type": "markdown",
   "metadata": {
    "deletable": false,
    "editable": false,
    "hidden": true,
    "run_control": {
     "frozen": true
    }
   },
   "source": [
    "Huum, balanced. "
   ]
  },
  {
   "cell_type": "code",
   "execution_count": 19,
   "metadata": {
    "deletable": false,
    "editable": false,
    "hidden": true,
    "run_control": {
     "frozen": true
    },
    "scrolled": false
   },
   "outputs": [
    {
     "data": {
      "text/plain": [
       "<matplotlib.axes._subplots.AxesSubplot at 0x1b6c90ced30>"
      ]
     },
     "execution_count": 19,
     "metadata": {},
     "output_type": "execute_result"
    },
    {
     "data": {
      "image/png": "[encoded data removed]",
      "text/plain": [
       "<matplotlib.figure.Figure at 0x1b6bca4b390>"
      ]
     },
     "metadata": {},
     "output_type": "display_data"
    }
   ],
   "source": [
    "crosstab = pd.crosstab(df_train['language'], df_train['target'])\n",
    "crosstab.plot(kind='bar', stacked=True, grid=True, figsize=(7, 5))"
   ]
  },
  {
   "cell_type": "code",
   "execution_count": 20,
   "metadata": {
    "deletable": false,
    "editable": false,
    "hidden": true,
    "run_control": {
     "frozen": true
    }
   },
   "outputs": [
    {
     "data": {
      "text/plain": [
       "<matplotlib.axes._subplots.AxesSubplot at 0x1b6c77668d0>"
      ]
     },
     "execution_count": 20,
     "metadata": {},
     "output_type": "execute_result"
    },
    {
     "data": {
      "image/png": "[encoded data removed]",
      "text/plain": [
       "<matplotlib.figure.Figure at 0x1b6c7652898>"
      ]
     },
     "metadata": {},
     "output_type": "display_data"
    }
   ],
   "source": [
    "crosstab = pd.crosstab(df_train['city'], df_train['target'])\n",
    "crosstab.plot(kind='bar', stacked=True, grid=True, figsize=(7, 5))"
   ]
  },
  {
   "cell_type": "code",
   "execution_count": 21,
   "metadata": {
    "deletable": false,
    "editable": false,
    "hidden": true,
    "run_control": {
     "frozen": true
    }
   },
   "outputs": [
    {
     "data": {
      "text/plain": [
       "<matplotlib.axes._subplots.AxesSubplot at 0x1b6c74be9b0>"
      ]
     },
     "execution_count": 21,
     "metadata": {},
     "output_type": "execute_result"
    },
    {
     "data": {
      "image/png": "[encoded data removed]",
      "text/plain": [
       "<matplotlib.figure.Figure at 0x1b6c735e160>"
      ]
     },
     "metadata": {},
     "output_type": "display_data"
    }
   ],
   "source": [
    "crosstab = pd.crosstab(df_train['source_system_tab'], df_train['target'])\n",
    "crosstab.plot(kind='bar', stacked=True, grid=True, figsize=(7, 5))"
   ]
  },
  {
   "cell_type": "code",
   "execution_count": 22,
   "metadata": {
    "deletable": false,
    "editable": false,
    "hidden": true,
    "run_control": {
     "frozen": true
    }
   },
   "outputs": [
    {
     "data": {
      "text/plain": [
       "<matplotlib.axes._subplots.AxesSubplot at 0x1b6c5b89a58>"
      ]
     },
     "execution_count": 22,
     "metadata": {},
     "output_type": "execute_result"
    },
    {
     "data": {
      "image/png": "[encoded data removed]",
      "text/plain": [
       "<matplotlib.figure.Figure at 0x1b6c6d4ee80>"
      ]
     },
     "metadata": {},
     "output_type": "display_data"
    }
   ],
   "source": [
    "crosstab = pd.crosstab(df_train['source_type'], df_train['target'])\n",
    "crosstab.plot(kind='bar', stacked=True, grid=True, figsize=(7, 5))"
   ]
  },
  {
   "cell_type": "code",
   "execution_count": 23,
   "metadata": {
    "deletable": false,
    "editable": false,
    "hidden": true,
    "run_control": {
     "frozen": true
    }
   },
   "outputs": [
    {
     "data": {
      "text/plain": [
       "<matplotlib.axes._subplots.AxesSubplot at 0x1b6c4f9b2b0>"
      ]
     },
     "execution_count": 23,
     "metadata": {},
     "output_type": "execute_result"
    },
    {
     "data": {
      "image/png": "[encoded data removed]",
      "text/plain": [
       "<matplotlib.figure.Figure at 0x1b6c57ee5c0>"
      ]
     },
     "metadata": {},
     "output_type": "display_data"
    }
   ],
   "source": [
    "crosstab = pd.crosstab(df_train['source_screen_name'], df_train['target'])\n",
    "crosstab.plot(kind='bar', stacked=True, grid=True, figsize=(7, 5))"
   ]
  },
  {
   "cell_type": "code",
   "execution_count": 24,
   "metadata": {
    "deletable": false,
    "editable": false,
    "hidden": true,
    "run_control": {
     "frozen": true
    }
   },
   "outputs": [
    {
     "data": {
      "text/plain": [
       "<matplotlib.axes._subplots.AxesSubplot at 0x1b6c5733a20>"
      ]
     },
     "execution_count": 24,
     "metadata": {},
     "output_type": "execute_result"
    },
    {
     "data": {
      "image/png": "[encoded data removed]",
      "text/plain": [
       "<matplotlib.figure.Figure at 0x1b6c576ccc0>"
      ]
     },
     "metadata": {},
     "output_type": "display_data"
    }
   ],
   "source": [
    "crosstab = pd.crosstab(df_train['gender'], df_train['target'])\n",
    "crosstab.plot(kind='bar', stacked=True, grid=True, figsize=(7, 5))"
   ]
  },
  {
   "cell_type": "code",
   "execution_count": 29,
   "metadata": {
    "deletable": false,
    "editable": false,
    "hidden": true,
    "run_control": {
     "frozen": true
    }
   },
   "outputs": [
    {
     "data": {
      "text/plain": [
       "<matplotlib.axes._subplots.AxesSubplot at 0x187accae5f8>"
      ]
     },
     "execution_count": 29,
     "metadata": {},
     "output_type": "execute_result"
    },
    {
     "data": {
      "image/png": "[encoded data removed]",
      "text/plain": [
       "<matplotlib.figure.Figure at 0x187afd43630>"
      ]
     },
     "metadata": {},
     "output_type": "display_data"
    }
   ],
   "source": [
    "crosstab = pd.crosstab(df_train['registered_via'], df_train['target'])\n",
    "crosstab.plot(kind='bar', stacked=True, grid=True, figsize=(7, 5))"
   ]
  },
  {
   "cell_type": "code",
   "execution_count": 25,
   "metadata": {
    "deletable": false,
    "editable": false,
    "hidden": true,
    "run_control": {
     "frozen": true
    }
   },
   "outputs": [
    {
     "data": {
      "text/plain": [
       "<matplotlib.axes._subplots.AxesSubplot at 0x1b6c3c0a438>"
      ]
     },
     "execution_count": 25,
     "metadata": {},
     "output_type": "execute_result"
    },
    {
     "data": {
      "image/png": "[encoded data removed]",
      "text/plain": [
       "<matplotlib.figure.Figure at 0x1b6c55f42b0>"
      ]
     },
     "metadata": {},
     "output_type": "display_data"
    }
   ],
   "source": [
    "crosstab = pd.crosstab(df_train['genre_ids_count'], df_train['target'])\n",
    "crosstab.plot(kind='bar', stacked=True, grid=True, figsize=(7, 5))"
   ]
  },
  {
   "cell_type": "code",
   "execution_count": 26,
   "metadata": {
    "deletable": false,
    "editable": false,
    "hidden": true,
    "run_control": {
     "frozen": true
    }
   },
   "outputs": [
    {
     "data": {
      "text/plain": [
       "<matplotlib.axes._subplots.AxesSubplot at 0x1b6c576c8d0>"
      ]
     },
     "execution_count": 26,
     "metadata": {},
     "output_type": "execute_result"
    },
    {
     "data": {
      "image/png": "[encoded data removed]",
      "text/plain": [
       "<matplotlib.figure.Figure at 0x1b6bff044e0>"
      ]
     },
     "metadata": {},
     "output_type": "display_data"
    }
   ],
   "source": [
    "crosstab = pd.crosstab(df_train['lyricists_count'], df_train['target'])\n",
    "crosstab.plot(kind='bar', stacked=True, grid=True, figsize=(7, 5))"
   ]
  },
  {
   "cell_type": "code",
   "execution_count": 27,
   "metadata": {
    "deletable": false,
    "editable": false,
    "hidden": true,
    "run_control": {
     "frozen": true
    }
   },
   "outputs": [
    {
     "data": {
      "text/plain": [
       "<matplotlib.axes._subplots.AxesSubplot at 0x1b6c1a47860>"
      ]
     },
     "execution_count": 27,
     "metadata": {},
     "output_type": "execute_result"
    },
    {
     "data": {
      "image/png": "[encoded data removed]",
      "text/plain": [
       "<matplotlib.figure.Figure at 0x1b6a11e9a20>"
      ]
     },
     "metadata": {},
     "output_type": "display_data"
    }
   ],
   "source": [
    "crosstab = pd.crosstab(df_train['composer_count'], df_train['target'])\n",
    "crosstab.plot(kind='bar', stacked=True, grid=True, figsize=(7, 5))"
   ]
  },
  {
   "cell_type": "code",
   "execution_count": 28,
   "metadata": {
    "deletable": false,
    "editable": false,
    "hidden": true,
    "run_control": {
     "frozen": true
    }
   },
   "outputs": [
    {
     "data": {
      "text/plain": [
       "<matplotlib.axes._subplots.AxesSubplot at 0x1b6c341f470>"
      ]
     },
     "execution_count": 28,
     "metadata": {},
     "output_type": "execute_result"
    },
    {
     "data": {
      "image/png": "[encoded data removed]",
      "text/plain": [
       "<matplotlib.figure.Figure at 0x1b6c5931cf8>"
      ]
     },
     "metadata": {},
     "output_type": "display_data"
    }
   ],
   "source": [
    "crosstab = pd.crosstab(df_train['artist_count'], df_train['target'])\n",
    "crosstab.plot(kind='bar', stacked=True, grid=True, figsize=(7, 5))"
   ]
  },
  {
   "cell_type": "code",
   "execution_count": 29,
   "metadata": {
    "deletable": false,
    "editable": false,
    "hidden": true,
    "run_control": {
     "frozen": true
    }
   },
   "outputs": [
    {
     "data": {
      "text/plain": [
       "<matplotlib.axes._subplots.AxesSubplot at 0x1b6c310a0b8>"
      ]
     },
     "execution_count": 29,
     "metadata": {},
     "output_type": "execute_result"
    },
    {
     "data": {
      "image/png": "[encoded data removed]",
      "text/plain": [
       "<matplotlib.figure.Figure at 0x1b6c2bb2d68>"
      ]
     },
     "metadata": {},
     "output_type": "display_data"
    }
   ],
   "source": [
    "crosstab = pd.crosstab(df_train['is_featured'], df_train['target'])\n",
    "crosstab.plot(kind='bar', stacked=True, grid=True, figsize=(7, 5))"
   ]
  },
  {
   "cell_type": "code",
   "execution_count": 32,
   "metadata": {
    "deletable": false,
    "editable": false,
    "hidden": true,
    "run_control": {
     "frozen": true
    }
   },
   "outputs": [
    {
     "data": {
      "text/plain": [
       "<matplotlib.axes._subplots.AxesSubplot at 0x1b6c303bda0>"
      ]
     },
     "execution_count": 32,
     "metadata": {},
     "output_type": "execute_result"
    },
    {
     "data": {
      "image/png": "[encoded data removed]",
      "text/plain": [
       "<matplotlib.figure.Figure at 0x1b6c2005780>"
      ]
     },
     "metadata": {},
     "output_type": "display_data"
    }
   ],
   "source": [
    "plt.figure(figsize=(15, 5))\n",
    "sns.distplot(df_train[df_train['target'] == 0]['registration_duration'].fillna(0).astype(int), hist=False, label='target = 0')\n",
    "sns.distplot(df_train[df_train['target'] == 1]['registration_duration'].fillna(0).astype(int), hist=False, label='target = 1')"
   ]
  },
  {
   "cell_type": "code",
   "execution_count": 33,
   "metadata": {
    "deletable": false,
    "editable": false,
    "hidden": true,
    "run_control": {
     "frozen": true
    },
    "scrolled": false
   },
   "outputs": [
    {
     "data": {
      "text/plain": [
       "<matplotlib.axes._subplots.AxesSubplot at 0x1b6c050c3c8>"
      ]
     },
     "execution_count": 33,
     "metadata": {},
     "output_type": "execute_result"
    },
    {
     "data": {
      "image/png": "[encoded data removed]",
      "text/plain": [
       "<matplotlib.figure.Figure at 0x1b6c152f320>"
      ]
     },
     "metadata": {},
     "output_type": "display_data"
    }
   ],
   "source": [
    "plt.figure(figsize=(15, 5))\n",
    "sns.distplot(df_train[df_train['target'] == 0]['song_length'].fillna(0).astype(int), hist=False, label='target = 0')\n",
    "sns.distplot(df_train[df_train['target'] == 1]['song_length'].fillna(0).astype(int), hist=False, label='target = 1')"
   ]
  },
  {
   "cell_type": "markdown",
   "metadata": {},
   "source": [
    "### Data Preparation"
   ]
  },
  {
   "cell_type": "markdown",
   "metadata": {},
   "source": [
    "#### Types"
   ]
  },
  {
   "cell_type": "code",
   "execution_count": 19,
   "metadata": {
    "collapsed": true
   },
   "outputs": [],
   "source": [
    "df_ids = df_test['id']\n",
    "df_test.drop(['id'], axis=1, inplace=True)"
   ]
  },
  {
   "cell_type": "code",
   "execution_count": 20,
   "metadata": {},
   "outputs": [
    {
     "data": {
      "text/plain": [
       "Index(['msno', 'song_id', 'source_system_tab', 'source_screen_name',\n",
       "       'source_type', 'target', 'city', 'bd', 'gender', 'registered_via',\n",
       "       'song_length', 'language', 'genre_ids_count', 'lyricists_count',\n",
       "       'composer_count', 'is_featured', 'artist_count', 'count_song_played',\n",
       "       'count_artist_played', 'registration_duration'],\n",
       "      dtype='object')"
      ]
     },
     "execution_count": 20,
     "metadata": {},
     "output_type": "execute_result"
    }
   ],
   "source": [
    "df_train.columns"
   ]
  },
  {
   "cell_type": "code",
   "execution_count": 21,
   "metadata": {},
   "outputs": [
    {
     "data": {
      "text/plain": [
       "Index(['msno', 'song_id', 'source_system_tab', 'source_screen_name',\n",
       "       'source_type', 'city', 'bd', 'gender', 'registered_via', 'song_length',\n",
       "       'language', 'genre_ids_count', 'lyricists_count', 'composer_count',\n",
       "       'is_featured', 'artist_count', 'count_song_played',\n",
       "       'count_artist_played', 'registration_duration'],\n",
       "      dtype='object')"
      ]
     },
     "execution_count": 21,
     "metadata": {},
     "output_type": "execute_result"
    }
   ],
   "source": [
    "df_test.columns"
   ]
  },
  {
   "cell_type": "code",
   "execution_count": 22,
   "metadata": {},
   "outputs": [
    {
     "name": "stdout",
     "output_type": "stream",
     "text": [
      "<class 'pandas.core.frame.DataFrame'>\n",
      "Int64Index: 7377418 entries, 0 to 7377417\n",
      "Data columns (total 20 columns):\n",
      "msno                     object\n",
      "song_id                  object\n",
      "source_system_tab        category\n",
      "source_screen_name       category\n",
      "source_type              category\n",
      "target                   uint8\n",
      "city                     category\n",
      "bd                       uint8\n",
      "gender                   category\n",
      "registered_via           category\n",
      "song_length              float64\n",
      "language                 category\n",
      "genre_ids_count          int8\n",
      "lyricists_count          int8\n",
      "composer_count           int8\n",
      "is_featured              category\n",
      "artist_count             int8\n",
      "count_song_played        int64\n",
      "count_artist_played      int64\n",
      "registration_duration    int64\n",
      "dtypes: category(8), float64(1), int64(3), int8(4), object(2), uint8(2)\n",
      "memory usage: 812.5+ MB\n"
     ]
    }
   ],
   "source": [
    "df_train.info()"
   ]
  },
  {
   "cell_type": "code",
   "execution_count": 23,
   "metadata": {
    "collapsed": true
   },
   "outputs": [],
   "source": [
    "for df in [df_train, df_test]:\n",
    "    df['song_id'] = df['song_id'].astype('category')\n",
    "    df['msno'] = df['msno'].astype('category')"
   ]
  },
  {
   "cell_type": "markdown",
   "metadata": {},
   "source": [
    "#### Missing Values"
   ]
  },
  {
   "cell_type": "code",
   "execution_count": 39,
   "metadata": {
    "deletable": false,
    "editable": false,
    "run_control": {
     "frozen": true
    },
    "scrolled": false
   },
   "outputs": [
    {
     "data": {
      "image/png": "[encoded data removed]",
      "text/plain": [
       "<matplotlib.figure.Figure at 0x1b6c1edb320>"
      ]
     },
     "metadata": {},
     "output_type": "display_data"
    }
   ],
   "source": [
    "import missingno as msno\n",
    "\n",
    "missing_columns = df_train.columns[df_train.isnull().any()].tolist()\n",
    "msno.matrix(df_train[missing_columns], figsize=(15, 7))"
   ]
  },
  {
   "cell_type": "code",
   "execution_count": 24,
   "metadata": {},
   "outputs": [
    {
     "data": {
      "text/plain": [
       "['msno',\n",
       " 'song_id',\n",
       " 'source_system_tab',\n",
       " 'source_screen_name',\n",
       " 'source_type',\n",
       " 'city',\n",
       " 'gender',\n",
       " 'registered_via',\n",
       " 'language',\n",
       " 'is_featured']"
      ]
     },
     "execution_count": 24,
     "metadata": {},
     "output_type": "execute_result"
    }
   ],
   "source": [
    "categorical =  df_train.select_dtypes(['category']).columns\n",
    "list(categorical)"
   ]
  },
  {
   "cell_type": "code",
   "execution_count": 25,
   "metadata": {
    "collapsed": true
   },
   "outputs": [],
   "source": [
    "for df in [df_train, df_test]:\n",
    "    for col in categorical:\n",
    "        df[col] = df[col].cat.add_categories(['NaN']).fillna('NaN')"
   ]
  },
  {
   "cell_type": "code",
   "execution_count": 26,
   "metadata": {
    "collapsed": true
   },
   "outputs": [],
   "source": [
    "for df in [df_train, df_test]:\n",
    "    df['song_length'] = df['song_length'].fillna(df['song_length'].mean())"
   ]
  },
  {
   "cell_type": "markdown",
   "metadata": {},
   "source": [
    "#### Categorical Features"
   ]
  },
  {
   "cell_type": "code",
   "execution_count": 27,
   "metadata": {
    "collapsed": true
   },
   "outputs": [],
   "source": [
    "from sklearn.preprocessing import LabelEncoder"
   ]
  },
  {
   "cell_type": "code",
   "execution_count": 28,
   "metadata": {
    "collapsed": true
   },
   "outputs": [],
   "source": [
    "df_both = pd.concat([df_train, df_test])"
   ]
  },
  {
   "cell_type": "code",
   "execution_count": 29,
   "metadata": {},
   "outputs": [
    {
     "name": "stdout",
     "output_type": "stream",
     "text": [
      "msno\n",
      "['++5wYjoMgQHoRuD3GbbvmphZbBBwymzv5Q4l8sywtuU='\n",
      " '++AH7m/EQ4iKe6wSlfO/xXAJx50p+fCeTyF90GoE9Pg='\n",
      " '++TMf3Z81LFn6nXHm753GvkF2DhAgQwRV5zn0yQsX40=' ...,\n",
      " 'zzompfSaMamqvjyCMYvgUBwYrxh8fHE40z3f73CQoak='\n",
      " 'zzqc2ja7z10FtSpagYVcAZXg/gPRq7wcDZuNFj+zJSU='\n",
      " 'zzzRi5ek1YCKTGns8C77xwAutE05PAPmz8T/pIIQhzE=']\n",
      "[    0     1     2 ..., 34400 34401 34402]\n",
      "song_id\n",
      "['+++2AEoM0d8iZTdbnAjUm35bnGKGMXdZJSv4rrWK6JQ='\n",
      " '++/ACCkEN/+VtgrJxEqeRgRmV4y8pcarDJ9T/yRAi1E='\n",
      " '++/lJNswCU+za2pYB0cWIbGL5UzWIKtfweX20+GImZA=' ...,\n",
      " 'zzxGtSW9L/V3sRNKZbkOgziHtftZ9/oNvETOTY/QHr8='\n",
      " 'zzz959t0MJ0RUBxk+ihNjK/w8NQiiXnEhwGLuSapgqw='\n",
      " 'zzzkIR9d2ggpCr5ofvGZu0JFdjScoIxMgcV3dR4yKh0=']\n",
      "[     0      1      2 ..., 419836 419837 419838]\n",
      "source_system_tab\n",
      "['NaN' 'discover' 'explore' 'listen with' 'my library' 'notification'\n",
      " 'null' 'radio' 'search' 'settings']\n",
      "[0 1 2 3 4 5 6 7 8 9]\n",
      "source_screen_name\n",
      "['Album more' 'Artist more' 'Concert' 'Discover Chart' 'Discover Feature'\n",
      " 'Discover Genre' 'Discover New' 'Explore' 'Local playlist more'\n",
      " 'My library' 'My library_Search' 'NaN' 'Online playlist more'\n",
      " 'Others profile more' 'Payment' 'People global' 'People local' 'Radio'\n",
      " 'Search' 'Search Home' 'Search Trends' 'Self profile more' 'Unknown']\n",
      "[ 0  1  2  3  4  5  6  7  8  9 10 11 12 13 14 15 16 17 18 19 20 21 22]\n",
      "source_type\n",
      "['NaN' 'album' 'artist' 'listen-with' 'local-library' 'local-playlist'\n",
      " 'my-daily-playlist' 'online-playlist' 'radio' 'song' 'song-based-playlist'\n",
      " 'top-hits-for-artist' 'topic-article-playlist']\n",
      "[ 0  1  2  3  4  5  6  7  8  9 10 11 12]\n",
      "city\n",
      "['1' '10' '11' '12' '13' '14' '15' '16' '17' '18' '19' '20' '21' '22' '3'\n",
      " '4' '5' '6' '7' '8' '9']\n",
      "[ 0  1  2  3  4  5  6  7  8  9 10 11 12 13 14 15 16 17 18 19 20]\n",
      "gender\n",
      "['NaN' 'female' 'male']\n",
      "[0 1 2]\n",
      "registered_via\n",
      "['13' '16' '3' '4' '7' '9']\n",
      "[0 1 2 3 4 5]\n",
      "language\n",
      "['-1.0' '10.0' '17.0' '24.0' '3.0' '31.0' '38.0' '45.0' '52.0' '59.0' 'NaN']\n",
      "[ 0  1  2  3  4  5  6  7  8  9 10]\n",
      "is_featured\n",
      "[0 1]\n",
      "[0 1]\n"
     ]
    }
   ],
   "source": [
    "le = LabelEncoder()\n",
    "\n",
    "for cat in categorical:\n",
    "    print(cat)\n",
    "    le = le.fit(df_both[cat])\n",
    "    for df in [df_train, df_test]:\n",
    "        df[cat] = le.transform(df[cat])\n",
    "    print(le.classes_)\n",
    "    print(le.transform(le.classes_))"
   ]
  },
  {
   "cell_type": "code",
   "execution_count": 30,
   "metadata": {},
   "outputs": [
    {
     "data": {
      "text/html": [
       "<div>\n",
       "<style>\n",
       "    .dataframe thead tr:only-child th {\n",
       "        text-align: right;\n",
       "    }\n",
       "\n",
       "    .dataframe thead th {\n",
       "        text-align: left;\n",
       "    }\n",
       "\n",
       "    .dataframe tbody tr th {\n",
       "        vertical-align: top;\n",
       "    }\n",
       "</style>\n",
       "<table border=\"1\" class=\"dataframe\">\n",
       "  <thead>\n",
       "    <tr style=\"text-align: right;\">\n",
       "      <th></th>\n",
       "      <th>msno</th>\n",
       "      <th>song_id</th>\n",
       "      <th>source_system_tab</th>\n",
       "      <th>source_screen_name</th>\n",
       "      <th>source_type</th>\n",
       "      <th>target</th>\n",
       "      <th>city</th>\n",
       "      <th>bd</th>\n",
       "      <th>gender</th>\n",
       "      <th>registered_via</th>\n",
       "      <th>song_length</th>\n",
       "      <th>language</th>\n",
       "      <th>genre_ids_count</th>\n",
       "      <th>lyricists_count</th>\n",
       "      <th>composer_count</th>\n",
       "      <th>is_featured</th>\n",
       "      <th>artist_count</th>\n",
       "      <th>count_song_played</th>\n",
       "      <th>count_artist_played</th>\n",
       "      <th>registration_duration</th>\n",
       "    </tr>\n",
       "  </thead>\n",
       "  <tbody>\n",
       "    <tr>\n",
       "      <th>0</th>\n",
       "      <td>9176</td>\n",
       "      <td>86884</td>\n",
       "      <td>2</td>\n",
       "      <td>7</td>\n",
       "      <td>7</td>\n",
       "      <td>1</td>\n",
       "      <td>0</td>\n",
       "      <td>0</td>\n",
       "      <td>0</td>\n",
       "      <td>4</td>\n",
       "      <td>206471.0</td>\n",
       "      <td>8</td>\n",
       "      <td>1</td>\n",
       "      <td>0</td>\n",
       "      <td>2</td>\n",
       "      <td>0</td>\n",
       "      <td>0</td>\n",
       "      <td>215</td>\n",
       "      <td>1140</td>\n",
       "      <td>2103</td>\n",
       "    </tr>\n",
       "    <tr>\n",
       "      <th>1</th>\n",
       "      <td>19273</td>\n",
       "      <td>260594</td>\n",
       "      <td>4</td>\n",
       "      <td>8</td>\n",
       "      <td>5</td>\n",
       "      <td>1</td>\n",
       "      <td>4</td>\n",
       "      <td>24</td>\n",
       "      <td>1</td>\n",
       "      <td>5</td>\n",
       "      <td>284584.0</td>\n",
       "      <td>8</td>\n",
       "      <td>1</td>\n",
       "      <td>0</td>\n",
       "      <td>0</td>\n",
       "      <td>0</td>\n",
       "      <td>0</td>\n",
       "      <td>1</td>\n",
       "      <td>303616</td>\n",
       "      <td>2301</td>\n",
       "    </tr>\n",
       "    <tr>\n",
       "      <th>2</th>\n",
       "      <td>19273</td>\n",
       "      <td>140755</td>\n",
       "      <td>4</td>\n",
       "      <td>8</td>\n",
       "      <td>5</td>\n",
       "      <td>1</td>\n",
       "      <td>4</td>\n",
       "      <td>24</td>\n",
       "      <td>1</td>\n",
       "      <td>5</td>\n",
       "      <td>225396.0</td>\n",
       "      <td>8</td>\n",
       "      <td>1</td>\n",
       "      <td>0</td>\n",
       "      <td>1</td>\n",
       "      <td>0</td>\n",
       "      <td>0</td>\n",
       "      <td>4</td>\n",
       "      <td>289</td>\n",
       "      <td>2301</td>\n",
       "    </tr>\n",
       "    <tr>\n",
       "      <th>3</th>\n",
       "      <td>19273</td>\n",
       "      <td>27577</td>\n",
       "      <td>4</td>\n",
       "      <td>8</td>\n",
       "      <td>5</td>\n",
       "      <td>1</td>\n",
       "      <td>4</td>\n",
       "      <td>24</td>\n",
       "      <td>1</td>\n",
       "      <td>5</td>\n",
       "      <td>255512.0</td>\n",
       "      <td>0</td>\n",
       "      <td>1</td>\n",
       "      <td>0</td>\n",
       "      <td>1</td>\n",
       "      <td>0</td>\n",
       "      <td>0</td>\n",
       "      <td>1</td>\n",
       "      <td>1</td>\n",
       "      <td>2301</td>\n",
       "    </tr>\n",
       "    <tr>\n",
       "      <th>4</th>\n",
       "      <td>9176</td>\n",
       "      <td>38706</td>\n",
       "      <td>2</td>\n",
       "      <td>7</td>\n",
       "      <td>7</td>\n",
       "      <td>1</td>\n",
       "      <td>0</td>\n",
       "      <td>0</td>\n",
       "      <td>0</td>\n",
       "      <td>4</td>\n",
       "      <td>187802.0</td>\n",
       "      <td>8</td>\n",
       "      <td>1</td>\n",
       "      <td>0</td>\n",
       "      <td>3</td>\n",
       "      <td>0</td>\n",
       "      <td>0</td>\n",
       "      <td>412</td>\n",
       "      <td>427</td>\n",
       "      <td>2103</td>\n",
       "    </tr>\n",
       "  </tbody>\n",
       "</table>\n",
       "</div>"
      ],
      "text/plain": [
       "    msno  song_id  source_system_tab  source_screen_name  source_type  target  \\\n",
       "0   9176    86884                  2                   7            7       1   \n",
       "1  19273   260594                  4                   8            5       1   \n",
       "2  19273   140755                  4                   8            5       1   \n",
       "3  19273    27577                  4                   8            5       1   \n",
       "4   9176    38706                  2                   7            7       1   \n",
       "\n",
       "   city  bd  gender  registered_via  song_length  language  genre_ids_count  \\\n",
       "0     0   0       0               4     206471.0         8                1   \n",
       "1     4  24       1               5     284584.0         8                1   \n",
       "2     4  24       1               5     225396.0         8                1   \n",
       "3     4  24       1               5     255512.0         0                1   \n",
       "4     0   0       0               4     187802.0         8                1   \n",
       "\n",
       "   lyricists_count  composer_count  is_featured  artist_count  \\\n",
       "0                0               2            0             0   \n",
       "1                0               0            0             0   \n",
       "2                0               1            0             0   \n",
       "3                0               1            0             0   \n",
       "4                0               3            0             0   \n",
       "\n",
       "   count_song_played  count_artist_played  registration_duration  \n",
       "0                215                 1140                   2103  \n",
       "1                  1               303616                   2301  \n",
       "2                  4                  289                   2301  \n",
       "3                  1                    1                   2301  \n",
       "4                412                  427                   2103  "
      ]
     },
     "execution_count": 30,
     "metadata": {},
     "output_type": "execute_result"
    }
   ],
   "source": [
    "df_train.head()"
   ]
  },
  {
   "cell_type": "code",
   "execution_count": 34,
   "metadata": {
    "deletable": false,
    "editable": false,
    "run_control": {
     "frozen": true
    }
   },
   "outputs": [
    {
     "data": {
      "text/plain": [
       "<matplotlib.text.Text at 0x16e13e74160>"
      ]
     },
     "execution_count": 34,
     "metadata": {},
     "output_type": "execute_result"
    },
    {
     "data": {
      "image/png": "[encoded data removed]",
      "text/plain": [
       "<matplotlib.figure.Figure at 0x16e0786acf8>"
      ]
     },
     "metadata": {},
     "output_type": "display_data"
    }
   ],
   "source": [
    "corr = df_train.corr('spearman')\n",
    "cmap = sns.diverging_palette(220, 10, as_cmap=True)\n",
    "mask = np.zeros_like(corr, dtype=np.bool)\n",
    "mask[np.triu_indices_from(mask)] = True\n",
    "\n",
    "plt.figure(figsize=(12, 12))\n",
    "sns.heatmap(corr, mask=mask, cmap=cmap, vmax=.3, center=0, square=True, linewidths=.5, \n",
    "            cbar_kws={\"shrink\": .7}, annot=True, annot_kws={\"size\": 10}, fmt='.1f')\n",
    "plt.title('Correlation between Features')"
   ]
  },
  {
   "cell_type": "code",
   "execution_count": 31,
   "metadata": {
    "collapsed": true
   },
   "outputs": [],
   "source": [
    "for cat in categorical:\n",
    "    for df in [df_train, df_test]:\n",
    "        df[cat] = df[cat].astype('category')"
   ]
  },
  {
   "cell_type": "code",
   "execution_count": 32,
   "metadata": {},
   "outputs": [
    {
     "name": "stdout",
     "output_type": "stream",
     "text": [
      "<class 'pandas.core.frame.DataFrame'>\n",
      "Int64Index: 7377418 entries, 0 to 7377417\n",
      "Data columns (total 20 columns):\n",
      "msno                     category\n",
      "song_id                  category\n",
      "source_system_tab        category\n",
      "source_screen_name       category\n",
      "source_type              category\n",
      "target                   uint8\n",
      "city                     category\n",
      "bd                       uint8\n",
      "gender                   category\n",
      "registered_via           category\n",
      "song_length              float64\n",
      "language                 category\n",
      "genre_ids_count          int8\n",
      "lyricists_count          int8\n",
      "composer_count           int8\n",
      "is_featured              category\n",
      "artist_count             int8\n",
      "count_song_played        int64\n",
      "count_artist_played      int64\n",
      "registration_duration    int64\n",
      "dtypes: category(10), float64(1), int64(3), int8(4), uint8(2)\n",
      "memory usage: 756.4 MB\n"
     ]
    }
   ],
   "source": [
    "df_train.info()"
   ]
  },
  {
   "cell_type": "markdown",
   "metadata": {},
   "source": [
    "### Train, Test & Sample"
   ]
  },
  {
   "cell_type": "code",
   "execution_count": 33,
   "metadata": {
    "collapsed": true
   },
   "outputs": [],
   "source": [
    "from sklearn.model_selection import train_test_split"
   ]
  },
  {
   "cell_type": "code",
   "execution_count": 34,
   "metadata": {
    "collapsed": true
   },
   "outputs": [],
   "source": [
    "X_train = df_train.drop(['target'], axis=1).copy()\n",
    "y_train = df_train['target'].copy()\n",
    "X_valid = df_test.copy()"
   ]
  },
  {
   "cell_type": "code",
   "execution_count": 35,
   "metadata": {
    "collapsed": true
   },
   "outputs": [],
   "source": [
    "X_train, X_test, y_train, y_test = train_test_split(X_train.copy(), y_train.copy(), test_size=0.2, random_state=0)"
   ]
  },
  {
   "cell_type": "code",
   "execution_count": 36,
   "metadata": {},
   "outputs": [
    {
     "data": {
      "text/plain": [
       "(5901934, 19)"
      ]
     },
     "execution_count": 36,
     "metadata": {},
     "output_type": "execute_result"
    }
   ],
   "source": [
    "X_train.shape"
   ]
  },
  {
   "cell_type": "code",
   "execution_count": 37,
   "metadata": {
    "collapsed": true
   },
   "outputs": [],
   "source": [
    "del df_train\n",
    "del df_test\n",
    "del df_both"
   ]
  },
  {
   "cell_type": "code",
   "execution_count": 38,
   "metadata": {},
   "outputs": [
    {
     "data": {
      "text/plain": [
       "390"
      ]
     },
     "execution_count": 38,
     "metadata": {},
     "output_type": "execute_result"
    }
   ],
   "source": [
    "gc.collect()"
   ]
  },
  {
   "cell_type": "markdown",
   "metadata": {},
   "source": [
    "### Modeling"
   ]
  },
  {
   "cell_type": "code",
   "execution_count": 39,
   "metadata": {
    "collapsed": true
   },
   "outputs": [],
   "source": [
    "from sklearn.externals import joblib\n",
    "from sklearn.model_selection import cross_val_score"
   ]
  },
  {
   "cell_type": "code",
   "execution_count": 40,
   "metadata": {
    "collapsed": true
   },
   "outputs": [],
   "source": [
    "from sklearn.model_selection import GridSearchCV, RandomizedSearchCV"
   ]
  },
  {
   "cell_type": "code",
   "execution_count": 41,
   "metadata": {
    "collapsed": true
   },
   "outputs": [],
   "source": [
    "from sklearn.metrics import roc_auc_score\n",
    "\n",
    "def chosing_lift(clf, X_test, y_test):\n",
    "    for l in np.linspace(0.1, 0.9, 9):     \n",
    "        y_pred = clf.predict_proba(X_test)[:, 1]\n",
    "        y_pred = np.where(y_pred >= l, 1, 0)\n",
    "        roc_auc = roc_auc_score(y_test, y_pred)\n",
    "        print(roc_auc)"
   ]
  },
  {
   "cell_type": "code",
   "execution_count": 42,
   "metadata": {
    "collapsed": true
   },
   "outputs": [],
   "source": [
    "def plot_importances(clf, features, top=None):\n",
    "    importances = clf.feature_importances_[:top]\n",
    "    indices = np.argsort(importances)[::-1]\n",
    "    \n",
    "    plt.figure(figsize=(15, 5))\n",
    "    plt.title(\"Feature importance\")\n",
    "    plt.bar(range(len(importances)), importances[indices], align='center')\n",
    "    plt.xticks(range(len(importances)), features[indices], rotation=90)\n",
    "    plt.xlim([-1, len(importances)])\n",
    "    plt.show()"
   ]
  },
  {
   "cell_type": "markdown",
   "metadata": {
    "heading_collapsed": true
   },
   "source": [
    "#### LightGBM"
   ]
  },
  {
   "cell_type": "code",
   "execution_count": 47,
   "metadata": {
    "deletable": false,
    "editable": false,
    "hidden": true,
    "run_control": {
     "frozen": true
    }
   },
   "outputs": [
    {
     "data": {
      "text/plain": [
       "['msno',\n",
       " 'song_id',\n",
       " 'source_system_tab',\n",
       " 'source_screen_name',\n",
       " 'source_type',\n",
       " 'city',\n",
       " 'gender',\n",
       " 'registered_via',\n",
       " 'language',\n",
       " 'is_featured']"
      ]
     },
     "execution_count": 47,
     "metadata": {},
     "output_type": "execute_result"
    }
   ],
   "source": [
    "list(categorical)"
   ]
  },
  {
   "cell_type": "code",
   "execution_count": 48,
   "metadata": {
    "collapsed": true,
    "deletable": false,
    "editable": false,
    "hidden": true,
    "run_control": {
     "frozen": true
    }
   },
   "outputs": [],
   "source": [
    "idx = np.random.choice(np.arange(len(y_train)), round(len(y_train)*0.02), replace=False)\n",
    "X_sample = X_train.iloc[idx].copy()\n",
    "y_sample = y_train.iloc[idx].copy()"
   ]
  },
  {
   "cell_type": "code",
   "execution_count": 49,
   "metadata": {
    "deletable": false,
    "editable": false,
    "hidden": true,
    "run_control": {
     "frozen": true
    },
    "scrolled": true
   },
   "outputs": [
    {
     "data": {
      "text/plain": [
       "(118039, 19)"
      ]
     },
     "execution_count": 49,
     "metadata": {},
     "output_type": "execute_result"
    }
   ],
   "source": [
    "X_sample.shape"
   ]
  },
  {
   "cell_type": "code",
   "execution_count": 50,
   "metadata": {
    "collapsed": true,
    "deletable": false,
    "editable": false,
    "hidden": true,
    "run_control": {
     "frozen": true
    }
   },
   "outputs": [],
   "source": [
    "import lightgbm as lgb"
   ]
  },
  {
   "cell_type": "code",
   "execution_count": 51,
   "metadata": {
    "deletable": false,
    "editable": false,
    "hidden": true,
    "run_control": {
     "frozen": true
    }
   },
   "outputs": [
    {
     "name": "stdout",
     "output_type": "stream",
     "text": [
      "Fitting 3 folds for each of 1200 candidates, totalling 3600 fits\n"
     ]
    },
    {
     "name": "stderr",
     "output_type": "stream",
     "text": [
      "[Parallel(n_jobs=-1)]: Done  34 tasks      | elapsed:   47.9s\n",
      "[Parallel(n_jobs=-1)]: Done 184 tasks      | elapsed:  3.5min\n",
      "[Parallel(n_jobs=-1)]: Done 434 tasks      | elapsed:  8.6min\n",
      "[Parallel(n_jobs=-1)]: Done 784 tasks      | elapsed: 15.9min\n",
      "[Parallel(n_jobs=-1)]: Done 1234 tasks      | elapsed: 25.2min\n",
      "[Parallel(n_jobs=-1)]: Done 1784 tasks      | elapsed: 36.9min\n",
      "[Parallel(n_jobs=-1)]: Done 2434 tasks      | elapsed: 51.0min\n",
      "[Parallel(n_jobs=-1)]: Done 3184 tasks      | elapsed: 66.5min\n",
      "[Parallel(n_jobs=-1)]: Done 3600 out of 3600 | elapsed: 75.7min finished\n"
     ]
    },
    {
     "name": "stdout",
     "output_type": "stream",
     "text": [
      "{'num_leaves': 60, 'min_data_in_leaf': 5, 'min_data_in_bin': 3, 'max_depth': 7, 'max_bin': 50, 'learning_rate': 0.03, 'feature_fraction': 0.7, 'bagging_freq': 3, 'bagging_fraction': 1.0}\n",
      "0.695673456952\n"
     ]
    }
   ],
   "source": [
    "clf_lgbm = lgb.LGBMClassifier(random_state=0)\n",
    "model_params = {\n",
    "    'learning_rate':        [0.03, 0.05, 0.08],\n",
    "    'num_leaves':           [60, 70, 80],\n",
    "    'min_data_in_leaf':     [5, 7, 10],\n",
    "    'max_depth':            [-1, 5, 7, 10],\n",
    "    'bagging_fraction':     [0.7, 0.9, 1.0],\n",
    "    'bagging_freq':         [1, 3, 5],\n",
    "    'min_data_in_bin':      [2, 3, 5],\n",
    "    'feature_fraction':     [0.3, 0.5, 0.7],\n",
    "    'max_bin':              [40, 50, 60, 70]\n",
    "}\n",
    "\n",
    "grid = RandomizedSearchCV(clf_lgbm, model_params, cv=3, verbose=1, scoring='roc_auc', n_jobs=-1, n_iter=1200)\n",
    "grid.fit(X_sample, y_sample)\n",
    "\n",
    "print (grid.best_params_)\n",
    "print (grid.best_score_)"
   ]
  },
  {
   "cell_type": "code",
   "execution_count": 52,
   "metadata": {
    "collapsed": true,
    "deletable": false,
    "editable": false,
    "hidden": true,
    "run_control": {
     "frozen": true
    }
   },
   "outputs": [],
   "source": [
    "clf_lgbm = grid.best_estimator_.fit(X_train, y_train)"
   ]
  },
  {
   "cell_type": "code",
   "execution_count": 53,
   "metadata": {
    "deletable": false,
    "editable": false,
    "hidden": true,
    "run_control": {
     "frozen": true
    },
    "scrolled": true
   },
   "outputs": [
    {
     "name": "stdout",
     "output_type": "stream",
     "text": [
      "ROC AUC: 0.72 (+/- 0.00)\n"
     ]
    }
   ],
   "source": [
    "scores = cross_val_score(clf_lgbm, X_test, y_test, cv=3, n_jobs=-1, scoring='roc_auc')\n",
    "print(\"ROC AUC: %0.2f (+/- %0.2f)\" % (scores.mean(), scores.std() * 2))"
   ]
  },
  {
   "cell_type": "code",
   "execution_count": 54,
   "metadata": {
    "deletable": false,
    "editable": false,
    "hidden": true,
    "run_control": {
     "frozen": true
    }
   },
   "outputs": [
    {
     "data": {
      "image/png": "[encoded data removed]",
      "text/plain": [
       "<matplotlib.figure.Figure at 0x16e49da0978>"
      ]
     },
     "metadata": {},
     "output_type": "display_data"
    }
   ],
   "source": [
    "plot_importances(clf_lgbm, X_sample.columns)"
   ]
  },
  {
   "cell_type": "code",
   "execution_count": 55,
   "metadata": {
    "collapsed": true,
    "deletable": false,
    "editable": false,
    "hidden": true,
    "run_control": {
     "frozen": true
    }
   },
   "outputs": [],
   "source": [
    "y_pred = clf_lgbm.predict_proba(X_valid)"
   ]
  },
  {
   "cell_type": "code",
   "execution_count": 56,
   "metadata": {
    "collapsed": true,
    "deletable": false,
    "editable": false,
    "hidden": true,
    "run_control": {
     "frozen": true
    }
   },
   "outputs": [],
   "source": [
    "submission = pd.DataFrame.from_items([('id', df_ids), ('target', y_pred[:, 1])])\n",
    "submission.to_csv('clf_lgbm_RecOutput.csv', index=False)"
   ]
  },
  {
   "cell_type": "code",
   "execution_count": 57,
   "metadata": {
    "deletable": false,
    "editable": false,
    "hidden": true,
    "run_control": {
     "frozen": true
    }
   },
   "outputs": [
    {
     "data": {
      "text/plain": [
       "['../clf_lgbm_Rec.pkl']"
      ]
     },
     "execution_count": 57,
     "metadata": {},
     "output_type": "execute_result"
    }
   ],
   "source": [
    "joblib.dump(clf_lgbm, '../clf_lgbm_Rec.pkl') "
   ]
  },
  {
   "cell_type": "markdown",
   "metadata": {},
   "source": [
    "#### Deep Learning"
   ]
  },
  {
   "cell_type": "code",
   "execution_count": 43,
   "metadata": {},
   "outputs": [
    {
     "name": "stderr",
     "output_type": "stream",
     "text": [
      "Using TensorFlow backend.\n"
     ]
    }
   ],
   "source": [
    "from keras.models import Sequential\n",
    "from keras.layers import Input, Dense, Dropout, Flatten, Activation, Embedding, concatenate\n",
    "from keras.layers.normalization import BatchNormalization\n",
    "from keras.models import Model\n",
    "from keras import optimizers\n",
    "from keras.callbacks import Callback, EarlyStopping\n",
    "import keras.backend as K"
   ]
  },
  {
   "cell_type": "code",
   "execution_count": 44,
   "metadata": {
    "collapsed": true
   },
   "outputs": [],
   "source": [
    "import tensorflow as tf\n",
    "\n",
    "def tf_roc_auc(y_true, y_pred):\n",
    "    score, up_opt = tf.metrics.auc(y_true, y_pred)\n",
    "    K.get_session().run(tf.local_variables_initializer())\n",
    "    with tf.control_dependencies([up_opt]):\n",
    "        score = tf.identity(score)\n",
    "    return score"
   ]
  },
  {
   "cell_type": "code",
   "execution_count": 45,
   "metadata": {
    "collapsed": true
   },
   "outputs": [],
   "source": [
    "from IPython.display import clear_output\n",
    "\n",
    "class PlotLosses(Callback):\n",
    "    def on_train_begin(self, logs={}):\n",
    "        self.i = 0\n",
    "        self.x = []\n",
    "        self.losses = []\n",
    "        self.val_losses = []\n",
    "        self.tf_roc_acu = []\n",
    "        self.val_tf_roc_auc = []\n",
    "        \n",
    "        self.fig = plt.figure()\n",
    "        \n",
    "        self.logs = []\n",
    "\n",
    "    def on_epoch_end(self, epoch, logs={}):\n",
    "        \n",
    "        self.logs.append(logs)\n",
    "        self.x.append(self.i)\n",
    "        self.losses.append(logs.get('loss'))\n",
    "        self.val_losses.append(logs.get('val_loss'))\n",
    "        self.tf_roc_acu.append(logs.get('tf_roc_acu'))\n",
    "        self.val_tf_roc_auc.append(logs.get('val_tf_roc_auc'))\n",
    "        self.i += 1\n",
    "        \n",
    "        clear_output(wait=True)\n",
    "        plt.figure(figsize=(10, 5))\n",
    "        plt.plot(self.x, self.losses, label='loss')\n",
    "        plt.plot(self.x, self.val_losses, label='val_loss')\n",
    "        plt.plot(self.x, self.tf_roc_acu, label='tf_roc_acu')\n",
    "        plt.plot(self.x, self.val_tf_roc_auc, label='val_tf_roc_auc')\n",
    "        plt.legend()\n",
    "        plt.show();\n",
    "        \n",
    "plot_losses = PlotLosses()"
   ]
  },
  {
   "cell_type": "code",
   "execution_count": 46,
   "metadata": {
    "collapsed": true
   },
   "outputs": [],
   "source": [
    "train_objs_num = len(X_train)\n",
    "test_objs_num = len(X_test)\n",
    "\n",
    "dataset = pd.concat(objs=[X_train, X_test, X_valid], axis=0).copy()   "
   ]
  },
  {
   "cell_type": "code",
   "execution_count": 47,
   "metadata": {},
   "outputs": [
    {
     "data": {
      "text/html": [
       "<div>\n",
       "<style>\n",
       "    .dataframe thead tr:only-child th {\n",
       "        text-align: right;\n",
       "    }\n",
       "\n",
       "    .dataframe thead th {\n",
       "        text-align: left;\n",
       "    }\n",
       "\n",
       "    .dataframe tbody tr th {\n",
       "        vertical-align: top;\n",
       "    }\n",
       "</style>\n",
       "<table border=\"1\" class=\"dataframe\">\n",
       "  <thead>\n",
       "    <tr style=\"text-align: right;\">\n",
       "      <th></th>\n",
       "      <th>msno</th>\n",
       "      <th>song_id</th>\n",
       "      <th>source_system_tab</th>\n",
       "      <th>source_screen_name</th>\n",
       "      <th>source_type</th>\n",
       "      <th>city</th>\n",
       "      <th>bd</th>\n",
       "      <th>gender</th>\n",
       "      <th>registered_via</th>\n",
       "      <th>song_length</th>\n",
       "      <th>language</th>\n",
       "      <th>genre_ids_count</th>\n",
       "      <th>lyricists_count</th>\n",
       "      <th>composer_count</th>\n",
       "      <th>is_featured</th>\n",
       "      <th>artist_count</th>\n",
       "      <th>count_song_played</th>\n",
       "      <th>count_artist_played</th>\n",
       "      <th>registration_duration</th>\n",
       "    </tr>\n",
       "  </thead>\n",
       "  <tbody>\n",
       "    <tr>\n",
       "      <th>3843411</th>\n",
       "      <td>6286</td>\n",
       "      <td>191125</td>\n",
       "      <td>4</td>\n",
       "      <td>8</td>\n",
       "      <td>4</td>\n",
       "      <td>14</td>\n",
       "      <td>51</td>\n",
       "      <td>2</td>\n",
       "      <td>5</td>\n",
       "      <td>220682.0</td>\n",
       "      <td>5</td>\n",
       "      <td>1</td>\n",
       "      <td>1</td>\n",
       "      <td>3</td>\n",
       "      <td>0</td>\n",
       "      <td>0</td>\n",
       "      <td>109</td>\n",
       "      <td>8188</td>\n",
       "      <td>3991</td>\n",
       "    </tr>\n",
       "    <tr>\n",
       "      <th>2864534</th>\n",
       "      <td>24682</td>\n",
       "      <td>404236</td>\n",
       "      <td>4</td>\n",
       "      <td>8</td>\n",
       "      <td>4</td>\n",
       "      <td>0</td>\n",
       "      <td>0</td>\n",
       "      <td>0</td>\n",
       "      <td>4</td>\n",
       "      <td>308636.0</td>\n",
       "      <td>4</td>\n",
       "      <td>1</td>\n",
       "      <td>2</td>\n",
       "      <td>1</td>\n",
       "      <td>0</td>\n",
       "      <td>0</td>\n",
       "      <td>756</td>\n",
       "      <td>11748</td>\n",
       "      <td>1376</td>\n",
       "    </tr>\n",
       "    <tr>\n",
       "      <th>1104647</th>\n",
       "      <td>25342</td>\n",
       "      <td>19429</td>\n",
       "      <td>8</td>\n",
       "      <td>18</td>\n",
       "      <td>9</td>\n",
       "      <td>0</td>\n",
       "      <td>0</td>\n",
       "      <td>0</td>\n",
       "      <td>3</td>\n",
       "      <td>217153.0</td>\n",
       "      <td>4</td>\n",
       "      <td>1</td>\n",
       "      <td>0</td>\n",
       "      <td>1</td>\n",
       "      <td>0</td>\n",
       "      <td>0</td>\n",
       "      <td>1</td>\n",
       "      <td>4829</td>\n",
       "      <td>3</td>\n",
       "    </tr>\n",
       "    <tr>\n",
       "      <th>7110713</th>\n",
       "      <td>12310</td>\n",
       "      <td>155629</td>\n",
       "      <td>1</td>\n",
       "      <td>4</td>\n",
       "      <td>10</td>\n",
       "      <td>6</td>\n",
       "      <td>28</td>\n",
       "      <td>1</td>\n",
       "      <td>5</td>\n",
       "      <td>260388.0</td>\n",
       "      <td>4</td>\n",
       "      <td>1</td>\n",
       "      <td>0</td>\n",
       "      <td>0</td>\n",
       "      <td>0</td>\n",
       "      <td>0</td>\n",
       "      <td>1217</td>\n",
       "      <td>25521</td>\n",
       "      <td>2527</td>\n",
       "    </tr>\n",
       "    <tr>\n",
       "      <th>3431457</th>\n",
       "      <td>12801</td>\n",
       "      <td>270012</td>\n",
       "      <td>1</td>\n",
       "      <td>12</td>\n",
       "      <td>10</td>\n",
       "      <td>4</td>\n",
       "      <td>36</td>\n",
       "      <td>1</td>\n",
       "      <td>5</td>\n",
       "      <td>263616.0</td>\n",
       "      <td>1</td>\n",
       "      <td>1</td>\n",
       "      <td>1</td>\n",
       "      <td>1</td>\n",
       "      <td>0</td>\n",
       "      <td>0</td>\n",
       "      <td>44</td>\n",
       "      <td>3314</td>\n",
       "      <td>2520</td>\n",
       "    </tr>\n",
       "  </tbody>\n",
       "</table>\n",
       "</div>"
      ],
      "text/plain": [
       "          msno song_id source_system_tab source_screen_name source_type city  \\\n",
       "3843411   6286  191125                 4                  8           4   14   \n",
       "2864534  24682  404236                 4                  8           4    0   \n",
       "1104647  25342   19429                 8                 18           9    0   \n",
       "7110713  12310  155629                 1                  4          10    6   \n",
       "3431457  12801  270012                 1                 12          10    4   \n",
       "\n",
       "         bd gender registered_via  song_length language  genre_ids_count  \\\n",
       "3843411  51      2              5     220682.0        5                1   \n",
       "2864534   0      0              4     308636.0        4                1   \n",
       "1104647   0      0              3     217153.0        4                1   \n",
       "7110713  28      1              5     260388.0        4                1   \n",
       "3431457  36      1              5     263616.0        1                1   \n",
       "\n",
       "         lyricists_count  composer_count is_featured  artist_count  \\\n",
       "3843411                1               3           0             0   \n",
       "2864534                2               1           0             0   \n",
       "1104647                0               1           0             0   \n",
       "7110713                0               0           0             0   \n",
       "3431457                1               1           0             0   \n",
       "\n",
       "         count_song_played  count_artist_played  registration_duration  \n",
       "3843411                109                 8188                   3991  \n",
       "2864534                756                11748                   1376  \n",
       "1104647                  1                 4829                      3  \n",
       "7110713               1217                25521                   2527  \n",
       "3431457                 44                 3314                   2520  "
      ]
     },
     "execution_count": 47,
     "metadata": {},
     "output_type": "execute_result"
    }
   ],
   "source": [
    "X_train.head()"
   ]
  },
  {
   "cell_type": "code",
   "execution_count": 48,
   "metadata": {},
   "outputs": [
    {
     "data": {
      "text/plain": [
       "Index(['msno', 'song_id', 'source_system_tab', 'source_screen_name',\n",
       "       'source_type', 'city', 'gender', 'registered_via', 'language',\n",
       "       'is_featured'],\n",
       "      dtype='object')"
      ]
     },
     "execution_count": 48,
     "metadata": {},
     "output_type": "execute_result"
    }
   ],
   "source": [
    "categorical"
   ]
  },
  {
   "cell_type": "code",
   "execution_count": 49,
   "metadata": {
    "collapsed": true
   },
   "outputs": [],
   "source": [
    "from sklearn.preprocessing import StandardScaler\n",
    "\n",
    "non_categorical_feat = [c for c in dataset.columns if c not in categorical]\n",
    "\n",
    "scaler = StandardScaler()\n",
    "dataset.fillna(0, inplace=True)\n",
    "dataset.loc[:, non_categorical_feat] = scaler.fit_transform(dataset[non_categorical_feat])"
   ]
  },
  {
   "cell_type": "code",
   "execution_count": 50,
   "metadata": {},
   "outputs": [
    {
     "data": {
      "text/html": [
       "<div>\n",
       "<style>\n",
       "    .dataframe thead tr:only-child th {\n",
       "        text-align: right;\n",
       "    }\n",
       "\n",
       "    .dataframe thead th {\n",
       "        text-align: left;\n",
       "    }\n",
       "\n",
       "    .dataframe tbody tr th {\n",
       "        vertical-align: top;\n",
       "    }\n",
       "</style>\n",
       "<table border=\"1\" class=\"dataframe\">\n",
       "  <thead>\n",
       "    <tr style=\"text-align: right;\">\n",
       "      <th></th>\n",
       "      <th>msno</th>\n",
       "      <th>song_id</th>\n",
       "      <th>source_system_tab</th>\n",
       "      <th>source_screen_name</th>\n",
       "      <th>source_type</th>\n",
       "      <th>city</th>\n",
       "      <th>bd</th>\n",
       "      <th>gender</th>\n",
       "      <th>registered_via</th>\n",
       "      <th>song_length</th>\n",
       "      <th>language</th>\n",
       "      <th>genre_ids_count</th>\n",
       "      <th>lyricists_count</th>\n",
       "      <th>composer_count</th>\n",
       "      <th>is_featured</th>\n",
       "      <th>artist_count</th>\n",
       "      <th>count_song_played</th>\n",
       "      <th>count_artist_played</th>\n",
       "      <th>registration_duration</th>\n",
       "    </tr>\n",
       "  </thead>\n",
       "  <tbody>\n",
       "    <tr>\n",
       "      <th>3843411</th>\n",
       "      <td>6286</td>\n",
       "      <td>191125</td>\n",
       "      <td>4</td>\n",
       "      <td>8</td>\n",
       "      <td>4</td>\n",
       "      <td>14</td>\n",
       "      <td>2.129101</td>\n",
       "      <td>2</td>\n",
       "      <td>5</td>\n",
       "      <td>-0.349716</td>\n",
       "      <td>5</td>\n",
       "      <td>-0.128529</td>\n",
       "      <td>0.127361</td>\n",
       "      <td>1.003036</td>\n",
       "      <td>0</td>\n",
       "      <td>-0.163327</td>\n",
       "      <td>-0.577656</td>\n",
       "      <td>-0.441387</td>\n",
       "      <td>2.091691</td>\n",
       "    </tr>\n",
       "    <tr>\n",
       "      <th>2864534</th>\n",
       "      <td>24682</td>\n",
       "      <td>404236</td>\n",
       "      <td>4</td>\n",
       "      <td>8</td>\n",
       "      <td>4</td>\n",
       "      <td>0</td>\n",
       "      <td>-1.091983</td>\n",
       "      <td>0</td>\n",
       "      <td>4</td>\n",
       "      <td>0.926048</td>\n",
       "      <td>4</td>\n",
       "      <td>-0.128529</td>\n",
       "      <td>0.955355</td>\n",
       "      <td>-0.238962</td>\n",
       "      <td>0</td>\n",
       "      <td>-0.163327</td>\n",
       "      <td>-0.314598</td>\n",
       "      <td>-0.392028</td>\n",
       "      <td>-0.215530</td>\n",
       "    </tr>\n",
       "    <tr>\n",
       "      <th>1104647</th>\n",
       "      <td>25342</td>\n",
       "      <td>19429</td>\n",
       "      <td>8</td>\n",
       "      <td>18</td>\n",
       "      <td>9</td>\n",
       "      <td>0</td>\n",
       "      <td>-1.091983</td>\n",
       "      <td>0</td>\n",
       "      <td>3</td>\n",
       "      <td>-0.400904</td>\n",
       "      <td>4</td>\n",
       "      <td>-0.128529</td>\n",
       "      <td>-0.700632</td>\n",
       "      <td>-0.238962</td>\n",
       "      <td>0</td>\n",
       "      <td>-0.163327</td>\n",
       "      <td>-0.621567</td>\n",
       "      <td>-0.487960</td>\n",
       "      <td>-1.426932</td>\n",
       "    </tr>\n",
       "    <tr>\n",
       "      <th>7110713</th>\n",
       "      <td>12310</td>\n",
       "      <td>155629</td>\n",
       "      <td>1</td>\n",
       "      <td>4</td>\n",
       "      <td>10</td>\n",
       "      <td>6</td>\n",
       "      <td>0.676456</td>\n",
       "      <td>1</td>\n",
       "      <td>5</td>\n",
       "      <td>0.226216</td>\n",
       "      <td>4</td>\n",
       "      <td>-0.128529</td>\n",
       "      <td>-0.700632</td>\n",
       "      <td>-0.859961</td>\n",
       "      <td>0</td>\n",
       "      <td>-0.163327</td>\n",
       "      <td>-0.127164</td>\n",
       "      <td>-0.201066</td>\n",
       "      <td>0.800000</td>\n",
       "    </tr>\n",
       "    <tr>\n",
       "      <th>3431457</th>\n",
       "      <td>12801</td>\n",
       "      <td>270012</td>\n",
       "      <td>1</td>\n",
       "      <td>12</td>\n",
       "      <td>10</td>\n",
       "      <td>4</td>\n",
       "      <td>1.181724</td>\n",
       "      <td>1</td>\n",
       "      <td>5</td>\n",
       "      <td>0.273037</td>\n",
       "      <td>1</td>\n",
       "      <td>-0.128529</td>\n",
       "      <td>0.127361</td>\n",
       "      <td>-0.238962</td>\n",
       "      <td>0</td>\n",
       "      <td>-0.163327</td>\n",
       "      <td>-0.604084</td>\n",
       "      <td>-0.508965</td>\n",
       "      <td>0.793824</td>\n",
       "    </tr>\n",
       "  </tbody>\n",
       "</table>\n",
       "</div>"
      ],
      "text/plain": [
       "          msno  song_id source_system_tab  source_screen_name source_type  \\\n",
       "3843411   6286   191125                 4                   8           4   \n",
       "2864534  24682   404236                 4                   8           4   \n",
       "1104647  25342    19429                 8                  18           9   \n",
       "7110713  12310   155629                 1                   4          10   \n",
       "3431457  12801   270012                 1                  12          10   \n",
       "\n",
       "        city        bd gender  registered_via  song_length language  \\\n",
       "3843411   14  2.129101      2               5    -0.349716        5   \n",
       "2864534    0 -1.091983      0               4     0.926048        4   \n",
       "1104647    0 -1.091983      0               3    -0.400904        4   \n",
       "7110713    6  0.676456      1               5     0.226216        4   \n",
       "3431457    4  1.181724      1               5     0.273037        1   \n",
       "\n",
       "         genre_ids_count  lyricists_count  composer_count is_featured  \\\n",
       "3843411        -0.128529         0.127361        1.003036           0   \n",
       "2864534        -0.128529         0.955355       -0.238962           0   \n",
       "1104647        -0.128529        -0.700632       -0.238962           0   \n",
       "7110713        -0.128529        -0.700632       -0.859961           0   \n",
       "3431457        -0.128529         0.127361       -0.238962           0   \n",
       "\n",
       "         artist_count  count_song_played  count_artist_played  \\\n",
       "3843411     -0.163327          -0.577656            -0.441387   \n",
       "2864534     -0.163327          -0.314598            -0.392028   \n",
       "1104647     -0.163327          -0.621567            -0.487960   \n",
       "7110713     -0.163327          -0.127164            -0.201066   \n",
       "3431457     -0.163327          -0.604084            -0.508965   \n",
       "\n",
       "         registration_duration  \n",
       "3843411               2.091691  \n",
       "2864534              -0.215530  \n",
       "1104647              -1.426932  \n",
       "7110713               0.800000  \n",
       "3431457               0.793824  "
      ]
     },
     "execution_count": 50,
     "metadata": {},
     "output_type": "execute_result"
    }
   ],
   "source": [
    "dataset.head()"
   ]
  },
  {
   "cell_type": "code",
   "execution_count": 51,
   "metadata": {},
   "outputs": [
    {
     "data": {
      "text/plain": [
       "(9934208, 19)"
      ]
     },
     "execution_count": 51,
     "metadata": {},
     "output_type": "execute_result"
    }
   ],
   "source": [
    "dataset.shape"
   ]
  },
  {
   "cell_type": "code",
   "execution_count": 52,
   "metadata": {
    "collapsed": true
   },
   "outputs": [],
   "source": [
    "import category_encoders as ce"
   ]
  },
  {
   "cell_type": "code",
   "execution_count": 53,
   "metadata": {},
   "outputs": [
    {
     "data": {
      "text/plain": [
       "['source_system_tab',\n",
       " 'source_screen_name',\n",
       " 'source_type',\n",
       " 'city',\n",
       " 'gender',\n",
       " 'registered_via',\n",
       " 'language',\n",
       " 'is_featured']"
      ]
     },
     "execution_count": 53,
     "metadata": {},
     "output_type": "execute_result"
    }
   ],
   "source": [
    "to_encode = list([cat for cat in categorical if cat not in ['msno', 'song_id']])\n",
    "to_encode"
   ]
  },
  {
   "cell_type": "code",
   "execution_count": 54,
   "metadata": {
    "collapsed": true
   },
   "outputs": [],
   "source": [
    "encoder = ce.BinaryEncoder(cols=list(to_encode))"
   ]
  },
  {
   "cell_type": "code",
   "execution_count": 55,
   "metadata": {
    "collapsed": true
   },
   "outputs": [],
   "source": [
    "dataset = encoder.fit_transform(dataset, None)"
   ]
  },
  {
   "cell_type": "code",
   "execution_count": 56,
   "metadata": {},
   "outputs": [
    {
     "data": {
      "text/html": [
       "<div>\n",
       "<style>\n",
       "    .dataframe thead tr:only-child th {\n",
       "        text-align: right;\n",
       "    }\n",
       "\n",
       "    .dataframe thead th {\n",
       "        text-align: left;\n",
       "    }\n",
       "\n",
       "    .dataframe tbody tr th {\n",
       "        vertical-align: top;\n",
       "    }\n",
       "</style>\n",
       "<table border=\"1\" class=\"dataframe\">\n",
       "  <thead>\n",
       "    <tr style=\"text-align: right;\">\n",
       "      <th></th>\n",
       "      <th>source_system_tab_0</th>\n",
       "      <th>source_system_tab_1</th>\n",
       "      <th>source_system_tab_2</th>\n",
       "      <th>source_system_tab_3</th>\n",
       "      <th>source_screen_name_0</th>\n",
       "      <th>source_screen_name_1</th>\n",
       "      <th>source_screen_name_2</th>\n",
       "      <th>source_screen_name_3</th>\n",
       "      <th>source_screen_name_4</th>\n",
       "      <th>source_type_0</th>\n",
       "      <th>source_type_1</th>\n",
       "      <th>source_type_2</th>\n",
       "      <th>source_type_3</th>\n",
       "      <th>city_0</th>\n",
       "      <th>city_1</th>\n",
       "      <th>city_2</th>\n",
       "      <th>city_3</th>\n",
       "      <th>city_4</th>\n",
       "      <th>gender_0</th>\n",
       "      <th>gender_1</th>\n",
       "      <th>registered_via_0</th>\n",
       "      <th>registered_via_1</th>\n",
       "      <th>registered_via_2</th>\n",
       "      <th>language_0</th>\n",
       "      <th>language_1</th>\n",
       "      <th>language_2</th>\n",
       "      <th>language_3</th>\n",
       "      <th>is_featured_0</th>\n",
       "      <th>msno</th>\n",
       "      <th>song_id</th>\n",
       "      <th>bd</th>\n",
       "      <th>song_length</th>\n",
       "      <th>genre_ids_count</th>\n",
       "      <th>lyricists_count</th>\n",
       "      <th>composer_count</th>\n",
       "      <th>artist_count</th>\n",
       "      <th>count_song_played</th>\n",
       "      <th>count_artist_played</th>\n",
       "      <th>registration_duration</th>\n",
       "    </tr>\n",
       "  </thead>\n",
       "  <tbody>\n",
       "    <tr>\n",
       "      <th>3843411</th>\n",
       "      <td>0</td>\n",
       "      <td>0</td>\n",
       "      <td>0</td>\n",
       "      <td>0</td>\n",
       "      <td>0</td>\n",
       "      <td>0</td>\n",
       "      <td>0</td>\n",
       "      <td>0</td>\n",
       "      <td>0</td>\n",
       "      <td>0</td>\n",
       "      <td>0</td>\n",
       "      <td>0</td>\n",
       "      <td>0</td>\n",
       "      <td>0</td>\n",
       "      <td>0</td>\n",
       "      <td>0</td>\n",
       "      <td>0</td>\n",
       "      <td>0</td>\n",
       "      <td>0</td>\n",
       "      <td>0</td>\n",
       "      <td>0</td>\n",
       "      <td>0</td>\n",
       "      <td>0</td>\n",
       "      <td>0</td>\n",
       "      <td>0</td>\n",
       "      <td>0</td>\n",
       "      <td>0</td>\n",
       "      <td>0</td>\n",
       "      <td>6286</td>\n",
       "      <td>191125</td>\n",
       "      <td>2.129101</td>\n",
       "      <td>-0.349716</td>\n",
       "      <td>-0.128529</td>\n",
       "      <td>0.127361</td>\n",
       "      <td>1.003036</td>\n",
       "      <td>-0.163327</td>\n",
       "      <td>-0.577656</td>\n",
       "      <td>-0.441387</td>\n",
       "      <td>2.091691</td>\n",
       "    </tr>\n",
       "    <tr>\n",
       "      <th>2864534</th>\n",
       "      <td>0</td>\n",
       "      <td>0</td>\n",
       "      <td>0</td>\n",
       "      <td>0</td>\n",
       "      <td>0</td>\n",
       "      <td>0</td>\n",
       "      <td>0</td>\n",
       "      <td>0</td>\n",
       "      <td>0</td>\n",
       "      <td>0</td>\n",
       "      <td>0</td>\n",
       "      <td>0</td>\n",
       "      <td>0</td>\n",
       "      <td>0</td>\n",
       "      <td>0</td>\n",
       "      <td>0</td>\n",
       "      <td>0</td>\n",
       "      <td>1</td>\n",
       "      <td>0</td>\n",
       "      <td>1</td>\n",
       "      <td>0</td>\n",
       "      <td>0</td>\n",
       "      <td>1</td>\n",
       "      <td>0</td>\n",
       "      <td>0</td>\n",
       "      <td>0</td>\n",
       "      <td>1</td>\n",
       "      <td>0</td>\n",
       "      <td>24682</td>\n",
       "      <td>404236</td>\n",
       "      <td>-1.091983</td>\n",
       "      <td>0.926048</td>\n",
       "      <td>-0.128529</td>\n",
       "      <td>0.955355</td>\n",
       "      <td>-0.238962</td>\n",
       "      <td>-0.163327</td>\n",
       "      <td>-0.314598</td>\n",
       "      <td>-0.392028</td>\n",
       "      <td>-0.215530</td>\n",
       "    </tr>\n",
       "    <tr>\n",
       "      <th>1104647</th>\n",
       "      <td>0</td>\n",
       "      <td>0</td>\n",
       "      <td>0</td>\n",
       "      <td>1</td>\n",
       "      <td>0</td>\n",
       "      <td>0</td>\n",
       "      <td>0</td>\n",
       "      <td>0</td>\n",
       "      <td>1</td>\n",
       "      <td>0</td>\n",
       "      <td>0</td>\n",
       "      <td>0</td>\n",
       "      <td>1</td>\n",
       "      <td>0</td>\n",
       "      <td>0</td>\n",
       "      <td>0</td>\n",
       "      <td>0</td>\n",
       "      <td>1</td>\n",
       "      <td>0</td>\n",
       "      <td>1</td>\n",
       "      <td>0</td>\n",
       "      <td>1</td>\n",
       "      <td>0</td>\n",
       "      <td>0</td>\n",
       "      <td>0</td>\n",
       "      <td>0</td>\n",
       "      <td>1</td>\n",
       "      <td>0</td>\n",
       "      <td>25342</td>\n",
       "      <td>19429</td>\n",
       "      <td>-1.091983</td>\n",
       "      <td>-0.400904</td>\n",
       "      <td>-0.128529</td>\n",
       "      <td>-0.700632</td>\n",
       "      <td>-0.238962</td>\n",
       "      <td>-0.163327</td>\n",
       "      <td>-0.621567</td>\n",
       "      <td>-0.487960</td>\n",
       "      <td>-1.426932</td>\n",
       "    </tr>\n",
       "    <tr>\n",
       "      <th>7110713</th>\n",
       "      <td>0</td>\n",
       "      <td>0</td>\n",
       "      <td>1</td>\n",
       "      <td>0</td>\n",
       "      <td>0</td>\n",
       "      <td>0</td>\n",
       "      <td>0</td>\n",
       "      <td>1</td>\n",
       "      <td>0</td>\n",
       "      <td>0</td>\n",
       "      <td>0</td>\n",
       "      <td>1</td>\n",
       "      <td>0</td>\n",
       "      <td>0</td>\n",
       "      <td>0</td>\n",
       "      <td>0</td>\n",
       "      <td>1</td>\n",
       "      <td>0</td>\n",
       "      <td>1</td>\n",
       "      <td>0</td>\n",
       "      <td>0</td>\n",
       "      <td>0</td>\n",
       "      <td>0</td>\n",
       "      <td>0</td>\n",
       "      <td>0</td>\n",
       "      <td>0</td>\n",
       "      <td>1</td>\n",
       "      <td>0</td>\n",
       "      <td>12310</td>\n",
       "      <td>155629</td>\n",
       "      <td>0.676456</td>\n",
       "      <td>0.226216</td>\n",
       "      <td>-0.128529</td>\n",
       "      <td>-0.700632</td>\n",
       "      <td>-0.859961</td>\n",
       "      <td>-0.163327</td>\n",
       "      <td>-0.127164</td>\n",
       "      <td>-0.201066</td>\n",
       "      <td>0.800000</td>\n",
       "    </tr>\n",
       "    <tr>\n",
       "      <th>3431457</th>\n",
       "      <td>0</td>\n",
       "      <td>0</td>\n",
       "      <td>1</td>\n",
       "      <td>0</td>\n",
       "      <td>0</td>\n",
       "      <td>0</td>\n",
       "      <td>0</td>\n",
       "      <td>1</td>\n",
       "      <td>1</td>\n",
       "      <td>0</td>\n",
       "      <td>0</td>\n",
       "      <td>1</td>\n",
       "      <td>0</td>\n",
       "      <td>0</td>\n",
       "      <td>0</td>\n",
       "      <td>0</td>\n",
       "      <td>1</td>\n",
       "      <td>1</td>\n",
       "      <td>1</td>\n",
       "      <td>0</td>\n",
       "      <td>0</td>\n",
       "      <td>0</td>\n",
       "      <td>0</td>\n",
       "      <td>0</td>\n",
       "      <td>0</td>\n",
       "      <td>1</td>\n",
       "      <td>0</td>\n",
       "      <td>0</td>\n",
       "      <td>12801</td>\n",
       "      <td>270012</td>\n",
       "      <td>1.181724</td>\n",
       "      <td>0.273037</td>\n",
       "      <td>-0.128529</td>\n",
       "      <td>0.127361</td>\n",
       "      <td>-0.238962</td>\n",
       "      <td>-0.163327</td>\n",
       "      <td>-0.604084</td>\n",
       "      <td>-0.508965</td>\n",
       "      <td>0.793824</td>\n",
       "    </tr>\n",
       "  </tbody>\n",
       "</table>\n",
       "</div>"
      ],
      "text/plain": [
       "         source_system_tab_0  source_system_tab_1  source_system_tab_2  \\\n",
       "3843411                    0                    0                    0   \n",
       "2864534                    0                    0                    0   \n",
       "1104647                    0                    0                    0   \n",
       "7110713                    0                    0                    1   \n",
       "3431457                    0                    0                    1   \n",
       "\n",
       "         source_system_tab_3  source_screen_name_0  source_screen_name_1  \\\n",
       "3843411                    0                     0                     0   \n",
       "2864534                    0                     0                     0   \n",
       "1104647                    1                     0                     0   \n",
       "7110713                    0                     0                     0   \n",
       "3431457                    0                     0                     0   \n",
       "\n",
       "         source_screen_name_2  source_screen_name_3  source_screen_name_4  \\\n",
       "3843411                     0                     0                     0   \n",
       "2864534                     0                     0                     0   \n",
       "1104647                     0                     0                     1   \n",
       "7110713                     0                     1                     0   \n",
       "3431457                     0                     1                     1   \n",
       "\n",
       "         source_type_0  source_type_1  source_type_2  source_type_3  city_0  \\\n",
       "3843411              0              0              0              0       0   \n",
       "2864534              0              0              0              0       0   \n",
       "1104647              0              0              0              1       0   \n",
       "7110713              0              0              1              0       0   \n",
       "3431457              0              0              1              0       0   \n",
       "\n",
       "         city_1  city_2  city_3  city_4  gender_0  gender_1  registered_via_0  \\\n",
       "3843411       0       0       0       0         0         0                 0   \n",
       "2864534       0       0       0       1         0         1                 0   \n",
       "1104647       0       0       0       1         0         1                 0   \n",
       "7110713       0       0       1       0         1         0                 0   \n",
       "3431457       0       0       1       1         1         0                 0   \n",
       "\n",
       "         registered_via_1  registered_via_2  language_0  language_1  \\\n",
       "3843411                 0                 0           0           0   \n",
       "2864534                 0                 1           0           0   \n",
       "1104647                 1                 0           0           0   \n",
       "7110713                 0                 0           0           0   \n",
       "3431457                 0                 0           0           0   \n",
       "\n",
       "         language_2  language_3  is_featured_0   msno  song_id        bd  \\\n",
       "3843411           0           0              0   6286   191125  2.129101   \n",
       "2864534           0           1              0  24682   404236 -1.091983   \n",
       "1104647           0           1              0  25342    19429 -1.091983   \n",
       "7110713           0           1              0  12310   155629  0.676456   \n",
       "3431457           1           0              0  12801   270012  1.181724   \n",
       "\n",
       "         song_length  genre_ids_count  lyricists_count  composer_count  \\\n",
       "3843411    -0.349716        -0.128529         0.127361        1.003036   \n",
       "2864534     0.926048        -0.128529         0.955355       -0.238962   \n",
       "1104647    -0.400904        -0.128529        -0.700632       -0.238962   \n",
       "7110713     0.226216        -0.128529        -0.700632       -0.859961   \n",
       "3431457     0.273037        -0.128529         0.127361       -0.238962   \n",
       "\n",
       "         artist_count  count_song_played  count_artist_played  \\\n",
       "3843411     -0.163327          -0.577656            -0.441387   \n",
       "2864534     -0.163327          -0.314598            -0.392028   \n",
       "1104647     -0.163327          -0.621567            -0.487960   \n",
       "7110713     -0.163327          -0.127164            -0.201066   \n",
       "3431457     -0.163327          -0.604084            -0.508965   \n",
       "\n",
       "         registration_duration  \n",
       "3843411               2.091691  \n",
       "2864534              -0.215530  \n",
       "1104647              -1.426932  \n",
       "7110713               0.800000  \n",
       "3431457               0.793824  "
      ]
     },
     "execution_count": 56,
     "metadata": {},
     "output_type": "execute_result"
    }
   ],
   "source": [
    "dataset.head()"
   ]
  },
  {
   "cell_type": "code",
   "execution_count": 57,
   "metadata": {},
   "outputs": [
    {
     "data": {
      "text/plain": [
       "(9934208, 39)"
      ]
     },
     "execution_count": 57,
     "metadata": {},
     "output_type": "execute_result"
    }
   ],
   "source": [
    "dataset.shape"
   ]
  },
  {
   "cell_type": "markdown",
   "metadata": {},
   "source": [
    "##### Embeddings"
   ]
  },
  {
   "cell_type": "code",
   "execution_count": 73,
   "metadata": {
    "collapsed": true
   },
   "outputs": [],
   "source": [
    "X_train = dataset[:train_objs_num].copy()\n",
    "X_test  = dataset[train_objs_num:train_objs_num+test_objs_num].copy()\n",
    "X_valid = dataset[train_objs_num+test_objs_num:].copy()"
   ]
  },
  {
   "cell_type": "code",
   "execution_count": 59,
   "metadata": {
    "collapsed": true
   },
   "outputs": [],
   "source": [
    "MAX_MSNO = dataset['msno'].max() + 1\n",
    "MAX_SONG_ID =  dataset['song_id'].max() + 1"
   ]
  },
  {
   "cell_type": "code",
   "execution_count": 60,
   "metadata": {},
   "outputs": [
    {
     "name": "stdout",
     "output_type": "stream",
     "text": [
      "34403\n",
      "419839\n"
     ]
    }
   ],
   "source": [
    "print(MAX_MSNO) \n",
    "print(MAX_SONG_ID)"
   ]
  },
  {
   "cell_type": "code",
   "execution_count": 61,
   "metadata": {
    "collapsed": true
   },
   "outputs": [],
   "source": [
    "def get_keras_data(dataset):\n",
    "    X = {\n",
    "        # Categorical\n",
    "        'msno' : np.array(dataset['msno']),\n",
    "        'song_id' : np.array(dataset['song_id']),\n",
    "\n",
    "        # Numerical\n",
    "        'numerical' : np.array(dataset[dataset.columns.difference(['song_id', 'msno'])])\n",
    "    }\n",
    "    return X\n",
    "\n",
    "X_train_ = get_keras_data(X_train)\n",
    "X_test_  = get_keras_data(X_test)\n",
    "X_valid_ = get_keras_data(X_valid)"
   ]
  },
  {
   "cell_type": "code",
   "execution_count": 62,
   "metadata": {},
   "outputs": [
    {
     "data": {
      "text/plain": [
       "{'msno': array([ 6286, 24682, 25342, ...,  3972, 17852, 34268], dtype=int64),\n",
       " 'numerical': array([[-0.16332657,  2.1291014 ,  0.        , ...,  0.        ,\n",
       "          0.        ,  0.        ],\n",
       "        [-0.16332657, -1.09198292,  0.        , ...,  0.        ,\n",
       "          0.        ,  0.        ],\n",
       "        [-0.16332657, -1.09198292,  0.        , ...,  0.        ,\n",
       "          0.        ,  1.        ],\n",
       "        ..., \n",
       "        [-0.16332657,  0.73961405,  0.        , ...,  0.        ,\n",
       "          0.        ,  0.        ],\n",
       "        [-0.16332657,  1.18172366,  0.        , ...,  0.        ,\n",
       "          0.        ,  0.        ],\n",
       "        [-0.16332657,  0.42382147,  0.        , ...,  0.        ,\n",
       "          1.        ,  1.        ]]),\n",
       " 'song_id': array([191125, 404236,  19429, ..., 312443, 218044, 288518], dtype=int64)}"
      ]
     },
     "execution_count": 62,
     "metadata": {},
     "output_type": "execute_result"
    }
   ],
   "source": [
    "X_train_"
   ]
  },
  {
   "cell_type": "code",
   "execution_count": 63,
   "metadata": {},
   "outputs": [
    {
     "data": {
      "text/plain": [
       "37"
      ]
     },
     "execution_count": 63,
     "metadata": {},
     "output_type": "execute_result"
    }
   ],
   "source": [
    "X_train_['numerical'].shape[1]"
   ]
  },
  {
   "cell_type": "code",
   "execution_count": 64,
   "metadata": {
    "collapsed": true
   },
   "outputs": [],
   "source": [
    "def get_model():\n",
    "    dr_r = 0.45\n",
    "    # Categorical\n",
    "    msno = Input(shape=[1], name='msno')\n",
    "    song_id = Input(shape=[1], name='song_id')\n",
    "    \n",
    "    # Numerical\n",
    "    numerical = Input(shape=[X_train_['numerical'].shape[1]], name='numerical')\n",
    "\n",
    "    \n",
    "    # Embeddings layers\n",
    "    emb_msno = Embedding(MAX_MSNO, 50) (msno)\n",
    "    emb_song_id = Embedding(MAX_SONG_ID, 50) (song_id)\n",
    "    \n",
    "    # Main layer\n",
    "    main_l = concatenate([\n",
    "        Flatten() (emb_msno),\n",
    "        Flatten() (emb_song_id),\n",
    "        numerical\n",
    "    ])\n",
    "    \n",
    "    main_l = Dropout(dr_r) (Dense(512, activation='relu') (main_l))\n",
    "    main_l = Dropout(dr_r) (Dense(256, activation='relu') (main_l))\n",
    "    main_l = Dropout(dr_r) (Dense(128, activation='relu') (main_l))\n",
    "    main_l = Dropout(dr_r) (Dense(64, activation='relu') (main_l))\n",
    "    \n",
    "    # Output\n",
    "    output = Dense(1, activation='sigmoid') (main_l)\n",
    "    \n",
    "    # Model\n",
    "    model = Model([msno, song_id, numerical], output)\n",
    "    model.compile(loss='binary_crossentropy', optimizer='rmsprop', metrics=[tf_roc_auc])\n",
    "    \n",
    "    return model"
   ]
  },
  {
   "cell_type": "code",
   "execution_count": 65,
   "metadata": {
    "scrolled": false
   },
   "outputs": [
    {
     "name": "stdout",
     "output_type": "stream",
     "text": [
      "____________________________________________________________________________________________________\n",
      "Layer (type)                     Output Shape          Param #     Connected to                     \n",
      "====================================================================================================\n",
      "msno (InputLayer)                (None, 1)             0                                            \n",
      "____________________________________________________________________________________________________\n",
      "song_id (InputLayer)             (None, 1)             0                                            \n",
      "____________________________________________________________________________________________________\n",
      "embedding_1 (Embedding)          (None, 1, 50)         1720150     msno[0][0]                       \n",
      "____________________________________________________________________________________________________\n",
      "embedding_2 (Embedding)          (None, 1, 50)         20991950    song_id[0][0]                    \n",
      "____________________________________________________________________________________________________\n",
      "flatten_1 (Flatten)              (None, 50)            0           embedding_1[0][0]                \n",
      "____________________________________________________________________________________________________\n",
      "flatten_2 (Flatten)              (None, 50)            0           embedding_2[0][0]                \n",
      "____________________________________________________________________________________________________\n",
      "numerical (InputLayer)           (None, 37)            0                                            \n",
      "____________________________________________________________________________________________________\n",
      "concatenate_1 (Concatenate)      (None, 137)           0           flatten_1[0][0]                  \n",
      "                                                                   flatten_2[0][0]                  \n",
      "                                                                   numerical[0][0]                  \n",
      "____________________________________________________________________________________________________\n",
      "dense_1 (Dense)                  (None, 512)           70656       concatenate_1[0][0]              \n",
      "____________________________________________________________________________________________________\n",
      "dropout_1 (Dropout)              (None, 512)           0           dense_1[0][0]                    \n",
      "____________________________________________________________________________________________________\n",
      "dense_2 (Dense)                  (None, 256)           131328      dropout_1[0][0]                  \n",
      "____________________________________________________________________________________________________\n",
      "dropout_2 (Dropout)              (None, 256)           0           dense_2[0][0]                    \n",
      "____________________________________________________________________________________________________\n",
      "dense_3 (Dense)                  (None, 128)           32896       dropout_2[0][0]                  \n",
      "____________________________________________________________________________________________________\n",
      "dropout_3 (Dropout)              (None, 128)           0           dense_3[0][0]                    \n",
      "____________________________________________________________________________________________________\n",
      "dense_4 (Dense)                  (None, 64)            8256        dropout_3[0][0]                  \n",
      "____________________________________________________________________________________________________\n",
      "dropout_4 (Dropout)              (None, 64)            0           dense_4[0][0]                    \n",
      "____________________________________________________________________________________________________\n",
      "dense_5 (Dense)                  (None, 1)             65          dropout_4[0][0]                  \n",
      "====================================================================================================\n",
      "Total params: 22,955,301\n",
      "Trainable params: 22,955,301\n",
      "Non-trainable params: 0\n",
      "____________________________________________________________________________________________________\n"
     ]
    }
   ],
   "source": [
    "model = get_model()\n",
    "model.summary()"
   ]
  },
  {
   "cell_type": "code",
   "execution_count": 66,
   "metadata": {},
   "outputs": [
    {
     "data": {
      "image/png": "[encoded data removed]",
      "text/plain": [
       "<matplotlib.figure.Figure at 0x1f97fd526d8>"
      ]
     },
     "metadata": {},
     "output_type": "display_data"
    },
    {
     "name": "stdout",
     "output_type": "stream",
     "text": [
      "5901934/5901934 [==============================] - 340s - loss: 0.5361 - tf_roc_auc: 0.7871 - val_loss: 0.5442 - val_tf_roc_auc: 0.7897\n"
     ]
    },
    {
     "data": {
      "text/plain": [
       "<keras.callbacks.History at 0x1f921cff128>"
      ]
     },
     "execution_count": 66,
     "metadata": {},
     "output_type": "execute_result"
    }
   ],
   "source": [
    "early_stopping = EarlyStopping(monitor='tf_roc_auc', patience=2)\n",
    "BATCH_SIZE = 1000\n",
    "epochs = 5\n",
    "\n",
    "model = get_model()\n",
    "model.fit(X_train_, y_train, epochs=epochs, batch_size=BATCH_SIZE, validation_data=(X_test_, y_test), \n",
    "          verbose=1, callbacks=[plot_losses, early_stopping])"
   ]
  },
  {
   "cell_type": "code",
   "execution_count": 67,
   "metadata": {
    "collapsed": true
   },
   "outputs": [],
   "source": [
    "y_pred = model.predict(X_valid_)"
   ]
  },
  {
   "cell_type": "code",
   "execution_count": 68,
   "metadata": {
    "collapsed": true
   },
   "outputs": [],
   "source": [
    "submission = pd.DataFrame.from_items([('id', df_ids), ('target', y_pred.flatten())])\n",
    "submission.to_csv('clf_dl_RecOutput.csv', index=False)"
   ]
  },
  {
   "cell_type": "code",
   "execution_count": 79,
   "metadata": {
    "collapsed": true
   },
   "outputs": [],
   "source": [
    "del model"
   ]
  },
  {
   "cell_type": "markdown",
   "metadata": {},
   "source": [
    "##### Simple NN"
   ]
  },
  {
   "cell_type": "code",
   "execution_count": 74,
   "metadata": {
    "scrolled": true
   },
   "outputs": [
    {
     "data": {
      "text/html": [
       "<div>\n",
       "<style>\n",
       "    .dataframe thead tr:only-child th {\n",
       "        text-align: right;\n",
       "    }\n",
       "\n",
       "    .dataframe thead th {\n",
       "        text-align: left;\n",
       "    }\n",
       "\n",
       "    .dataframe tbody tr th {\n",
       "        vertical-align: top;\n",
       "    }\n",
       "</style>\n",
       "<table border=\"1\" class=\"dataframe\">\n",
       "  <thead>\n",
       "    <tr style=\"text-align: right;\">\n",
       "      <th></th>\n",
       "      <th>source_system_tab_0</th>\n",
       "      <th>source_system_tab_1</th>\n",
       "      <th>source_system_tab_2</th>\n",
       "      <th>source_system_tab_3</th>\n",
       "      <th>source_screen_name_0</th>\n",
       "      <th>source_screen_name_1</th>\n",
       "      <th>source_screen_name_2</th>\n",
       "      <th>source_screen_name_3</th>\n",
       "      <th>source_screen_name_4</th>\n",
       "      <th>source_type_0</th>\n",
       "      <th>source_type_1</th>\n",
       "      <th>source_type_2</th>\n",
       "      <th>source_type_3</th>\n",
       "      <th>city_0</th>\n",
       "      <th>city_1</th>\n",
       "      <th>city_2</th>\n",
       "      <th>city_3</th>\n",
       "      <th>city_4</th>\n",
       "      <th>gender_0</th>\n",
       "      <th>gender_1</th>\n",
       "      <th>registered_via_0</th>\n",
       "      <th>registered_via_1</th>\n",
       "      <th>registered_via_2</th>\n",
       "      <th>language_0</th>\n",
       "      <th>language_1</th>\n",
       "      <th>language_2</th>\n",
       "      <th>language_3</th>\n",
       "      <th>is_featured_0</th>\n",
       "      <th>bd</th>\n",
       "      <th>song_length</th>\n",
       "      <th>genre_ids_count</th>\n",
       "      <th>lyricists_count</th>\n",
       "      <th>composer_count</th>\n",
       "      <th>artist_count</th>\n",
       "      <th>count_song_played</th>\n",
       "      <th>count_artist_played</th>\n",
       "      <th>registration_duration</th>\n",
       "    </tr>\n",
       "  </thead>\n",
       "  <tbody>\n",
       "    <tr>\n",
       "      <th>3843411</th>\n",
       "      <td>0</td>\n",
       "      <td>0</td>\n",
       "      <td>0</td>\n",
       "      <td>0</td>\n",
       "      <td>0</td>\n",
       "      <td>0</td>\n",
       "      <td>0</td>\n",
       "      <td>0</td>\n",
       "      <td>0</td>\n",
       "      <td>0</td>\n",
       "      <td>0</td>\n",
       "      <td>0</td>\n",
       "      <td>0</td>\n",
       "      <td>0</td>\n",
       "      <td>0</td>\n",
       "      <td>0</td>\n",
       "      <td>0</td>\n",
       "      <td>0</td>\n",
       "      <td>0</td>\n",
       "      <td>0</td>\n",
       "      <td>0</td>\n",
       "      <td>0</td>\n",
       "      <td>0</td>\n",
       "      <td>0</td>\n",
       "      <td>0</td>\n",
       "      <td>0</td>\n",
       "      <td>0</td>\n",
       "      <td>0</td>\n",
       "      <td>2.129101</td>\n",
       "      <td>-0.349716</td>\n",
       "      <td>-0.128529</td>\n",
       "      <td>0.127361</td>\n",
       "      <td>1.003036</td>\n",
       "      <td>-0.163327</td>\n",
       "      <td>-0.577656</td>\n",
       "      <td>-0.441387</td>\n",
       "      <td>2.091691</td>\n",
       "    </tr>\n",
       "    <tr>\n",
       "      <th>2864534</th>\n",
       "      <td>0</td>\n",
       "      <td>0</td>\n",
       "      <td>0</td>\n",
       "      <td>0</td>\n",
       "      <td>0</td>\n",
       "      <td>0</td>\n",
       "      <td>0</td>\n",
       "      <td>0</td>\n",
       "      <td>0</td>\n",
       "      <td>0</td>\n",
       "      <td>0</td>\n",
       "      <td>0</td>\n",
       "      <td>0</td>\n",
       "      <td>0</td>\n",
       "      <td>0</td>\n",
       "      <td>0</td>\n",
       "      <td>0</td>\n",
       "      <td>1</td>\n",
       "      <td>0</td>\n",
       "      <td>1</td>\n",
       "      <td>0</td>\n",
       "      <td>0</td>\n",
       "      <td>1</td>\n",
       "      <td>0</td>\n",
       "      <td>0</td>\n",
       "      <td>0</td>\n",
       "      <td>1</td>\n",
       "      <td>0</td>\n",
       "      <td>-1.091983</td>\n",
       "      <td>0.926048</td>\n",
       "      <td>-0.128529</td>\n",
       "      <td>0.955355</td>\n",
       "      <td>-0.238962</td>\n",
       "      <td>-0.163327</td>\n",
       "      <td>-0.314598</td>\n",
       "      <td>-0.392028</td>\n",
       "      <td>-0.215530</td>\n",
       "    </tr>\n",
       "    <tr>\n",
       "      <th>1104647</th>\n",
       "      <td>0</td>\n",
       "      <td>0</td>\n",
       "      <td>0</td>\n",
       "      <td>1</td>\n",
       "      <td>0</td>\n",
       "      <td>0</td>\n",
       "      <td>0</td>\n",
       "      <td>0</td>\n",
       "      <td>1</td>\n",
       "      <td>0</td>\n",
       "      <td>0</td>\n",
       "      <td>0</td>\n",
       "      <td>1</td>\n",
       "      <td>0</td>\n",
       "      <td>0</td>\n",
       "      <td>0</td>\n",
       "      <td>0</td>\n",
       "      <td>1</td>\n",
       "      <td>0</td>\n",
       "      <td>1</td>\n",
       "      <td>0</td>\n",
       "      <td>1</td>\n",
       "      <td>0</td>\n",
       "      <td>0</td>\n",
       "      <td>0</td>\n",
       "      <td>0</td>\n",
       "      <td>1</td>\n",
       "      <td>0</td>\n",
       "      <td>-1.091983</td>\n",
       "      <td>-0.400904</td>\n",
       "      <td>-0.128529</td>\n",
       "      <td>-0.700632</td>\n",
       "      <td>-0.238962</td>\n",
       "      <td>-0.163327</td>\n",
       "      <td>-0.621567</td>\n",
       "      <td>-0.487960</td>\n",
       "      <td>-1.426932</td>\n",
       "    </tr>\n",
       "    <tr>\n",
       "      <th>7110713</th>\n",
       "      <td>0</td>\n",
       "      <td>0</td>\n",
       "      <td>1</td>\n",
       "      <td>0</td>\n",
       "      <td>0</td>\n",
       "      <td>0</td>\n",
       "      <td>0</td>\n",
       "      <td>1</td>\n",
       "      <td>0</td>\n",
       "      <td>0</td>\n",
       "      <td>0</td>\n",
       "      <td>1</td>\n",
       "      <td>0</td>\n",
       "      <td>0</td>\n",
       "      <td>0</td>\n",
       "      <td>0</td>\n",
       "      <td>1</td>\n",
       "      <td>0</td>\n",
       "      <td>1</td>\n",
       "      <td>0</td>\n",
       "      <td>0</td>\n",
       "      <td>0</td>\n",
       "      <td>0</td>\n",
       "      <td>0</td>\n",
       "      <td>0</td>\n",
       "      <td>0</td>\n",
       "      <td>1</td>\n",
       "      <td>0</td>\n",
       "      <td>0.676456</td>\n",
       "      <td>0.226216</td>\n",
       "      <td>-0.128529</td>\n",
       "      <td>-0.700632</td>\n",
       "      <td>-0.859961</td>\n",
       "      <td>-0.163327</td>\n",
       "      <td>-0.127164</td>\n",
       "      <td>-0.201066</td>\n",
       "      <td>0.800000</td>\n",
       "    </tr>\n",
       "    <tr>\n",
       "      <th>3431457</th>\n",
       "      <td>0</td>\n",
       "      <td>0</td>\n",
       "      <td>1</td>\n",
       "      <td>0</td>\n",
       "      <td>0</td>\n",
       "      <td>0</td>\n",
       "      <td>0</td>\n",
       "      <td>1</td>\n",
       "      <td>1</td>\n",
       "      <td>0</td>\n",
       "      <td>0</td>\n",
       "      <td>1</td>\n",
       "      <td>0</td>\n",
       "      <td>0</td>\n",
       "      <td>0</td>\n",
       "      <td>0</td>\n",
       "      <td>1</td>\n",
       "      <td>1</td>\n",
       "      <td>1</td>\n",
       "      <td>0</td>\n",
       "      <td>0</td>\n",
       "      <td>0</td>\n",
       "      <td>0</td>\n",
       "      <td>0</td>\n",
       "      <td>0</td>\n",
       "      <td>1</td>\n",
       "      <td>0</td>\n",
       "      <td>0</td>\n",
       "      <td>1.181724</td>\n",
       "      <td>0.273037</td>\n",
       "      <td>-0.128529</td>\n",
       "      <td>0.127361</td>\n",
       "      <td>-0.238962</td>\n",
       "      <td>-0.163327</td>\n",
       "      <td>-0.604084</td>\n",
       "      <td>-0.508965</td>\n",
       "      <td>0.793824</td>\n",
       "    </tr>\n",
       "  </tbody>\n",
       "</table>\n",
       "</div>"
      ],
      "text/plain": [
       "         source_system_tab_0  source_system_tab_1  source_system_tab_2  \\\n",
       "3843411                    0                    0                    0   \n",
       "2864534                    0                    0                    0   \n",
       "1104647                    0                    0                    0   \n",
       "7110713                    0                    0                    1   \n",
       "3431457                    0                    0                    1   \n",
       "\n",
       "         source_system_tab_3  source_screen_name_0  source_screen_name_1  \\\n",
       "3843411                    0                     0                     0   \n",
       "2864534                    0                     0                     0   \n",
       "1104647                    1                     0                     0   \n",
       "7110713                    0                     0                     0   \n",
       "3431457                    0                     0                     0   \n",
       "\n",
       "         source_screen_name_2  source_screen_name_3  source_screen_name_4  \\\n",
       "3843411                     0                     0                     0   \n",
       "2864534                     0                     0                     0   \n",
       "1104647                     0                     0                     1   \n",
       "7110713                     0                     1                     0   \n",
       "3431457                     0                     1                     1   \n",
       "\n",
       "         source_type_0  source_type_1  source_type_2  source_type_3  city_0  \\\n",
       "3843411              0              0              0              0       0   \n",
       "2864534              0              0              0              0       0   \n",
       "1104647              0              0              0              1       0   \n",
       "7110713              0              0              1              0       0   \n",
       "3431457              0              0              1              0       0   \n",
       "\n",
       "         city_1  city_2  city_3  city_4  gender_0  gender_1  registered_via_0  \\\n",
       "3843411       0       0       0       0         0         0                 0   \n",
       "2864534       0       0       0       1         0         1                 0   \n",
       "1104647       0       0       0       1         0         1                 0   \n",
       "7110713       0       0       1       0         1         0                 0   \n",
       "3431457       0       0       1       1         1         0                 0   \n",
       "\n",
       "         registered_via_1  registered_via_2  language_0  language_1  \\\n",
       "3843411                 0                 0           0           0   \n",
       "2864534                 0                 1           0           0   \n",
       "1104647                 1                 0           0           0   \n",
       "7110713                 0                 0           0           0   \n",
       "3431457                 0                 0           0           0   \n",
       "\n",
       "         language_2  language_3  is_featured_0        bd  song_length  \\\n",
       "3843411           0           0              0  2.129101    -0.349716   \n",
       "2864534           0           1              0 -1.091983     0.926048   \n",
       "1104647           0           1              0 -1.091983    -0.400904   \n",
       "7110713           0           1              0  0.676456     0.226216   \n",
       "3431457           1           0              0  1.181724     0.273037   \n",
       "\n",
       "         genre_ids_count  lyricists_count  composer_count  artist_count  \\\n",
       "3843411        -0.128529         0.127361        1.003036     -0.163327   \n",
       "2864534        -0.128529         0.955355       -0.238962     -0.163327   \n",
       "1104647        -0.128529        -0.700632       -0.238962     -0.163327   \n",
       "7110713        -0.128529        -0.700632       -0.859961     -0.163327   \n",
       "3431457        -0.128529         0.127361       -0.238962     -0.163327   \n",
       "\n",
       "         count_song_played  count_artist_played  registration_duration  \n",
       "3843411          -0.577656            -0.441387               2.091691  \n",
       "2864534          -0.314598            -0.392028              -0.215530  \n",
       "1104647          -0.621567            -0.487960              -1.426932  \n",
       "7110713          -0.127164            -0.201066               0.800000  \n",
       "3431457          -0.604084            -0.508965               0.793824  "
      ]
     },
     "execution_count": 74,
     "metadata": {},
     "output_type": "execute_result"
    }
   ],
   "source": [
    "X_train.drop(['msno', 'song_id'], axis=1, inplace=True)\n",
    "X_test.drop(['msno', 'song_id'], axis=1, inplace=True)\n",
    "X_valid.drop(['msno', 'song_id'], axis=1, inplace=True)\n",
    "    \n",
    "X_train.head()"
   ]
  },
  {
   "cell_type": "code",
   "execution_count": 80,
   "metadata": {},
   "outputs": [
    {
     "name": "stdout",
     "output_type": "stream",
     "text": [
      "_________________________________________________________________\n",
      "Layer (type)                 Output Shape              Param #   \n",
      "=================================================================\n",
      "dense_15 (Dense)             (None, 24)                912       \n",
      "_________________________________________________________________\n",
      "batch_normalization_3 (Batch (None, 24)                96        \n",
      "_________________________________________________________________\n",
      "activation_3 (Activation)    (None, 24)                0         \n",
      "_________________________________________________________________\n",
      "dropout_10 (Dropout)         (None, 24)                0         \n",
      "_________________________________________________________________\n",
      "dense_16 (Dense)             (None, 16)                400       \n",
      "_________________________________________________________________\n",
      "batch_normalization_4 (Batch (None, 16)                64        \n",
      "_________________________________________________________________\n",
      "activation_4 (Activation)    (None, 16)                0         \n",
      "_________________________________________________________________\n",
      "dense_17 (Dense)             (None, 8)                 136       \n",
      "_________________________________________________________________\n",
      "dense_18 (Dense)             (None, 1)                 9         \n",
      "=================================================================\n",
      "Total params: 1,617\n",
      "Trainable params: 1,537\n",
      "Non-trainable params: 80\n",
      "_________________________________________________________________\n",
      "None\n"
     ]
    }
   ],
   "source": [
    "model = Sequential()\n",
    "model.add(Dense(24, input_shape=(X_train.shape[1],)))\n",
    "model.add(BatchNormalization())\n",
    "model.add(Activation('relu'))\n",
    "model.add(Dropout(0.1))\n",
    "\n",
    "model.add(Dense(16))\n",
    "model.add(BatchNormalization())\n",
    "model.add(Activation('relu'))\n",
    "\n",
    "model.add(Dense(8))\n",
    "model.add(Dense(1, activation='sigmoid'))\n",
    "print(model.summary())"
   ]
  },
  {
   "cell_type": "markdown",
   "metadata": {},
   "source": [
    "https://keras.io/getting-started/faq/#why-is-the-training-loss-much-higher-than-the-testing-loss"
   ]
  },
  {
   "cell_type": "code",
   "execution_count": 81,
   "metadata": {
    "code_folding": []
   },
   "outputs": [
    {
     "data": {
      "image/png": "[encoded data removed]",
      "text/plain": [
       "<matplotlib.figure.Figure at 0x1f936afd9b0>"
      ]
     },
     "metadata": {},
     "output_type": "display_data"
    },
    {
     "name": "stdout",
     "output_type": "stream",
     "text": [
      "5901934/5901934 [==============================] - 82s - loss: 0.6334 - tf_roc_auc: 0.6910 - val_loss: 0.6321 - val_tf_roc_auc: 0.6914\n"
     ]
    }
   ],
   "source": [
    "model.compile(optimizer='adam', loss='binary_crossentropy', metrics=[tf_roc_auc])\n",
    "hist = model.fit(X_train.values, y_train.values, batch_size=1000, epochs=10, verbose=1, \n",
    "                 validation_data=(X_test.values, y_test.values), callbacks=[plot_losses, early_stopping])"
   ]
  },
  {
   "cell_type": "code",
   "execution_count": 82,
   "metadata": {
    "collapsed": true
   },
   "outputs": [],
   "source": [
    "y_pred = model.predict(X_valid.values)"
   ]
  },
  {
   "cell_type": "code",
   "execution_count": 83,
   "metadata": {
    "collapsed": true
   },
   "outputs": [],
   "source": [
    "submission = pd.DataFrame.from_items([('id', df_ids), ('target', y_pred.flatten())])\n",
    "submission.to_csv('clf_dl_RecOutput.csv', index=False)"
   ]
  }
 ],
 "metadata": {
  "kernelspec": {
   "display_name": "Python 3",
   "language": "python",
   "name": "python3"
  },
  "language_info": {
   "codemirror_mode": {
    "name": "ipython",
    "version": 3
   },
   "file_extension": ".py",
   "mimetype": "text/x-python",
   "name": "python",
   "nbconvert_exporter": "python",
   "pygments_lexer": "ipython3",
   "version": "3.6.1"
  },
  "toc": {
   "nav_menu": {},
   "number_sections": true,
   "sideBar": false,
   "skip_h1_title": false,
   "toc_cell": false,
   "toc_position": {
    "height": "446px",
    "left": "4px",
    "right": "20px",
    "top": "111px",
    "width": "209px"
   },
   "toc_section_display": "block",
   "toc_window_display": true
  }
 },
 "nbformat": 4,
 "nbformat_minor": 2
}
