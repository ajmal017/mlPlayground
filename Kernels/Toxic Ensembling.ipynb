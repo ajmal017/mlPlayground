{
 "cells": [
  {
   "cell_type": "code",
   "execution_count": 1,
   "metadata": {},
   "outputs": [],
   "source": [
    "import numpy as np\n",
    "import pandas as pd\n",
    "import gc"
   ]
  },
  {
   "cell_type": "code",
   "execution_count": 2,
   "metadata": {},
   "outputs": [],
   "source": [
    "y_pred_1  = pd.read_csv('tfidf-logistic.csv')            # 0.9790\n",
    "y_pred_2  = pd.read_csv('tfidf-logistic+features.csv')   # 0.9745\n",
    "y_pred_3  = pd.read_csv('simple_dnn.csv')                # 0.9748\n",
    "y_pred_4  = pd.read_csv('simple_dnn+features.csv')       # 0.9751\n",
    "y_pred_5  = pd.read_csv('submission.csv')"
   ]
  },
  {
   "cell_type": "code",
   "execution_count": 3,
   "metadata": {},
   "outputs": [
    {
     "name": "stdout",
     "output_type": "stream",
     "text": [
      "toxic\n",
      "[[1.         0.99731126 0.84100189 0.8411098  0.87030988]\n",
      " [0.99731126 1.         0.84166243 0.84173662 0.86936754]\n",
      " [0.84100189 0.84166243 1.         0.84684528 0.83835945]\n",
      " [0.8411098  0.84173662 0.84684528 1.         0.83757562]\n",
      " [0.87030988 0.86936754 0.83835945 0.83757562 1.        ]]\n",
      "severe_toxic\n",
      "[[1.         0.99402814 0.66239964 0.6655294  0.74421882]\n",
      " [0.99402814 1.         0.66423415 0.66566336 0.73497474]\n",
      " [0.66239964 0.66423415 1.         0.8053681  0.81003827]\n",
      " [0.6655294  0.66566336 0.8053681  1.         0.81317306]\n",
      " [0.74421882 0.73497474 0.81003827 0.81317306 1.        ]]\n",
      "obscene\n",
      "[[1.         0.99805006 0.73017522 0.75210469 0.79226175]\n",
      " [0.99805006 1.         0.73352335 0.75332947 0.79129096]\n",
      " [0.73017522 0.73352335 1.         0.78531108 0.77330405]\n",
      " [0.75210469 0.75332947 0.78531108 1.         0.79473481]\n",
      " [0.79226175 0.79129096 0.77330405 0.79473481 1.        ]]\n",
      "threat\n",
      "[[1.         0.99504724 0.58096228 0.56521832 0.64074011]\n",
      " [0.99504724 1.         0.57906527 0.56385946 0.63063906]\n",
      " [0.58096228 0.57906527 1.         0.7335726  0.75629601]\n",
      " [0.56521832 0.56385946 0.7335726  1.         0.69178132]\n",
      " [0.64074011 0.63063906 0.75629601 0.69178132 1.        ]]\n",
      "insult\n",
      "[[1.         0.9989045  0.76257031 0.78394277 0.8154834 ]\n",
      " [0.9989045  1.         0.7650111  0.7850963  0.81612968]\n",
      " [0.76257031 0.7650111  1.         0.82784389 0.80778851]\n",
      " [0.78394277 0.7850963  0.82784389 1.         0.80442378]\n",
      " [0.8154834  0.81612968 0.80778851 0.80442378 1.        ]]\n",
      "identity_hate\n",
      "[[1.         0.99837645 0.67313276 0.65840132 0.73498253]\n",
      " [0.99837645 1.         0.67260015 0.65880215 0.73326376]\n",
      " [0.67313276 0.67260015 1.         0.74895583 0.79979762]\n",
      " [0.65840132 0.65880215 0.74895583 1.         0.70484246]\n",
      " [0.73498253 0.73326376 0.79979762 0.70484246 1.        ]]\n"
     ]
    }
   ],
   "source": [
    "# The value of an ensemble is (a) the individual scores of the models and\n",
    "# (b) their correlation with one another. We want to multiple individually high\n",
    "# scoring models that all have low correlations. Based on this analysis, it\n",
    "# looks like these kernels have relatively low correlations and will blend to a\n",
    "# much higher score.\n",
    "labels = [\"toxic\", \"severe_toxic\", \"obscene\", \"threat\", \"insult\", \"identity_hate\"]\n",
    "for label in labels:\n",
    "    print(label)\n",
    "    print(np.corrcoef([y_pred_1[label].rank(pct=True), y_pred_2[label].rank(pct=True), y_pred_3[label].rank(pct=True), \n",
    "                       y_pred_4[label].rank(pct=True), y_pred_5[label].rank(pct=True)]))\n"
   ]
  },
  {
   "cell_type": "code",
   "execution_count": 4,
   "metadata": {},
   "outputs": [
    {
     "name": "stdout",
     "output_type": "stream",
     "text": [
      "Rank averaging on 5 files\n"
     ]
    }
   ],
   "source": [
    "from scipy.stats import rankdata\n",
    "\n",
    "predict_list = [y_pred_1.values, y_pred_2.values, y_pred_3.values, y_pred_4.values, y_pred_5.values]\n",
    "\n",
    "print(\"Rank averaging on\", len(predict_list), \"files\")\n",
    "predictions = np.zeros_like(predict_list[0])\n",
    "for predict in predict_list:\n",
    "    for i in range(6):\n",
    "        predictions[:, i] = np.add(predictions[:, i], rankdata(predict[:, i])/predictions.shape[0])  \n",
    "predictions /= len(predict_list)"
   ]
  },
  {
   "cell_type": "code",
   "execution_count": 5,
   "metadata": {},
   "outputs": [
    {
     "data": {
      "text/plain": [
       "(153164, 7)"
      ]
     },
     "execution_count": 5,
     "metadata": {},
     "output_type": "execute_result"
    }
   ],
   "source": [
    "y_pred_1.shape"
   ]
  },
  {
   "cell_type": "code",
   "execution_count": 6,
   "metadata": {},
   "outputs": [
    {
     "data": {
      "text/plain": [
       "(153164, 7)"
      ]
     },
     "execution_count": 6,
     "metadata": {},
     "output_type": "execute_result"
    }
   ],
   "source": [
    "predictions.shape"
   ]
  },
  {
   "cell_type": "code",
   "execution_count": 7,
   "metadata": {},
   "outputs": [],
   "source": [
    "submission = y_pred_1.copy()\n",
    "submission.loc[:, 1:] = predictions[:, 1:]\n",
    "submission.to_csv('rank_averaged_submission.csv', index=False)"
   ]
  },
  {
   "cell_type": "code",
   "execution_count": 8,
   "metadata": {},
   "outputs": [
    {
     "data": {
      "text/html": [
       "<div>\n",
       "<style scoped>\n",
       "    .dataframe tbody tr th:only-of-type {\n",
       "        vertical-align: middle;\n",
       "    }\n",
       "\n",
       "    .dataframe tbody tr th {\n",
       "        vertical-align: top;\n",
       "    }\n",
       "\n",
       "    .dataframe thead th {\n",
       "        text-align: right;\n",
       "    }\n",
       "</style>\n",
       "<table border=\"1\" class=\"dataframe\">\n",
       "  <thead>\n",
       "    <tr style=\"text-align: right;\">\n",
       "      <th></th>\n",
       "      <th>id</th>\n",
       "      <th>toxic</th>\n",
       "      <th>severe_toxic</th>\n",
       "      <th>obscene</th>\n",
       "      <th>threat</th>\n",
       "      <th>insult</th>\n",
       "      <th>identity_hate</th>\n",
       "    </tr>\n",
       "  </thead>\n",
       "  <tbody>\n",
       "    <tr>\n",
       "      <th>0</th>\n",
       "      <td>00001cee341fdb12</td>\n",
       "      <td>0.977348</td>\n",
       "      <td>0.980719</td>\n",
       "      <td>0.973166</td>\n",
       "      <td>0.989238</td>\n",
       "      <td>0.981793</td>\n",
       "      <td>0.0</td>\n",
       "    </tr>\n",
       "    <tr>\n",
       "      <th>1</th>\n",
       "      <td>0000247867823ef7</td>\n",
       "      <td>0.296345</td>\n",
       "      <td>0.429938</td>\n",
       "      <td>0.271074</td>\n",
       "      <td>0.202968</td>\n",
       "      <td>0.371624</td>\n",
       "      <td>0.0</td>\n",
       "    </tr>\n",
       "    <tr>\n",
       "      <th>2</th>\n",
       "      <td>00013b17ad220c46</td>\n",
       "      <td>0.562737</td>\n",
       "      <td>0.601538</td>\n",
       "      <td>0.608515</td>\n",
       "      <td>0.511349</td>\n",
       "      <td>0.529675</td>\n",
       "      <td>0.0</td>\n",
       "    </tr>\n",
       "    <tr>\n",
       "      <th>3</th>\n",
       "      <td>00017563c3f7919a</td>\n",
       "      <td>0.153331</td>\n",
       "      <td>0.403541</td>\n",
       "      <td>0.174817</td>\n",
       "      <td>0.414881</td>\n",
       "      <td>0.290114</td>\n",
       "      <td>0.0</td>\n",
       "    </tr>\n",
       "    <tr>\n",
       "      <th>4</th>\n",
       "      <td>00017695ad8997eb</td>\n",
       "      <td>0.484358</td>\n",
       "      <td>0.555281</td>\n",
       "      <td>0.387569</td>\n",
       "      <td>0.708575</td>\n",
       "      <td>0.411731</td>\n",
       "      <td>0.0</td>\n",
       "    </tr>\n",
       "  </tbody>\n",
       "</table>\n",
       "</div>"
      ],
      "text/plain": [
       "                 id     toxic  severe_toxic   obscene    threat    insult  \\\n",
       "0  00001cee341fdb12  0.977348      0.980719  0.973166  0.989238  0.981793   \n",
       "1  0000247867823ef7  0.296345      0.429938  0.271074  0.202968  0.371624   \n",
       "2  00013b17ad220c46  0.562737      0.601538  0.608515  0.511349  0.529675   \n",
       "3  00017563c3f7919a  0.153331      0.403541  0.174817  0.414881  0.290114   \n",
       "4  00017695ad8997eb  0.484358      0.555281  0.387569  0.708575  0.411731   \n",
       "\n",
       "   identity_hate  \n",
       "0            0.0  \n",
       "1            0.0  \n",
       "2            0.0  \n",
       "3            0.0  \n",
       "4            0.0  "
      ]
     },
     "execution_count": 8,
     "metadata": {},
     "output_type": "execute_result"
    }
   ],
   "source": [
    "submission.head()"
   ]
  },
  {
   "cell_type": "code",
   "execution_count": 7,
   "metadata": {},
   "outputs": [],
   "source": [
    "# submission = pd.DataFrame()\n",
    "# submission['id'] = y_pred_1['id']\n",
    "# for label in labels:\n",
    "#     submission[label] = y_pred_1[label].rank(pct=True) * 0.3 + y_pred_4[label].rank(pct=True) * 0.15 + \\\n",
    "#                         y_pred_3[label].rank(pct=True) * 0.15 + y_pred_5[label].rank(pct=True) * 0.4\n",
    "\n",
    "# submission.to_csv('mean.csv', index=False)"
   ]
  },
  {
   "cell_type": "code",
   "execution_count": 8,
   "metadata": {},
   "outputs": [],
   "source": [
    "# merge = y_pred_1.columns.tolist()\n",
    "# merge.remove('id')\n",
    "\n",
    "# y_pred = y_pred_1.copy()\n",
    "# for i in merge:\n",
    "#     y_pred[i] =  (2*y_pred_1[i] + 1*y_pred_2[i] + 1*y_pred_3[i] +4*y_pred_4[i] + 4*y_pred_5[i])/12.0  "
   ]
  }
 ],
 "metadata": {
  "kernelspec": {
   "display_name": "Python 3",
   "language": "python",
   "name": "python3"
  },
  "language_info": {
   "codemirror_mode": {
    "name": "ipython",
    "version": 3
   },
   "file_extension": ".py",
   "mimetype": "text/x-python",
   "name": "python",
   "nbconvert_exporter": "python",
   "pygments_lexer": "ipython3",
   "version": "3.6.4"
  },
  "toc": {
   "nav_menu": {},
   "number_sections": true,
   "sideBar": true,
   "skip_h1_title": false,
   "toc_cell": false,
   "toc_position": {},
   "toc_section_display": "block",
   "toc_window_display": false
  }
 },
 "nbformat": 4,
 "nbformat_minor": 2
}
